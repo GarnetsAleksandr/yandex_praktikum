{
 "cells": [
  {
   "cell_type": "markdown",
   "id": "79f7099f",
   "metadata": {},
   "source": [
    "Дашборд: https://public.tableau.com/app/profile/gar5891/viz/Final_project_16555471840170/Dashboard1\n",
    "\n",
    "Набор №2\n",
    "\n",
    "    1. Постройте диаграмму количества вызовов по дням;\n",
    "    2. Постройте круговую диаграмму, отображающую соотношение кол-ва входящих и исходящих вызовов;\n",
    "    3. Добавьте фильтр дашборда по типу вызова (внешний или внутренний)"
   ]
  },
  {
   "cell_type": "markdown",
   "id": "b4282208",
   "metadata": {},
   "source": [
    "# Телеком — Определение неэффективных операторов\n",
    "\n",
    "**Задача:**\n",
    "\n",
    "Помогите «Нупозвони» найти самых неэффективных операторов. Признаки низкой\n",
    "эффективности:\n",
    "\n",
    "- много пропущенных входящих вызовов,\n",
    "- долгое ожидания ответа при входящих внешних вызовах,\n",
    "- мало исходящих вывозов — в случае тех колл-центров, что специализируются на обзвонах, а не обработке входящих звонков.\n",
    "\n",
    "    1. Проведите исследовательский анализ данных.\n",
    "    2. Определите неэффективных операторов.\n",
    "    3. Проверьте статистические гипотезы.\n",
    "\n",
    "**Описание данных:**\n",
    "\n",
    "Датасеты описывают использование услуг «Нупозвони» — провайдера\n",
    "виртуальный телефонии. Его клиенты — колл-центры, которые:\n",
    "\n",
    "- распределяют входящие вызовы на операторов,\n",
    "- совершают исходящие вызовы силами операторов.\n",
    "\n",
    "Также операторы могут делать внутренние вызовы — вызовы друг между другом\n",
    "внутри сети виртуальной телефонии.\n",
    "\n",
    "Колонки в  telecom_dataset.csv.zip :\n",
    "\n",
    "- user_id  — Идентификатор клиентского аккаунта в сервисе\n",
    "- date  — Дата статистики\n",
    "- direction  — Направление вызовов (out - исходящий вызов, in — входящий вызов)\n",
    "- internal  — Является ли звонок внутренним звонком между операторами клиента\n",
    "- operator_id  — Идентификатор оператора\n",
    "- is_missed_call  — Является ли звонок пропущенным\n",
    "- calls_count  — Количество звонков\n",
    "- call_duration  — Длительность звонка (без учета времени ожидания)\n",
    "- total_call_duration  — Длительность звонка (с учетом времени ожидания)\n",
    "\n",
    "Колонки в  telecom_clients.csv :\n",
    "\n",
    "- user_id  — Идентификатор клиентского аккаунта в сервисе\n",
    "- tariff_plan  — Текущий тарифный план клиента\n",
    "- date_start  — Дата регистрации клиентв в сервисе\n",
    "\n",
    "**Примечание:**\n",
    "\n",
    "Прочитать датасет telecom_dataset.csv.zip можно не распаковывая, используя команду pd.read_csv('telecom_dataset.csv.zip')\n",
    "По итогам исследования подготовьте презентацию.\n",
    "\n",
    "Для создания презентации используйте любой удобный инструмент, но отправить презентацию нужно обязательно в формате pdf,   рикрепив ссылку на файл в основном проекте.\n",
    "\n",
    "**Датасеты:**\n",
    "\n",
    "telecom_clients.csv\n",
    "\n",
    "telecom_dataset.csv\n",
    "\n",
    "**Дашборды**\n",
    "\n",
    "Чтобы отправить дашборд, приложите к проекту ссылку на файл. Выберите один из наборов:\n",
    "\n",
    "Набор №1\n",
    "\n",
    "    1. Постройте гистограмму распределения длительности звонков;\n",
    "    2. Постройте круговую диаграмму, отображающую соотношение кол-ва внутренних и внешних вызовов;\n",
    "    3. Добавьте фильтр дашборда по направлению вызовов.\n",
    "    \n",
    "Набор №2\n",
    "\n",
    "    1. Постройте диаграмму количества вызовов по дням;\n",
    "    2. Постройте круговую диаграмму, отображающую соотношение кол-ва входящих и исходящих вызовов;\n",
    "    3. Добавьте фильтр дашборда по типу вызова (внешний или внутренний)"
   ]
  },
  {
   "cell_type": "markdown",
   "id": "eff38617",
   "metadata": {},
   "source": [
    "# Декомпозиция задачи"
   ]
  },
  {
   "cell_type": "markdown",
   "id": "8f6f4eb0",
   "metadata": {},
   "source": [
    "# Импорт библиотек, загрузка данных"
   ]
  },
  {
   "cell_type": "code",
   "execution_count": 1,
   "id": "eb95401b",
   "metadata": {},
   "outputs": [],
   "source": [
    "import pandas as pd\n",
    "\n",
    "import seaborn as sns\n",
    "import matplotlib.pyplot as plt\n",
    "\n",
    "from statsmodels.graphics.gofplots import qqplot\n",
    "from scipy import stats as st\n",
    "\n",
    "import warnings\n"
   ]
  },
  {
   "cell_type": "code",
   "execution_count": 2,
   "id": "8ff761ca",
   "metadata": {},
   "outputs": [],
   "source": [
    "#Чтение файла в переменную\n",
    "try:       # Локальный путь\n",
    "    clients=pd.read_csv('telecom_clients.csv')\n",
    "    dataset=pd.read_csv('telecom_dataset.csv')\n",
    "except:        # Серверный путь\n",
    "    clients=pd.read_csv('/datasets/telecom_clients.csv')\n",
    "    dataset=pd.read_csv('/datasets/telecom_dataset.csv')"
   ]
  },
  {
   "cell_type": "markdown",
   "id": "b26c16a3",
   "metadata": {},
   "source": [
    "# Ознакомление и предобработка данных"
   ]
  },
  {
   "cell_type": "markdown",
   "id": "badbd41e",
   "metadata": {},
   "source": [
    "## Таблица с датасетом"
   ]
  },
  {
   "cell_type": "code",
   "execution_count": 3,
   "id": "4b9cba93",
   "metadata": {},
   "outputs": [
    {
     "data": {
      "text/html": [
       "<div>\n",
       "<style scoped>\n",
       "    .dataframe tbody tr th:only-of-type {\n",
       "        vertical-align: middle;\n",
       "    }\n",
       "\n",
       "    .dataframe tbody tr th {\n",
       "        vertical-align: top;\n",
       "    }\n",
       "\n",
       "    .dataframe thead th {\n",
       "        text-align: right;\n",
       "    }\n",
       "</style>\n",
       "<table border=\"1\" class=\"dataframe\">\n",
       "  <thead>\n",
       "    <tr style=\"text-align: right;\">\n",
       "      <th></th>\n",
       "      <th>user_id</th>\n",
       "      <th>date</th>\n",
       "      <th>direction</th>\n",
       "      <th>internal</th>\n",
       "      <th>operator_id</th>\n",
       "      <th>is_missed_call</th>\n",
       "      <th>calls_count</th>\n",
       "      <th>call_duration</th>\n",
       "      <th>total_call_duration</th>\n",
       "    </tr>\n",
       "  </thead>\n",
       "  <tbody>\n",
       "    <tr>\n",
       "      <td>4861</td>\n",
       "      <td>166511</td>\n",
       "      <td>2019-10-22 00:00:00+03:00</td>\n",
       "      <td>out</td>\n",
       "      <td>False</td>\n",
       "      <td>891414.0</td>\n",
       "      <td>True</td>\n",
       "      <td>10</td>\n",
       "      <td>0</td>\n",
       "      <td>9</td>\n",
       "    </tr>\n",
       "    <tr>\n",
       "      <td>583</td>\n",
       "      <td>166391</td>\n",
       "      <td>2019-09-20 00:00:00+03:00</td>\n",
       "      <td>in</td>\n",
       "      <td>False</td>\n",
       "      <td>NaN</td>\n",
       "      <td>True</td>\n",
       "      <td>1</td>\n",
       "      <td>0</td>\n",
       "      <td>1</td>\n",
       "    </tr>\n",
       "    <tr>\n",
       "      <td>50173</td>\n",
       "      <td>168252</td>\n",
       "      <td>2019-10-29 00:00:00+03:00</td>\n",
       "      <td>in</td>\n",
       "      <td>False</td>\n",
       "      <td>940634.0</td>\n",
       "      <td>False</td>\n",
       "      <td>114</td>\n",
       "      <td>5512</td>\n",
       "      <td>6094</td>\n",
       "    </tr>\n",
       "    <tr>\n",
       "      <td>39240</td>\n",
       "      <td>167716</td>\n",
       "      <td>2019-11-11 00:00:00+03:00</td>\n",
       "      <td>out</td>\n",
       "      <td>False</td>\n",
       "      <td>922142.0</td>\n",
       "      <td>True</td>\n",
       "      <td>6</td>\n",
       "      <td>0</td>\n",
       "      <td>167</td>\n",
       "    </tr>\n",
       "    <tr>\n",
       "      <td>17989</td>\n",
       "      <td>166973</td>\n",
       "      <td>2019-09-12 00:00:00+03:00</td>\n",
       "      <td>out</td>\n",
       "      <td>False</td>\n",
       "      <td>901584.0</td>\n",
       "      <td>False</td>\n",
       "      <td>1</td>\n",
       "      <td>54</td>\n",
       "      <td>56</td>\n",
       "    </tr>\n",
       "  </tbody>\n",
       "</table>\n",
       "</div>"
      ],
      "text/plain": [
       "       user_id                       date direction internal  operator_id  \\\n",
       "4861    166511  2019-10-22 00:00:00+03:00       out    False     891414.0   \n",
       "583     166391  2019-09-20 00:00:00+03:00        in    False          NaN   \n",
       "50173   168252  2019-10-29 00:00:00+03:00        in    False     940634.0   \n",
       "39240   167716  2019-11-11 00:00:00+03:00       out    False     922142.0   \n",
       "17989   166973  2019-09-12 00:00:00+03:00       out    False     901584.0   \n",
       "\n",
       "       is_missed_call  calls_count  call_duration  total_call_duration  \n",
       "4861             True           10              0                    9  \n",
       "583              True            1              0                    1  \n",
       "50173           False          114           5512                 6094  \n",
       "39240            True            6              0                  167  \n",
       "17989           False            1             54                   56  "
      ]
     },
     "execution_count": 3,
     "metadata": {},
     "output_type": "execute_result"
    }
   ],
   "source": [
    "dataset.sample(5, random_state=0)"
   ]
  },
  {
   "cell_type": "code",
   "execution_count": 4,
   "id": "10865382",
   "metadata": {},
   "outputs": [
    {
     "name": "stdout",
     "output_type": "stream",
     "text": [
      "<class 'pandas.core.frame.DataFrame'>\n",
      "RangeIndex: 53902 entries, 0 to 53901\n",
      "Data columns (total 9 columns):\n",
      "user_id                53902 non-null int64\n",
      "date                   53902 non-null object\n",
      "direction              53902 non-null object\n",
      "internal               53785 non-null object\n",
      "operator_id            45730 non-null float64\n",
      "is_missed_call         53902 non-null bool\n",
      "calls_count            53902 non-null int64\n",
      "call_duration          53902 non-null int64\n",
      "total_call_duration    53902 non-null int64\n",
      "dtypes: bool(1), float64(1), int64(4), object(3)\n",
      "memory usage: 3.3+ MB\n"
     ]
    }
   ],
   "source": [
    "dataset.info()"
   ]
  },
  {
   "cell_type": "code",
   "execution_count": 5,
   "id": "f868c93a",
   "metadata": {},
   "outputs": [
    {
     "data": {
      "text/plain": [
       "user_id                 0.000000\n",
       "date                    0.000000\n",
       "direction               0.000000\n",
       "internal                0.217061\n",
       "operator_id            15.160847\n",
       "is_missed_call          0.000000\n",
       "calls_count             0.000000\n",
       "call_duration           0.000000\n",
       "total_call_duration     0.000000\n",
       "dtype: float64"
      ]
     },
     "execution_count": 5,
     "metadata": {},
     "output_type": "execute_result"
    }
   ],
   "source": [
    "dataset.isna().mean()*100"
   ]
  },
  {
   "cell_type": "markdown",
   "id": "1db6e832",
   "metadata": {},
   "source": [
    "2% пропусков в столбце internal, удалим их и преобразуем тип в булеан                "
   ]
  },
  {
   "cell_type": "code",
   "execution_count": 6,
   "id": "0532b706",
   "metadata": {},
   "outputs": [],
   "source": [
    "warnings.filterwarnings(\"ignore\")\n",
    "dataset=dataset.dropna(subset=['internal'])\n",
    "dataset['internal']=dataset['internal'].astype('bool')"
   ]
  },
  {
   "cell_type": "code",
   "execution_count": 7,
   "id": "5a4abfb1",
   "metadata": {},
   "outputs": [],
   "source": [
    "# преобразуем столбец в тип инт\n",
    "dataset['operator_id']=dataset['operator_id'].astype('Int64')"
   ]
  },
  {
   "cell_type": "code",
   "execution_count": 8,
   "id": "596717b9",
   "metadata": {},
   "outputs": [],
   "source": [
    "# преобразуем дату в тип дататайм\n",
    "dataset['date'] = pd.to_datetime(dataset['date'], format=\"%Y-%m-%dT%H\").dt.date\n",
    "dataset['date'] = pd.to_datetime(dataset['date'])"
   ]
  },
  {
   "cell_type": "code",
   "execution_count": 9,
   "id": "bb46b2e4",
   "metadata": {},
   "outputs": [
    {
     "data": {
      "text/html": [
       "<div>\n",
       "<style scoped>\n",
       "    .dataframe tbody tr th:only-of-type {\n",
       "        vertical-align: middle;\n",
       "    }\n",
       "\n",
       "    .dataframe tbody tr th {\n",
       "        vertical-align: top;\n",
       "    }\n",
       "\n",
       "    .dataframe thead th {\n",
       "        text-align: right;\n",
       "    }\n",
       "</style>\n",
       "<table border=\"1\" class=\"dataframe\">\n",
       "  <thead>\n",
       "    <tr style=\"text-align: right;\">\n",
       "      <th></th>\n",
       "      <th>user_id</th>\n",
       "      <th>date</th>\n",
       "      <th>direction</th>\n",
       "      <th>internal</th>\n",
       "      <th>operator_id</th>\n",
       "      <th>is_missed_call</th>\n",
       "      <th>calls_count</th>\n",
       "      <th>call_duration</th>\n",
       "      <th>total_call_duration</th>\n",
       "    </tr>\n",
       "  </thead>\n",
       "  <tbody>\n",
       "    <tr>\n",
       "      <td>0</td>\n",
       "      <td>166377</td>\n",
       "      <td>2019-08-04</td>\n",
       "      <td>in</td>\n",
       "      <td>False</td>\n",
       "      <td>NaN</td>\n",
       "      <td>True</td>\n",
       "      <td>2</td>\n",
       "      <td>0</td>\n",
       "      <td>4</td>\n",
       "    </tr>\n",
       "    <tr>\n",
       "      <td>1</td>\n",
       "      <td>166377</td>\n",
       "      <td>2019-08-05</td>\n",
       "      <td>out</td>\n",
       "      <td>True</td>\n",
       "      <td>880022</td>\n",
       "      <td>True</td>\n",
       "      <td>3</td>\n",
       "      <td>0</td>\n",
       "      <td>5</td>\n",
       "    </tr>\n",
       "    <tr>\n",
       "      <td>2</td>\n",
       "      <td>166377</td>\n",
       "      <td>2019-08-05</td>\n",
       "      <td>out</td>\n",
       "      <td>True</td>\n",
       "      <td>880020</td>\n",
       "      <td>True</td>\n",
       "      <td>1</td>\n",
       "      <td>0</td>\n",
       "      <td>1</td>\n",
       "    </tr>\n",
       "    <tr>\n",
       "      <td>3</td>\n",
       "      <td>166377</td>\n",
       "      <td>2019-08-05</td>\n",
       "      <td>out</td>\n",
       "      <td>True</td>\n",
       "      <td>880020</td>\n",
       "      <td>False</td>\n",
       "      <td>1</td>\n",
       "      <td>10</td>\n",
       "      <td>18</td>\n",
       "    </tr>\n",
       "    <tr>\n",
       "      <td>4</td>\n",
       "      <td>166377</td>\n",
       "      <td>2019-08-05</td>\n",
       "      <td>out</td>\n",
       "      <td>False</td>\n",
       "      <td>880022</td>\n",
       "      <td>True</td>\n",
       "      <td>3</td>\n",
       "      <td>0</td>\n",
       "      <td>25</td>\n",
       "    </tr>\n",
       "    <tr>\n",
       "      <td>...</td>\n",
       "      <td>...</td>\n",
       "      <td>...</td>\n",
       "      <td>...</td>\n",
       "      <td>...</td>\n",
       "      <td>...</td>\n",
       "      <td>...</td>\n",
       "      <td>...</td>\n",
       "      <td>...</td>\n",
       "      <td>...</td>\n",
       "    </tr>\n",
       "    <tr>\n",
       "      <td>53897</td>\n",
       "      <td>168606</td>\n",
       "      <td>2019-11-10</td>\n",
       "      <td>out</td>\n",
       "      <td>True</td>\n",
       "      <td>957922</td>\n",
       "      <td>True</td>\n",
       "      <td>1</td>\n",
       "      <td>0</td>\n",
       "      <td>38</td>\n",
       "    </tr>\n",
       "    <tr>\n",
       "      <td>53898</td>\n",
       "      <td>168606</td>\n",
       "      <td>2019-11-11</td>\n",
       "      <td>out</td>\n",
       "      <td>True</td>\n",
       "      <td>957922</td>\n",
       "      <td>False</td>\n",
       "      <td>2</td>\n",
       "      <td>479</td>\n",
       "      <td>501</td>\n",
       "    </tr>\n",
       "    <tr>\n",
       "      <td>53899</td>\n",
       "      <td>168606</td>\n",
       "      <td>2019-11-15</td>\n",
       "      <td>out</td>\n",
       "      <td>True</td>\n",
       "      <td>957922</td>\n",
       "      <td>False</td>\n",
       "      <td>4</td>\n",
       "      <td>3130</td>\n",
       "      <td>3190</td>\n",
       "    </tr>\n",
       "    <tr>\n",
       "      <td>53900</td>\n",
       "      <td>168606</td>\n",
       "      <td>2019-11-15</td>\n",
       "      <td>out</td>\n",
       "      <td>True</td>\n",
       "      <td>957922</td>\n",
       "      <td>False</td>\n",
       "      <td>4</td>\n",
       "      <td>3130</td>\n",
       "      <td>3190</td>\n",
       "    </tr>\n",
       "    <tr>\n",
       "      <td>53901</td>\n",
       "      <td>168606</td>\n",
       "      <td>2019-11-19</td>\n",
       "      <td>in</td>\n",
       "      <td>False</td>\n",
       "      <td>NaN</td>\n",
       "      <td>True</td>\n",
       "      <td>2</td>\n",
       "      <td>0</td>\n",
       "      <td>64</td>\n",
       "    </tr>\n",
       "  </tbody>\n",
       "</table>\n",
       "<p>53785 rows × 9 columns</p>\n",
       "</div>"
      ],
      "text/plain": [
       "       user_id       date direction  internal  operator_id  is_missed_call  \\\n",
       "0       166377 2019-08-04        in     False          NaN            True   \n",
       "1       166377 2019-08-05       out      True       880022            True   \n",
       "2       166377 2019-08-05       out      True       880020            True   \n",
       "3       166377 2019-08-05       out      True       880020           False   \n",
       "4       166377 2019-08-05       out     False       880022            True   \n",
       "...        ...        ...       ...       ...          ...             ...   \n",
       "53897   168606 2019-11-10       out      True       957922            True   \n",
       "53898   168606 2019-11-11       out      True       957922           False   \n",
       "53899   168606 2019-11-15       out      True       957922           False   \n",
       "53900   168606 2019-11-15       out      True       957922           False   \n",
       "53901   168606 2019-11-19        in     False          NaN            True   \n",
       "\n",
       "       calls_count  call_duration  total_call_duration  \n",
       "0                2              0                    4  \n",
       "1                3              0                    5  \n",
       "2                1              0                    1  \n",
       "3                1             10                   18  \n",
       "4                3              0                   25  \n",
       "...            ...            ...                  ...  \n",
       "53897            1              0                   38  \n",
       "53898            2            479                  501  \n",
       "53899            4           3130                 3190  \n",
       "53900            4           3130                 3190  \n",
       "53901            2              0                   64  \n",
       "\n",
       "[53785 rows x 9 columns]"
      ]
     },
     "execution_count": 9,
     "metadata": {},
     "output_type": "execute_result"
    }
   ],
   "source": [
    "dataset"
   ]
  },
  {
   "cell_type": "code",
   "execution_count": 10,
   "id": "30ba15a5",
   "metadata": {},
   "outputs": [
    {
     "name": "stdout",
     "output_type": "stream",
     "text": [
      "<class 'pandas.core.frame.DataFrame'>\n",
      "Int64Index: 53785 entries, 0 to 53901\n",
      "Data columns (total 9 columns):\n",
      "user_id                53785 non-null int64\n",
      "date                   53785 non-null datetime64[ns]\n",
      "direction              53785 non-null object\n",
      "internal               53785 non-null bool\n",
      "operator_id            45670 non-null Int64\n",
      "is_missed_call         53785 non-null bool\n",
      "calls_count            53785 non-null int64\n",
      "call_duration          53785 non-null int64\n",
      "total_call_duration    53785 non-null int64\n",
      "dtypes: Int64(1), bool(2), datetime64[ns](1), int64(4), object(1)\n",
      "memory usage: 3.4+ MB\n"
     ]
    }
   ],
   "source": [
    "dataset.info()"
   ]
  },
  {
   "cell_type": "markdown",
   "id": "0b2d60b0",
   "metadata": {},
   "source": [
    "## Таблица с клиентами"
   ]
  },
  {
   "cell_type": "code",
   "execution_count": 11,
   "id": "886d7db4",
   "metadata": {},
   "outputs": [
    {
     "data": {
      "text/html": [
       "<div>\n",
       "<style scoped>\n",
       "    .dataframe tbody tr th:only-of-type {\n",
       "        vertical-align: middle;\n",
       "    }\n",
       "\n",
       "    .dataframe tbody tr th {\n",
       "        vertical-align: top;\n",
       "    }\n",
       "\n",
       "    .dataframe thead th {\n",
       "        text-align: right;\n",
       "    }\n",
       "</style>\n",
       "<table border=\"1\" class=\"dataframe\">\n",
       "  <thead>\n",
       "    <tr style=\"text-align: right;\">\n",
       "      <th></th>\n",
       "      <th>user_id</th>\n",
       "      <th>tariff_plan</th>\n",
       "      <th>date_start</th>\n",
       "    </tr>\n",
       "  </thead>\n",
       "  <tbody>\n",
       "    <tr>\n",
       "      <td>196</td>\n",
       "      <td>168073</td>\n",
       "      <td>C</td>\n",
       "      <td>2019-10-11</td>\n",
       "    </tr>\n",
       "    <tr>\n",
       "      <td>187</td>\n",
       "      <td>168228</td>\n",
       "      <td>C</td>\n",
       "      <td>2019-10-17</td>\n",
       "    </tr>\n",
       "    <tr>\n",
       "      <td>14</td>\n",
       "      <td>168284</td>\n",
       "      <td>A</td>\n",
       "      <td>2019-10-20</td>\n",
       "    </tr>\n",
       "    <tr>\n",
       "      <td>31</td>\n",
       "      <td>167953</td>\n",
       "      <td>A</td>\n",
       "      <td>2019-10-07</td>\n",
       "    </tr>\n",
       "    <tr>\n",
       "      <td>390</td>\n",
       "      <td>167568</td>\n",
       "      <td>C</td>\n",
       "      <td>2019-09-20</td>\n",
       "    </tr>\n",
       "  </tbody>\n",
       "</table>\n",
       "</div>"
      ],
      "text/plain": [
       "     user_id tariff_plan  date_start\n",
       "196   168073           C  2019-10-11\n",
       "187   168228           C  2019-10-17\n",
       "14    168284           A  2019-10-20\n",
       "31    167953           A  2019-10-07\n",
       "390   167568           C  2019-09-20"
      ]
     },
     "execution_count": 11,
     "metadata": {},
     "output_type": "execute_result"
    }
   ],
   "source": [
    "clients.sample(5, random_state=0)"
   ]
  },
  {
   "cell_type": "code",
   "execution_count": 12,
   "id": "30504b71",
   "metadata": {},
   "outputs": [],
   "source": [
    "# преобразуем дату в тип дататайм\n",
    "clients['date_start'] = pd.to_datetime(clients['date_start'], format=\"%Y-%m-%dT%H\")"
   ]
  },
  {
   "cell_type": "code",
   "execution_count": 13,
   "id": "890483ee",
   "metadata": {},
   "outputs": [
    {
     "name": "stdout",
     "output_type": "stream",
     "text": [
      "<class 'pandas.core.frame.DataFrame'>\n",
      "RangeIndex: 732 entries, 0 to 731\n",
      "Data columns (total 3 columns):\n",
      "user_id        732 non-null int64\n",
      "tariff_plan    732 non-null object\n",
      "date_start     732 non-null datetime64[ns]\n",
      "dtypes: datetime64[ns](1), int64(1), object(1)\n",
      "memory usage: 17.3+ KB\n"
     ]
    }
   ],
   "source": [
    "clients.info()"
   ]
  },
  {
   "cell_type": "code",
   "execution_count": 14,
   "id": "f2052655",
   "metadata": {},
   "outputs": [],
   "source": [
    "# Объеденим таблицы для удобства работы\n",
    "df=dataset.merge(clients, on=['user_id'] , how='left')"
   ]
  },
  {
   "cell_type": "code",
   "execution_count": 15,
   "id": "0c4feebc",
   "metadata": {},
   "outputs": [],
   "source": [
    "# Добавим столбцы среднее время ожиданияя и среднее время разговора\n",
    "df['avg_waiting']=(df['total_call_duration']-df['call_duration'])/df['calls_count']\n",
    "df['avg_call_duration']=(df['call_duration'])/df['calls_count']"
   ]
  },
  {
   "cell_type": "code",
   "execution_count": 16,
   "id": "c9e957d0",
   "metadata": {},
   "outputs": [
    {
     "data": {
      "text/html": [
       "<div>\n",
       "<style scoped>\n",
       "    .dataframe tbody tr th:only-of-type {\n",
       "        vertical-align: middle;\n",
       "    }\n",
       "\n",
       "    .dataframe tbody tr th {\n",
       "        vertical-align: top;\n",
       "    }\n",
       "\n",
       "    .dataframe thead th {\n",
       "        text-align: right;\n",
       "    }\n",
       "</style>\n",
       "<table border=\"1\" class=\"dataframe\">\n",
       "  <thead>\n",
       "    <tr style=\"text-align: right;\">\n",
       "      <th></th>\n",
       "      <th>user_id</th>\n",
       "      <th>date</th>\n",
       "      <th>direction</th>\n",
       "      <th>internal</th>\n",
       "      <th>operator_id</th>\n",
       "      <th>is_missed_call</th>\n",
       "      <th>calls_count</th>\n",
       "      <th>call_duration</th>\n",
       "      <th>total_call_duration</th>\n",
       "      <th>tariff_plan</th>\n",
       "      <th>date_start</th>\n",
       "      <th>avg_waiting</th>\n",
       "      <th>avg_call_duration</th>\n",
       "    </tr>\n",
       "  </thead>\n",
       "  <tbody>\n",
       "    <tr>\n",
       "      <td>0</td>\n",
       "      <td>166377</td>\n",
       "      <td>2019-08-04</td>\n",
       "      <td>in</td>\n",
       "      <td>False</td>\n",
       "      <td>NaN</td>\n",
       "      <td>True</td>\n",
       "      <td>2</td>\n",
       "      <td>0</td>\n",
       "      <td>4</td>\n",
       "      <td>B</td>\n",
       "      <td>2019-08-01</td>\n",
       "      <td>2.000000</td>\n",
       "      <td>0.0</td>\n",
       "    </tr>\n",
       "    <tr>\n",
       "      <td>1</td>\n",
       "      <td>166377</td>\n",
       "      <td>2019-08-05</td>\n",
       "      <td>out</td>\n",
       "      <td>True</td>\n",
       "      <td>880022</td>\n",
       "      <td>True</td>\n",
       "      <td>3</td>\n",
       "      <td>0</td>\n",
       "      <td>5</td>\n",
       "      <td>B</td>\n",
       "      <td>2019-08-01</td>\n",
       "      <td>1.666667</td>\n",
       "      <td>0.0</td>\n",
       "    </tr>\n",
       "    <tr>\n",
       "      <td>2</td>\n",
       "      <td>166377</td>\n",
       "      <td>2019-08-05</td>\n",
       "      <td>out</td>\n",
       "      <td>True</td>\n",
       "      <td>880020</td>\n",
       "      <td>True</td>\n",
       "      <td>1</td>\n",
       "      <td>0</td>\n",
       "      <td>1</td>\n",
       "      <td>B</td>\n",
       "      <td>2019-08-01</td>\n",
       "      <td>1.000000</td>\n",
       "      <td>0.0</td>\n",
       "    </tr>\n",
       "    <tr>\n",
       "      <td>3</td>\n",
       "      <td>166377</td>\n",
       "      <td>2019-08-05</td>\n",
       "      <td>out</td>\n",
       "      <td>True</td>\n",
       "      <td>880020</td>\n",
       "      <td>False</td>\n",
       "      <td>1</td>\n",
       "      <td>10</td>\n",
       "      <td>18</td>\n",
       "      <td>B</td>\n",
       "      <td>2019-08-01</td>\n",
       "      <td>8.000000</td>\n",
       "      <td>10.0</td>\n",
       "    </tr>\n",
       "    <tr>\n",
       "      <td>4</td>\n",
       "      <td>166377</td>\n",
       "      <td>2019-08-05</td>\n",
       "      <td>out</td>\n",
       "      <td>False</td>\n",
       "      <td>880022</td>\n",
       "      <td>True</td>\n",
       "      <td>3</td>\n",
       "      <td>0</td>\n",
       "      <td>25</td>\n",
       "      <td>B</td>\n",
       "      <td>2019-08-01</td>\n",
       "      <td>8.333333</td>\n",
       "      <td>0.0</td>\n",
       "    </tr>\n",
       "  </tbody>\n",
       "</table>\n",
       "</div>"
      ],
      "text/plain": [
       "   user_id       date direction  internal  operator_id  is_missed_call  \\\n",
       "0   166377 2019-08-04        in     False          NaN            True   \n",
       "1   166377 2019-08-05       out      True       880022            True   \n",
       "2   166377 2019-08-05       out      True       880020            True   \n",
       "3   166377 2019-08-05       out      True       880020           False   \n",
       "4   166377 2019-08-05       out     False       880022            True   \n",
       "\n",
       "   calls_count  call_duration  total_call_duration tariff_plan date_start  \\\n",
       "0            2              0                    4           B 2019-08-01   \n",
       "1            3              0                    5           B 2019-08-01   \n",
       "2            1              0                    1           B 2019-08-01   \n",
       "3            1             10                   18           B 2019-08-01   \n",
       "4            3              0                   25           B 2019-08-01   \n",
       "\n",
       "   avg_waiting  avg_call_duration  \n",
       "0     2.000000                0.0  \n",
       "1     1.666667                0.0  \n",
       "2     1.000000                0.0  \n",
       "3     8.000000               10.0  \n",
       "4     8.333333                0.0  "
      ]
     },
     "execution_count": 16,
     "metadata": {},
     "output_type": "execute_result"
    }
   ],
   "source": [
    "df.head(5)"
   ]
  },
  {
   "cell_type": "code",
   "execution_count": 17,
   "id": "19ed5fcf",
   "metadata": {},
   "outputs": [
    {
     "name": "stdout",
     "output_type": "stream",
     "text": [
      "<class 'pandas.core.frame.DataFrame'>\n",
      "Int64Index: 53785 entries, 0 to 53784\n",
      "Data columns (total 13 columns):\n",
      "user_id                53785 non-null int64\n",
      "date                   53785 non-null datetime64[ns]\n",
      "direction              53785 non-null object\n",
      "internal               53785 non-null bool\n",
      "operator_id            45670 non-null Int64\n",
      "is_missed_call         53785 non-null bool\n",
      "calls_count            53785 non-null int64\n",
      "call_duration          53785 non-null int64\n",
      "total_call_duration    53785 non-null int64\n",
      "tariff_plan            53785 non-null object\n",
      "date_start             53785 non-null datetime64[ns]\n",
      "avg_waiting            53785 non-null float64\n",
      "avg_call_duration      53785 non-null float64\n",
      "dtypes: Int64(1), bool(2), datetime64[ns](2), float64(2), int64(4), object(2)\n",
      "memory usage: 5.1+ MB\n"
     ]
    }
   ],
   "source": [
    "df.info()"
   ]
  },
  {
   "cell_type": "markdown",
   "id": "d366d736",
   "metadata": {},
   "source": [
    "## Работа с дубликатами"
   ]
  },
  {
   "cell_type": "code",
   "execution_count": 18,
   "id": "95c39874",
   "metadata": {},
   "outputs": [
    {
     "data": {
      "text/plain": [
       "4893"
      ]
     },
     "execution_count": 18,
     "metadata": {},
     "output_type": "execute_result"
    }
   ],
   "source": [
    "df.duplicated().sum()"
   ]
  },
  {
   "cell_type": "code",
   "execution_count": 19,
   "id": "fe950ad7",
   "metadata": {},
   "outputs": [],
   "source": [
    "df.drop_duplicates(inplace = True)"
   ]
  },
  {
   "cell_type": "code",
   "execution_count": 20,
   "id": "26fbb85d",
   "metadata": {},
   "outputs": [
    {
     "data": {
      "text/plain": [
       "0"
      ]
     },
     "execution_count": 20,
     "metadata": {},
     "output_type": "execute_result"
    }
   ],
   "source": [
    "df.duplicated().sum()"
   ]
  },
  {
   "cell_type": "markdown",
   "id": "5cee53e8",
   "metadata": {},
   "source": [
    "## Анализ пропущенных операторов\n",
    "\n",
    "Выявим возможные причины отсутствия операторов и возможности заполнить пропуски."
   ]
  },
  {
   "cell_type": "code",
   "execution_count": 21,
   "id": "1622aaed",
   "metadata": {},
   "outputs": [],
   "source": [
    "df_nan=df[df['operator_id'].isna()]"
   ]
  },
  {
   "cell_type": "code",
   "execution_count": 22,
   "id": "5e847974",
   "metadata": {},
   "outputs": [
    {
     "data": {
      "text/html": [
       "<div>\n",
       "<style scoped>\n",
       "    .dataframe tbody tr th:only-of-type {\n",
       "        vertical-align: middle;\n",
       "    }\n",
       "\n",
       "    .dataframe tbody tr th {\n",
       "        vertical-align: top;\n",
       "    }\n",
       "\n",
       "    .dataframe thead th {\n",
       "        text-align: right;\n",
       "    }\n",
       "</style>\n",
       "<table border=\"1\" class=\"dataframe\">\n",
       "  <thead>\n",
       "    <tr style=\"text-align: right;\">\n",
       "      <th></th>\n",
       "      <th>user_id</th>\n",
       "      <th>date</th>\n",
       "      <th>direction</th>\n",
       "      <th>internal</th>\n",
       "      <th>operator_id</th>\n",
       "      <th>is_missed_call</th>\n",
       "      <th>calls_count</th>\n",
       "      <th>call_duration</th>\n",
       "      <th>total_call_duration</th>\n",
       "      <th>tariff_plan</th>\n",
       "      <th>date_start</th>\n",
       "      <th>avg_waiting</th>\n",
       "      <th>avg_call_duration</th>\n",
       "    </tr>\n",
       "  </thead>\n",
       "  <tbody>\n",
       "    <tr>\n",
       "      <td>0</td>\n",
       "      <td>166377</td>\n",
       "      <td>2019-08-04</td>\n",
       "      <td>in</td>\n",
       "      <td>False</td>\n",
       "      <td>NaN</td>\n",
       "      <td>True</td>\n",
       "      <td>2</td>\n",
       "      <td>0</td>\n",
       "      <td>4</td>\n",
       "      <td>B</td>\n",
       "      <td>2019-08-01</td>\n",
       "      <td>2.000000</td>\n",
       "      <td>0.0</td>\n",
       "    </tr>\n",
       "    <tr>\n",
       "      <td>7</td>\n",
       "      <td>166377</td>\n",
       "      <td>2019-08-05</td>\n",
       "      <td>in</td>\n",
       "      <td>False</td>\n",
       "      <td>NaN</td>\n",
       "      <td>True</td>\n",
       "      <td>6</td>\n",
       "      <td>0</td>\n",
       "      <td>35</td>\n",
       "      <td>B</td>\n",
       "      <td>2019-08-01</td>\n",
       "      <td>5.833333</td>\n",
       "      <td>0.0</td>\n",
       "    </tr>\n",
       "    <tr>\n",
       "      <td>9</td>\n",
       "      <td>166377</td>\n",
       "      <td>2019-08-06</td>\n",
       "      <td>in</td>\n",
       "      <td>False</td>\n",
       "      <td>NaN</td>\n",
       "      <td>True</td>\n",
       "      <td>4</td>\n",
       "      <td>0</td>\n",
       "      <td>62</td>\n",
       "      <td>B</td>\n",
       "      <td>2019-08-01</td>\n",
       "      <td>15.500000</td>\n",
       "      <td>0.0</td>\n",
       "    </tr>\n",
       "    <tr>\n",
       "      <td>17</td>\n",
       "      <td>166377</td>\n",
       "      <td>2019-08-07</td>\n",
       "      <td>in</td>\n",
       "      <td>False</td>\n",
       "      <td>NaN</td>\n",
       "      <td>True</td>\n",
       "      <td>2</td>\n",
       "      <td>0</td>\n",
       "      <td>24</td>\n",
       "      <td>B</td>\n",
       "      <td>2019-08-01</td>\n",
       "      <td>12.000000</td>\n",
       "      <td>0.0</td>\n",
       "    </tr>\n",
       "    <tr>\n",
       "      <td>27</td>\n",
       "      <td>166377</td>\n",
       "      <td>2019-08-12</td>\n",
       "      <td>in</td>\n",
       "      <td>False</td>\n",
       "      <td>NaN</td>\n",
       "      <td>True</td>\n",
       "      <td>2</td>\n",
       "      <td>0</td>\n",
       "      <td>34</td>\n",
       "      <td>B</td>\n",
       "      <td>2019-08-01</td>\n",
       "      <td>17.000000</td>\n",
       "      <td>0.0</td>\n",
       "    </tr>\n",
       "  </tbody>\n",
       "</table>\n",
       "</div>"
      ],
      "text/plain": [
       "    user_id       date direction  internal  operator_id  is_missed_call  \\\n",
       "0    166377 2019-08-04        in     False          NaN            True   \n",
       "7    166377 2019-08-05        in     False          NaN            True   \n",
       "9    166377 2019-08-06        in     False          NaN            True   \n",
       "17   166377 2019-08-07        in     False          NaN            True   \n",
       "27   166377 2019-08-12        in     False          NaN            True   \n",
       "\n",
       "    calls_count  call_duration  total_call_duration tariff_plan date_start  \\\n",
       "0             2              0                    4           B 2019-08-01   \n",
       "7             6              0                   35           B 2019-08-01   \n",
       "9             4              0                   62           B 2019-08-01   \n",
       "17            2              0                   24           B 2019-08-01   \n",
       "27            2              0                   34           B 2019-08-01   \n",
       "\n",
       "    avg_waiting  avg_call_duration  \n",
       "0      2.000000                0.0  \n",
       "7      5.833333                0.0  \n",
       "9     15.500000                0.0  \n",
       "17    12.000000                0.0  \n",
       "27    17.000000                0.0  "
      ]
     },
     "execution_count": 22,
     "metadata": {},
     "output_type": "execute_result"
    }
   ],
   "source": [
    "df_nan.head(5)"
   ]
  },
  {
   "cell_type": "code",
   "execution_count": 23,
   "id": "11aebec7",
   "metadata": {},
   "outputs": [
    {
     "data": {
      "text/plain": [
       "in     7217\n",
       "out     184\n",
       "Name: direction, dtype: int64"
      ]
     },
     "execution_count": 23,
     "metadata": {},
     "output_type": "execute_result"
    }
   ],
   "source": [
    "df_nan['direction'].value_counts()"
   ]
  },
  {
   "cell_type": "code",
   "execution_count": 24,
   "id": "f5a66a99",
   "metadata": {},
   "outputs": [
    {
     "data": {
      "text/plain": [
       "False    7078\n",
       "True      323\n",
       "Name: internal, dtype: int64"
      ]
     },
     "execution_count": 24,
     "metadata": {},
     "output_type": "execute_result"
    }
   ],
   "source": [
    "df_nan['internal'].value_counts()"
   ]
  },
  {
   "cell_type": "code",
   "execution_count": 25,
   "id": "1e3b437e",
   "metadata": {},
   "outputs": [
    {
     "data": {
      "text/plain": [
       "True     7288\n",
       "False     113\n",
       "Name: is_missed_call, dtype: int64"
      ]
     },
     "execution_count": 25,
     "metadata": {},
     "output_type": "execute_result"
    }
   ],
   "source": [
    "df_nan['is_missed_call'].value_counts()"
   ]
  },
  {
   "cell_type": "code",
   "execution_count": 26,
   "id": "03d93707",
   "metadata": {},
   "outputs": [
    {
     "data": {
      "text/plain": [
       "0        7288\n",
       "229         2\n",
       "49          2\n",
       "53          2\n",
       "145         2\n",
       "         ... \n",
       "13305       1\n",
       "1195        1\n",
       "1235        1\n",
       "5545        1\n",
       "7286        1\n",
       "Name: call_duration, Length: 110, dtype: int64"
      ]
     },
     "execution_count": 26,
     "metadata": {},
     "output_type": "execute_result"
    }
   ],
   "source": [
    "df_nan['call_duration'].value_counts().sort_values(ascending=False)"
   ]
  },
  {
   "cell_type": "markdown",
   "id": "13c90891",
   "metadata": {},
   "source": [
    "Абсолютное большинство пропущенных операторов это:\n",
    "\n",
    "Внешние, входящие пропущенные звонки, никто не ответил, по этому оператор не идентифицирован.\n",
    "\n"
   ]
  },
  {
   "cell_type": "code",
   "execution_count": 27,
   "id": "15fafa61",
   "metadata": {},
   "outputs": [],
   "source": [
    "# Посмотрим на пропуски в зависимости от тарифа\n",
    "table=pd.DataFrame()\n",
    "table['nan']=df_nan['tariff_plan'].value_counts()\n",
    "table['all']=df['tariff_plan'].value_counts()"
   ]
  },
  {
   "cell_type": "code",
   "execution_count": 28,
   "id": "2d4ca83f",
   "metadata": {},
   "outputs": [
    {
     "data": {
      "text/html": [
       "<div>\n",
       "<style scoped>\n",
       "    .dataframe tbody tr th:only-of-type {\n",
       "        vertical-align: middle;\n",
       "    }\n",
       "\n",
       "    .dataframe tbody tr th {\n",
       "        vertical-align: top;\n",
       "    }\n",
       "\n",
       "    .dataframe thead th {\n",
       "        text-align: right;\n",
       "    }\n",
       "</style>\n",
       "<table border=\"1\" class=\"dataframe\">\n",
       "  <thead>\n",
       "    <tr style=\"text-align: right;\">\n",
       "      <th></th>\n",
       "      <th>nan</th>\n",
       "      <th>all</th>\n",
       "      <th>%</th>\n",
       "    </tr>\n",
       "  </thead>\n",
       "  <tbody>\n",
       "    <tr>\n",
       "      <td>C</td>\n",
       "      <td>3351</td>\n",
       "      <td>18162</td>\n",
       "      <td>0.184506</td>\n",
       "    </tr>\n",
       "    <tr>\n",
       "      <td>B</td>\n",
       "      <td>2733</td>\n",
       "      <td>17200</td>\n",
       "      <td>0.158895</td>\n",
       "    </tr>\n",
       "    <tr>\n",
       "      <td>A</td>\n",
       "      <td>1317</td>\n",
       "      <td>13530</td>\n",
       "      <td>0.097339</td>\n",
       "    </tr>\n",
       "  </tbody>\n",
       "</table>\n",
       "</div>"
      ],
      "text/plain": [
       "    nan    all         %\n",
       "C  3351  18162  0.184506\n",
       "B  2733  17200  0.158895\n",
       "A  1317  13530  0.097339"
      ]
     },
     "execution_count": 28,
     "metadata": {},
     "output_type": "execute_result"
    }
   ],
   "source": [
    "table['%']=1-((table['all']-table['nan'])/table['all'])\n",
    "table"
   ]
  },
  {
   "cell_type": "markdown",
   "id": "da11d863",
   "metadata": {},
   "source": [
    "### Вывод\n",
    "Количество строк лога, с отсутствующими операторами распределено неравномерно:\n",
    "- В тарифе А 9.7% пропусков\n",
    "- В тарифе С 18.5% пропусков\n",
    "\n",
    "Возможно это связано с более сложным алгоритмом обработки звонков на более дорогих тарифах.\n",
    "\n",
    "Удалим эти пропуски, так как основная задача это поиск неэффективных операторов."
   ]
  },
  {
   "cell_type": "code",
   "execution_count": 29,
   "id": "25d5a3e6",
   "metadata": {},
   "outputs": [],
   "source": [
    "df.dropna(inplace = True)"
   ]
  },
  {
   "cell_type": "code",
   "execution_count": 30,
   "id": "c669a8fa",
   "metadata": {},
   "outputs": [
    {
     "name": "stdout",
     "output_type": "stream",
     "text": [
      "<class 'pandas.core.frame.DataFrame'>\n",
      "Int64Index: 41491 entries, 1 to 53782\n",
      "Data columns (total 13 columns):\n",
      "user_id                41491 non-null int64\n",
      "date                   41491 non-null datetime64[ns]\n",
      "direction              41491 non-null object\n",
      "internal               41491 non-null bool\n",
      "operator_id            41491 non-null Int64\n",
      "is_missed_call         41491 non-null bool\n",
      "calls_count            41491 non-null int64\n",
      "call_duration          41491 non-null int64\n",
      "total_call_duration    41491 non-null int64\n",
      "tariff_plan            41491 non-null object\n",
      "date_start             41491 non-null datetime64[ns]\n",
      "avg_waiting            41491 non-null float64\n",
      "avg_call_duration      41491 non-null float64\n",
      "dtypes: Int64(1), bool(2), datetime64[ns](2), float64(2), int64(4), object(2)\n",
      "memory usage: 3.9+ MB\n"
     ]
    }
   ],
   "source": [
    "df.info()"
   ]
  },
  {
   "cell_type": "markdown",
   "id": "c1110ade",
   "metadata": {},
   "source": [
    "# Исследовательский анализ"
   ]
  },
  {
   "cell_type": "markdown",
   "id": "83ae774b",
   "metadata": {},
   "source": [
    "## Исследование тарифных планов"
   ]
  },
  {
   "cell_type": "code",
   "execution_count": 31,
   "id": "111a5dc7",
   "metadata": {},
   "outputs": [
    {
     "data": {
      "text/plain": [
       "1092"
      ]
     },
     "execution_count": 31,
     "metadata": {},
     "output_type": "execute_result"
    }
   ],
   "source": [
    "# Общее число исследуемых операторов\n",
    "df['operator_id'].nunique()"
   ]
  },
  {
   "cell_type": "code",
   "execution_count": 32,
   "id": "6228aeb6",
   "metadata": {},
   "outputs": [
    {
     "data": {
      "image/png": "[encoded data removed]",
      "text/plain": [
       "<Figure size 216x288 with 1 Axes>"
      ]
     },
     "metadata": {
      "needs_background": "light"
     },
     "output_type": "display_data"
    }
   ],
   "source": [
    "plt.figure(figsize=(3,4));\n",
    "ax= sns.barplot(x='tariff_plan', y='operator_id', data=df.groupby(['tariff_plan'])['operator_id'].nunique().reset_index() );\n",
    "ax.set_xlabel('Тарифный план');\n",
    "ax.set_ylabel('Количество операторов');\n",
    "plt.title('Количество операторов в каждом тарифе');"
   ]
  },
  {
   "cell_type": "code",
   "execution_count": 33,
   "id": "cf1faff5",
   "metadata": {},
   "outputs": [
    {
     "data": {
      "text/plain": [
       "tariff_plan  direction\n",
       "A            in           186\n",
       "             out          278\n",
       "B            in           276\n",
       "             out          329\n",
       "C            in           292\n",
       "             out          275\n",
       "Name: operator_id, dtype: int64"
      ]
     },
     "execution_count": 33,
     "metadata": {},
     "output_type": "execute_result"
    }
   ],
   "source": [
    "# Разбивка операторов по тарифу и направлению вызова\n",
    "df.groupby(['tariff_plan', 'direction'])['operator_id'].nunique()"
   ]
  },
  {
   "cell_type": "markdown",
   "id": "6bf4e8e8",
   "metadata": {},
   "source": [
    "Сумма операторов с разбивкой на вход-выход не сходится, следует, есть универсальные операторы в каждом тарифе."
   ]
  },
  {
   "cell_type": "code",
   "execution_count": 34,
   "id": "04401e3d",
   "metadata": {},
   "outputs": [
    {
     "data": {
      "text/html": [
       "<div>\n",
       "<style scoped>\n",
       "    .dataframe tbody tr th:only-of-type {\n",
       "        vertical-align: middle;\n",
       "    }\n",
       "\n",
       "    .dataframe tbody tr th {\n",
       "        vertical-align: top;\n",
       "    }\n",
       "\n",
       "    .dataframe thead th {\n",
       "        text-align: right;\n",
       "    }\n",
       "</style>\n",
       "<table border=\"1\" class=\"dataframe\">\n",
       "  <thead>\n",
       "    <tr style=\"text-align: right;\">\n",
       "      <th></th>\n",
       "      <th>user_id</th>\n",
       "      <th>date</th>\n",
       "      <th>direction</th>\n",
       "      <th>internal</th>\n",
       "      <th>operator_id</th>\n",
       "      <th>is_missed_call</th>\n",
       "      <th>calls_count</th>\n",
       "      <th>call_duration</th>\n",
       "      <th>total_call_duration</th>\n",
       "      <th>tariff_plan</th>\n",
       "      <th>date_start</th>\n",
       "      <th>avg_waiting</th>\n",
       "      <th>avg_call_duration</th>\n",
       "    </tr>\n",
       "  </thead>\n",
       "  <tbody>\n",
       "    <tr>\n",
       "      <td>1</td>\n",
       "      <td>166377</td>\n",
       "      <td>2019-08-05</td>\n",
       "      <td>out</td>\n",
       "      <td>True</td>\n",
       "      <td>880022</td>\n",
       "      <td>True</td>\n",
       "      <td>3</td>\n",
       "      <td>0</td>\n",
       "      <td>5</td>\n",
       "      <td>B</td>\n",
       "      <td>2019-08-01</td>\n",
       "      <td>1.666667</td>\n",
       "      <td>0.0</td>\n",
       "    </tr>\n",
       "    <tr>\n",
       "      <td>4</td>\n",
       "      <td>166377</td>\n",
       "      <td>2019-08-05</td>\n",
       "      <td>out</td>\n",
       "      <td>False</td>\n",
       "      <td>880022</td>\n",
       "      <td>True</td>\n",
       "      <td>3</td>\n",
       "      <td>0</td>\n",
       "      <td>25</td>\n",
       "      <td>B</td>\n",
       "      <td>2019-08-01</td>\n",
       "      <td>8.333333</td>\n",
       "      <td>0.0</td>\n",
       "    </tr>\n",
       "    <tr>\n",
       "      <td>19</td>\n",
       "      <td>166377</td>\n",
       "      <td>2019-08-08</td>\n",
       "      <td>out</td>\n",
       "      <td>False</td>\n",
       "      <td>880022</td>\n",
       "      <td>False</td>\n",
       "      <td>2</td>\n",
       "      <td>558</td>\n",
       "      <td>568</td>\n",
       "      <td>B</td>\n",
       "      <td>2019-08-01</td>\n",
       "      <td>5.000000</td>\n",
       "      <td>279.0</td>\n",
       "    </tr>\n",
       "    <tr>\n",
       "      <td>20</td>\n",
       "      <td>166377</td>\n",
       "      <td>2019-08-08</td>\n",
       "      <td>out</td>\n",
       "      <td>False</td>\n",
       "      <td>880022</td>\n",
       "      <td>True</td>\n",
       "      <td>4</td>\n",
       "      <td>0</td>\n",
       "      <td>28</td>\n",
       "      <td>B</td>\n",
       "      <td>2019-08-01</td>\n",
       "      <td>7.000000</td>\n",
       "      <td>0.0</td>\n",
       "    </tr>\n",
       "    <tr>\n",
       "      <td>23</td>\n",
       "      <td>166377</td>\n",
       "      <td>2019-08-09</td>\n",
       "      <td>out</td>\n",
       "      <td>False</td>\n",
       "      <td>880022</td>\n",
       "      <td>True</td>\n",
       "      <td>2</td>\n",
       "      <td>0</td>\n",
       "      <td>10</td>\n",
       "      <td>B</td>\n",
       "      <td>2019-08-01</td>\n",
       "      <td>5.000000</td>\n",
       "      <td>0.0</td>\n",
       "    </tr>\n",
       "    <tr>\n",
       "      <td>...</td>\n",
       "      <td>...</td>\n",
       "      <td>...</td>\n",
       "      <td>...</td>\n",
       "      <td>...</td>\n",
       "      <td>...</td>\n",
       "      <td>...</td>\n",
       "      <td>...</td>\n",
       "      <td>...</td>\n",
       "      <td>...</td>\n",
       "      <td>...</td>\n",
       "      <td>...</td>\n",
       "      <td>...</td>\n",
       "      <td>...</td>\n",
       "    </tr>\n",
       "    <tr>\n",
       "      <td>532</td>\n",
       "      <td>166377</td>\n",
       "      <td>2019-11-22</td>\n",
       "      <td>out</td>\n",
       "      <td>False</td>\n",
       "      <td>880022</td>\n",
       "      <td>True</td>\n",
       "      <td>7</td>\n",
       "      <td>0</td>\n",
       "      <td>163</td>\n",
       "      <td>B</td>\n",
       "      <td>2019-08-01</td>\n",
       "      <td>23.285714</td>\n",
       "      <td>0.0</td>\n",
       "    </tr>\n",
       "    <tr>\n",
       "      <td>537</td>\n",
       "      <td>166377</td>\n",
       "      <td>2019-11-22</td>\n",
       "      <td>out</td>\n",
       "      <td>False</td>\n",
       "      <td>880022</td>\n",
       "      <td>False</td>\n",
       "      <td>5</td>\n",
       "      <td>653</td>\n",
       "      <td>736</td>\n",
       "      <td>B</td>\n",
       "      <td>2019-08-01</td>\n",
       "      <td>16.600000</td>\n",
       "      <td>130.6</td>\n",
       "    </tr>\n",
       "    <tr>\n",
       "      <td>551</td>\n",
       "      <td>166377</td>\n",
       "      <td>2019-11-26</td>\n",
       "      <td>in</td>\n",
       "      <td>False</td>\n",
       "      <td>880022</td>\n",
       "      <td>False</td>\n",
       "      <td>1</td>\n",
       "      <td>24</td>\n",
       "      <td>28</td>\n",
       "      <td>B</td>\n",
       "      <td>2019-08-01</td>\n",
       "      <td>4.000000</td>\n",
       "      <td>24.0</td>\n",
       "    </tr>\n",
       "    <tr>\n",
       "      <td>558</td>\n",
       "      <td>166377</td>\n",
       "      <td>2019-11-27</td>\n",
       "      <td>out</td>\n",
       "      <td>False</td>\n",
       "      <td>880022</td>\n",
       "      <td>False</td>\n",
       "      <td>2</td>\n",
       "      <td>224</td>\n",
       "      <td>228</td>\n",
       "      <td>B</td>\n",
       "      <td>2019-08-01</td>\n",
       "      <td>2.000000</td>\n",
       "      <td>112.0</td>\n",
       "    </tr>\n",
       "    <tr>\n",
       "      <td>566</td>\n",
       "      <td>166377</td>\n",
       "      <td>2019-11-28</td>\n",
       "      <td>in</td>\n",
       "      <td>False</td>\n",
       "      <td>880022</td>\n",
       "      <td>False</td>\n",
       "      <td>1</td>\n",
       "      <td>134</td>\n",
       "      <td>158</td>\n",
       "      <td>B</td>\n",
       "      <td>2019-08-01</td>\n",
       "      <td>24.000000</td>\n",
       "      <td>134.0</td>\n",
       "    </tr>\n",
       "  </tbody>\n",
       "</table>\n",
       "<p>70 rows × 13 columns</p>\n",
       "</div>"
      ],
      "text/plain": [
       "     user_id       date direction  internal  operator_id  is_missed_call  \\\n",
       "1     166377 2019-08-05       out      True       880022            True   \n",
       "4     166377 2019-08-05       out     False       880022            True   \n",
       "19    166377 2019-08-08       out     False       880022           False   \n",
       "20    166377 2019-08-08       out     False       880022            True   \n",
       "23    166377 2019-08-09       out     False       880022            True   \n",
       "..       ...        ...       ...       ...          ...             ...   \n",
       "532   166377 2019-11-22       out     False       880022            True   \n",
       "537   166377 2019-11-22       out     False       880022           False   \n",
       "551   166377 2019-11-26        in     False       880022           False   \n",
       "558   166377 2019-11-27       out     False       880022           False   \n",
       "566   166377 2019-11-28        in     False       880022           False   \n",
       "\n",
       "     calls_count  call_duration  total_call_duration tariff_plan date_start  \\\n",
       "1              3              0                    5           B 2019-08-01   \n",
       "4              3              0                   25           B 2019-08-01   \n",
       "19             2            558                  568           B 2019-08-01   \n",
       "20             4              0                   28           B 2019-08-01   \n",
       "23             2              0                   10           B 2019-08-01   \n",
       "..           ...            ...                  ...         ...        ...   \n",
       "532            7              0                  163           B 2019-08-01   \n",
       "537            5            653                  736           B 2019-08-01   \n",
       "551            1             24                   28           B 2019-08-01   \n",
       "558            2            224                  228           B 2019-08-01   \n",
       "566            1            134                  158           B 2019-08-01   \n",
       "\n",
       "     avg_waiting  avg_call_duration  \n",
       "1       1.666667                0.0  \n",
       "4       8.333333                0.0  \n",
       "19      5.000000              279.0  \n",
       "20      7.000000                0.0  \n",
       "23      5.000000                0.0  \n",
       "..           ...                ...  \n",
       "532    23.285714                0.0  \n",
       "537    16.600000              130.6  \n",
       "551     4.000000               24.0  \n",
       "558     2.000000              112.0  \n",
       "566    24.000000              134.0  \n",
       "\n",
       "[70 rows x 13 columns]"
      ]
     },
     "execution_count": 34,
     "metadata": {},
     "output_type": "execute_result"
    }
   ],
   "source": [
    "df.query('operator_id==880022')"
   ]
  },
  {
   "cell_type": "code",
   "execution_count": 35,
   "id": "df3ca3f3",
   "metadata": {},
   "outputs": [
    {
     "data": {
      "text/plain": [
       "tariff_plan  internal\n",
       "A            False       300\n",
       "             True        189\n",
       "B            False       385\n",
       "             True        182\n",
       "C            False       370\n",
       "             True        197\n",
       "Name: operator_id, dtype: int64"
      ]
     },
     "execution_count": 35,
     "metadata": {},
     "output_type": "execute_result"
    }
   ],
   "source": [
    "# Возможно есть операторы занимающиеся только внутренними или внешними звонками\n",
    "df.groupby(['tariff_plan', 'internal'])['operator_id'].nunique()"
   ]
  },
  {
   "cell_type": "markdown",
   "id": "27f4d490",
   "metadata": {},
   "source": [
    "### Вывод\n",
    "- Количество операторов работающих по каждому тарифу примерно одинаковое\n",
    "- В каждом тарифе есть универсальные сотрудники работающие как с входящими, так и с исходящими вызовами\n",
    "- Четкого распределения на сотрудников работающих только с внутренними или внешними звонками, так же нет"
   ]
  },
  {
   "cell_type": "markdown",
   "id": "d955a847",
   "metadata": {},
   "source": [
    "## Исследование входящих пропущенных вызовов"
   ]
  },
  {
   "cell_type": "code",
   "execution_count": 36,
   "id": "0b8b1d1b",
   "metadata": {},
   "outputs": [
    {
     "data": {
      "image/png": "[encoded data removed]",
      "text/plain": [
       "<Figure size 576x360 with 1 Axes>"
      ]
     },
     "metadata": {
      "needs_background": "light"
     },
     "output_type": "display_data"
    }
   ],
   "source": [
    "df.query('internal==True and direction==\"in\" and is_missed_call==True ')['calls_count'].plot.hist( bins=50, figsize=(8,5));\n",
    "plt.title('Количество пропущенных внутренних вызовов');\n",
    "plt.xlabel('Количество пропущенных вызовов');"
   ]
  },
  {
   "cell_type": "code",
   "execution_count": 37,
   "id": "4dea0a72",
   "metadata": {},
   "outputs": [
    {
     "data": {
      "image/png": "[encoded data removed]",
      "text/plain": [
       "<Figure size 576x360 with 1 Axes>"
      ]
     },
     "metadata": {
      "needs_background": "light"
     },
     "output_type": "display_data"
    }
   ],
   "source": [
    "df.query('internal==False and direction==\"in\" and is_missed_call==True ')['calls_count'].plot.hist(  bins=50, figsize=(8,5));\n",
    "plt.title('Количество пропущенных внешних вызовов');\n",
    "plt.xlabel('Количество пропущенных вызовов');"
   ]
  },
  {
   "cell_type": "markdown",
   "id": "eb583f73",
   "metadata": {},
   "source": [
    "Разбивать на внутренние и внешние звонки нет необходимости"
   ]
  },
  {
   "cell_type": "code",
   "execution_count": 38,
   "id": "fbc61e28",
   "metadata": {},
   "outputs": [
    {
     "data": {
      "image/png": "[encoded data removed]",
      "text/plain": [
       "<Figure size 576x360 with 1 Axes>"
      ]
     },
     "metadata": {
      "needs_background": "light"
     },
     "output_type": "display_data"
    }
   ],
   "source": [
    "df.query('direction==\"in\" and is_missed_call==True ')['calls_count'].plot.hist( bins=50, figsize=(8,5));\n",
    "plt.title('Количество пропущенных вызовов');\n",
    "plt.xlabel('Количество пропущенных вызовов');"
   ]
  },
  {
   "cell_type": "markdown",
   "id": "d141f012",
   "metadata": {},
   "source": [
    "Выберем порог  >1 пропущенных вызовов"
   ]
  },
  {
   "cell_type": "markdown",
   "id": "2e8e8f4d",
   "metadata": {},
   "source": [
    "## Исследование время ожидания входящих внешних вызовов"
   ]
  },
  {
   "cell_type": "code",
   "execution_count": 39,
   "id": "69f8d073",
   "metadata": {},
   "outputs": [
    {
     "data": {
      "image/png": "[encoded data removed]",
      "text/plain": [
       "<Figure size 576x360 with 1 Axes>"
      ]
     },
     "metadata": {
      "needs_background": "light"
     },
     "output_type": "display_data"
    }
   ],
   "source": [
    "df.query('internal==False and direction==\"in\" and is_missed_call==False ')['avg_waiting'].plot.hist(bins=50, figsize=(8,5));\n",
    "plt.title('Время ожидания входящих внешних вызовов');\n",
    "plt.xlabel('Среднее время ожидания');"
   ]
  },
  {
   "cell_type": "code",
   "execution_count": 40,
   "id": "d6d56c10",
   "metadata": {},
   "outputs": [
    {
     "data": {
      "text/plain": [
       "16.37407748780582"
      ]
     },
     "execution_count": 40,
     "metadata": {},
     "output_type": "execute_result"
    }
   ],
   "source": [
    "df.query('internal==False and direction==\"in\" and is_missed_call==False ')['avg_waiting'].mean()"
   ]
  },
  {
   "cell_type": "code",
   "execution_count": 41,
   "id": "bce77306",
   "metadata": {},
   "outputs": [
    {
     "data": {
      "image/png": "[encoded data removed]",
      "text/plain": [
       "<Figure size 576x360 with 1 Axes>"
      ]
     },
     "metadata": {
      "needs_background": "light"
     },
     "output_type": "display_data"
    }
   ],
   "source": [
    "df.query('internal==True and direction==\"in\" and is_missed_call==False ')['avg_waiting'].plot.hist( bins=50, figsize=(8,5));\n",
    "plt.title('Время ожидания входящих внутренних вызовов');\n",
    "plt.xlabel('Среднее время ожидания');"
   ]
  },
  {
   "cell_type": "code",
   "execution_count": 42,
   "id": "9171f006",
   "metadata": {},
   "outputs": [
    {
     "data": {
      "text/plain": [
       "13.994447067392274"
      ]
     },
     "execution_count": 42,
     "metadata": {},
     "output_type": "execute_result"
    }
   ],
   "source": [
    "df.query('internal==True and direction==\"in\" and is_missed_call==False ')['avg_waiting'].mean()"
   ]
  },
  {
   "cell_type": "markdown",
   "id": "cfaabd71",
   "metadata": {},
   "source": [
    "### Вывод\n",
    "\n",
    "Есть смысл разделить звонки на внешние и внутренние.\n",
    "\n",
    "Порог для внешних вызовов >17\n",
    "\n",
    "Порог для внутренних вызовов >14"
   ]
  },
  {
   "cell_type": "markdown",
   "id": "d9098d80",
   "metadata": {},
   "source": [
    "## Исследование исходящих вызовов"
   ]
  },
  {
   "cell_type": "code",
   "execution_count": 43,
   "id": "669a8abe",
   "metadata": {},
   "outputs": [
    {
     "data": {
      "image/png": "[encoded data removed]",
      "text/plain": [
       "<Figure size 576x360 with 1 Axes>"
      ]
     },
     "metadata": {
      "needs_background": "light"
     },
     "output_type": "display_data"
    }
   ],
   "source": [
    "df.query('direction==\"out\" ')['calls_count'].plot.hist( bins=50, figsize=(8,5));\n",
    "plt.title('Количество исходящих вызовов');"
   ]
  },
  {
   "cell_type": "code",
   "execution_count": 44,
   "id": "3ff1be9e",
   "metadata": {},
   "outputs": [
    {
     "data": {
      "image/png": "[encoded data removed]",
      "text/plain": [
       "<Figure size 576x360 with 1 Axes>"
      ]
     },
     "metadata": {
      "needs_background": "light"
     },
     "output_type": "display_data"
    }
   ],
   "source": [
    "df.query('direction==\"out\" and calls_count<100 ')['calls_count'].plot.hist( bins=50, figsize=(8,5));\n",
    "plt.title('Количество исходящих вызовов');"
   ]
  },
  {
   "cell_type": "markdown",
   "id": "9780ce5b",
   "metadata": {},
   "source": [
    "Разброс исходящих вызовов очень большой, пока сложно выбрать пороговое значение"
   ]
  },
  {
   "cell_type": "markdown",
   "id": "4186c3eb",
   "metadata": {},
   "source": [
    "### Разделим операторов по виду деятельности \n"
   ]
  },
  {
   "cell_type": "code",
   "execution_count": 45,
   "id": "cbcbdd33",
   "metadata": {},
   "outputs": [
    {
     "data": {
      "text/plain": [
       "754"
      ]
     },
     "execution_count": 45,
     "metadata": {},
     "output_type": "execute_result"
    }
   ],
   "source": [
    "df.query('direction==\"in\"')['operator_id'].nunique()"
   ]
  },
  {
   "cell_type": "code",
   "execution_count": 46,
   "id": "057e3fcc",
   "metadata": {},
   "outputs": [
    {
     "data": {
      "text/plain": [
       "882"
      ]
     },
     "execution_count": 46,
     "metadata": {},
     "output_type": "execute_result"
    }
   ],
   "source": [
    "df.query('direction==\"out\"')['operator_id'].nunique()"
   ]
  },
  {
   "cell_type": "code",
   "execution_count": 47,
   "id": "55194a0b",
   "metadata": {},
   "outputs": [],
   "source": [
    "# Списки операторов делающих исходящие и входящие звонки\n",
    "df_in=df.query('direction==\"in\"')['operator_id'].unique()\n",
    "df_out=df.query('direction==\"out\"')['operator_id'].unique()"
   ]
  },
  {
   "cell_type": "code",
   "execution_count": 48,
   "id": "ab0508f6",
   "metadata": {},
   "outputs": [],
   "source": [
    "# Функция присваевает идентификатор типа оператора\n",
    "def one_direction (data):\n",
    "    if data['operator_id'] not in df_in:\n",
    "        return 'only_out'\n",
    "    elif data['operator_id'] not in df_out:\n",
    "        return 'only_in'\n",
    "    else:\n",
    "        return 'universal' "
   ]
  },
  {
   "cell_type": "code",
   "execution_count": 49,
   "id": "5bfac60a",
   "metadata": {},
   "outputs": [],
   "source": [
    "df['one_direction']=df.apply(one_direction, axis=1)   "
   ]
  },
  {
   "cell_type": "code",
   "execution_count": 50,
   "id": "def52d91",
   "metadata": {},
   "outputs": [
    {
     "data": {
      "text/html": [
       "<div>\n",
       "<style scoped>\n",
       "    .dataframe tbody tr th:only-of-type {\n",
       "        vertical-align: middle;\n",
       "    }\n",
       "\n",
       "    .dataframe tbody tr th {\n",
       "        vertical-align: top;\n",
       "    }\n",
       "\n",
       "    .dataframe thead th {\n",
       "        text-align: right;\n",
       "    }\n",
       "</style>\n",
       "<table border=\"1\" class=\"dataframe\">\n",
       "  <thead>\n",
       "    <tr style=\"text-align: right;\">\n",
       "      <th></th>\n",
       "      <th>one_direction</th>\n",
       "      <th>operator_id</th>\n",
       "    </tr>\n",
       "  </thead>\n",
       "  <tbody>\n",
       "    <tr>\n",
       "      <td>0</td>\n",
       "      <td>only_in</td>\n",
       "      <td>210</td>\n",
       "    </tr>\n",
       "    <tr>\n",
       "      <td>1</td>\n",
       "      <td>only_out</td>\n",
       "      <td>338</td>\n",
       "    </tr>\n",
       "    <tr>\n",
       "      <td>2</td>\n",
       "      <td>universal</td>\n",
       "      <td>544</td>\n",
       "    </tr>\n",
       "  </tbody>\n",
       "</table>\n",
       "</div>"
      ],
      "text/plain": [
       "  one_direction  operator_id\n",
       "0       only_in          210\n",
       "1      only_out          338\n",
       "2     universal          544"
      ]
     },
     "execution_count": 50,
     "metadata": {},
     "output_type": "execute_result"
    }
   ],
   "source": [
    "df.groupby('one_direction')['operator_id'].nunique().reset_index()"
   ]
  },
  {
   "cell_type": "code",
   "execution_count": 51,
   "id": "e515401e",
   "metadata": {},
   "outputs": [
    {
     "data": {
      "image/png": "[encoded data removed]",
      "text/plain": [
       "<Figure size 216x288 with 1 Axes>"
      ]
     },
     "metadata": {
      "needs_background": "light"
     },
     "output_type": "display_data"
    }
   ],
   "source": [
    "plt.figure(figsize=(3,4));\n",
    "ax= sns.barplot(x='one_direction', y='operator_id', data=df.groupby('one_direction')['operator_id'].nunique().reset_index() );\n",
    "ax.set_xlabel('Вид оператора');\n",
    "ax.set_ylabel('Количество операторов');\n",
    "plt.title('Количество операторов по видам деятельности');"
   ]
  },
  {
   "cell_type": "markdown",
   "id": "7d219a30",
   "metadata": {},
   "source": [
    "### Определим пороги\n",
    "\n",
    "Нас интересуют операторы занимающиеся только исходящими звонками"
   ]
  },
  {
   "cell_type": "code",
   "execution_count": 52,
   "id": "c9ed82dd",
   "metadata": {},
   "outputs": [
    {
     "data": {
      "image/png": "[encoded data removed]",
      "text/plain": [
       "<Figure size 864x432 with 1 Axes>"
      ]
     },
     "metadata": {
      "needs_background": "light"
     },
     "output_type": "display_data"
    }
   ],
   "source": [
    "(df.query('one_direction==\"only_out\" ')\n",
    ".groupby('tariff_plan')['calls_count'].plot.hist(alpha=0.5, legend=True, bins=50, figsize=(12,6)));"
   ]
  },
  {
   "cell_type": "code",
   "execution_count": 53,
   "id": "4a4b3d11",
   "metadata": {},
   "outputs": [
    {
     "data": {
      "image/png": "[encoded data removed]",
      "text/plain": [
       "<Figure size 864x432 with 1 Axes>"
      ]
     },
     "metadata": {
      "needs_background": "light"
     },
     "output_type": "display_data"
    }
   ],
   "source": [
    "(df.query('one_direction==\"only_out\" and calls_count<100 ')\n",
    ".groupby('tariff_plan')['calls_count'].plot.hist(alpha=0.5, legend=True, bins=50, figsize=(12,6)));"
   ]
  },
  {
   "cell_type": "markdown",
   "id": "5d428be3",
   "metadata": {},
   "source": [
    "На разных тарифах операторы делают разное количество исходящих звонков, выберем пороги учитывая тариф.\n",
    "\n",
    "Большое чисто операторов, занимающихся исходящими звонками, делают 1 звонок (очень странно).\n",
    "\n",
    "Так же количество звонков очень размазано, что затрудняет определение эффективности оператора.\n",
    "\n",
    "Только операторы тарифа А похожи на операторов, работающих с исходящими вызовами)\n"
   ]
  },
  {
   "cell_type": "code",
   "execution_count": 54,
   "id": "a5c593a2",
   "metadata": {},
   "outputs": [
    {
     "name": "stdout",
     "output_type": "stream",
     "text": [
      "Порог для:  A 36.74029850746269\n",
      "Порог для:  B 3.390501319261214\n",
      "Порог для:  C 9.92\n"
     ]
    }
   ],
   "source": [
    "tarif=['A','B', 'C']\n",
    "for i in tarif:\n",
    "    tar_quant= ((df.query('one_direction==\"only_out\" and tariff_plan==@i ')['calls_count'].quantile(0.75)-\n",
    "    df.query('one_direction==\"only_out\" and tariff_plan==@i ')['calls_count'].quantile(0.25))*1.5)\n",
    "    print('Порог для: ',i , df.query('one_direction==\"only_out\" and tariff_plan==@i and calls_count<@tar_quant ')['calls_count'].mean())"
   ]
  },
  {
   "cell_type": "code",
   "execution_count": 55,
   "id": "eaf1931d",
   "metadata": {},
   "outputs": [
    {
     "data": {
      "text/html": [
       "<div>\n",
       "<style scoped>\n",
       "    .dataframe tbody tr th:only-of-type {\n",
       "        vertical-align: middle;\n",
       "    }\n",
       "\n",
       "    .dataframe tbody tr th {\n",
       "        vertical-align: top;\n",
       "    }\n",
       "\n",
       "    .dataframe thead th {\n",
       "        text-align: right;\n",
       "    }\n",
       "</style>\n",
       "<table border=\"1\" class=\"dataframe\">\n",
       "  <thead>\n",
       "    <tr style=\"text-align: right;\">\n",
       "      <th></th>\n",
       "      <th>user_id</th>\n",
       "      <th>date</th>\n",
       "      <th>direction</th>\n",
       "      <th>internal</th>\n",
       "      <th>operator_id</th>\n",
       "      <th>is_missed_call</th>\n",
       "      <th>calls_count</th>\n",
       "      <th>call_duration</th>\n",
       "      <th>total_call_duration</th>\n",
       "      <th>tariff_plan</th>\n",
       "      <th>date_start</th>\n",
       "      <th>avg_waiting</th>\n",
       "      <th>avg_call_duration</th>\n",
       "      <th>one_direction</th>\n",
       "    </tr>\n",
       "  </thead>\n",
       "  <tbody>\n",
       "    <tr>\n",
       "      <td>10</td>\n",
       "      <td>166377</td>\n",
       "      <td>2019-08-06</td>\n",
       "      <td>out</td>\n",
       "      <td>False</td>\n",
       "      <td>881278</td>\n",
       "      <td>True</td>\n",
       "      <td>3</td>\n",
       "      <td>0</td>\n",
       "      <td>29</td>\n",
       "      <td>B</td>\n",
       "      <td>2019-08-01</td>\n",
       "      <td>9.666667</td>\n",
       "      <td>0.000000</td>\n",
       "      <td>only_out</td>\n",
       "    </tr>\n",
       "    <tr>\n",
       "      <td>12</td>\n",
       "      <td>166377</td>\n",
       "      <td>2019-08-06</td>\n",
       "      <td>out</td>\n",
       "      <td>True</td>\n",
       "      <td>881278</td>\n",
       "      <td>True</td>\n",
       "      <td>2</td>\n",
       "      <td>0</td>\n",
       "      <td>5</td>\n",
       "      <td>B</td>\n",
       "      <td>2019-08-01</td>\n",
       "      <td>2.500000</td>\n",
       "      <td>0.000000</td>\n",
       "      <td>only_out</td>\n",
       "    </tr>\n",
       "    <tr>\n",
       "      <td>380</td>\n",
       "      <td>166377</td>\n",
       "      <td>2019-10-21</td>\n",
       "      <td>out</td>\n",
       "      <td>False</td>\n",
       "      <td>881278</td>\n",
       "      <td>False</td>\n",
       "      <td>3</td>\n",
       "      <td>465</td>\n",
       "      <td>476</td>\n",
       "      <td>B</td>\n",
       "      <td>2019-08-01</td>\n",
       "      <td>3.666667</td>\n",
       "      <td>155.000000</td>\n",
       "      <td>only_out</td>\n",
       "    </tr>\n",
       "    <tr>\n",
       "      <td>416</td>\n",
       "      <td>166377</td>\n",
       "      <td>2019-10-28</td>\n",
       "      <td>out</td>\n",
       "      <td>False</td>\n",
       "      <td>881278</td>\n",
       "      <td>True</td>\n",
       "      <td>1</td>\n",
       "      <td>0</td>\n",
       "      <td>5</td>\n",
       "      <td>B</td>\n",
       "      <td>2019-08-01</td>\n",
       "      <td>5.000000</td>\n",
       "      <td>0.000000</td>\n",
       "      <td>only_out</td>\n",
       "    </tr>\n",
       "    <tr>\n",
       "      <td>466</td>\n",
       "      <td>166377</td>\n",
       "      <td>2019-11-07</td>\n",
       "      <td>out</td>\n",
       "      <td>True</td>\n",
       "      <td>881278</td>\n",
       "      <td>True</td>\n",
       "      <td>2</td>\n",
       "      <td>0</td>\n",
       "      <td>0</td>\n",
       "      <td>B</td>\n",
       "      <td>2019-08-01</td>\n",
       "      <td>0.000000</td>\n",
       "      <td>0.000000</td>\n",
       "      <td>only_out</td>\n",
       "    </tr>\n",
       "    <tr>\n",
       "      <td>...</td>\n",
       "      <td>...</td>\n",
       "      <td>...</td>\n",
       "      <td>...</td>\n",
       "      <td>...</td>\n",
       "      <td>...</td>\n",
       "      <td>...</td>\n",
       "      <td>...</td>\n",
       "      <td>...</td>\n",
       "      <td>...</td>\n",
       "      <td>...</td>\n",
       "      <td>...</td>\n",
       "      <td>...</td>\n",
       "      <td>...</td>\n",
       "      <td>...</td>\n",
       "    </tr>\n",
       "    <tr>\n",
       "      <td>53766</td>\n",
       "      <td>168603</td>\n",
       "      <td>2019-11-20</td>\n",
       "      <td>out</td>\n",
       "      <td>False</td>\n",
       "      <td>959118</td>\n",
       "      <td>True</td>\n",
       "      <td>3</td>\n",
       "      <td>0</td>\n",
       "      <td>89</td>\n",
       "      <td>B</td>\n",
       "      <td>2019-10-31</td>\n",
       "      <td>29.666667</td>\n",
       "      <td>0.000000</td>\n",
       "      <td>only_out</td>\n",
       "    </tr>\n",
       "    <tr>\n",
       "      <td>53767</td>\n",
       "      <td>168603</td>\n",
       "      <td>2019-11-20</td>\n",
       "      <td>out</td>\n",
       "      <td>False</td>\n",
       "      <td>959118</td>\n",
       "      <td>False</td>\n",
       "      <td>3</td>\n",
       "      <td>419</td>\n",
       "      <td>478</td>\n",
       "      <td>B</td>\n",
       "      <td>2019-10-31</td>\n",
       "      <td>19.666667</td>\n",
       "      <td>139.666667</td>\n",
       "      <td>only_out</td>\n",
       "    </tr>\n",
       "    <tr>\n",
       "      <td>53769</td>\n",
       "      <td>168603</td>\n",
       "      <td>2019-11-21</td>\n",
       "      <td>out</td>\n",
       "      <td>False</td>\n",
       "      <td>959118</td>\n",
       "      <td>True</td>\n",
       "      <td>1</td>\n",
       "      <td>0</td>\n",
       "      <td>10</td>\n",
       "      <td>B</td>\n",
       "      <td>2019-10-31</td>\n",
       "      <td>10.000000</td>\n",
       "      <td>0.000000</td>\n",
       "      <td>only_out</td>\n",
       "    </tr>\n",
       "    <tr>\n",
       "      <td>53770</td>\n",
       "      <td>168603</td>\n",
       "      <td>2019-11-21</td>\n",
       "      <td>out</td>\n",
       "      <td>False</td>\n",
       "      <td>959118</td>\n",
       "      <td>False</td>\n",
       "      <td>5</td>\n",
       "      <td>338</td>\n",
       "      <td>423</td>\n",
       "      <td>B</td>\n",
       "      <td>2019-10-31</td>\n",
       "      <td>17.000000</td>\n",
       "      <td>67.600000</td>\n",
       "      <td>only_out</td>\n",
       "    </tr>\n",
       "    <tr>\n",
       "      <td>53771</td>\n",
       "      <td>168603</td>\n",
       "      <td>2019-11-27</td>\n",
       "      <td>out</td>\n",
       "      <td>False</td>\n",
       "      <td>959118</td>\n",
       "      <td>False</td>\n",
       "      <td>1</td>\n",
       "      <td>76</td>\n",
       "      <td>99</td>\n",
       "      <td>B</td>\n",
       "      <td>2019-10-31</td>\n",
       "      <td>23.000000</td>\n",
       "      <td>76.000000</td>\n",
       "      <td>only_out</td>\n",
       "    </tr>\n",
       "  </tbody>\n",
       "</table>\n",
       "<p>7571 rows × 14 columns</p>\n",
       "</div>"
      ],
      "text/plain": [
       "       user_id       date direction  internal  operator_id  is_missed_call  \\\n",
       "10      166377 2019-08-06       out     False       881278            True   \n",
       "12      166377 2019-08-06       out      True       881278            True   \n",
       "380     166377 2019-10-21       out     False       881278           False   \n",
       "416     166377 2019-10-28       out     False       881278            True   \n",
       "466     166377 2019-11-07       out      True       881278            True   \n",
       "...        ...        ...       ...       ...          ...             ...   \n",
       "53766   168603 2019-11-20       out     False       959118            True   \n",
       "53767   168603 2019-11-20       out     False       959118           False   \n",
       "53769   168603 2019-11-21       out     False       959118            True   \n",
       "53770   168603 2019-11-21       out     False       959118           False   \n",
       "53771   168603 2019-11-27       out     False       959118           False   \n",
       "\n",
       "       calls_count  call_duration  total_call_duration tariff_plan date_start  \\\n",
       "10               3              0                   29           B 2019-08-01   \n",
       "12               2              0                    5           B 2019-08-01   \n",
       "380              3            465                  476           B 2019-08-01   \n",
       "416              1              0                    5           B 2019-08-01   \n",
       "466              2              0                    0           B 2019-08-01   \n",
       "...            ...            ...                  ...         ...        ...   \n",
       "53766            3              0                   89           B 2019-10-31   \n",
       "53767            3            419                  478           B 2019-10-31   \n",
       "53769            1              0                   10           B 2019-10-31   \n",
       "53770            5            338                  423           B 2019-10-31   \n",
       "53771            1             76                   99           B 2019-10-31   \n",
       "\n",
       "       avg_waiting  avg_call_duration one_direction  \n",
       "10        9.666667           0.000000      only_out  \n",
       "12        2.500000           0.000000      only_out  \n",
       "380       3.666667         155.000000      only_out  \n",
       "416       5.000000           0.000000      only_out  \n",
       "466       0.000000           0.000000      only_out  \n",
       "...            ...                ...           ...  \n",
       "53766    29.666667           0.000000      only_out  \n",
       "53767    19.666667         139.666667      only_out  \n",
       "53769    10.000000           0.000000      only_out  \n",
       "53770    17.000000          67.600000      only_out  \n",
       "53771    23.000000          76.000000      only_out  \n",
       "\n",
       "[7571 rows x 14 columns]"
      ]
     },
     "execution_count": 55,
     "metadata": {},
     "output_type": "execute_result"
    }
   ],
   "source": [
    "df.query('one_direction==\"only_out\"')\n"
   ]
  },
  {
   "cell_type": "markdown",
   "id": "7529c1d4",
   "metadata": {},
   "source": [
    "# Выявление выбивающихся операторов"
   ]
  },
  {
   "cell_type": "markdown",
   "id": "98d749d2",
   "metadata": {},
   "source": [
    "Каждая запись лога, получит оценку 0, если она соответствует критериям хорошей работы и оценку 1 если не соответствует. \n",
    "\n",
    "Затем, данные агрегируются и каждый оператор получит средний балл от 0 до 1.\n",
    "\n",
    "Затем баллы транформируются в 100 бальную систему оценки, где 100 - хорошо, 0- плохо.\n",
    "\n",
    "В результате, получится рейтинг операторов.\n"
   ]
  },
  {
   "cell_type": "code",
   "execution_count": 56,
   "id": "a9017875",
   "metadata": {},
   "outputs": [],
   "source": [
    "def operator(data):\n",
    "    if data['direction']=='in' and data['is_missed_call']==True and data['calls_count']>1:\n",
    "        return 1\n",
    "    \n",
    "    elif data['direction']=='in' and data['is_missed_call']==False and data['internal']==False and data['avg_waiting']>17:\n",
    "        return 1 \n",
    "    elif data['direction']=='in' and data['is_missed_call']==False and data['internal']==True and data['avg_waiting']>14:\n",
    "        return 1\n",
    "    \n",
    "    \n",
    "    elif data['one_direction']=='only_out' and data['tariff_plan']=='A' and data['calls_count']<=36:\n",
    "        return 1    \n",
    "    elif data['one_direction']=='only_out' and data['tariff_plan']=='B' and data['calls_count']<=3:\n",
    "        return 1 \n",
    "    elif data['one_direction']=='only_out' and data['tariff_plan']=='C' and data['calls_count']<=10:\n",
    "        return 1 \n",
    "    \n",
    "    else:\n",
    "        return 0      "
   ]
  },
  {
   "cell_type": "code",
   "execution_count": 57,
   "id": "a691a69f",
   "metadata": {},
   "outputs": [],
   "source": [
    "df['miss']=df.apply(operator, axis=1)   "
   ]
  },
  {
   "cell_type": "code",
   "execution_count": 58,
   "id": "0748d6ba",
   "metadata": {},
   "outputs": [],
   "source": [
    "rank=pd.DataFrame()\n",
    "rank=df.groupby(['user_id', 'operator_id']).agg({'miss':['sum', 'count']} ).reset_index()\n",
    "\n",
    "rank.columns=['user_id','operator_id','sum','count']\n",
    "rank['rank']= abs(round(rank['sum']/rank['count']*100,0)-100)"
   ]
  },
  {
   "cell_type": "code",
   "execution_count": 59,
   "id": "88e76b79",
   "metadata": {},
   "outputs": [
    {
     "data": {
      "text/html": [
       "<div>\n",
       "<style scoped>\n",
       "    .dataframe tbody tr th:only-of-type {\n",
       "        vertical-align: middle;\n",
       "    }\n",
       "\n",
       "    .dataframe tbody tr th {\n",
       "        vertical-align: top;\n",
       "    }\n",
       "\n",
       "    .dataframe thead th {\n",
       "        text-align: right;\n",
       "    }\n",
       "</style>\n",
       "<table border=\"1\" class=\"dataframe\">\n",
       "  <thead>\n",
       "    <tr style=\"text-align: right;\">\n",
       "      <th></th>\n",
       "      <th>user_id</th>\n",
       "      <th>operator_id</th>\n",
       "      <th>sum</th>\n",
       "      <th>count</th>\n",
       "      <th>rank</th>\n",
       "    </tr>\n",
       "  </thead>\n",
       "  <tbody>\n",
       "    <tr>\n",
       "      <td>0</td>\n",
       "      <td>166377</td>\n",
       "      <td>880020</td>\n",
       "      <td>0</td>\n",
       "      <td>20</td>\n",
       "      <td>100.0</td>\n",
       "    </tr>\n",
       "    <tr>\n",
       "      <td>1</td>\n",
       "      <td>166377</td>\n",
       "      <td>880022</td>\n",
       "      <td>3</td>\n",
       "      <td>70</td>\n",
       "      <td>96.0</td>\n",
       "    </tr>\n",
       "    <tr>\n",
       "      <td>2</td>\n",
       "      <td>166377</td>\n",
       "      <td>880026</td>\n",
       "      <td>0</td>\n",
       "      <td>182</td>\n",
       "      <td>100.0</td>\n",
       "    </tr>\n",
       "    <tr>\n",
       "      <td>3</td>\n",
       "      <td>166377</td>\n",
       "      <td>880028</td>\n",
       "      <td>2</td>\n",
       "      <td>202</td>\n",
       "      <td>99.0</td>\n",
       "    </tr>\n",
       "    <tr>\n",
       "      <td>4</td>\n",
       "      <td>166377</td>\n",
       "      <td>881278</td>\n",
       "      <td>6</td>\n",
       "      <td>8</td>\n",
       "      <td>25.0</td>\n",
       "    </tr>\n",
       "  </tbody>\n",
       "</table>\n",
       "</div>"
      ],
      "text/plain": [
       "   user_id  operator_id  sum  count   rank\n",
       "0   166377       880020    0     20  100.0\n",
       "1   166377       880022    3     70   96.0\n",
       "2   166377       880026    0    182  100.0\n",
       "3   166377       880028    2    202   99.0\n",
       "4   166377       881278    6      8   25.0"
      ]
     },
     "execution_count": 59,
     "metadata": {},
     "output_type": "execute_result"
    }
   ],
   "source": [
    "rank.head(5)"
   ]
  },
  {
   "cell_type": "code",
   "execution_count": 60,
   "id": "8bcd64b4",
   "metadata": {},
   "outputs": [
    {
     "data": {
      "image/png": "[encoded data removed]",
      "text/plain": [
       "<Figure size 1080x288 with 1 Axes>"
      ]
     },
     "metadata": {
      "needs_background": "light"
     },
     "output_type": "display_data"
    },
    {
     "data": {
      "image/png": "[encoded data removed]",
      "text/plain": [
       "<Figure size 1080x72 with 1 Axes>"
      ]
     },
     "metadata": {
      "needs_background": "light"
     },
     "output_type": "display_data"
    }
   ],
   "source": [
    "rank['rank'].hist(bins=100, figsize=(15,4));\n",
    "plt.title('Рейтинг операторов');\n",
    "plt.xlabel('Баллы');\n",
    "plt.figure(figsize=(15,1));\n",
    "plt.grid();\n",
    "ax = sns.boxplot(x=rank[\"rank\"])"
   ]
  },
  {
   "cell_type": "code",
   "execution_count": 61,
   "id": "5973f729",
   "metadata": {},
   "outputs": [
    {
     "data": {
      "text/plain": [
       "118"
      ]
     },
     "execution_count": 61,
     "metadata": {},
     "output_type": "execute_result"
    }
   ],
   "source": [
    "rank.query('rank<50')['user_id'].nunique()"
   ]
  },
  {
   "cell_type": "code",
   "execution_count": 62,
   "id": "bd2e3725",
   "metadata": {},
   "outputs": [
    {
     "data": {
      "text/plain": [
       "302"
      ]
     },
     "execution_count": 62,
     "metadata": {},
     "output_type": "execute_result"
    }
   ],
   "source": [
    "rank.query('rank<50')['operator_id'].nunique()"
   ]
  },
  {
   "cell_type": "code",
   "execution_count": 63,
   "id": "196ee409",
   "metadata": {},
   "outputs": [
    {
     "data": {
      "text/html": [
       "<div>\n",
       "<style scoped>\n",
       "    .dataframe tbody tr th:only-of-type {\n",
       "        vertical-align: middle;\n",
       "    }\n",
       "\n",
       "    .dataframe tbody tr th {\n",
       "        vertical-align: top;\n",
       "    }\n",
       "\n",
       "    .dataframe thead th {\n",
       "        text-align: right;\n",
       "    }\n",
       "</style>\n",
       "<table border=\"1\" class=\"dataframe\">\n",
       "  <thead>\n",
       "    <tr style=\"text-align: right;\">\n",
       "      <th></th>\n",
       "      <th>user_id</th>\n",
       "      <th>sum</th>\n",
       "      <th>count</th>\n",
       "      <th>rank</th>\n",
       "    </tr>\n",
       "  </thead>\n",
       "  <tbody>\n",
       "    <tr>\n",
       "      <td>239</td>\n",
       "      <td>168090</td>\n",
       "      <td>0.0</td>\n",
       "      <td>1</td>\n",
       "      <td>0.0</td>\n",
       "    </tr>\n",
       "    <tr>\n",
       "      <td>272</td>\n",
       "      <td>168377</td>\n",
       "      <td>0.0</td>\n",
       "      <td>1</td>\n",
       "      <td>0.0</td>\n",
       "    </tr>\n",
       "    <tr>\n",
       "      <td>14</td>\n",
       "      <td>166507</td>\n",
       "      <td>0.0</td>\n",
       "      <td>2</td>\n",
       "      <td>0.0</td>\n",
       "    </tr>\n",
       "    <tr>\n",
       "      <td>271</td>\n",
       "      <td>168366</td>\n",
       "      <td>0.0</td>\n",
       "      <td>2</td>\n",
       "      <td>0.0</td>\n",
       "    </tr>\n",
       "    <tr>\n",
       "      <td>72</td>\n",
       "      <td>166955</td>\n",
       "      <td>0.0</td>\n",
       "      <td>2</td>\n",
       "      <td>0.0</td>\n",
       "    </tr>\n",
       "    <tr>\n",
       "      <td>...</td>\n",
       "      <td>...</td>\n",
       "      <td>...</td>\n",
       "      <td>...</td>\n",
       "      <td>...</td>\n",
       "    </tr>\n",
       "    <tr>\n",
       "      <td>142</td>\n",
       "      <td>167397</td>\n",
       "      <td>100.0</td>\n",
       "      <td>1</td>\n",
       "      <td>100.0</td>\n",
       "    </tr>\n",
       "    <tr>\n",
       "      <td>44</td>\n",
       "      <td>166725</td>\n",
       "      <td>100.0</td>\n",
       "      <td>1</td>\n",
       "      <td>100.0</td>\n",
       "    </tr>\n",
       "    <tr>\n",
       "      <td>253</td>\n",
       "      <td>168190</td>\n",
       "      <td>100.0</td>\n",
       "      <td>1</td>\n",
       "      <td>100.0</td>\n",
       "    </tr>\n",
       "    <tr>\n",
       "      <td>33</td>\n",
       "      <td>166677</td>\n",
       "      <td>100.0</td>\n",
       "      <td>1</td>\n",
       "      <td>100.0</td>\n",
       "    </tr>\n",
       "    <tr>\n",
       "      <td>289</td>\n",
       "      <td>168606</td>\n",
       "      <td>100.0</td>\n",
       "      <td>1</td>\n",
       "      <td>100.0</td>\n",
       "    </tr>\n",
       "  </tbody>\n",
       "</table>\n",
       "<p>290 rows × 4 columns</p>\n",
       "</div>"
      ],
      "text/plain": [
       "     user_id    sum  count   rank\n",
       "239   168090    0.0      1    0.0\n",
       "272   168377    0.0      1    0.0\n",
       "14    166507    0.0      2    0.0\n",
       "271   168366    0.0      2    0.0\n",
       "72    166955    0.0      2    0.0\n",
       "..       ...    ...    ...    ...\n",
       "142   167397  100.0      1  100.0\n",
       "44    166725  100.0      1  100.0\n",
       "253   168190  100.0      1  100.0\n",
       "33    166677  100.0      1  100.0\n",
       "289   168606  100.0      1  100.0\n",
       "\n",
       "[290 rows x 4 columns]"
      ]
     },
     "execution_count": 63,
     "metadata": {},
     "output_type": "execute_result"
    }
   ],
   "source": [
    "problem_users=pd.DataFrame()\n",
    "problem_users=rank.groupby(['user_id']).agg({'rank':['sum','count']} ).reset_index()\n",
    "problem_users.columns=['user_id','sum','count']\n",
    "problem_users['rank']= (problem_users['sum']/problem_users['count'])\n",
    "problem_users.sort_values(by='rank')"
   ]
  },
  {
   "cell_type": "code",
   "execution_count": 64,
   "id": "b2c32eeb",
   "metadata": {},
   "outputs": [
    {
     "data": {
      "image/png": "[encoded data removed]",
      "text/plain": [
       "<Figure size 1080x288 with 1 Axes>"
      ]
     },
     "metadata": {
      "needs_background": "light"
     },
     "output_type": "display_data"
    }
   ],
   "source": [
    "problem_users['rank'].hist(bins=100, figsize=(15,4));\n",
    "plt.title('Рейтинг компаний');\n",
    "plt.xlabel('Баллы');"
   ]
  },
  {
   "cell_type": "code",
   "execution_count": 65,
   "id": "01368c6d",
   "metadata": {},
   "outputs": [
    {
     "data": {
      "text/html": [
       "<div>\n",
       "<style scoped>\n",
       "    .dataframe tbody tr th:only-of-type {\n",
       "        vertical-align: middle;\n",
       "    }\n",
       "\n",
       "    .dataframe tbody tr th {\n",
       "        vertical-align: top;\n",
       "    }\n",
       "\n",
       "    .dataframe thead th {\n",
       "        text-align: right;\n",
       "    }\n",
       "</style>\n",
       "<table border=\"1\" class=\"dataframe\">\n",
       "  <thead>\n",
       "    <tr style=\"text-align: right;\">\n",
       "      <th></th>\n",
       "      <th>user_id</th>\n",
       "      <th>sum</th>\n",
       "      <th>count</th>\n",
       "      <th>rank</th>\n",
       "    </tr>\n",
       "  </thead>\n",
       "  <tbody>\n",
       "    <tr>\n",
       "      <td>239</td>\n",
       "      <td>168090</td>\n",
       "      <td>0.0</td>\n",
       "      <td>1</td>\n",
       "      <td>0.0</td>\n",
       "    </tr>\n",
       "    <tr>\n",
       "      <td>272</td>\n",
       "      <td>168377</td>\n",
       "      <td>0.0</td>\n",
       "      <td>1</td>\n",
       "      <td>0.0</td>\n",
       "    </tr>\n",
       "    <tr>\n",
       "      <td>14</td>\n",
       "      <td>166507</td>\n",
       "      <td>0.0</td>\n",
       "      <td>2</td>\n",
       "      <td>0.0</td>\n",
       "    </tr>\n",
       "    <tr>\n",
       "      <td>271</td>\n",
       "      <td>168366</td>\n",
       "      <td>0.0</td>\n",
       "      <td>2</td>\n",
       "      <td>0.0</td>\n",
       "    </tr>\n",
       "    <tr>\n",
       "      <td>72</td>\n",
       "      <td>166955</td>\n",
       "      <td>0.0</td>\n",
       "      <td>2</td>\n",
       "      <td>0.0</td>\n",
       "    </tr>\n",
       "    <tr>\n",
       "      <td>138</td>\n",
       "      <td>167288</td>\n",
       "      <td>0.0</td>\n",
       "      <td>1</td>\n",
       "      <td>0.0</td>\n",
       "    </tr>\n",
       "    <tr>\n",
       "      <td>20</td>\n",
       "      <td>166548</td>\n",
       "      <td>0.0</td>\n",
       "      <td>1</td>\n",
       "      <td>0.0</td>\n",
       "    </tr>\n",
       "    <tr>\n",
       "      <td>55</td>\n",
       "      <td>166836</td>\n",
       "      <td>0.0</td>\n",
       "      <td>1</td>\n",
       "      <td>0.0</td>\n",
       "    </tr>\n",
       "    <tr>\n",
       "      <td>141</td>\n",
       "      <td>167364</td>\n",
       "      <td>0.0</td>\n",
       "      <td>1</td>\n",
       "      <td>0.0</td>\n",
       "    </tr>\n",
       "    <tr>\n",
       "      <td>2</td>\n",
       "      <td>166392</td>\n",
       "      <td>0.0</td>\n",
       "      <td>3</td>\n",
       "      <td>0.0</td>\n",
       "    </tr>\n",
       "  </tbody>\n",
       "</table>\n",
       "</div>"
      ],
      "text/plain": [
       "     user_id  sum  count  rank\n",
       "239   168090  0.0      1   0.0\n",
       "272   168377  0.0      1   0.0\n",
       "14    166507  0.0      2   0.0\n",
       "271   168366  0.0      2   0.0\n",
       "72    166955  0.0      2   0.0\n",
       "138   167288  0.0      1   0.0\n",
       "20    166548  0.0      1   0.0\n",
       "55    166836  0.0      1   0.0\n",
       "141   167364  0.0      1   0.0\n",
       "2     166392  0.0      3   0.0"
      ]
     },
     "execution_count": 65,
     "metadata": {},
     "output_type": "execute_result"
    }
   ],
   "source": [
    "problem_users.sort_values(by='rank').head(10)\n"
   ]
  },
  {
   "cell_type": "markdown",
   "id": "82483bdd",
   "metadata": {},
   "source": [
    "## Проверка"
   ]
  },
  {
   "cell_type": "code",
   "execution_count": 66,
   "id": "cbfe8f77",
   "metadata": {},
   "outputs": [
    {
     "data": {
      "text/html": [
       "<div>\n",
       "<style scoped>\n",
       "    .dataframe tbody tr th:only-of-type {\n",
       "        vertical-align: middle;\n",
       "    }\n",
       "\n",
       "    .dataframe tbody tr th {\n",
       "        vertical-align: top;\n",
       "    }\n",
       "\n",
       "    .dataframe thead th {\n",
       "        text-align: right;\n",
       "    }\n",
       "</style>\n",
       "<table border=\"1\" class=\"dataframe\">\n",
       "  <thead>\n",
       "    <tr style=\"text-align: right;\">\n",
       "      <th></th>\n",
       "      <th>user_id</th>\n",
       "      <th>date</th>\n",
       "      <th>direction</th>\n",
       "      <th>internal</th>\n",
       "      <th>operator_id</th>\n",
       "      <th>is_missed_call</th>\n",
       "      <th>calls_count</th>\n",
       "      <th>call_duration</th>\n",
       "      <th>total_call_duration</th>\n",
       "      <th>tariff_plan</th>\n",
       "      <th>date_start</th>\n",
       "      <th>avg_waiting</th>\n",
       "      <th>avg_call_duration</th>\n",
       "      <th>one_direction</th>\n",
       "      <th>miss</th>\n",
       "    </tr>\n",
       "  </thead>\n",
       "  <tbody>\n",
       "    <tr>\n",
       "      <td>53036</td>\n",
       "      <td>168366</td>\n",
       "      <td>2019-11-01</td>\n",
       "      <td>in</td>\n",
       "      <td>True</td>\n",
       "      <td>952666</td>\n",
       "      <td>False</td>\n",
       "      <td>1</td>\n",
       "      <td>56</td>\n",
       "      <td>71</td>\n",
       "      <td>C</td>\n",
       "      <td>2019-10-23</td>\n",
       "      <td>15.0</td>\n",
       "      <td>56.0</td>\n",
       "      <td>only_in</td>\n",
       "      <td>1</td>\n",
       "    </tr>\n",
       "    <tr>\n",
       "      <td>53042</td>\n",
       "      <td>168366</td>\n",
       "      <td>2019-11-05</td>\n",
       "      <td>in</td>\n",
       "      <td>False</td>\n",
       "      <td>952678</td>\n",
       "      <td>False</td>\n",
       "      <td>1</td>\n",
       "      <td>91</td>\n",
       "      <td>121</td>\n",
       "      <td>C</td>\n",
       "      <td>2019-10-23</td>\n",
       "      <td>30.0</td>\n",
       "      <td>91.0</td>\n",
       "      <td>only_in</td>\n",
       "      <td>1</td>\n",
       "    </tr>\n",
       "  </tbody>\n",
       "</table>\n",
       "</div>"
      ],
      "text/plain": [
       "       user_id       date direction  internal  operator_id  is_missed_call  \\\n",
       "53036   168366 2019-11-01        in      True       952666           False   \n",
       "53042   168366 2019-11-05        in     False       952678           False   \n",
       "\n",
       "       calls_count  call_duration  total_call_duration tariff_plan date_start  \\\n",
       "53036            1             56                   71           C 2019-10-23   \n",
       "53042            1             91                  121           C 2019-10-23   \n",
       "\n",
       "       avg_waiting  avg_call_duration one_direction  miss  \n",
       "53036         15.0               56.0       only_in     1  \n",
       "53042         30.0               91.0       only_in     1  "
      ]
     },
     "execution_count": 66,
     "metadata": {},
     "output_type": "execute_result"
    }
   ],
   "source": [
    "# Компания из списка с нулевым рейтингом\n",
    "df.query('user_id ==168366')"
   ]
  },
  {
   "cell_type": "code",
   "execution_count": 67,
   "id": "9e7a6f72",
   "metadata": {},
   "outputs": [
    {
     "data": {
      "text/html": [
       "<div>\n",
       "<style scoped>\n",
       "    .dataframe tbody tr th:only-of-type {\n",
       "        vertical-align: middle;\n",
       "    }\n",
       "\n",
       "    .dataframe tbody tr th {\n",
       "        vertical-align: top;\n",
       "    }\n",
       "\n",
       "    .dataframe thead th {\n",
       "        text-align: right;\n",
       "    }\n",
       "</style>\n",
       "<table border=\"1\" class=\"dataframe\">\n",
       "  <thead>\n",
       "    <tr style=\"text-align: right;\">\n",
       "      <th></th>\n",
       "      <th>user_id</th>\n",
       "      <th>date</th>\n",
       "      <th>direction</th>\n",
       "      <th>internal</th>\n",
       "      <th>operator_id</th>\n",
       "      <th>is_missed_call</th>\n",
       "      <th>calls_count</th>\n",
       "      <th>call_duration</th>\n",
       "      <th>total_call_duration</th>\n",
       "      <th>tariff_plan</th>\n",
       "      <th>date_start</th>\n",
       "      <th>avg_waiting</th>\n",
       "      <th>avg_call_duration</th>\n",
       "      <th>one_direction</th>\n",
       "      <th>miss</th>\n",
       "    </tr>\n",
       "  </thead>\n",
       "  <tbody>\n",
       "    <tr>\n",
       "      <td>53042</td>\n",
       "      <td>168366</td>\n",
       "      <td>2019-11-05</td>\n",
       "      <td>in</td>\n",
       "      <td>False</td>\n",
       "      <td>952678</td>\n",
       "      <td>False</td>\n",
       "      <td>1</td>\n",
       "      <td>91</td>\n",
       "      <td>121</td>\n",
       "      <td>C</td>\n",
       "      <td>2019-10-23</td>\n",
       "      <td>30.0</td>\n",
       "      <td>91.0</td>\n",
       "      <td>only_in</td>\n",
       "      <td>1</td>\n",
       "    </tr>\n",
       "  </tbody>\n",
       "</table>\n",
       "</div>"
      ],
      "text/plain": [
       "       user_id       date direction  internal  operator_id  is_missed_call  \\\n",
       "53042   168366 2019-11-05        in     False       952678           False   \n",
       "\n",
       "       calls_count  call_duration  total_call_duration tariff_plan date_start  \\\n",
       "53042            1             91                  121           C 2019-10-23   \n",
       "\n",
       "       avg_waiting  avg_call_duration one_direction  miss  \n",
       "53042         30.0               91.0       only_in     1  "
      ]
     },
     "execution_count": 67,
     "metadata": {},
     "output_type": "execute_result"
    }
   ],
   "source": [
    "df.query('operator_id ==952678')"
   ]
  },
  {
   "cell_type": "markdown",
   "id": "7e95f7af",
   "metadata": {},
   "source": [
    "У компании 2 сотрудника, каждый обработал по 1 звонку в день, при этом время ожидания выше порогового.\n",
    "\n",
    "И сотрудники и компания получает нулевой рейтинг, что не противоречит условию поставленной задачи.\n",
    "\n"
   ]
  },
  {
   "cell_type": "markdown",
   "id": "6b1de57b",
   "metadata": {},
   "source": [
    "## Вывод"
   ]
  },
  {
   "cell_type": "markdown",
   "id": "cb4f32a5",
   "metadata": {},
   "source": [
    "Построена рейтинговая система компаний и операторов.\n",
    "\n",
    "Явно выделяются лидеры и аутсайдеры.\n",
    "\n",
    "Имеем 302 сотрудника, работающих в 118 компаниях, с рейтингом ниже 50 баллов.\n",
    "\n"
   ]
  },
  {
   "cell_type": "markdown",
   "id": "a294fb3f",
   "metadata": {},
   "source": [
    "# Проверка гипотез"
   ]
  },
  {
   "cell_type": "markdown",
   "id": "90a0d36d",
   "metadata": {},
   "source": [
    "## H_0 Среднее время разговора операторов на входящих  и исходящих звонках одинаковое"
   ]
  },
  {
   "cell_type": "code",
   "execution_count": 68,
   "id": "f195f21f",
   "metadata": {},
   "outputs": [
    {
     "data": {
      "text/plain": [
       "754"
      ]
     },
     "execution_count": 68,
     "metadata": {},
     "output_type": "execute_result"
    }
   ],
   "source": [
    "in_avg_call_duration=df.query('direction==\"in\" and avg_call_duration>0 ').groupby('operator_id')['avg_call_duration'].mean().reset_index()\n",
    "len(in_avg_call_duration)"
   ]
  },
  {
   "cell_type": "code",
   "execution_count": 69,
   "id": "bccd5aab",
   "metadata": {},
   "outputs": [
    {
     "data": {
      "text/plain": [
       "<matplotlib.axes._subplots.AxesSubplot at 0x1a4edefcac8>"
      ]
     },
     "execution_count": 69,
     "metadata": {},
     "output_type": "execute_result"
    },
    {
     "data": {
      "image/png": "[encoded data removed]",
      "text/plain": [
       "<Figure size 432x288 with 1 Axes>"
      ]
     },
     "metadata": {
      "needs_background": "light"
     },
     "output_type": "display_data"
    }
   ],
   "source": [
    "in_avg_call_duration.avg_call_duration.hist(bins=100)"
   ]
  },
  {
   "cell_type": "code",
   "execution_count": 70,
   "id": "fa3ff8de",
   "metadata": {},
   "outputs": [
    {
     "data": {
      "image/png": "[encoded data removed]",
      "text/plain": [
       "<Figure size 432x288 with 1 Axes>"
      ]
     },
     "metadata": {
      "needs_background": "light"
     },
     "output_type": "display_data"
    },
    {
     "data": {
      "text/plain": [
       "685"
      ]
     },
     "execution_count": 70,
     "metadata": {},
     "output_type": "execute_result"
    }
   ],
   "source": [
    "qqplot(in_avg_call_duration.query('avg_call_duration< 200')['avg_call_duration'], line='s')\n",
    "plt.show()\n",
    "in_avg_call_duration.query('avg_call_duration< 200')['avg_call_duration'].count()"
   ]
  },
  {
   "cell_type": "code",
   "execution_count": 71,
   "id": "7c5467e7",
   "metadata": {},
   "outputs": [
    {
     "data": {
      "text/plain": [
       "814"
      ]
     },
     "execution_count": 71,
     "metadata": {},
     "output_type": "execute_result"
    }
   ],
   "source": [
    "out_avg_call_duration=df.query('direction==\"out\" and avg_call_duration>0 ').groupby('operator_id')['avg_call_duration'].mean().reset_index()\n",
    "len(out_avg_call_duration)"
   ]
  },
  {
   "cell_type": "code",
   "execution_count": 72,
   "id": "9c5661bd",
   "metadata": {},
   "outputs": [
    {
     "data": {
      "text/plain": [
       "<matplotlib.axes._subplots.AxesSubplot at 0x1a4edd049c8>"
      ]
     },
     "execution_count": 72,
     "metadata": {},
     "output_type": "execute_result"
    },
    {
     "data": {
      "image/png": "[encoded data removed]",
      "text/plain": [
       "<Figure size 432x288 with 1 Axes>"
      ]
     },
     "metadata": {
      "needs_background": "light"
     },
     "output_type": "display_data"
    }
   ],
   "source": [
    "out_avg_call_duration.avg_call_duration.hist(bins=100)"
   ]
  },
  {
   "cell_type": "code",
   "execution_count": 73,
   "id": "1915d445",
   "metadata": {},
   "outputs": [
    {
     "data": {
      "image/png": "[encoded data removed]",
      "text/plain": [
       "<Figure size 432x288 with 1 Axes>"
      ]
     },
     "metadata": {
      "needs_background": "light"
     },
     "output_type": "display_data"
    },
    {
     "data": {
      "text/plain": [
       "724"
      ]
     },
     "execution_count": 73,
     "metadata": {},
     "output_type": "execute_result"
    }
   ],
   "source": [
    "qqplot(out_avg_call_duration.query('avg_call_duration< 200')['avg_call_duration'], line='s')\n",
    "plt.show()\n",
    "out_avg_call_duration.query('avg_call_duration<200')['avg_call_duration'].count()"
   ]
  },
  {
   "cell_type": "code",
   "execution_count": 74,
   "id": "2b51ba7c",
   "metadata": {},
   "outputs": [],
   "source": [
    "# Зададим пороговое значение\n",
    "alpha = 0.05"
   ]
  },
  {
   "cell_type": "code",
   "execution_count": 75,
   "id": "9f06b8dd",
   "metadata": {},
   "outputs": [
    {
     "name": "stdout",
     "output_type": "stream",
     "text": [
      "p-значение:  0.005300151160958282\n",
      "Отвергаем нулевую гипотезу\n"
     ]
    }
   ],
   "source": [
    "results = st.ttest_ind(\n",
    "    in_avg_call_duration.query('avg_call_duration< 200')['avg_call_duration'], \n",
    "    out_avg_call_duration.query('avg_call_duration< 250')['avg_call_duration'],\n",
    "    equal_var = True)\n",
    "print('p-значение: ', results.pvalue)\n",
    "\n",
    "if results.pvalue < alpha:\n",
    "    print(\"Отвергаем нулевую гипотезу\")\n",
    "else:\n",
    "    print(\"Не получилось отвергнуть нулевую гипотезу\") "
   ]
  },
  {
   "cell_type": "code",
   "execution_count": 76,
   "id": "d33c4809",
   "metadata": {},
   "outputs": [
    {
     "data": {
      "text/plain": [
       "80.85588797093722"
      ]
     },
     "execution_count": 76,
     "metadata": {},
     "output_type": "execute_result"
    }
   ],
   "source": [
    "in_avg_call_duration.query('avg_call_duration< 200')['avg_call_duration'].mean()"
   ]
  },
  {
   "cell_type": "code",
   "execution_count": 77,
   "id": "fbe5552b",
   "metadata": {},
   "outputs": [
    {
     "data": {
      "text/plain": [
       "88.14332616649362"
      ]
     },
     "execution_count": 77,
     "metadata": {},
     "output_type": "execute_result"
    }
   ],
   "source": [
    "out_avg_call_duration.query('avg_call_duration< 250')['avg_call_duration'].mean()"
   ]
  },
  {
   "cell_type": "markdown",
   "id": "74b0092c",
   "metadata": {},
   "source": [
    "### Вывод\n",
    "\n",
    "Отвергаем нулевую гипотезу, можно сказать, что среднее время разговора операторов на входящих и исходящих звонках не одинаковое."
   ]
  },
  {
   "cell_type": "markdown",
   "id": "eca35a2a",
   "metadata": {},
   "source": [
    "##  H_0 Среднее время ожидания, операторов работающих, только с входящими и только с исходящими звонками одинаковое."
   ]
  },
  {
   "cell_type": "code",
   "execution_count": 78,
   "id": "93a2655b",
   "metadata": {},
   "outputs": [
    {
     "data": {
      "text/plain": [
       "210"
      ]
     },
     "execution_count": 78,
     "metadata": {},
     "output_type": "execute_result"
    }
   ],
   "source": [
    "only_in_avg_waiting=df.query('one_direction\t==\"only_in\" ').groupby('operator_id')['avg_waiting'].mean().reset_index()\n",
    "len(only_in_avg_waiting)"
   ]
  },
  {
   "cell_type": "code",
   "execution_count": 79,
   "id": "ee10e79f",
   "metadata": {},
   "outputs": [
    {
     "data": {
      "text/plain": [
       "<matplotlib.axes._subplots.AxesSubplot at 0x1a4edfaf608>"
      ]
     },
     "execution_count": 79,
     "metadata": {},
     "output_type": "execute_result"
    },
    {
     "data": {
      "image/png": "[encoded data removed]",
      "text/plain": [
       "<Figure size 432x288 with 1 Axes>"
      ]
     },
     "metadata": {
      "needs_background": "light"
     },
     "output_type": "display_data"
    }
   ],
   "source": [
    "only_in_avg_waiting.avg_waiting.hist(bins=100)"
   ]
  },
  {
   "cell_type": "code",
   "execution_count": 80,
   "id": "bc2e640d",
   "metadata": {},
   "outputs": [
    {
     "data": {
      "image/png": "[encoded data removed]",
      "text/plain": [
       "<Figure size 432x288 with 1 Axes>"
      ]
     },
     "metadata": {
      "needs_background": "light"
     },
     "output_type": "display_data"
    }
   ],
   "source": [
    "qqplot(only_in_avg_waiting['avg_waiting'], line='s')\n",
    "plt.show()"
   ]
  },
  {
   "cell_type": "code",
   "execution_count": 81,
   "id": "49be19d4",
   "metadata": {},
   "outputs": [
    {
     "data": {
      "text/plain": [
       "338"
      ]
     },
     "execution_count": 81,
     "metadata": {},
     "output_type": "execute_result"
    }
   ],
   "source": [
    "only_out_avg_waiting=df.query('one_direction==\"only_out\" ').groupby('operator_id')['avg_waiting'].mean().reset_index()\n",
    "len(only_out_avg_waiting)"
   ]
  },
  {
   "cell_type": "code",
   "execution_count": 82,
   "id": "c79c967c",
   "metadata": {},
   "outputs": [
    {
     "data": {
      "text/plain": [
       "<matplotlib.axes._subplots.AxesSubplot at 0x1a4ea6fa408>"
      ]
     },
     "execution_count": 82,
     "metadata": {},
     "output_type": "execute_result"
    },
    {
     "data": {
      "image/png": "[encoded data removed]",
      "text/plain": [
       "<Figure size 432x288 with 1 Axes>"
      ]
     },
     "metadata": {
      "needs_background": "light"
     },
     "output_type": "display_data"
    }
   ],
   "source": [
    "only_out_avg_waiting.avg_waiting.hist(bins=100)"
   ]
  },
  {
   "cell_type": "code",
   "execution_count": 83,
   "id": "0be0076a",
   "metadata": {},
   "outputs": [
    {
     "data": {
      "image/png": "[encoded data removed]",
      "text/plain": [
       "<Figure size 432x288 with 1 Axes>"
      ]
     },
     "metadata": {
      "needs_background": "light"
     },
     "output_type": "display_data"
    }
   ],
   "source": [
    "qqplot(only_out_avg_waiting['avg_waiting'], line='s')\n",
    "plt.show()\n"
   ]
  },
  {
   "cell_type": "code",
   "execution_count": 84,
   "id": "109cd951",
   "metadata": {},
   "outputs": [
    {
     "name": "stdout",
     "output_type": "stream",
     "text": [
      "p-значение:  8.773309278168384e-06\n",
      "Отвергаем нулевую гипотезу\n"
     ]
    }
   ],
   "source": [
    "results = st.ttest_ind(\n",
    "    only_in_avg_waiting['avg_waiting'], \n",
    "    only_out_avg_waiting['avg_waiting'], \n",
    "    equal_var = True)\n",
    "print('p-значение: ', results.pvalue)\n",
    "\n",
    "if results.pvalue < alpha:\n",
    "    print(\"Отвергаем нулевую гипотезу\")\n",
    "else:\n",
    "    print(\"Не получилось отвергнуть нулевую гипотезу\") "
   ]
  },
  {
   "cell_type": "code",
   "execution_count": 85,
   "id": "6265c903",
   "metadata": {},
   "outputs": [
    {
     "data": {
      "text/plain": [
       "19.641358949971444"
      ]
     },
     "execution_count": 85,
     "metadata": {},
     "output_type": "execute_result"
    }
   ],
   "source": [
    "only_in_avg_waiting['avg_waiting'].mean()"
   ]
  },
  {
   "cell_type": "code",
   "execution_count": 86,
   "id": "9fb608d2",
   "metadata": {},
   "outputs": [
    {
     "data": {
      "text/plain": [
       "15.900276953336961"
      ]
     },
     "execution_count": 86,
     "metadata": {},
     "output_type": "execute_result"
    }
   ],
   "source": [
    "only_out_avg_waiting['avg_waiting'].mean()"
   ]
  },
  {
   "cell_type": "markdown",
   "id": "38eec431",
   "metadata": {},
   "source": [
    "### Вывод\n",
    "\n",
    "Отвергаем нулевую гипотезу, можно сказать, что среднее время ожидания, операторов работающих, только с входящими и только с исходящими звонками разное."
   ]
  },
  {
   "cell_type": "markdown",
   "id": "e15b801d",
   "metadata": {},
   "source": [
    "# Вывод"
   ]
  },
  {
   "cell_type": "markdown",
   "id": "13181496",
   "metadata": {},
   "source": [
    "Задача исследоания: найти самых неэффективных операторов.\n",
    "Загружены и изучены датасеты с тарифами и описанием услуг\n",
    "\n",
    "Типы данных приведены в соответствие с данными.\n",
    "\n",
    "Удалены пропуски, а также рассмотрены причины пропусков. Абсолютное большинство пропущенных операторов это: внешние, входящие пропущенные звонки.\n",
    "\n",
    "Установлены и удалены дубликаты записей.\n",
    "\n",
    "Проведен исследовательский анализ, в результате которого, были определены пороги оценки операторов.\n",
    "\n",
    "Использованы следующие критерии оценки:\n",
    "- много пропущенных входящих вызовов\n",
    "- долгое ожидания ответа при входящих внешних вызовах\n",
    "- мало исходящих вывозов — в случае тех колл-центров, что специализируются на обзвонах, а не обработке входящих звонков\n",
    "\n",
    "Разработана балловая система оценки работы операторов, позволяющая определить самых эффективных и самых неэффективных операторов.\n",
    "Выделины сотрудники с низким рейтингом, а так же компании в которых они работают.\n",
    "\n",
    "\n",
    "Проведена проверка двуг гипотез:\n",
    "- Среднее время разговора операторов на входящих  и исходящих звонках одинаковое.\n",
    "-  Среднее время ожидания, операторов работающих, только с входящими и только с исходящими звонками одинаковое.\n",
    "Обе гипотезы отвергнуты."
   ]
  },
  {
   "cell_type": "code",
   "execution_count": null,
   "id": "cfa6e237",
   "metadata": {},
   "outputs": [],
   "source": []
  }
 ],
 "metadata": {
  "kernelspec": {
   "display_name": "Python 3 (ipykernel)",
   "language": "python",
   "name": "python3"
  },
  "language_info": {
   "codemirror_mode": {
    "name": "ipython",
    "version": 3
   },
   "file_extension": ".py",
   "mimetype": "text/x-python",
   "name": "python",
   "nbconvert_exporter": "python",
   "pygments_lexer": "ipython3",
   "version": "3.7.8"
  },
  "toc": {
   "base_numbering": 1,
   "nav_menu": {},
   "number_sections": true,
   "sideBar": true,
   "skip_h1_title": false,
   "title_cell": "Table of Contents",
   "title_sidebar": "Contents",
   "toc_cell": false,
   "toc_position": {
    "height": "calc(100% - 180px)",
    "left": "10px",
    "top": "150px",
    "width": "165px"
   },
   "toc_section_display": true,
   "toc_window_display": true
  }
 },
 "nbformat": 4,
 "nbformat_minor": 5
}

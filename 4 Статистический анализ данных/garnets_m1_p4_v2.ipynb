{
 "cells": [
  {
   "cell_type": "markdown",
   "id": "a426c5c4",
   "metadata": {},
   "source": [
    "# Исследование тарифов федерального оператора сотовой связи"
   ]
  },
  {
   "cell_type": "markdown",
   "id": "949dbff3",
   "metadata": {},
   "source": [
    "**Описание проекта**\n",
    "\n",
    "Вы аналитик компании «Мегалайн» — федерального оператора сотовой связи. Клиентам предлагают два тарифных плана: «Смарт» и «Ультра». Чтобы скорректировать рекламный бюджет, коммерческий департамент хочет понять, какой тариф приносит больше денег.\n",
    "\n",
    "Вам предстоит сделать предварительный анализ тарифов на небольшой выборке клиентов. В вашем распоряжении данные 500 пользователей «Мегалайна»: кто они, откуда, каким тарифом пользуются, сколько звонков и сообщений каждый отправил за 2018 год. Нужно проанализировать поведение клиентов и сделать вывод — какой тариф лучше.\n",
    "\n",
    "**Описание тарифов**\n",
    "\n",
    "Тариф «Смарт»\n",
    "- Ежемесячная плата: 550 рублей\n",
    "- Включено 500 минут разговора, 50 сообщений и 15 Гб интернет-трафика\n",
    "- Стоимость услуг сверх тарифного пакета: 1. минута разговора: 3 рубля («Мегалайн» всегда округляет вверх значения минут и мегабайтов. Если пользователь проговорил всего 1 секунду, в тарифе засчитывается целая минута); 2. сообщение: 3 рубля; 3. 1 Гб интернет-трафика: 200 рублей.\n",
    "\n",
    "Тариф «Ультра»\n",
    "- Ежемесячная плата: 1950 рублей\n",
    "- Включено 3000 минут разговора, 1000 сообщений и 30 Гб интернет-трафика\n",
    "- Стоимость услуг сверх тарифного пакета: 1. минута разговора: 1 рубль; 2. сообщение: 1 рубль; 3. 1 Гб интернет-трафика: 150 рублей."
   ]
  },
  {
   "cell_type": "markdown",
   "id": "1e1ee52d",
   "metadata": {},
   "source": [
    "# Импорт библиотек"
   ]
  },
  {
   "cell_type": "code",
   "execution_count": 1,
   "id": "a0d24c71",
   "metadata": {},
   "outputs": [],
   "source": [
    "import pandas as pd\n",
    "import numpy as np\n",
    "from scipy import stats as st\n",
    "import matplotlib.pyplot as plt\n",
    "# Снимаем ограничение на ширину таблиы\n",
    "pd.set_option('display.max_columns', None)"
   ]
  },
  {
   "cell_type": "markdown",
   "id": "5919045a",
   "metadata": {},
   "source": [
    "# Обзор данных"
   ]
  },
  {
   "cell_type": "code",
   "execution_count": 2,
   "id": "2c00a107",
   "metadata": {},
   "outputs": [],
   "source": [
    "#Чтение файла в переменную\n",
    "try:       # Локальный путь\n",
    "    calls=pd.read_csv('calls.csv')\n",
    "    internet=pd.read_csv('internet.csv')\n",
    "    messages=pd.read_csv('messages.csv')\n",
    "    tariffs=pd.read_csv('tariffs.csv')\n",
    "    users=pd.read_csv('users.csv') \n",
    "except:        # Серверный путь\n",
    "    calls=pd.read_csv('/datasets/calls.csv')\n",
    "    internet=pd.read_csv('/datasets/internet.csv')\n",
    "    messages=pd.read_csv('/datasets/messages.csv')\n",
    "    tariffs=pd.read_csv('/datasets/tariffs.csv')\n",
    "    users=pd.read_csv('/datasets/users.csv') "
   ]
  },
  {
   "cell_type": "markdown",
   "id": "2beeda84",
   "metadata": {},
   "source": [
    "**Описание данных**\n",
    "\n",
    "Т**аблица users (информация о пользователях):**\n",
    "\n",
    "- user_id — уникальный идентификатор пользователя\n",
    "- first_name — имя пользователя\n",
    "- last_name — фамилия пользователя\n",
    "- age — возраст пользователя (годы)\n",
    "- reg_date — дата подключения тарифа (день, месяц, год)\n",
    "- churn_date — дата прекращения пользования тарифом (если значение пропущено, то тариф ещё действовал на момент выгрузки данных)\n",
    "- city — город проживания пользователя\n",
    "- tarif — название тарифного плана\n",
    "\n",
    "**Таблица calls (информация о звонках):**\n",
    "\n",
    "- id — уникальный номер звонка\n",
    "- call_date — дата звонка\n",
    "- duration — длительность звонка в минутах\n",
    "- user_id — идентификатор пользователя, сделавшего звонок\n",
    "\n",
    "**Таблица messages (информация о сообщениях):**\n",
    "\n",
    "- id — уникальный номер сообщения\n",
    "- message_date — дата сообщения\n",
    "- user_id — идентификатор пользователя, отправившего сообщение\n",
    "\n",
    "**Таблица internet (информация об интернет-сессиях):**\n",
    "\n",
    "- id — уникальный номер сессии\n",
    "- mb_used — объём потраченного за сессию интернет-трафика (в мегабайтах)\n",
    "- session_date — дата интернет-сессии\n",
    "- user_id — идентификатор пользователя\n",
    "\n",
    "**Таблица tariffs (информация о тарифах):**\n",
    "\n",
    "- tariff_name — название тарифа\n",
    "- rub_monthly_fee — ежемесячная абонентская плата в рублях\n",
    "- minutes_included — количество минут разговора в месяц, включённых в абонентскую плату\n",
    "- messages_included — количество сообщений в месяц, включённых в абонентскую плату\n",
    "- mb_per_month_included — объём интернет-трафика, включённого в абонентскую плату (в мегабайтах)\n",
    "- rub_per_minute — стоимость минуты разговора сверх тарифного пакета (например, если в тарифе 100 минут разговора в месяц, то со 101 минуты будет взиматься плата)\n",
    "- rub_per_message — стоимость отправки сообщения сверх тарифного пакета\n",
    "- rub_per_gb — стоимость дополнительного гигабайта интернет-трафика сверх тарифного пакета (1 гигабайт = 1024 мегабайта)\n"
   ]
  },
  {
   "cell_type": "markdown",
   "id": "5712fb27",
   "metadata": {},
   "source": [
    "Изучим исходные таблицы"
   ]
  },
  {
   "cell_type": "markdown",
   "id": "6049a5b3",
   "metadata": {},
   "source": [
    "**calls**"
   ]
  },
  {
   "cell_type": "code",
   "execution_count": 3,
   "id": "fd53efb6",
   "metadata": {},
   "outputs": [
    {
     "data": {
      "text/html": [
       "<div>\n",
       "<style scoped>\n",
       "    .dataframe tbody tr th:only-of-type {\n",
       "        vertical-align: middle;\n",
       "    }\n",
       "\n",
       "    .dataframe tbody tr th {\n",
       "        vertical-align: top;\n",
       "    }\n",
       "\n",
       "    .dataframe thead th {\n",
       "        text-align: right;\n",
       "    }\n",
       "</style>\n",
       "<table border=\"1\" class=\"dataframe\">\n",
       "  <thead>\n",
       "    <tr style=\"text-align: right;\">\n",
       "      <th></th>\n",
       "      <th>id</th>\n",
       "      <th>call_date</th>\n",
       "      <th>duration</th>\n",
       "      <th>user_id</th>\n",
       "    </tr>\n",
       "  </thead>\n",
       "  <tbody>\n",
       "    <tr>\n",
       "      <td>39968</td>\n",
       "      <td>1099_341</td>\n",
       "      <td>2018-09-23</td>\n",
       "      <td>5.56</td>\n",
       "      <td>1099</td>\n",
       "    </tr>\n",
       "    <tr>\n",
       "      <td>36207</td>\n",
       "      <td>1090_31</td>\n",
       "      <td>2018-11-28</td>\n",
       "      <td>9.64</td>\n",
       "      <td>1090</td>\n",
       "    </tr>\n",
       "    <tr>\n",
       "      <td>27481</td>\n",
       "      <td>1067_391</td>\n",
       "      <td>2018-08-07</td>\n",
       "      <td>6.78</td>\n",
       "      <td>1067</td>\n",
       "    </tr>\n",
       "    <tr>\n",
       "      <td>120168</td>\n",
       "      <td>1310_363</td>\n",
       "      <td>2018-07-05</td>\n",
       "      <td>8.78</td>\n",
       "      <td>1310</td>\n",
       "    </tr>\n",
       "    <tr>\n",
       "      <td>178703</td>\n",
       "      <td>1445_52</td>\n",
       "      <td>2018-12-31</td>\n",
       "      <td>14.31</td>\n",
       "      <td>1445</td>\n",
       "    </tr>\n",
       "  </tbody>\n",
       "</table>\n",
       "</div>"
      ],
      "text/plain": [
       "              id   call_date  duration  user_id\n",
       "39968   1099_341  2018-09-23      5.56     1099\n",
       "36207    1090_31  2018-11-28      9.64     1090\n",
       "27481   1067_391  2018-08-07      6.78     1067\n",
       "120168  1310_363  2018-07-05      8.78     1310\n",
       "178703   1445_52  2018-12-31     14.31     1445"
      ]
     },
     "execution_count": 3,
     "metadata": {},
     "output_type": "execute_result"
    }
   ],
   "source": [
    "calls.sample(5)"
   ]
  },
  {
   "cell_type": "code",
   "execution_count": 4,
   "id": "4234db28",
   "metadata": {},
   "outputs": [
    {
     "data": {
      "text/html": [
       "<div>\n",
       "<style scoped>\n",
       "    .dataframe tbody tr th:only-of-type {\n",
       "        vertical-align: middle;\n",
       "    }\n",
       "\n",
       "    .dataframe tbody tr th {\n",
       "        vertical-align: top;\n",
       "    }\n",
       "\n",
       "    .dataframe thead th {\n",
       "        text-align: right;\n",
       "    }\n",
       "</style>\n",
       "<table border=\"1\" class=\"dataframe\">\n",
       "  <thead>\n",
       "    <tr style=\"text-align: right;\">\n",
       "      <th></th>\n",
       "      <th>count</th>\n",
       "      <th>mean</th>\n",
       "      <th>std</th>\n",
       "      <th>min</th>\n",
       "      <th>25%</th>\n",
       "      <th>50%</th>\n",
       "      <th>75%</th>\n",
       "      <th>max</th>\n",
       "    </tr>\n",
       "  </thead>\n",
       "  <tbody>\n",
       "    <tr>\n",
       "      <td>duration</td>\n",
       "      <td>202607.0</td>\n",
       "      <td>6.755887</td>\n",
       "      <td>5.843365</td>\n",
       "      <td>0.0</td>\n",
       "      <td>1.3</td>\n",
       "      <td>6.0</td>\n",
       "      <td>10.7</td>\n",
       "      <td>38.0</td>\n",
       "    </tr>\n",
       "    <tr>\n",
       "      <td>user_id</td>\n",
       "      <td>202607.0</td>\n",
       "      <td>1253.940619</td>\n",
       "      <td>144.722751</td>\n",
       "      <td>1000.0</td>\n",
       "      <td>1126.0</td>\n",
       "      <td>1260.0</td>\n",
       "      <td>1379.0</td>\n",
       "      <td>1499.0</td>\n",
       "    </tr>\n",
       "  </tbody>\n",
       "</table>\n",
       "</div>"
      ],
      "text/plain": [
       "             count         mean         std     min     25%     50%     75%  \\\n",
       "duration  202607.0     6.755887    5.843365     0.0     1.3     6.0    10.7   \n",
       "user_id   202607.0  1253.940619  144.722751  1000.0  1126.0  1260.0  1379.0   \n",
       "\n",
       "             max  \n",
       "duration    38.0  \n",
       "user_id   1499.0  "
      ]
     },
     "execution_count": 4,
     "metadata": {},
     "output_type": "execute_result"
    }
   ],
   "source": [
    "calls.describe().T"
   ]
  },
  {
   "cell_type": "code",
   "execution_count": 5,
   "id": "e2e9b66a",
   "metadata": {},
   "outputs": [
    {
     "name": "stdout",
     "output_type": "stream",
     "text": [
      "<class 'pandas.core.frame.DataFrame'>\n",
      "RangeIndex: 202607 entries, 0 to 202606\n",
      "Data columns (total 4 columns):\n",
      "id           202607 non-null object\n",
      "call_date    202607 non-null object\n",
      "duration     202607 non-null float64\n",
      "user_id      202607 non-null int64\n",
      "dtypes: float64(1), int64(1), object(2)\n",
      "memory usage: 6.2+ MB\n"
     ]
    }
   ],
   "source": [
    "calls.info()"
   ]
  },
  {
   "cell_type": "markdown",
   "id": "8c15d363",
   "metadata": {},
   "source": [
    "**internet**"
   ]
  },
  {
   "cell_type": "code",
   "execution_count": 6,
   "id": "17954caa",
   "metadata": {},
   "outputs": [
    {
     "data": {
      "text/html": [
       "<div>\n",
       "<style scoped>\n",
       "    .dataframe tbody tr th:only-of-type {\n",
       "        vertical-align: middle;\n",
       "    }\n",
       "\n",
       "    .dataframe tbody tr th {\n",
       "        vertical-align: top;\n",
       "    }\n",
       "\n",
       "    .dataframe thead th {\n",
       "        text-align: right;\n",
       "    }\n",
       "</style>\n",
       "<table border=\"1\" class=\"dataframe\">\n",
       "  <thead>\n",
       "    <tr style=\"text-align: right;\">\n",
       "      <th></th>\n",
       "      <th>Unnamed: 0</th>\n",
       "      <th>id</th>\n",
       "      <th>mb_used</th>\n",
       "      <th>session_date</th>\n",
       "      <th>user_id</th>\n",
       "    </tr>\n",
       "  </thead>\n",
       "  <tbody>\n",
       "    <tr>\n",
       "      <td>123998</td>\n",
       "      <td>123998</td>\n",
       "      <td>1417_32</td>\n",
       "      <td>183.58</td>\n",
       "      <td>2018-10-26</td>\n",
       "      <td>1417</td>\n",
       "    </tr>\n",
       "    <tr>\n",
       "      <td>97616</td>\n",
       "      <td>97616</td>\n",
       "      <td>1328_173</td>\n",
       "      <td>739.24</td>\n",
       "      <td>2018-10-25</td>\n",
       "      <td>1328</td>\n",
       "    </tr>\n",
       "    <tr>\n",
       "      <td>103780</td>\n",
       "      <td>103780</td>\n",
       "      <td>1352_4</td>\n",
       "      <td>1021.61</td>\n",
       "      <td>2018-06-27</td>\n",
       "      <td>1352</td>\n",
       "    </tr>\n",
       "    <tr>\n",
       "      <td>73230</td>\n",
       "      <td>73230</td>\n",
       "      <td>1247_268</td>\n",
       "      <td>0.00</td>\n",
       "      <td>2018-11-11</td>\n",
       "      <td>1247</td>\n",
       "    </tr>\n",
       "    <tr>\n",
       "      <td>146135</td>\n",
       "      <td>146135</td>\n",
       "      <td>1489_144</td>\n",
       "      <td>92.40</td>\n",
       "      <td>2018-10-06</td>\n",
       "      <td>1489</td>\n",
       "    </tr>\n",
       "  </tbody>\n",
       "</table>\n",
       "</div>"
      ],
      "text/plain": [
       "        Unnamed: 0        id  mb_used session_date  user_id\n",
       "123998      123998   1417_32   183.58   2018-10-26     1417\n",
       "97616        97616  1328_173   739.24   2018-10-25     1328\n",
       "103780      103780    1352_4  1021.61   2018-06-27     1352\n",
       "73230        73230  1247_268     0.00   2018-11-11     1247\n",
       "146135      146135  1489_144    92.40   2018-10-06     1489"
      ]
     },
     "execution_count": 6,
     "metadata": {},
     "output_type": "execute_result"
    }
   ],
   "source": [
    "internet.sample(5)"
   ]
  },
  {
   "cell_type": "code",
   "execution_count": 7,
   "id": "a6745691",
   "metadata": {},
   "outputs": [
    {
     "data": {
      "text/html": [
       "<div>\n",
       "<style scoped>\n",
       "    .dataframe tbody tr th:only-of-type {\n",
       "        vertical-align: middle;\n",
       "    }\n",
       "\n",
       "    .dataframe tbody tr th {\n",
       "        vertical-align: top;\n",
       "    }\n",
       "\n",
       "    .dataframe thead th {\n",
       "        text-align: right;\n",
       "    }\n",
       "</style>\n",
       "<table border=\"1\" class=\"dataframe\">\n",
       "  <thead>\n",
       "    <tr style=\"text-align: right;\">\n",
       "      <th></th>\n",
       "      <th>count</th>\n",
       "      <th>mean</th>\n",
       "      <th>std</th>\n",
       "      <th>min</th>\n",
       "      <th>25%</th>\n",
       "      <th>50%</th>\n",
       "      <th>75%</th>\n",
       "      <th>max</th>\n",
       "    </tr>\n",
       "  </thead>\n",
       "  <tbody>\n",
       "    <tr>\n",
       "      <td>Unnamed: 0</td>\n",
       "      <td>149396.0</td>\n",
       "      <td>74697.500000</td>\n",
       "      <td>43127.054745</td>\n",
       "      <td>0.0</td>\n",
       "      <td>37348.7500</td>\n",
       "      <td>74697.500</td>\n",
       "      <td>112046.2500</td>\n",
       "      <td>149395.00</td>\n",
       "    </tr>\n",
       "    <tr>\n",
       "      <td>mb_used</td>\n",
       "      <td>149396.0</td>\n",
       "      <td>370.192426</td>\n",
       "      <td>278.300951</td>\n",
       "      <td>0.0</td>\n",
       "      <td>138.1875</td>\n",
       "      <td>348.015</td>\n",
       "      <td>559.5525</td>\n",
       "      <td>1724.83</td>\n",
       "    </tr>\n",
       "    <tr>\n",
       "      <td>user_id</td>\n",
       "      <td>149396.0</td>\n",
       "      <td>1252.099842</td>\n",
       "      <td>144.050823</td>\n",
       "      <td>1000.0</td>\n",
       "      <td>1130.0000</td>\n",
       "      <td>1251.000</td>\n",
       "      <td>1380.0000</td>\n",
       "      <td>1499.00</td>\n",
       "    </tr>\n",
       "  </tbody>\n",
       "</table>\n",
       "</div>"
      ],
      "text/plain": [
       "               count          mean           std     min         25%  \\\n",
       "Unnamed: 0  149396.0  74697.500000  43127.054745     0.0  37348.7500   \n",
       "mb_used     149396.0    370.192426    278.300951     0.0    138.1875   \n",
       "user_id     149396.0   1252.099842    144.050823  1000.0   1130.0000   \n",
       "\n",
       "                  50%          75%        max  \n",
       "Unnamed: 0  74697.500  112046.2500  149395.00  \n",
       "mb_used       348.015     559.5525    1724.83  \n",
       "user_id      1251.000    1380.0000    1499.00  "
      ]
     },
     "execution_count": 7,
     "metadata": {},
     "output_type": "execute_result"
    }
   ],
   "source": [
    "internet.describe().T"
   ]
  },
  {
   "cell_type": "code",
   "execution_count": 8,
   "id": "830b7a33",
   "metadata": {},
   "outputs": [
    {
     "name": "stdout",
     "output_type": "stream",
     "text": [
      "<class 'pandas.core.frame.DataFrame'>\n",
      "RangeIndex: 149396 entries, 0 to 149395\n",
      "Data columns (total 5 columns):\n",
      "Unnamed: 0      149396 non-null int64\n",
      "id              149396 non-null object\n",
      "mb_used         149396 non-null float64\n",
      "session_date    149396 non-null object\n",
      "user_id         149396 non-null int64\n",
      "dtypes: float64(1), int64(2), object(2)\n",
      "memory usage: 5.7+ MB\n"
     ]
    }
   ],
   "source": [
    "internet.info()"
   ]
  },
  {
   "cell_type": "markdown",
   "id": "ac1d36d3",
   "metadata": {},
   "source": [
    "**messages**"
   ]
  },
  {
   "cell_type": "code",
   "execution_count": 9,
   "id": "f5bc8a92",
   "metadata": {},
   "outputs": [
    {
     "data": {
      "text/html": [
       "<div>\n",
       "<style scoped>\n",
       "    .dataframe tbody tr th:only-of-type {\n",
       "        vertical-align: middle;\n",
       "    }\n",
       "\n",
       "    .dataframe tbody tr th {\n",
       "        vertical-align: top;\n",
       "    }\n",
       "\n",
       "    .dataframe thead th {\n",
       "        text-align: right;\n",
       "    }\n",
       "</style>\n",
       "<table border=\"1\" class=\"dataframe\">\n",
       "  <thead>\n",
       "    <tr style=\"text-align: right;\">\n",
       "      <th></th>\n",
       "      <th>id</th>\n",
       "      <th>message_date</th>\n",
       "      <th>user_id</th>\n",
       "    </tr>\n",
       "  </thead>\n",
       "  <tbody>\n",
       "    <tr>\n",
       "      <td>53002</td>\n",
       "      <td>1233_187</td>\n",
       "      <td>2018-10-18</td>\n",
       "      <td>1233</td>\n",
       "    </tr>\n",
       "    <tr>\n",
       "      <td>7525</td>\n",
       "      <td>1030_436</td>\n",
       "      <td>2018-10-25</td>\n",
       "      <td>1030</td>\n",
       "    </tr>\n",
       "    <tr>\n",
       "      <td>108062</td>\n",
       "      <td>1433_669</td>\n",
       "      <td>2018-05-29</td>\n",
       "      <td>1433</td>\n",
       "    </tr>\n",
       "    <tr>\n",
       "      <td>115449</td>\n",
       "      <td>1471_677</td>\n",
       "      <td>2018-08-11</td>\n",
       "      <td>1471</td>\n",
       "    </tr>\n",
       "    <tr>\n",
       "      <td>118799</td>\n",
       "      <td>1482_361</td>\n",
       "      <td>2018-11-16</td>\n",
       "      <td>1482</td>\n",
       "    </tr>\n",
       "  </tbody>\n",
       "</table>\n",
       "</div>"
      ],
      "text/plain": [
       "              id message_date  user_id\n",
       "53002   1233_187   2018-10-18     1233\n",
       "7525    1030_436   2018-10-25     1030\n",
       "108062  1433_669   2018-05-29     1433\n",
       "115449  1471_677   2018-08-11     1471\n",
       "118799  1482_361   2018-11-16     1482"
      ]
     },
     "execution_count": 9,
     "metadata": {},
     "output_type": "execute_result"
    }
   ],
   "source": [
    "messages.sample(5)"
   ]
  },
  {
   "cell_type": "code",
   "execution_count": 10,
   "id": "1203dd76",
   "metadata": {},
   "outputs": [
    {
     "name": "stdout",
     "output_type": "stream",
     "text": [
      "<class 'pandas.core.frame.DataFrame'>\n",
      "RangeIndex: 123036 entries, 0 to 123035\n",
      "Data columns (total 3 columns):\n",
      "id              123036 non-null object\n",
      "message_date    123036 non-null object\n",
      "user_id         123036 non-null int64\n",
      "dtypes: int64(1), object(2)\n",
      "memory usage: 2.8+ MB\n"
     ]
    }
   ],
   "source": [
    "messages.info()"
   ]
  },
  {
   "cell_type": "markdown",
   "id": "5f0cff4e",
   "metadata": {},
   "source": [
    "**users**\n"
   ]
  },
  {
   "cell_type": "code",
   "execution_count": 11,
   "id": "e66f8f56",
   "metadata": {},
   "outputs": [
    {
     "data": {
      "text/html": [
       "<div>\n",
       "<style scoped>\n",
       "    .dataframe tbody tr th:only-of-type {\n",
       "        vertical-align: middle;\n",
       "    }\n",
       "\n",
       "    .dataframe tbody tr th {\n",
       "        vertical-align: top;\n",
       "    }\n",
       "\n",
       "    .dataframe thead th {\n",
       "        text-align: right;\n",
       "    }\n",
       "</style>\n",
       "<table border=\"1\" class=\"dataframe\">\n",
       "  <thead>\n",
       "    <tr style=\"text-align: right;\">\n",
       "      <th></th>\n",
       "      <th>user_id</th>\n",
       "      <th>age</th>\n",
       "      <th>churn_date</th>\n",
       "      <th>city</th>\n",
       "      <th>first_name</th>\n",
       "      <th>last_name</th>\n",
       "      <th>reg_date</th>\n",
       "      <th>tariff</th>\n",
       "    </tr>\n",
       "  </thead>\n",
       "  <tbody>\n",
       "    <tr>\n",
       "      <td>45</td>\n",
       "      <td>1045</td>\n",
       "      <td>48</td>\n",
       "      <td>NaN</td>\n",
       "      <td>Улан-Удэ</td>\n",
       "      <td>Джемма</td>\n",
       "      <td>Карасева</td>\n",
       "      <td>2018-01-30</td>\n",
       "      <td>smart</td>\n",
       "    </tr>\n",
       "    <tr>\n",
       "      <td>315</td>\n",
       "      <td>1315</td>\n",
       "      <td>49</td>\n",
       "      <td>NaN</td>\n",
       "      <td>Владивосток</td>\n",
       "      <td>Инга</td>\n",
       "      <td>Агапеева</td>\n",
       "      <td>2018-07-14</td>\n",
       "      <td>smart</td>\n",
       "    </tr>\n",
       "    <tr>\n",
       "      <td>434</td>\n",
       "      <td>1434</td>\n",
       "      <td>73</td>\n",
       "      <td>NaN</td>\n",
       "      <td>Москва</td>\n",
       "      <td>Карина</td>\n",
       "      <td>Субботина</td>\n",
       "      <td>2018-12-14</td>\n",
       "      <td>smart</td>\n",
       "    </tr>\n",
       "    <tr>\n",
       "      <td>175</td>\n",
       "      <td>1175</td>\n",
       "      <td>22</td>\n",
       "      <td>NaN</td>\n",
       "      <td>Москва</td>\n",
       "      <td>Юлий</td>\n",
       "      <td>Марков</td>\n",
       "      <td>2018-04-08</td>\n",
       "      <td>smart</td>\n",
       "    </tr>\n",
       "    <tr>\n",
       "      <td>52</td>\n",
       "      <td>1052</td>\n",
       "      <td>52</td>\n",
       "      <td>NaN</td>\n",
       "      <td>Санкт-Петербург</td>\n",
       "      <td>Павел</td>\n",
       "      <td>Панов</td>\n",
       "      <td>2018-07-27</td>\n",
       "      <td>smart</td>\n",
       "    </tr>\n",
       "  </tbody>\n",
       "</table>\n",
       "</div>"
      ],
      "text/plain": [
       "     user_id  age churn_date             city first_name  last_name  \\\n",
       "45      1045   48        NaN         Улан-Удэ     Джемма   Карасева   \n",
       "315     1315   49        NaN      Владивосток       Инга   Агапеева   \n",
       "434     1434   73        NaN           Москва     Карина  Субботина   \n",
       "175     1175   22        NaN           Москва       Юлий     Марков   \n",
       "52      1052   52        NaN  Санкт-Петербург      Павел      Панов   \n",
       "\n",
       "       reg_date tariff  \n",
       "45   2018-01-30  smart  \n",
       "315  2018-07-14  smart  \n",
       "434  2018-12-14  smart  \n",
       "175  2018-04-08  smart  \n",
       "52   2018-07-27  smart  "
      ]
     },
     "execution_count": 11,
     "metadata": {},
     "output_type": "execute_result"
    }
   ],
   "source": [
    "users.sample(5)"
   ]
  },
  {
   "cell_type": "code",
   "execution_count": 12,
   "id": "ef31d8be",
   "metadata": {},
   "outputs": [
    {
     "name": "stdout",
     "output_type": "stream",
     "text": [
      "<class 'pandas.core.frame.DataFrame'>\n",
      "RangeIndex: 500 entries, 0 to 499\n",
      "Data columns (total 8 columns):\n",
      "user_id       500 non-null int64\n",
      "age           500 non-null int64\n",
      "churn_date    38 non-null object\n",
      "city          500 non-null object\n",
      "first_name    500 non-null object\n",
      "last_name     500 non-null object\n",
      "reg_date      500 non-null object\n",
      "tariff        500 non-null object\n",
      "dtypes: int64(2), object(6)\n",
      "memory usage: 31.4+ KB\n"
     ]
    }
   ],
   "source": [
    "users.info()"
   ]
  },
  {
   "cell_type": "markdown",
   "id": "ad533383",
   "metadata": {},
   "source": [
    "**tariffs**"
   ]
  },
  {
   "cell_type": "code",
   "execution_count": 13,
   "id": "bf201798",
   "metadata": {},
   "outputs": [
    {
     "data": {
      "text/html": [
       "<div>\n",
       "<style scoped>\n",
       "    .dataframe tbody tr th:only-of-type {\n",
       "        vertical-align: middle;\n",
       "    }\n",
       "\n",
       "    .dataframe tbody tr th {\n",
       "        vertical-align: top;\n",
       "    }\n",
       "\n",
       "    .dataframe thead th {\n",
       "        text-align: right;\n",
       "    }\n",
       "</style>\n",
       "<table border=\"1\" class=\"dataframe\">\n",
       "  <thead>\n",
       "    <tr style=\"text-align: right;\">\n",
       "      <th></th>\n",
       "      <th>messages_included</th>\n",
       "      <th>mb_per_month_included</th>\n",
       "      <th>minutes_included</th>\n",
       "      <th>rub_monthly_fee</th>\n",
       "      <th>rub_per_gb</th>\n",
       "      <th>rub_per_message</th>\n",
       "      <th>rub_per_minute</th>\n",
       "      <th>tariff_name</th>\n",
       "    </tr>\n",
       "  </thead>\n",
       "  <tbody>\n",
       "    <tr>\n",
       "      <td>0</td>\n",
       "      <td>50</td>\n",
       "      <td>15360</td>\n",
       "      <td>500</td>\n",
       "      <td>550</td>\n",
       "      <td>200</td>\n",
       "      <td>3</td>\n",
       "      <td>3</td>\n",
       "      <td>smart</td>\n",
       "    </tr>\n",
       "    <tr>\n",
       "      <td>1</td>\n",
       "      <td>1000</td>\n",
       "      <td>30720</td>\n",
       "      <td>3000</td>\n",
       "      <td>1950</td>\n",
       "      <td>150</td>\n",
       "      <td>1</td>\n",
       "      <td>1</td>\n",
       "      <td>ultra</td>\n",
       "    </tr>\n",
       "  </tbody>\n",
       "</table>\n",
       "</div>"
      ],
      "text/plain": [
       "   messages_included  mb_per_month_included  minutes_included  \\\n",
       "0                 50                  15360               500   \n",
       "1               1000                  30720              3000   \n",
       "\n",
       "   rub_monthly_fee  rub_per_gb  rub_per_message  rub_per_minute tariff_name  \n",
       "0              550         200                3               3       smart  \n",
       "1             1950         150                1               1       ultra  "
      ]
     },
     "execution_count": 13,
     "metadata": {},
     "output_type": "execute_result"
    }
   ],
   "source": [
    "tariffs"
   ]
  },
  {
   "cell_type": "markdown",
   "id": "92ad29d1",
   "metadata": {},
   "source": [
    "## Вывод\n",
    "\n",
    "Имеем 4 таблицы с данными и одну с информацией о тарифах\n",
    "- Необходимо привести даты к типу дата тайм\n",
    "- Удалить незадокументированный  столбец Unnamed: 0 в таблице интернет\n",
    "- Округлить звонки в большую сторону\n",
    "- Объеденить все в одну таблицу\n",
    "\n",
    "В таблицах звонков и трафика есть нули.\n",
    "\n",
    "Нули в звонках означают пропущенный вызов (Согласно документации)\n",
    "\n",
    "Нули в трафике, означаюи что в данную сессию трафик не использовался.\n",
    "\n",
    "В дальнейшей работе, мы будем суммировать звонки и трафик по месяцам, нулевые значения не помешают."
   ]
  },
  {
   "cell_type": "markdown",
   "id": "dbda4b88",
   "metadata": {},
   "source": [
    "# Подготовка данных"
   ]
  },
  {
   "cell_type": "markdown",
   "id": "fe86a6b0",
   "metadata": {},
   "source": [
    "**calls**"
   ]
  },
  {
   "cell_type": "code",
   "execution_count": 14,
   "id": "1cc250d0",
   "metadata": {},
   "outputs": [],
   "source": [
    "# Приведем дату в нормальный вид\n",
    "calls['call_date'] = pd.to_datetime(calls['call_date'], format=\"%Y-%m-%dT%H\")"
   ]
  },
  {
   "cell_type": "code",
   "execution_count": 15,
   "id": "ebf30f85",
   "metadata": {},
   "outputs": [],
   "source": [
    "# Округлим звонки в большую сторону, переведем значения к цеочисленному типу\n",
    "calls['duration']=np.ceil(calls['duration']).astype('int')"
   ]
  },
  {
   "cell_type": "code",
   "execution_count": 16,
   "id": "3649b4c6",
   "metadata": {},
   "outputs": [
    {
     "data": {
      "text/html": [
       "<div>\n",
       "<style scoped>\n",
       "    .dataframe tbody tr th:only-of-type {\n",
       "        vertical-align: middle;\n",
       "    }\n",
       "\n",
       "    .dataframe tbody tr th {\n",
       "        vertical-align: top;\n",
       "    }\n",
       "\n",
       "    .dataframe thead th {\n",
       "        text-align: right;\n",
       "    }\n",
       "</style>\n",
       "<table border=\"1\" class=\"dataframe\">\n",
       "  <thead>\n",
       "    <tr style=\"text-align: right;\">\n",
       "      <th></th>\n",
       "      <th>id</th>\n",
       "      <th>call_date</th>\n",
       "      <th>duration</th>\n",
       "      <th>user_id</th>\n",
       "    </tr>\n",
       "  </thead>\n",
       "  <tbody>\n",
       "    <tr>\n",
       "      <td>192543</td>\n",
       "      <td>1472_356</td>\n",
       "      <td>2018-01-18</td>\n",
       "      <td>5</td>\n",
       "      <td>1472</td>\n",
       "    </tr>\n",
       "    <tr>\n",
       "      <td>103053</td>\n",
       "      <td>1264_192</td>\n",
       "      <td>2018-05-04</td>\n",
       "      <td>12</td>\n",
       "      <td>1264</td>\n",
       "    </tr>\n",
       "    <tr>\n",
       "      <td>142011</td>\n",
       "      <td>1360_454</td>\n",
       "      <td>2018-07-19</td>\n",
       "      <td>14</td>\n",
       "      <td>1360</td>\n",
       "    </tr>\n",
       "    <tr>\n",
       "      <td>154119</td>\n",
       "      <td>1381_994</td>\n",
       "      <td>2018-12-25</td>\n",
       "      <td>11</td>\n",
       "      <td>1381</td>\n",
       "    </tr>\n",
       "    <tr>\n",
       "      <td>190196</td>\n",
       "      <td>1468_167</td>\n",
       "      <td>2018-05-28</td>\n",
       "      <td>7</td>\n",
       "      <td>1468</td>\n",
       "    </tr>\n",
       "  </tbody>\n",
       "</table>\n",
       "</div>"
      ],
      "text/plain": [
       "              id  call_date  duration  user_id\n",
       "192543  1472_356 2018-01-18         5     1472\n",
       "103053  1264_192 2018-05-04        12     1264\n",
       "142011  1360_454 2018-07-19        14     1360\n",
       "154119  1381_994 2018-12-25        11     1381\n",
       "190196  1468_167 2018-05-28         7     1468"
      ]
     },
     "execution_count": 16,
     "metadata": {},
     "output_type": "execute_result"
    }
   ],
   "source": [
    "calls.sample(5)"
   ]
  },
  {
   "cell_type": "code",
   "execution_count": 17,
   "id": "286be4ef",
   "metadata": {},
   "outputs": [
    {
     "name": "stdout",
     "output_type": "stream",
     "text": [
      "<class 'pandas.core.frame.DataFrame'>\n",
      "RangeIndex: 202607 entries, 0 to 202606\n",
      "Data columns (total 4 columns):\n",
      "id           202607 non-null object\n",
      "call_date    202607 non-null datetime64[ns]\n",
      "duration     202607 non-null int32\n",
      "user_id      202607 non-null int64\n",
      "dtypes: datetime64[ns](1), int32(1), int64(1), object(1)\n",
      "memory usage: 5.4+ MB\n"
     ]
    }
   ],
   "source": [
    "calls.info()"
   ]
  },
  {
   "cell_type": "markdown",
   "id": "5b318ff3",
   "metadata": {},
   "source": [
    "**internet**"
   ]
  },
  {
   "cell_type": "code",
   "execution_count": 18,
   "id": "9f5250fb",
   "metadata": {},
   "outputs": [],
   "source": [
    "internet['session_date'] = pd.to_datetime(internet['session_date'], format=\"%Y-%m-%dT%H\")"
   ]
  },
  {
   "cell_type": "code",
   "execution_count": 19,
   "id": "fbbc90de",
   "metadata": {},
   "outputs": [
    {
     "data": {
      "text/html": [
       "<div>\n",
       "<style scoped>\n",
       "    .dataframe tbody tr th:only-of-type {\n",
       "        vertical-align: middle;\n",
       "    }\n",
       "\n",
       "    .dataframe tbody tr th {\n",
       "        vertical-align: top;\n",
       "    }\n",
       "\n",
       "    .dataframe thead th {\n",
       "        text-align: right;\n",
       "    }\n",
       "</style>\n",
       "<table border=\"1\" class=\"dataframe\">\n",
       "  <thead>\n",
       "    <tr style=\"text-align: right;\">\n",
       "      <th></th>\n",
       "      <th>Unnamed: 0</th>\n",
       "      <th>id</th>\n",
       "      <th>mb_used</th>\n",
       "      <th>session_date</th>\n",
       "      <th>user_id</th>\n",
       "    </tr>\n",
       "  </thead>\n",
       "  <tbody>\n",
       "    <tr>\n",
       "      <td>135948</td>\n",
       "      <td>135948</td>\n",
       "      <td>1456_97</td>\n",
       "      <td>345.75</td>\n",
       "      <td>2018-11-15</td>\n",
       "      <td>1456</td>\n",
       "    </tr>\n",
       "    <tr>\n",
       "      <td>81981</td>\n",
       "      <td>81981</td>\n",
       "      <td>1277_199</td>\n",
       "      <td>629.92</td>\n",
       "      <td>2018-04-27</td>\n",
       "      <td>1277</td>\n",
       "    </tr>\n",
       "    <tr>\n",
       "      <td>59068</td>\n",
       "      <td>59068</td>\n",
       "      <td>1199_27</td>\n",
       "      <td>0.00</td>\n",
       "      <td>2018-10-01</td>\n",
       "      <td>1199</td>\n",
       "    </tr>\n",
       "    <tr>\n",
       "      <td>136462</td>\n",
       "      <td>136462</td>\n",
       "      <td>1457_304</td>\n",
       "      <td>645.89</td>\n",
       "      <td>2018-04-13</td>\n",
       "      <td>1457</td>\n",
       "    </tr>\n",
       "    <tr>\n",
       "      <td>96569</td>\n",
       "      <td>96569</td>\n",
       "      <td>1325_228</td>\n",
       "      <td>38.21</td>\n",
       "      <td>2018-08-24</td>\n",
       "      <td>1325</td>\n",
       "    </tr>\n",
       "  </tbody>\n",
       "</table>\n",
       "</div>"
      ],
      "text/plain": [
       "        Unnamed: 0        id  mb_used session_date  user_id\n",
       "135948      135948   1456_97   345.75   2018-11-15     1456\n",
       "81981        81981  1277_199   629.92   2018-04-27     1277\n",
       "59068        59068   1199_27     0.00   2018-10-01     1199\n",
       "136462      136462  1457_304   645.89   2018-04-13     1457\n",
       "96569        96569  1325_228    38.21   2018-08-24     1325"
      ]
     },
     "execution_count": 19,
     "metadata": {},
     "output_type": "execute_result"
    }
   ],
   "source": [
    "internet.sample(5)"
   ]
  },
  {
   "cell_type": "code",
   "execution_count": 20,
   "id": "d71c26fa",
   "metadata": {},
   "outputs": [
    {
     "data": {
      "text/plain": [
       "0              0\n",
       "1              1\n",
       "2              2\n",
       "3              3\n",
       "4              4\n",
       "           ...  \n",
       "149391    149391\n",
       "149392    149392\n",
       "149393    149393\n",
       "149394    149394\n",
       "149395    149395\n",
       "Name: Unnamed: 0, Length: 149396, dtype: int64"
      ]
     },
     "execution_count": 20,
     "metadata": {},
     "output_type": "execute_result"
    }
   ],
   "source": [
    "# Удалим столбец Unnamed: 0, т.к его нет  документации.\n",
    "internet.pop('Unnamed: 0')"
   ]
  },
  {
   "cell_type": "code",
   "execution_count": 21,
   "id": "4bf2703d",
   "metadata": {},
   "outputs": [
    {
     "data": {
      "text/html": [
       "<div>\n",
       "<style scoped>\n",
       "    .dataframe tbody tr th:only-of-type {\n",
       "        vertical-align: middle;\n",
       "    }\n",
       "\n",
       "    .dataframe tbody tr th {\n",
       "        vertical-align: top;\n",
       "    }\n",
       "\n",
       "    .dataframe thead th {\n",
       "        text-align: right;\n",
       "    }\n",
       "</style>\n",
       "<table border=\"1\" class=\"dataframe\">\n",
       "  <thead>\n",
       "    <tr style=\"text-align: right;\">\n",
       "      <th></th>\n",
       "      <th>id</th>\n",
       "      <th>mb_used</th>\n",
       "      <th>session_date</th>\n",
       "      <th>user_id</th>\n",
       "    </tr>\n",
       "  </thead>\n",
       "  <tbody>\n",
       "    <tr>\n",
       "      <td>16940</td>\n",
       "      <td>1058_116</td>\n",
       "      <td>269.94</td>\n",
       "      <td>2018-10-14</td>\n",
       "      <td>1058</td>\n",
       "    </tr>\n",
       "    <tr>\n",
       "      <td>123277</td>\n",
       "      <td>1414_370</td>\n",
       "      <td>817.15</td>\n",
       "      <td>2018-06-07</td>\n",
       "      <td>1414</td>\n",
       "    </tr>\n",
       "    <tr>\n",
       "      <td>76300</td>\n",
       "      <td>1256_5</td>\n",
       "      <td>1111.50</td>\n",
       "      <td>2018-11-27</td>\n",
       "      <td>1256</td>\n",
       "    </tr>\n",
       "    <tr>\n",
       "      <td>35157</td>\n",
       "      <td>1123_121</td>\n",
       "      <td>0.00</td>\n",
       "      <td>2018-10-20</td>\n",
       "      <td>1123</td>\n",
       "    </tr>\n",
       "    <tr>\n",
       "      <td>63324</td>\n",
       "      <td>1215_230</td>\n",
       "      <td>292.47</td>\n",
       "      <td>2018-11-07</td>\n",
       "      <td>1215</td>\n",
       "    </tr>\n",
       "  </tbody>\n",
       "</table>\n",
       "</div>"
      ],
      "text/plain": [
       "              id  mb_used session_date  user_id\n",
       "16940   1058_116   269.94   2018-10-14     1058\n",
       "123277  1414_370   817.15   2018-06-07     1414\n",
       "76300     1256_5  1111.50   2018-11-27     1256\n",
       "35157   1123_121     0.00   2018-10-20     1123\n",
       "63324   1215_230   292.47   2018-11-07     1215"
      ]
     },
     "execution_count": 21,
     "metadata": {},
     "output_type": "execute_result"
    }
   ],
   "source": [
    "internet.sample(5)"
   ]
  },
  {
   "cell_type": "code",
   "execution_count": 22,
   "id": "8ebf98cb",
   "metadata": {},
   "outputs": [
    {
     "name": "stdout",
     "output_type": "stream",
     "text": [
      "<class 'pandas.core.frame.DataFrame'>\n",
      "RangeIndex: 149396 entries, 0 to 149395\n",
      "Data columns (total 4 columns):\n",
      "id              149396 non-null object\n",
      "mb_used         149396 non-null float64\n",
      "session_date    149396 non-null datetime64[ns]\n",
      "user_id         149396 non-null int64\n",
      "dtypes: datetime64[ns](1), float64(1), int64(1), object(1)\n",
      "memory usage: 4.6+ MB\n"
     ]
    }
   ],
   "source": [
    "internet.info()"
   ]
  },
  {
   "cell_type": "markdown",
   "id": "4476022a",
   "metadata": {},
   "source": [
    "**messages**"
   ]
  },
  {
   "cell_type": "code",
   "execution_count": 23,
   "id": "0df40eb6",
   "metadata": {},
   "outputs": [],
   "source": [
    "messages['message_date'] = pd.to_datetime(messages['message_date'], format=\"%Y-%m-%dT%H\")"
   ]
  },
  {
   "cell_type": "code",
   "execution_count": 24,
   "id": "47ed886f",
   "metadata": {},
   "outputs": [
    {
     "name": "stdout",
     "output_type": "stream",
     "text": [
      "<class 'pandas.core.frame.DataFrame'>\n",
      "RangeIndex: 123036 entries, 0 to 123035\n",
      "Data columns (total 3 columns):\n",
      "id              123036 non-null object\n",
      "message_date    123036 non-null datetime64[ns]\n",
      "user_id         123036 non-null int64\n",
      "dtypes: datetime64[ns](1), int64(1), object(1)\n",
      "memory usage: 2.8+ MB\n"
     ]
    }
   ],
   "source": [
    "messages.info()"
   ]
  },
  {
   "cell_type": "markdown",
   "id": "5470938d",
   "metadata": {},
   "source": [
    "**users**"
   ]
  },
  {
   "cell_type": "code",
   "execution_count": 25,
   "id": "9ccf62d0",
   "metadata": {},
   "outputs": [],
   "source": [
    "users['reg_date'] = pd.to_datetime(users['reg_date'], format=\"%Y-%m-%dT%H\")\n",
    "users['churn_date'] = pd.to_datetime(users['churn_date'], format=\"%Y-%m-%dT%H\")"
   ]
  },
  {
   "cell_type": "code",
   "execution_count": 26,
   "id": "0febb2c7",
   "metadata": {},
   "outputs": [
    {
     "data": {
      "text/html": [
       "<div>\n",
       "<style scoped>\n",
       "    .dataframe tbody tr th:only-of-type {\n",
       "        vertical-align: middle;\n",
       "    }\n",
       "\n",
       "    .dataframe tbody tr th {\n",
       "        vertical-align: top;\n",
       "    }\n",
       "\n",
       "    .dataframe thead th {\n",
       "        text-align: right;\n",
       "    }\n",
       "</style>\n",
       "<table border=\"1\" class=\"dataframe\">\n",
       "  <thead>\n",
       "    <tr style=\"text-align: right;\">\n",
       "      <th></th>\n",
       "      <th>user_id</th>\n",
       "      <th>age</th>\n",
       "      <th>churn_date</th>\n",
       "      <th>city</th>\n",
       "      <th>first_name</th>\n",
       "      <th>last_name</th>\n",
       "      <th>reg_date</th>\n",
       "      <th>tariff</th>\n",
       "    </tr>\n",
       "  </thead>\n",
       "  <tbody>\n",
       "    <tr>\n",
       "      <td>0</td>\n",
       "      <td>1000</td>\n",
       "      <td>52</td>\n",
       "      <td>NaT</td>\n",
       "      <td>Краснодар</td>\n",
       "      <td>Рафаил</td>\n",
       "      <td>Верещагин</td>\n",
       "      <td>2018-05-25</td>\n",
       "      <td>ultra</td>\n",
       "    </tr>\n",
       "    <tr>\n",
       "      <td>1</td>\n",
       "      <td>1001</td>\n",
       "      <td>41</td>\n",
       "      <td>NaT</td>\n",
       "      <td>Москва</td>\n",
       "      <td>Иван</td>\n",
       "      <td>Ежов</td>\n",
       "      <td>2018-11-01</td>\n",
       "      <td>smart</td>\n",
       "    </tr>\n",
       "    <tr>\n",
       "      <td>2</td>\n",
       "      <td>1002</td>\n",
       "      <td>59</td>\n",
       "      <td>NaT</td>\n",
       "      <td>Стерлитамак</td>\n",
       "      <td>Евгений</td>\n",
       "      <td>Абрамович</td>\n",
       "      <td>2018-06-17</td>\n",
       "      <td>smart</td>\n",
       "    </tr>\n",
       "    <tr>\n",
       "      <td>3</td>\n",
       "      <td>1003</td>\n",
       "      <td>23</td>\n",
       "      <td>NaT</td>\n",
       "      <td>Москва</td>\n",
       "      <td>Белла</td>\n",
       "      <td>Белякова</td>\n",
       "      <td>2018-08-17</td>\n",
       "      <td>ultra</td>\n",
       "    </tr>\n",
       "    <tr>\n",
       "      <td>4</td>\n",
       "      <td>1004</td>\n",
       "      <td>68</td>\n",
       "      <td>NaT</td>\n",
       "      <td>Новокузнецк</td>\n",
       "      <td>Татьяна</td>\n",
       "      <td>Авдеенко</td>\n",
       "      <td>2018-05-14</td>\n",
       "      <td>ultra</td>\n",
       "    </tr>\n",
       "    <tr>\n",
       "      <td>...</td>\n",
       "      <td>...</td>\n",
       "      <td>...</td>\n",
       "      <td>...</td>\n",
       "      <td>...</td>\n",
       "      <td>...</td>\n",
       "      <td>...</td>\n",
       "      <td>...</td>\n",
       "      <td>...</td>\n",
       "    </tr>\n",
       "    <tr>\n",
       "      <td>495</td>\n",
       "      <td>1495</td>\n",
       "      <td>65</td>\n",
       "      <td>NaT</td>\n",
       "      <td>Иркутск</td>\n",
       "      <td>Авксентий</td>\n",
       "      <td>Фокин</td>\n",
       "      <td>2018-08-28</td>\n",
       "      <td>ultra</td>\n",
       "    </tr>\n",
       "    <tr>\n",
       "      <td>496</td>\n",
       "      <td>1496</td>\n",
       "      <td>36</td>\n",
       "      <td>NaT</td>\n",
       "      <td>Вологда</td>\n",
       "      <td>Трифон</td>\n",
       "      <td>Блохин</td>\n",
       "      <td>2018-01-27</td>\n",
       "      <td>smart</td>\n",
       "    </tr>\n",
       "    <tr>\n",
       "      <td>497</td>\n",
       "      <td>1497</td>\n",
       "      <td>32</td>\n",
       "      <td>NaT</td>\n",
       "      <td>Челябинск</td>\n",
       "      <td>Каролина</td>\n",
       "      <td>Агеева</td>\n",
       "      <td>2018-10-09</td>\n",
       "      <td>smart</td>\n",
       "    </tr>\n",
       "    <tr>\n",
       "      <td>498</td>\n",
       "      <td>1498</td>\n",
       "      <td>68</td>\n",
       "      <td>2018-10-25</td>\n",
       "      <td>Владикавказ</td>\n",
       "      <td>Всеволод</td>\n",
       "      <td>Акимчин</td>\n",
       "      <td>2018-07-19</td>\n",
       "      <td>smart</td>\n",
       "    </tr>\n",
       "    <tr>\n",
       "      <td>499</td>\n",
       "      <td>1499</td>\n",
       "      <td>35</td>\n",
       "      <td>NaT</td>\n",
       "      <td>Пермь</td>\n",
       "      <td>Гектор</td>\n",
       "      <td>Корнилов</td>\n",
       "      <td>2018-09-27</td>\n",
       "      <td>smart</td>\n",
       "    </tr>\n",
       "  </tbody>\n",
       "</table>\n",
       "<p>500 rows × 8 columns</p>\n",
       "</div>"
      ],
      "text/plain": [
       "     user_id  age churn_date         city first_name  last_name   reg_date  \\\n",
       "0       1000   52        NaT    Краснодар     Рафаил  Верещагин 2018-05-25   \n",
       "1       1001   41        NaT       Москва       Иван       Ежов 2018-11-01   \n",
       "2       1002   59        NaT  Стерлитамак    Евгений  Абрамович 2018-06-17   \n",
       "3       1003   23        NaT       Москва      Белла   Белякова 2018-08-17   \n",
       "4       1004   68        NaT  Новокузнецк    Татьяна   Авдеенко 2018-05-14   \n",
       "..       ...  ...        ...          ...        ...        ...        ...   \n",
       "495     1495   65        NaT      Иркутск  Авксентий      Фокин 2018-08-28   \n",
       "496     1496   36        NaT      Вологда     Трифон     Блохин 2018-01-27   \n",
       "497     1497   32        NaT    Челябинск   Каролина     Агеева 2018-10-09   \n",
       "498     1498   68 2018-10-25  Владикавказ   Всеволод    Акимчин 2018-07-19   \n",
       "499     1499   35        NaT        Пермь     Гектор   Корнилов 2018-09-27   \n",
       "\n",
       "    tariff  \n",
       "0    ultra  \n",
       "1    smart  \n",
       "2    smart  \n",
       "3    ultra  \n",
       "4    ultra  \n",
       "..     ...  \n",
       "495  ultra  \n",
       "496  smart  \n",
       "497  smart  \n",
       "498  smart  \n",
       "499  smart  \n",
       "\n",
       "[500 rows x 8 columns]"
      ]
     },
     "execution_count": 26,
     "metadata": {},
     "output_type": "execute_result"
    }
   ],
   "source": [
    "users"
   ]
  },
  {
   "cell_type": "code",
   "execution_count": 27,
   "id": "fdcedfbf",
   "metadata": {},
   "outputs": [
    {
     "name": "stdout",
     "output_type": "stream",
     "text": [
      "<class 'pandas.core.frame.DataFrame'>\n",
      "RangeIndex: 500 entries, 0 to 499\n",
      "Data columns (total 8 columns):\n",
      "user_id       500 non-null int64\n",
      "age           500 non-null int64\n",
      "churn_date    38 non-null datetime64[ns]\n",
      "city          500 non-null object\n",
      "first_name    500 non-null object\n",
      "last_name     500 non-null object\n",
      "reg_date      500 non-null datetime64[ns]\n",
      "tariff        500 non-null object\n",
      "dtypes: datetime64[ns](2), int64(2), object(4)\n",
      "memory usage: 31.4+ KB\n"
     ]
    }
   ],
   "source": [
    "users.info()"
   ]
  },
  {
   "cell_type": "markdown",
   "id": "9ba5462e",
   "metadata": {},
   "source": [
    "**tariffs**"
   ]
  },
  {
   "cell_type": "code",
   "execution_count": 28,
   "id": "77507b18",
   "metadata": {},
   "outputs": [
    {
     "data": {
      "text/html": [
       "<div>\n",
       "<style scoped>\n",
       "    .dataframe tbody tr th:only-of-type {\n",
       "        vertical-align: middle;\n",
       "    }\n",
       "\n",
       "    .dataframe tbody tr th {\n",
       "        vertical-align: top;\n",
       "    }\n",
       "\n",
       "    .dataframe thead th {\n",
       "        text-align: right;\n",
       "    }\n",
       "</style>\n",
       "<table border=\"1\" class=\"dataframe\">\n",
       "  <thead>\n",
       "    <tr style=\"text-align: right;\">\n",
       "      <th></th>\n",
       "      <th>messages_included</th>\n",
       "      <th>mb_per_month_included</th>\n",
       "      <th>minutes_included</th>\n",
       "      <th>rub_monthly_fee</th>\n",
       "      <th>rub_per_gb</th>\n",
       "      <th>rub_per_message</th>\n",
       "      <th>rub_per_minute</th>\n",
       "      <th>tariff_name</th>\n",
       "    </tr>\n",
       "  </thead>\n",
       "  <tbody>\n",
       "    <tr>\n",
       "      <td>0</td>\n",
       "      <td>50</td>\n",
       "      <td>15360</td>\n",
       "      <td>500</td>\n",
       "      <td>550</td>\n",
       "      <td>200</td>\n",
       "      <td>3</td>\n",
       "      <td>3</td>\n",
       "      <td>smart</td>\n",
       "    </tr>\n",
       "    <tr>\n",
       "      <td>1</td>\n",
       "      <td>1000</td>\n",
       "      <td>30720</td>\n",
       "      <td>3000</td>\n",
       "      <td>1950</td>\n",
       "      <td>150</td>\n",
       "      <td>1</td>\n",
       "      <td>1</td>\n",
       "      <td>ultra</td>\n",
       "    </tr>\n",
       "  </tbody>\n",
       "</table>\n",
       "</div>"
      ],
      "text/plain": [
       "   messages_included  mb_per_month_included  minutes_included  \\\n",
       "0                 50                  15360               500   \n",
       "1               1000                  30720              3000   \n",
       "\n",
       "   rub_monthly_fee  rub_per_gb  rub_per_message  rub_per_minute tariff_name  \n",
       "0              550         200                3               3       smart  \n",
       "1             1950         150                1               1       ultra  "
      ]
     },
     "execution_count": 28,
     "metadata": {},
     "output_type": "execute_result"
    }
   ],
   "source": [
    "tariffs"
   ]
  },
  {
   "cell_type": "code",
   "execution_count": 29,
   "id": "d95108d6",
   "metadata": {},
   "outputs": [],
   "source": [
    "# Переименуем столбец, для удобства соединения таблиц\n",
    "tariffs=tariffs.rename(columns={'tariff_name':'tariff'})"
   ]
  },
  {
   "cell_type": "code",
   "execution_count": 30,
   "id": "3a19d6ea",
   "metadata": {},
   "outputs": [
    {
     "data": {
      "text/plain": [
       "tariff\n",
       "smart    351\n",
       "ultra    149\n",
       "Name: user_id, dtype: int64"
      ]
     },
     "execution_count": 30,
     "metadata": {},
     "output_type": "execute_result"
    }
   ],
   "source": [
    "# Объединим таблицы пользователей и тарифов\n",
    "users_tar=users.merge(tariffs, on='tariff',how='left')\n",
    "users_tar.groupby('tariff')['user_id'].count()"
   ]
  },
  {
   "cell_type": "code",
   "execution_count": 31,
   "id": "7fc8b34e",
   "metadata": {},
   "outputs": [
    {
     "data": {
      "text/plain": [
       "(500, 8)"
      ]
     },
     "execution_count": 31,
     "metadata": {},
     "output_type": "execute_result"
    }
   ],
   "source": [
    "users.shape"
   ]
  },
  {
   "cell_type": "code",
   "execution_count": 32,
   "id": "032df614",
   "metadata": {},
   "outputs": [
    {
     "data": {
      "text/plain": [
       "(2, 8)"
      ]
     },
     "execution_count": 32,
     "metadata": {},
     "output_type": "execute_result"
    }
   ],
   "source": [
    "tariffs.shape"
   ]
  },
  {
   "cell_type": "code",
   "execution_count": 33,
   "id": "9b3b6a4e",
   "metadata": {},
   "outputs": [
    {
     "data": {
      "text/plain": [
       "(500, 15)"
      ]
     },
     "execution_count": 33,
     "metadata": {},
     "output_type": "execute_result"
    }
   ],
   "source": [
    "users_tar.shape"
   ]
  },
  {
   "cell_type": "code",
   "execution_count": 34,
   "id": "3f7cd012",
   "metadata": {},
   "outputs": [
    {
     "data": {
      "text/html": [
       "<div>\n",
       "<style scoped>\n",
       "    .dataframe tbody tr th:only-of-type {\n",
       "        vertical-align: middle;\n",
       "    }\n",
       "\n",
       "    .dataframe tbody tr th {\n",
       "        vertical-align: top;\n",
       "    }\n",
       "\n",
       "    .dataframe thead th {\n",
       "        text-align: right;\n",
       "    }\n",
       "</style>\n",
       "<table border=\"1\" class=\"dataframe\">\n",
       "  <thead>\n",
       "    <tr style=\"text-align: right;\">\n",
       "      <th></th>\n",
       "      <th>user_id</th>\n",
       "      <th>age</th>\n",
       "      <th>churn_date</th>\n",
       "      <th>city</th>\n",
       "      <th>first_name</th>\n",
       "      <th>last_name</th>\n",
       "      <th>reg_date</th>\n",
       "      <th>tariff</th>\n",
       "      <th>messages_included</th>\n",
       "      <th>mb_per_month_included</th>\n",
       "      <th>minutes_included</th>\n",
       "      <th>rub_monthly_fee</th>\n",
       "      <th>rub_per_gb</th>\n",
       "      <th>rub_per_message</th>\n",
       "      <th>rub_per_minute</th>\n",
       "    </tr>\n",
       "  </thead>\n",
       "  <tbody>\n",
       "    <tr>\n",
       "      <td>451</td>\n",
       "      <td>1451</td>\n",
       "      <td>58</td>\n",
       "      <td>NaT</td>\n",
       "      <td>Набережные Челны</td>\n",
       "      <td>Виктория</td>\n",
       "      <td>Завьялова</td>\n",
       "      <td>2018-08-27</td>\n",
       "      <td>smart</td>\n",
       "      <td>50</td>\n",
       "      <td>15360</td>\n",
       "      <td>500</td>\n",
       "      <td>550</td>\n",
       "      <td>200</td>\n",
       "      <td>3</td>\n",
       "      <td>3</td>\n",
       "    </tr>\n",
       "    <tr>\n",
       "      <td>103</td>\n",
       "      <td>1103</td>\n",
       "      <td>52</td>\n",
       "      <td>NaT</td>\n",
       "      <td>Екатеринбург</td>\n",
       "      <td>Эльвира</td>\n",
       "      <td>Лобанова</td>\n",
       "      <td>2018-12-04</td>\n",
       "      <td>smart</td>\n",
       "      <td>50</td>\n",
       "      <td>15360</td>\n",
       "      <td>500</td>\n",
       "      <td>550</td>\n",
       "      <td>200</td>\n",
       "      <td>3</td>\n",
       "      <td>3</td>\n",
       "    </tr>\n",
       "    <tr>\n",
       "      <td>454</td>\n",
       "      <td>1454</td>\n",
       "      <td>29</td>\n",
       "      <td>NaT</td>\n",
       "      <td>Томск</td>\n",
       "      <td>Адам</td>\n",
       "      <td>Алешин</td>\n",
       "      <td>2018-03-08</td>\n",
       "      <td>smart</td>\n",
       "      <td>50</td>\n",
       "      <td>15360</td>\n",
       "      <td>500</td>\n",
       "      <td>550</td>\n",
       "      <td>200</td>\n",
       "      <td>3</td>\n",
       "      <td>3</td>\n",
       "    </tr>\n",
       "    <tr>\n",
       "      <td>209</td>\n",
       "      <td>1209</td>\n",
       "      <td>27</td>\n",
       "      <td>NaT</td>\n",
       "      <td>Омск</td>\n",
       "      <td>Альбин</td>\n",
       "      <td>Сорокин</td>\n",
       "      <td>2018-06-02</td>\n",
       "      <td>smart</td>\n",
       "      <td>50</td>\n",
       "      <td>15360</td>\n",
       "      <td>500</td>\n",
       "      <td>550</td>\n",
       "      <td>200</td>\n",
       "      <td>3</td>\n",
       "      <td>3</td>\n",
       "    </tr>\n",
       "    <tr>\n",
       "      <td>326</td>\n",
       "      <td>1326</td>\n",
       "      <td>37</td>\n",
       "      <td>NaT</td>\n",
       "      <td>Санкт-Петербург</td>\n",
       "      <td>Леонид</td>\n",
       "      <td>Барсуков</td>\n",
       "      <td>2018-05-29</td>\n",
       "      <td>smart</td>\n",
       "      <td>50</td>\n",
       "      <td>15360</td>\n",
       "      <td>500</td>\n",
       "      <td>550</td>\n",
       "      <td>200</td>\n",
       "      <td>3</td>\n",
       "      <td>3</td>\n",
       "    </tr>\n",
       "  </tbody>\n",
       "</table>\n",
       "</div>"
      ],
      "text/plain": [
       "     user_id  age churn_date              city first_name  last_name  \\\n",
       "451     1451   58        NaT  Набережные Челны   Виктория  Завьялова   \n",
       "103     1103   52        NaT      Екатеринбург    Эльвира   Лобанова   \n",
       "454     1454   29        NaT             Томск       Адам     Алешин   \n",
       "209     1209   27        NaT              Омск     Альбин    Сорокин   \n",
       "326     1326   37        NaT   Санкт-Петербург     Леонид   Барсуков   \n",
       "\n",
       "      reg_date tariff  messages_included  mb_per_month_included  \\\n",
       "451 2018-08-27  smart                 50                  15360   \n",
       "103 2018-12-04  smart                 50                  15360   \n",
       "454 2018-03-08  smart                 50                  15360   \n",
       "209 2018-06-02  smart                 50                  15360   \n",
       "326 2018-05-29  smart                 50                  15360   \n",
       "\n",
       "     minutes_included  rub_monthly_fee  rub_per_gb  rub_per_message  \\\n",
       "451               500              550         200                3   \n",
       "103               500              550         200                3   \n",
       "454               500              550         200                3   \n",
       "209               500              550         200                3   \n",
       "326               500              550         200                3   \n",
       "\n",
       "     rub_per_minute  \n",
       "451               3  \n",
       "103               3  \n",
       "454               3  \n",
       "209               3  \n",
       "326               3  "
      ]
     },
     "execution_count": 34,
     "metadata": {},
     "output_type": "execute_result"
    }
   ],
   "source": [
    "users_tar.sample(5)"
   ]
  },
  {
   "cell_type": "markdown",
   "id": "7a4be654",
   "metadata": {},
   "source": [
    "**Посчитаем и добавим в таблицы необходимые данные**"
   ]
  },
  {
   "cell_type": "code",
   "execution_count": 35,
   "id": "a1648237",
   "metadata": {},
   "outputs": [],
   "source": [
    "# Добавим месяца в типе дататайм\n",
    "calls['month']=calls['call_date'].values.astype('datetime64[M]')\n",
    "messages['month']=messages['message_date'].values.astype('datetime64[M]')\n",
    "internet['month']=internet['session_date'].values.astype('datetime64[M]')"
   ]
  },
  {
   "cell_type": "markdown",
   "id": "58165b11",
   "metadata": {},
   "source": [
    "Сгрупперуем по месяцам и посчитаем необходимые значения"
   ]
  },
  {
   "cell_type": "code",
   "execution_count": 36,
   "id": "455dae07",
   "metadata": {},
   "outputs": [],
   "source": [
    "calls_gr=(\n",
    "    calls\n",
    "    .groupby(['user_id', 'month'])['duration']\n",
    "    .agg(['count','sum'])\n",
    "    .reset_index()\n",
    "    .rename(columns= {'count': 'calls_count', 'sum': 'minute_sum' })\n",
    ")"
   ]
  },
  {
   "cell_type": "code",
   "execution_count": 37,
   "id": "d3c8cb08",
   "metadata": {},
   "outputs": [
    {
     "data": {
      "text/html": [
       "<div>\n",
       "<style scoped>\n",
       "    .dataframe tbody tr th:only-of-type {\n",
       "        vertical-align: middle;\n",
       "    }\n",
       "\n",
       "    .dataframe tbody tr th {\n",
       "        vertical-align: top;\n",
       "    }\n",
       "\n",
       "    .dataframe thead th {\n",
       "        text-align: right;\n",
       "    }\n",
       "</style>\n",
       "<table border=\"1\" class=\"dataframe\">\n",
       "  <thead>\n",
       "    <tr style=\"text-align: right;\">\n",
       "      <th></th>\n",
       "      <th>user_id</th>\n",
       "      <th>month</th>\n",
       "      <th>calls_count</th>\n",
       "      <th>minute_sum</th>\n",
       "    </tr>\n",
       "  </thead>\n",
       "  <tbody>\n",
       "    <tr>\n",
       "      <td>0</td>\n",
       "      <td>1000</td>\n",
       "      <td>2018-05-01</td>\n",
       "      <td>22</td>\n",
       "      <td>159</td>\n",
       "    </tr>\n",
       "    <tr>\n",
       "      <td>1</td>\n",
       "      <td>1000</td>\n",
       "      <td>2018-06-01</td>\n",
       "      <td>43</td>\n",
       "      <td>172</td>\n",
       "    </tr>\n",
       "    <tr>\n",
       "      <td>2</td>\n",
       "      <td>1000</td>\n",
       "      <td>2018-07-01</td>\n",
       "      <td>47</td>\n",
       "      <td>340</td>\n",
       "    </tr>\n",
       "    <tr>\n",
       "      <td>3</td>\n",
       "      <td>1000</td>\n",
       "      <td>2018-08-01</td>\n",
       "      <td>52</td>\n",
       "      <td>408</td>\n",
       "    </tr>\n",
       "    <tr>\n",
       "      <td>4</td>\n",
       "      <td>1000</td>\n",
       "      <td>2018-09-01</td>\n",
       "      <td>58</td>\n",
       "      <td>466</td>\n",
       "    </tr>\n",
       "    <tr>\n",
       "      <td>5</td>\n",
       "      <td>1000</td>\n",
       "      <td>2018-10-01</td>\n",
       "      <td>57</td>\n",
       "      <td>350</td>\n",
       "    </tr>\n",
       "    <tr>\n",
       "      <td>6</td>\n",
       "      <td>1000</td>\n",
       "      <td>2018-11-01</td>\n",
       "      <td>43</td>\n",
       "      <td>338</td>\n",
       "    </tr>\n",
       "    <tr>\n",
       "      <td>7</td>\n",
       "      <td>1000</td>\n",
       "      <td>2018-12-01</td>\n",
       "      <td>46</td>\n",
       "      <td>333</td>\n",
       "    </tr>\n",
       "  </tbody>\n",
       "</table>\n",
       "</div>"
      ],
      "text/plain": [
       "   user_id      month  calls_count  minute_sum\n",
       "0     1000 2018-05-01           22         159\n",
       "1     1000 2018-06-01           43         172\n",
       "2     1000 2018-07-01           47         340\n",
       "3     1000 2018-08-01           52         408\n",
       "4     1000 2018-09-01           58         466\n",
       "5     1000 2018-10-01           57         350\n",
       "6     1000 2018-11-01           43         338\n",
       "7     1000 2018-12-01           46         333"
      ]
     },
     "execution_count": 37,
     "metadata": {},
     "output_type": "execute_result"
    }
   ],
   "source": [
    "calls_gr.query('user_id==1000')"
   ]
  },
  {
   "cell_type": "code",
   "execution_count": 38,
   "id": "bfa634e9",
   "metadata": {},
   "outputs": [],
   "source": [
    "messages_gr=messages.groupby(['user_id', 'month'])['id'].count().reset_index()\n",
    "messages_gr=messages_gr.rename(columns= {'id': 'mes_count'})"
   ]
  },
  {
   "cell_type": "code",
   "execution_count": 39,
   "id": "7a9a953c",
   "metadata": {},
   "outputs": [
    {
     "data": {
      "text/html": [
       "<div>\n",
       "<style scoped>\n",
       "    .dataframe tbody tr th:only-of-type {\n",
       "        vertical-align: middle;\n",
       "    }\n",
       "\n",
       "    .dataframe tbody tr th {\n",
       "        vertical-align: top;\n",
       "    }\n",
       "\n",
       "    .dataframe thead th {\n",
       "        text-align: right;\n",
       "    }\n",
       "</style>\n",
       "<table border=\"1\" class=\"dataframe\">\n",
       "  <thead>\n",
       "    <tr style=\"text-align: right;\">\n",
       "      <th></th>\n",
       "      <th>user_id</th>\n",
       "      <th>month</th>\n",
       "      <th>mes_count</th>\n",
       "    </tr>\n",
       "  </thead>\n",
       "  <tbody>\n",
       "    <tr>\n",
       "      <td>0</td>\n",
       "      <td>1000</td>\n",
       "      <td>2018-05-01</td>\n",
       "      <td>22</td>\n",
       "    </tr>\n",
       "    <tr>\n",
       "      <td>1</td>\n",
       "      <td>1000</td>\n",
       "      <td>2018-06-01</td>\n",
       "      <td>60</td>\n",
       "    </tr>\n",
       "    <tr>\n",
       "      <td>2</td>\n",
       "      <td>1000</td>\n",
       "      <td>2018-07-01</td>\n",
       "      <td>75</td>\n",
       "    </tr>\n",
       "    <tr>\n",
       "      <td>3</td>\n",
       "      <td>1000</td>\n",
       "      <td>2018-08-01</td>\n",
       "      <td>81</td>\n",
       "    </tr>\n",
       "    <tr>\n",
       "      <td>4</td>\n",
       "      <td>1000</td>\n",
       "      <td>2018-09-01</td>\n",
       "      <td>57</td>\n",
       "    </tr>\n",
       "    <tr>\n",
       "      <td>5</td>\n",
       "      <td>1000</td>\n",
       "      <td>2018-10-01</td>\n",
       "      <td>73</td>\n",
       "    </tr>\n",
       "    <tr>\n",
       "      <td>6</td>\n",
       "      <td>1000</td>\n",
       "      <td>2018-11-01</td>\n",
       "      <td>58</td>\n",
       "    </tr>\n",
       "    <tr>\n",
       "      <td>7</td>\n",
       "      <td>1000</td>\n",
       "      <td>2018-12-01</td>\n",
       "      <td>70</td>\n",
       "    </tr>\n",
       "  </tbody>\n",
       "</table>\n",
       "</div>"
      ],
      "text/plain": [
       "   user_id      month  mes_count\n",
       "0     1000 2018-05-01         22\n",
       "1     1000 2018-06-01         60\n",
       "2     1000 2018-07-01         75\n",
       "3     1000 2018-08-01         81\n",
       "4     1000 2018-09-01         57\n",
       "5     1000 2018-10-01         73\n",
       "6     1000 2018-11-01         58\n",
       "7     1000 2018-12-01         70"
      ]
     },
     "execution_count": 39,
     "metadata": {},
     "output_type": "execute_result"
    }
   ],
   "source": [
    "messages_gr.query('user_id==1000')"
   ]
  },
  {
   "cell_type": "code",
   "execution_count": 40,
   "id": "81edf764",
   "metadata": {},
   "outputs": [],
   "source": [
    "internet_gr=internet.groupby(['user_id', 'month'])['mb_used'].sum().reset_index()\n",
    "# Округлим мегабыйты в большую сторону и переведем в гигабайты\n",
    "internet_gr['mb_used']=np.ceil(internet_gr['mb_used']/1024).astype('int')\n",
    "internet_gr=internet_gr.rename(columns= {'mb_used':'internet_gb' })"
   ]
  },
  {
   "cell_type": "code",
   "execution_count": 41,
   "id": "4d76579e",
   "metadata": {},
   "outputs": [
    {
     "data": {
      "text/html": [
       "<div>\n",
       "<style scoped>\n",
       "    .dataframe tbody tr th:only-of-type {\n",
       "        vertical-align: middle;\n",
       "    }\n",
       "\n",
       "    .dataframe tbody tr th {\n",
       "        vertical-align: top;\n",
       "    }\n",
       "\n",
       "    .dataframe thead th {\n",
       "        text-align: right;\n",
       "    }\n",
       "</style>\n",
       "<table border=\"1\" class=\"dataframe\">\n",
       "  <thead>\n",
       "    <tr style=\"text-align: right;\">\n",
       "      <th></th>\n",
       "      <th>user_id</th>\n",
       "      <th>month</th>\n",
       "      <th>internet_gb</th>\n",
       "    </tr>\n",
       "  </thead>\n",
       "  <tbody>\n",
       "    <tr>\n",
       "      <td>0</td>\n",
       "      <td>1000</td>\n",
       "      <td>2018-05-01</td>\n",
       "      <td>3</td>\n",
       "    </tr>\n",
       "    <tr>\n",
       "      <td>1</td>\n",
       "      <td>1000</td>\n",
       "      <td>2018-06-01</td>\n",
       "      <td>23</td>\n",
       "    </tr>\n",
       "    <tr>\n",
       "      <td>2</td>\n",
       "      <td>1000</td>\n",
       "      <td>2018-07-01</td>\n",
       "      <td>14</td>\n",
       "    </tr>\n",
       "    <tr>\n",
       "      <td>3</td>\n",
       "      <td>1000</td>\n",
       "      <td>2018-08-01</td>\n",
       "      <td>14</td>\n",
       "    </tr>\n",
       "    <tr>\n",
       "      <td>4</td>\n",
       "      <td>1000</td>\n",
       "      <td>2018-09-01</td>\n",
       "      <td>15</td>\n",
       "    </tr>\n",
       "    <tr>\n",
       "      <td>5</td>\n",
       "      <td>1000</td>\n",
       "      <td>2018-10-01</td>\n",
       "      <td>15</td>\n",
       "    </tr>\n",
       "    <tr>\n",
       "      <td>6</td>\n",
       "      <td>1000</td>\n",
       "      <td>2018-11-01</td>\n",
       "      <td>15</td>\n",
       "    </tr>\n",
       "    <tr>\n",
       "      <td>7</td>\n",
       "      <td>1000</td>\n",
       "      <td>2018-12-01</td>\n",
       "      <td>10</td>\n",
       "    </tr>\n",
       "  </tbody>\n",
       "</table>\n",
       "</div>"
      ],
      "text/plain": [
       "   user_id      month  internet_gb\n",
       "0     1000 2018-05-01            3\n",
       "1     1000 2018-06-01           23\n",
       "2     1000 2018-07-01           14\n",
       "3     1000 2018-08-01           14\n",
       "4     1000 2018-09-01           15\n",
       "5     1000 2018-10-01           15\n",
       "6     1000 2018-11-01           15\n",
       "7     1000 2018-12-01           10"
      ]
     },
     "execution_count": 41,
     "metadata": {},
     "output_type": "execute_result"
    }
   ],
   "source": [
    "internet_gr.query('user_id==1000')"
   ]
  },
  {
   "cell_type": "markdown",
   "id": "025f7225",
   "metadata": {},
   "source": [
    "Объеденим все таблицы"
   ]
  },
  {
   "cell_type": "code",
   "execution_count": 42,
   "id": "58ff3bc9",
   "metadata": {},
   "outputs": [
    {
     "data": {
      "text/plain": [
       "(3213, 5)"
      ]
     },
     "execution_count": 42,
     "metadata": {},
     "output_type": "execute_result"
    }
   ],
   "source": [
    "df=calls_gr.merge(messages_gr, on=['user_id','month'] , how='outer')\n",
    "df.shape"
   ]
  },
  {
   "cell_type": "code",
   "execution_count": 43,
   "id": "a41b50d9",
   "metadata": {},
   "outputs": [
    {
     "data": {
      "text/plain": [
       "(3214, 6)"
      ]
     },
     "execution_count": 43,
     "metadata": {},
     "output_type": "execute_result"
    }
   ],
   "source": [
    "df=df.merge(internet_gr, on=['user_id','month'] , how='outer')\n",
    "df.shape"
   ]
  },
  {
   "cell_type": "code",
   "execution_count": 44,
   "id": "99d57329",
   "metadata": {},
   "outputs": [
    {
     "data": {
      "text/plain": [
       "(3216, 20)"
      ]
     },
     "execution_count": 44,
     "metadata": {},
     "output_type": "execute_result"
    }
   ],
   "source": [
    "df=df.merge(users_tar, on=['user_id'] , how='outer')\n",
    "df.shape"
   ]
  },
  {
   "cell_type": "code",
   "execution_count": 45,
   "id": "96d3781a",
   "metadata": {},
   "outputs": [
    {
     "data": {
      "text/plain": [
       "user_id                     0\n",
       "month                       2\n",
       "calls_count                42\n",
       "minute_sum                 42\n",
       "mes_count                 499\n",
       "internet_gb                13\n",
       "age                         0\n",
       "churn_date               3027\n",
       "city                        0\n",
       "first_name                  0\n",
       "last_name                   0\n",
       "reg_date                    0\n",
       "tariff                      0\n",
       "messages_included           0\n",
       "mb_per_month_included       0\n",
       "minutes_included            0\n",
       "rub_monthly_fee             0\n",
       "rub_per_gb                  0\n",
       "rub_per_message             0\n",
       "rub_per_minute              0\n",
       "dtype: int64"
      ]
     },
     "execution_count": 45,
     "metadata": {},
     "output_type": "execute_result"
    }
   ],
   "source": [
    "df.isna().sum()"
   ]
  },
  {
   "cell_type": "code",
   "execution_count": 46,
   "id": "30774ed7",
   "metadata": {},
   "outputs": [
    {
     "data": {
      "text/plain": [
       "(3216, 20)"
      ]
     },
     "execution_count": 46,
     "metadata": {},
     "output_type": "execute_result"
    }
   ],
   "source": [
    "df.shape"
   ]
  },
  {
   "cell_type": "code",
   "execution_count": 47,
   "id": "5c28f7ff",
   "metadata": {},
   "outputs": [
    {
     "data": {
      "text/html": [
       "<div>\n",
       "<style scoped>\n",
       "    .dataframe tbody tr th:only-of-type {\n",
       "        vertical-align: middle;\n",
       "    }\n",
       "\n",
       "    .dataframe tbody tr th {\n",
       "        vertical-align: top;\n",
       "    }\n",
       "\n",
       "    .dataframe thead th {\n",
       "        text-align: right;\n",
       "    }\n",
       "</style>\n",
       "<table border=\"1\" class=\"dataframe\">\n",
       "  <thead>\n",
       "    <tr style=\"text-align: right;\">\n",
       "      <th></th>\n",
       "      <th>user_id</th>\n",
       "      <th>month</th>\n",
       "      <th>calls_count</th>\n",
       "      <th>minute_sum</th>\n",
       "      <th>mes_count</th>\n",
       "      <th>internet_gb</th>\n",
       "      <th>age</th>\n",
       "      <th>churn_date</th>\n",
       "      <th>city</th>\n",
       "      <th>first_name</th>\n",
       "      <th>last_name</th>\n",
       "      <th>reg_date</th>\n",
       "      <th>tariff</th>\n",
       "      <th>messages_included</th>\n",
       "      <th>mb_per_month_included</th>\n",
       "      <th>minutes_included</th>\n",
       "      <th>rub_monthly_fee</th>\n",
       "      <th>rub_per_gb</th>\n",
       "      <th>rub_per_message</th>\n",
       "      <th>rub_per_minute</th>\n",
       "    </tr>\n",
       "  </thead>\n",
       "  <tbody>\n",
       "    <tr>\n",
       "      <td>3214</td>\n",
       "      <td>1128</td>\n",
       "      <td>NaT</td>\n",
       "      <td>NaN</td>\n",
       "      <td>NaN</td>\n",
       "      <td>NaN</td>\n",
       "      <td>NaN</td>\n",
       "      <td>51</td>\n",
       "      <td>2018-12-23</td>\n",
       "      <td>Волжский</td>\n",
       "      <td>Ксения</td>\n",
       "      <td>Агаева</td>\n",
       "      <td>2018-12-15</td>\n",
       "      <td>ultra</td>\n",
       "      <td>1000</td>\n",
       "      <td>30720</td>\n",
       "      <td>3000</td>\n",
       "      <td>1950</td>\n",
       "      <td>150</td>\n",
       "      <td>1</td>\n",
       "      <td>1</td>\n",
       "    </tr>\n",
       "    <tr>\n",
       "      <td>3215</td>\n",
       "      <td>1371</td>\n",
       "      <td>NaT</td>\n",
       "      <td>NaN</td>\n",
       "      <td>NaN</td>\n",
       "      <td>NaN</td>\n",
       "      <td>NaN</td>\n",
       "      <td>50</td>\n",
       "      <td>2018-12-30</td>\n",
       "      <td>Омск</td>\n",
       "      <td>Ириней</td>\n",
       "      <td>Трофимов</td>\n",
       "      <td>2018-12-25</td>\n",
       "      <td>smart</td>\n",
       "      <td>50</td>\n",
       "      <td>15360</td>\n",
       "      <td>500</td>\n",
       "      <td>550</td>\n",
       "      <td>200</td>\n",
       "      <td>3</td>\n",
       "      <td>3</td>\n",
       "    </tr>\n",
       "  </tbody>\n",
       "</table>\n",
       "</div>"
      ],
      "text/plain": [
       "      user_id month  calls_count  minute_sum  mes_count  internet_gb  age  \\\n",
       "3214     1128   NaT          NaN         NaN        NaN          NaN   51   \n",
       "3215     1371   NaT          NaN         NaN        NaN          NaN   50   \n",
       "\n",
       "     churn_date      city first_name last_name   reg_date tariff  \\\n",
       "3214 2018-12-23  Волжский     Ксения    Агаева 2018-12-15  ultra   \n",
       "3215 2018-12-30      Омск     Ириней  Трофимов 2018-12-25  smart   \n",
       "\n",
       "      messages_included  mb_per_month_included  minutes_included  \\\n",
       "3214               1000                  30720              3000   \n",
       "3215                 50                  15360               500   \n",
       "\n",
       "      rub_monthly_fee  rub_per_gb  rub_per_message  rub_per_minute  \n",
       "3214             1950         150                1               1  \n",
       "3215              550         200                3               3  "
      ]
     },
     "execution_count": 47,
     "metadata": {},
     "output_type": "execute_result"
    }
   ],
   "source": [
    "df.query('month==\"NaN\"')"
   ]
  },
  {
   "cell_type": "code",
   "execution_count": 48,
   "id": "cf06324e",
   "metadata": {},
   "outputs": [],
   "source": [
    "# Удалим 2 человека, которые не пользовались услугами.\n",
    "df=df.dropna(subset=['month'])"
   ]
  },
  {
   "cell_type": "code",
   "execution_count": 49,
   "id": "fdbeea11",
   "metadata": {},
   "outputs": [
    {
     "data": {
      "text/html": [
       "<div>\n",
       "<style scoped>\n",
       "    .dataframe tbody tr th:only-of-type {\n",
       "        vertical-align: middle;\n",
       "    }\n",
       "\n",
       "    .dataframe tbody tr th {\n",
       "        vertical-align: top;\n",
       "    }\n",
       "\n",
       "    .dataframe thead th {\n",
       "        text-align: right;\n",
       "    }\n",
       "</style>\n",
       "<table border=\"1\" class=\"dataframe\">\n",
       "  <thead>\n",
       "    <tr style=\"text-align: right;\">\n",
       "      <th></th>\n",
       "      <th>user_id</th>\n",
       "      <th>month</th>\n",
       "      <th>calls_count</th>\n",
       "      <th>minute_sum</th>\n",
       "      <th>mes_count</th>\n",
       "      <th>internet_gb</th>\n",
       "      <th>age</th>\n",
       "      <th>churn_date</th>\n",
       "      <th>city</th>\n",
       "      <th>first_name</th>\n",
       "      <th>last_name</th>\n",
       "      <th>reg_date</th>\n",
       "      <th>tariff</th>\n",
       "      <th>messages_included</th>\n",
       "      <th>mb_per_month_included</th>\n",
       "      <th>minutes_included</th>\n",
       "      <th>rub_monthly_fee</th>\n",
       "      <th>rub_per_gb</th>\n",
       "      <th>rub_per_message</th>\n",
       "      <th>rub_per_minute</th>\n",
       "    </tr>\n",
       "  </thead>\n",
       "  <tbody>\n",
       "  </tbody>\n",
       "</table>\n",
       "</div>"
      ],
      "text/plain": [
       "Empty DataFrame\n",
       "Columns: [user_id, month, calls_count, minute_sum, mes_count, internet_gb, age, churn_date, city, first_name, last_name, reg_date, tariff, messages_included, mb_per_month_included, minutes_included, rub_monthly_fee, rub_per_gb, rub_per_message, rub_per_minute]\n",
       "Index: []"
      ]
     },
     "execution_count": 49,
     "metadata": {},
     "output_type": "execute_result"
    }
   ],
   "source": [
    "df.query('month==\"NaT\"')"
   ]
  },
  {
   "cell_type": "code",
   "execution_count": 50,
   "id": "c9c03314",
   "metadata": {},
   "outputs": [
    {
     "data": {
      "text/plain": [
       "(3214, 20)"
      ]
     },
     "execution_count": 50,
     "metadata": {},
     "output_type": "execute_result"
    }
   ],
   "source": [
    "df.shape"
   ]
  },
  {
   "cell_type": "code",
   "execution_count": 51,
   "id": "2ff190c7",
   "metadata": {},
   "outputs": [],
   "source": [
    "# Занулим все пропуски\n",
    "df=df.fillna(0)"
   ]
  },
  {
   "cell_type": "code",
   "execution_count": 52,
   "id": "7fd77252",
   "metadata": {},
   "outputs": [],
   "source": [
    "# Функция для додсчета перерасхода трафика\n",
    "\n",
    "#def overtraffic (row):\n",
    "#    sms = (row['mes_count'] - row['messages_included']) * row['rub_per_message']\n",
    "#    mins = (row['minute_sum'] - row['minutes_included']) * row['rub_per_minute']\n",
    "#    gb = (row['internet_gb'] - (np.ceil(row['mb_per_month_included']/1024).astype('int'))) * row['rub_per_gb']\n",
    "#    sum_all = 0\n",
    "#   for i in [sms, mins, gb]:\n",
    "#        if i > 0:\n",
    "#            sum_all += i\n",
    "          \n",
    "#    return sum_all\n",
    "          "
   ]
  },
  {
   "cell_type": "code",
   "execution_count": 53,
   "id": "3d10d9c4",
   "metadata": {},
   "outputs": [],
   "source": [
    "# Применим функцию перерасхода + абонентская плата\n",
    "#df['revenue']=df.apply(overtraffic, axis=1) + df['rub_monthly_fee']"
   ]
  },
  {
   "cell_type": "code",
   "execution_count": 54,
   "id": "38d76edd",
   "metadata": {},
   "outputs": [],
   "source": [
    "# Функция для додсчета перерасхода трафика\n",
    "\n",
    "def overtraffic (row):\n",
    "    sms = max(0, (row['mes_count'] - row['messages_included']) * row['rub_per_message'])\n",
    "    mins = max(0, (row['minute_sum'] - row['minutes_included']) * row['rub_per_minute'])\n",
    "    gb = max(0, (row['internet_gb'] - (np.ceil(row['mb_per_month_included']/1024).astype('int'))) * row['rub_per_gb'])\n",
    "        \n",
    "    return sms + mins + gb + row['rub_monthly_fee'] \n",
    "\n",
    "df['revenue']=df.apply(overtraffic, axis=1)          "
   ]
  },
  {
   "cell_type": "code",
   "execution_count": 55,
   "id": "5d039c24",
   "metadata": {},
   "outputs": [
    {
     "data": {
      "text/html": [
       "<div>\n",
       "<style scoped>\n",
       "    .dataframe tbody tr th:only-of-type {\n",
       "        vertical-align: middle;\n",
       "    }\n",
       "\n",
       "    .dataframe tbody tr th {\n",
       "        vertical-align: top;\n",
       "    }\n",
       "\n",
       "    .dataframe thead th {\n",
       "        text-align: right;\n",
       "    }\n",
       "</style>\n",
       "<table border=\"1\" class=\"dataframe\">\n",
       "  <thead>\n",
       "    <tr style=\"text-align: right;\">\n",
       "      <th></th>\n",
       "      <th>user_id</th>\n",
       "      <th>month</th>\n",
       "      <th>calls_count</th>\n",
       "      <th>minute_sum</th>\n",
       "      <th>mes_count</th>\n",
       "      <th>internet_gb</th>\n",
       "      <th>age</th>\n",
       "      <th>churn_date</th>\n",
       "      <th>city</th>\n",
       "      <th>first_name</th>\n",
       "      <th>last_name</th>\n",
       "      <th>reg_date</th>\n",
       "      <th>tariff</th>\n",
       "      <th>messages_included</th>\n",
       "      <th>mb_per_month_included</th>\n",
       "      <th>minutes_included</th>\n",
       "      <th>rub_monthly_fee</th>\n",
       "      <th>rub_per_gb</th>\n",
       "      <th>rub_per_message</th>\n",
       "      <th>rub_per_minute</th>\n",
       "      <th>revenue</th>\n",
       "    </tr>\n",
       "  </thead>\n",
       "  <tbody>\n",
       "    <tr>\n",
       "      <td>0</td>\n",
       "      <td>1000</td>\n",
       "      <td>2018-05-01</td>\n",
       "      <td>22.0</td>\n",
       "      <td>159.0</td>\n",
       "      <td>22.0</td>\n",
       "      <td>3.0</td>\n",
       "      <td>52</td>\n",
       "      <td>0</td>\n",
       "      <td>Краснодар</td>\n",
       "      <td>Рафаил</td>\n",
       "      <td>Верещагин</td>\n",
       "      <td>2018-05-25</td>\n",
       "      <td>ultra</td>\n",
       "      <td>1000</td>\n",
       "      <td>30720</td>\n",
       "      <td>3000</td>\n",
       "      <td>1950</td>\n",
       "      <td>150</td>\n",
       "      <td>1</td>\n",
       "      <td>1</td>\n",
       "      <td>1950.0</td>\n",
       "    </tr>\n",
       "    <tr>\n",
       "      <td>1</td>\n",
       "      <td>1000</td>\n",
       "      <td>2018-06-01</td>\n",
       "      <td>43.0</td>\n",
       "      <td>172.0</td>\n",
       "      <td>60.0</td>\n",
       "      <td>23.0</td>\n",
       "      <td>52</td>\n",
       "      <td>0</td>\n",
       "      <td>Краснодар</td>\n",
       "      <td>Рафаил</td>\n",
       "      <td>Верещагин</td>\n",
       "      <td>2018-05-25</td>\n",
       "      <td>ultra</td>\n",
       "      <td>1000</td>\n",
       "      <td>30720</td>\n",
       "      <td>3000</td>\n",
       "      <td>1950</td>\n",
       "      <td>150</td>\n",
       "      <td>1</td>\n",
       "      <td>1</td>\n",
       "      <td>1950.0</td>\n",
       "    </tr>\n",
       "    <tr>\n",
       "      <td>2</td>\n",
       "      <td>1000</td>\n",
       "      <td>2018-07-01</td>\n",
       "      <td>47.0</td>\n",
       "      <td>340.0</td>\n",
       "      <td>75.0</td>\n",
       "      <td>14.0</td>\n",
       "      <td>52</td>\n",
       "      <td>0</td>\n",
       "      <td>Краснодар</td>\n",
       "      <td>Рафаил</td>\n",
       "      <td>Верещагин</td>\n",
       "      <td>2018-05-25</td>\n",
       "      <td>ultra</td>\n",
       "      <td>1000</td>\n",
       "      <td>30720</td>\n",
       "      <td>3000</td>\n",
       "      <td>1950</td>\n",
       "      <td>150</td>\n",
       "      <td>1</td>\n",
       "      <td>1</td>\n",
       "      <td>1950.0</td>\n",
       "    </tr>\n",
       "    <tr>\n",
       "      <td>3</td>\n",
       "      <td>1000</td>\n",
       "      <td>2018-08-01</td>\n",
       "      <td>52.0</td>\n",
       "      <td>408.0</td>\n",
       "      <td>81.0</td>\n",
       "      <td>14.0</td>\n",
       "      <td>52</td>\n",
       "      <td>0</td>\n",
       "      <td>Краснодар</td>\n",
       "      <td>Рафаил</td>\n",
       "      <td>Верещагин</td>\n",
       "      <td>2018-05-25</td>\n",
       "      <td>ultra</td>\n",
       "      <td>1000</td>\n",
       "      <td>30720</td>\n",
       "      <td>3000</td>\n",
       "      <td>1950</td>\n",
       "      <td>150</td>\n",
       "      <td>1</td>\n",
       "      <td>1</td>\n",
       "      <td>1950.0</td>\n",
       "    </tr>\n",
       "    <tr>\n",
       "      <td>4</td>\n",
       "      <td>1000</td>\n",
       "      <td>2018-09-01</td>\n",
       "      <td>58.0</td>\n",
       "      <td>466.0</td>\n",
       "      <td>57.0</td>\n",
       "      <td>15.0</td>\n",
       "      <td>52</td>\n",
       "      <td>0</td>\n",
       "      <td>Краснодар</td>\n",
       "      <td>Рафаил</td>\n",
       "      <td>Верещагин</td>\n",
       "      <td>2018-05-25</td>\n",
       "      <td>ultra</td>\n",
       "      <td>1000</td>\n",
       "      <td>30720</td>\n",
       "      <td>3000</td>\n",
       "      <td>1950</td>\n",
       "      <td>150</td>\n",
       "      <td>1</td>\n",
       "      <td>1</td>\n",
       "      <td>1950.0</td>\n",
       "    </tr>\n",
       "    <tr>\n",
       "      <td>5</td>\n",
       "      <td>1000</td>\n",
       "      <td>2018-10-01</td>\n",
       "      <td>57.0</td>\n",
       "      <td>350.0</td>\n",
       "      <td>73.0</td>\n",
       "      <td>15.0</td>\n",
       "      <td>52</td>\n",
       "      <td>0</td>\n",
       "      <td>Краснодар</td>\n",
       "      <td>Рафаил</td>\n",
       "      <td>Верещагин</td>\n",
       "      <td>2018-05-25</td>\n",
       "      <td>ultra</td>\n",
       "      <td>1000</td>\n",
       "      <td>30720</td>\n",
       "      <td>3000</td>\n",
       "      <td>1950</td>\n",
       "      <td>150</td>\n",
       "      <td>1</td>\n",
       "      <td>1</td>\n",
       "      <td>1950.0</td>\n",
       "    </tr>\n",
       "    <tr>\n",
       "      <td>6</td>\n",
       "      <td>1000</td>\n",
       "      <td>2018-11-01</td>\n",
       "      <td>43.0</td>\n",
       "      <td>338.0</td>\n",
       "      <td>58.0</td>\n",
       "      <td>15.0</td>\n",
       "      <td>52</td>\n",
       "      <td>0</td>\n",
       "      <td>Краснодар</td>\n",
       "      <td>Рафаил</td>\n",
       "      <td>Верещагин</td>\n",
       "      <td>2018-05-25</td>\n",
       "      <td>ultra</td>\n",
       "      <td>1000</td>\n",
       "      <td>30720</td>\n",
       "      <td>3000</td>\n",
       "      <td>1950</td>\n",
       "      <td>150</td>\n",
       "      <td>1</td>\n",
       "      <td>1</td>\n",
       "      <td>1950.0</td>\n",
       "    </tr>\n",
       "    <tr>\n",
       "      <td>7</td>\n",
       "      <td>1000</td>\n",
       "      <td>2018-12-01</td>\n",
       "      <td>46.0</td>\n",
       "      <td>333.0</td>\n",
       "      <td>70.0</td>\n",
       "      <td>10.0</td>\n",
       "      <td>52</td>\n",
       "      <td>0</td>\n",
       "      <td>Краснодар</td>\n",
       "      <td>Рафаил</td>\n",
       "      <td>Верещагин</td>\n",
       "      <td>2018-05-25</td>\n",
       "      <td>ultra</td>\n",
       "      <td>1000</td>\n",
       "      <td>30720</td>\n",
       "      <td>3000</td>\n",
       "      <td>1950</td>\n",
       "      <td>150</td>\n",
       "      <td>1</td>\n",
       "      <td>1</td>\n",
       "      <td>1950.0</td>\n",
       "    </tr>\n",
       "  </tbody>\n",
       "</table>\n",
       "</div>"
      ],
      "text/plain": [
       "   user_id      month  calls_count  minute_sum  mes_count  internet_gb  age  \\\n",
       "0     1000 2018-05-01         22.0       159.0       22.0          3.0   52   \n",
       "1     1000 2018-06-01         43.0       172.0       60.0         23.0   52   \n",
       "2     1000 2018-07-01         47.0       340.0       75.0         14.0   52   \n",
       "3     1000 2018-08-01         52.0       408.0       81.0         14.0   52   \n",
       "4     1000 2018-09-01         58.0       466.0       57.0         15.0   52   \n",
       "5     1000 2018-10-01         57.0       350.0       73.0         15.0   52   \n",
       "6     1000 2018-11-01         43.0       338.0       58.0         15.0   52   \n",
       "7     1000 2018-12-01         46.0       333.0       70.0         10.0   52   \n",
       "\n",
       "  churn_date       city first_name  last_name   reg_date tariff  \\\n",
       "0          0  Краснодар     Рафаил  Верещагин 2018-05-25  ultra   \n",
       "1          0  Краснодар     Рафаил  Верещагин 2018-05-25  ultra   \n",
       "2          0  Краснодар     Рафаил  Верещагин 2018-05-25  ultra   \n",
       "3          0  Краснодар     Рафаил  Верещагин 2018-05-25  ultra   \n",
       "4          0  Краснодар     Рафаил  Верещагин 2018-05-25  ultra   \n",
       "5          0  Краснодар     Рафаил  Верещагин 2018-05-25  ultra   \n",
       "6          0  Краснодар     Рафаил  Верещагин 2018-05-25  ultra   \n",
       "7          0  Краснодар     Рафаил  Верещагин 2018-05-25  ultra   \n",
       "\n",
       "   messages_included  mb_per_month_included  minutes_included  \\\n",
       "0               1000                  30720              3000   \n",
       "1               1000                  30720              3000   \n",
       "2               1000                  30720              3000   \n",
       "3               1000                  30720              3000   \n",
       "4               1000                  30720              3000   \n",
       "5               1000                  30720              3000   \n",
       "6               1000                  30720              3000   \n",
       "7               1000                  30720              3000   \n",
       "\n",
       "   rub_monthly_fee  rub_per_gb  rub_per_message  rub_per_minute  revenue  \n",
       "0             1950         150                1               1   1950.0  \n",
       "1             1950         150                1               1   1950.0  \n",
       "2             1950         150                1               1   1950.0  \n",
       "3             1950         150                1               1   1950.0  \n",
       "4             1950         150                1               1   1950.0  \n",
       "5             1950         150                1               1   1950.0  \n",
       "6             1950         150                1               1   1950.0  \n",
       "7             1950         150                1               1   1950.0  "
      ]
     },
     "execution_count": 55,
     "metadata": {},
     "output_type": "execute_result"
    }
   ],
   "source": [
    "df.query('user_id==1000')"
   ]
  },
  {
   "cell_type": "code",
   "execution_count": 56,
   "id": "0ccf8998",
   "metadata": {},
   "outputs": [
    {
     "data": {
      "text/html": [
       "<div>\n",
       "<style scoped>\n",
       "    .dataframe tbody tr th:only-of-type {\n",
       "        vertical-align: middle;\n",
       "    }\n",
       "\n",
       "    .dataframe tbody tr th {\n",
       "        vertical-align: top;\n",
       "    }\n",
       "\n",
       "    .dataframe thead th {\n",
       "        text-align: right;\n",
       "    }\n",
       "</style>\n",
       "<table border=\"1\" class=\"dataframe\">\n",
       "  <thead>\n",
       "    <tr style=\"text-align: right;\">\n",
       "      <th></th>\n",
       "      <th>user_id</th>\n",
       "      <th>month</th>\n",
       "      <th>calls_count</th>\n",
       "      <th>minute_sum</th>\n",
       "      <th>mes_count</th>\n",
       "      <th>internet_gb</th>\n",
       "      <th>age</th>\n",
       "      <th>churn_date</th>\n",
       "      <th>city</th>\n",
       "      <th>first_name</th>\n",
       "      <th>last_name</th>\n",
       "      <th>reg_date</th>\n",
       "      <th>tariff</th>\n",
       "      <th>messages_included</th>\n",
       "      <th>mb_per_month_included</th>\n",
       "      <th>minutes_included</th>\n",
       "      <th>rub_monthly_fee</th>\n",
       "      <th>rub_per_gb</th>\n",
       "      <th>rub_per_message</th>\n",
       "      <th>rub_per_minute</th>\n",
       "      <th>revenue</th>\n",
       "    </tr>\n",
       "  </thead>\n",
       "  <tbody>\n",
       "    <tr>\n",
       "      <td>2901</td>\n",
       "      <td>1457</td>\n",
       "      <td>2018-03-01</td>\n",
       "      <td>47.0</td>\n",
       "      <td>335.0</td>\n",
       "      <td>11.0</td>\n",
       "      <td>12.0</td>\n",
       "      <td>35</td>\n",
       "      <td>0</td>\n",
       "      <td>Саратов</td>\n",
       "      <td>Татьяна</td>\n",
       "      <td>Авчинникова</td>\n",
       "      <td>2018-03-14</td>\n",
       "      <td>smart</td>\n",
       "      <td>50</td>\n",
       "      <td>15360</td>\n",
       "      <td>500</td>\n",
       "      <td>550</td>\n",
       "      <td>200</td>\n",
       "      <td>3</td>\n",
       "      <td>3</td>\n",
       "      <td>550.0</td>\n",
       "    </tr>\n",
       "    <tr>\n",
       "      <td>1014</td>\n",
       "      <td>1162</td>\n",
       "      <td>2018-12-01</td>\n",
       "      <td>34.0</td>\n",
       "      <td>254.0</td>\n",
       "      <td>0.0</td>\n",
       "      <td>16.0</td>\n",
       "      <td>63</td>\n",
       "      <td>0</td>\n",
       "      <td>Москва</td>\n",
       "      <td>Марта</td>\n",
       "      <td>Минаева</td>\n",
       "      <td>2018-10-09</td>\n",
       "      <td>smart</td>\n",
       "      <td>50</td>\n",
       "      <td>15360</td>\n",
       "      <td>500</td>\n",
       "      <td>550</td>\n",
       "      <td>200</td>\n",
       "      <td>3</td>\n",
       "      <td>3</td>\n",
       "      <td>750.0</td>\n",
       "    </tr>\n",
       "    <tr>\n",
       "      <td>2498</td>\n",
       "      <td>1394</td>\n",
       "      <td>2018-08-01</td>\n",
       "      <td>57.0</td>\n",
       "      <td>461.0</td>\n",
       "      <td>1.0</td>\n",
       "      <td>9.0</td>\n",
       "      <td>47</td>\n",
       "      <td>0</td>\n",
       "      <td>Орёл</td>\n",
       "      <td>Ксения</td>\n",
       "      <td>Жукова</td>\n",
       "      <td>2018-01-12</td>\n",
       "      <td>smart</td>\n",
       "      <td>50</td>\n",
       "      <td>15360</td>\n",
       "      <td>500</td>\n",
       "      <td>550</td>\n",
       "      <td>200</td>\n",
       "      <td>3</td>\n",
       "      <td>3</td>\n",
       "      <td>550.0</td>\n",
       "    </tr>\n",
       "    <tr>\n",
       "      <td>1787</td>\n",
       "      <td>1285</td>\n",
       "      <td>2018-08-01</td>\n",
       "      <td>51.0</td>\n",
       "      <td>440.0</td>\n",
       "      <td>112.0</td>\n",
       "      <td>6.0</td>\n",
       "      <td>44</td>\n",
       "      <td>0</td>\n",
       "      <td>Краснодар</td>\n",
       "      <td>Ефим</td>\n",
       "      <td>Амельченко</td>\n",
       "      <td>2018-02-20</td>\n",
       "      <td>smart</td>\n",
       "      <td>50</td>\n",
       "      <td>15360</td>\n",
       "      <td>500</td>\n",
       "      <td>550</td>\n",
       "      <td>200</td>\n",
       "      <td>3</td>\n",
       "      <td>3</td>\n",
       "      <td>736.0</td>\n",
       "    </tr>\n",
       "    <tr>\n",
       "      <td>2354</td>\n",
       "      <td>1376</td>\n",
       "      <td>2018-08-01</td>\n",
       "      <td>68.0</td>\n",
       "      <td>453.0</td>\n",
       "      <td>0.0</td>\n",
       "      <td>19.0</td>\n",
       "      <td>46</td>\n",
       "      <td>0</td>\n",
       "      <td>Самара</td>\n",
       "      <td>Пётр</td>\n",
       "      <td>Акимов</td>\n",
       "      <td>2018-05-31</td>\n",
       "      <td>smart</td>\n",
       "      <td>50</td>\n",
       "      <td>15360</td>\n",
       "      <td>500</td>\n",
       "      <td>550</td>\n",
       "      <td>200</td>\n",
       "      <td>3</td>\n",
       "      <td>3</td>\n",
       "      <td>1350.0</td>\n",
       "    </tr>\n",
       "  </tbody>\n",
       "</table>\n",
       "</div>"
      ],
      "text/plain": [
       "      user_id      month  calls_count  minute_sum  mes_count  internet_gb  \\\n",
       "2901     1457 2018-03-01         47.0       335.0       11.0         12.0   \n",
       "1014     1162 2018-12-01         34.0       254.0        0.0         16.0   \n",
       "2498     1394 2018-08-01         57.0       461.0        1.0          9.0   \n",
       "1787     1285 2018-08-01         51.0       440.0      112.0          6.0   \n",
       "2354     1376 2018-08-01         68.0       453.0        0.0         19.0   \n",
       "\n",
       "      age churn_date       city first_name    last_name   reg_date tariff  \\\n",
       "2901   35          0    Саратов    Татьяна  Авчинникова 2018-03-14  smart   \n",
       "1014   63          0     Москва      Марта      Минаева 2018-10-09  smart   \n",
       "2498   47          0       Орёл     Ксения       Жукова 2018-01-12  smart   \n",
       "1787   44          0  Краснодар       Ефим   Амельченко 2018-02-20  smart   \n",
       "2354   46          0     Самара       Пётр       Акимов 2018-05-31  smart   \n",
       "\n",
       "      messages_included  mb_per_month_included  minutes_included  \\\n",
       "2901                 50                  15360               500   \n",
       "1014                 50                  15360               500   \n",
       "2498                 50                  15360               500   \n",
       "1787                 50                  15360               500   \n",
       "2354                 50                  15360               500   \n",
       "\n",
       "      rub_monthly_fee  rub_per_gb  rub_per_message  rub_per_minute  revenue  \n",
       "2901              550         200                3               3    550.0  \n",
       "1014              550         200                3               3    750.0  \n",
       "2498              550         200                3               3    550.0  \n",
       "1787              550         200                3               3    736.0  \n",
       "2354              550         200                3               3   1350.0  "
      ]
     },
     "execution_count": 56,
     "metadata": {},
     "output_type": "execute_result"
    }
   ],
   "source": [
    "df.sample(5)"
   ]
  },
  {
   "cell_type": "markdown",
   "id": "685743a5",
   "metadata": {},
   "source": [
    "## Вывод \n",
    "Привели типы данных к нужным, объединили таблицы.\n",
    "\n",
    "Посчитали  для каждого пользователя:\n",
    "- количество сделанных звонков и израсходованных минут разговора по месяцам;\n",
    "- количество отправленных сообщений по месяцам;\n",
    "- объем израсходованного интернет-трафика по месяцам;\n",
    "- помесячную выручку с каждого пользователя."
   ]
  },
  {
   "cell_type": "markdown",
   "id": "80b488fb",
   "metadata": {},
   "source": [
    "# Анализ данных"
   ]
  },
  {
   "cell_type": "code",
   "execution_count": 57,
   "id": "97462b39",
   "metadata": {},
   "outputs": [
    {
     "data": {
      "text/plain": [
       "2039100.0"
      ]
     },
     "execution_count": 57,
     "metadata": {},
     "output_type": "execute_result"
    }
   ],
   "source": [
    "df.query('tariff== \"ultra\"').revenue.sum()"
   ]
  },
  {
   "cell_type": "code",
   "execution_count": 58,
   "id": "53dbd89a",
   "metadata": {},
   "outputs": [
    {
     "data": {
      "text/plain": [
       "2875351.0"
      ]
     },
     "execution_count": 58,
     "metadata": {},
     "output_type": "execute_result"
    }
   ],
   "source": [
    "df.query('tariff== \"smart\"').revenue.sum()"
   ]
  },
  {
   "cell_type": "markdown",
   "id": "c05a603d",
   "metadata": {},
   "source": [
    "Медиана, средняя, дисперсия, стандартное отклонение по доходу, sms, минутам и гигабайтам."
   ]
  },
  {
   "cell_type": "code",
   "execution_count": 59,
   "id": "74f7c406",
   "metadata": {},
   "outputs": [],
   "source": [
    "#df.groupby('tariff').agg({'revenue':['median','mean','var','std'],'calls_count':['median','mean','var','std'] })"
   ]
  },
  {
   "cell_type": "code",
   "execution_count": 60,
   "id": "2a1cc347",
   "metadata": {},
   "outputs": [
    {
     "data": {
      "text/html": [
       "<div>\n",
       "<style scoped>\n",
       "    .dataframe tbody tr th:only-of-type {\n",
       "        vertical-align: middle;\n",
       "    }\n",
       "\n",
       "    .dataframe tbody tr th {\n",
       "        vertical-align: top;\n",
       "    }\n",
       "\n",
       "    .dataframe thead tr th {\n",
       "        text-align: left;\n",
       "    }\n",
       "\n",
       "    .dataframe thead tr:last-of-type th {\n",
       "        text-align: right;\n",
       "    }\n",
       "</style>\n",
       "<table border=\"1\" class=\"dataframe\">\n",
       "  <thead>\n",
       "    <tr>\n",
       "      <th></th>\n",
       "      <th colspan=\"4\" halign=\"left\">median</th>\n",
       "      <th colspan=\"4\" halign=\"left\">mean</th>\n",
       "      <th colspan=\"4\" halign=\"left\">var</th>\n",
       "      <th colspan=\"4\" halign=\"left\">std</th>\n",
       "    </tr>\n",
       "    <tr>\n",
       "      <th></th>\n",
       "      <th>calls_count</th>\n",
       "      <th>internet_gb</th>\n",
       "      <th>minute_sum</th>\n",
       "      <th>revenue</th>\n",
       "      <th>calls_count</th>\n",
       "      <th>internet_gb</th>\n",
       "      <th>minute_sum</th>\n",
       "      <th>revenue</th>\n",
       "      <th>calls_count</th>\n",
       "      <th>internet_gb</th>\n",
       "      <th>minute_sum</th>\n",
       "      <th>revenue</th>\n",
       "      <th>calls_count</th>\n",
       "      <th>internet_gb</th>\n",
       "      <th>minute_sum</th>\n",
       "      <th>revenue</th>\n",
       "    </tr>\n",
       "    <tr>\n",
       "      <th>tariff</th>\n",
       "      <th></th>\n",
       "      <th></th>\n",
       "      <th></th>\n",
       "      <th></th>\n",
       "      <th></th>\n",
       "      <th></th>\n",
       "      <th></th>\n",
       "      <th></th>\n",
       "      <th></th>\n",
       "      <th></th>\n",
       "      <th></th>\n",
       "      <th></th>\n",
       "      <th></th>\n",
       "      <th></th>\n",
       "      <th></th>\n",
       "      <th></th>\n",
       "    </tr>\n",
       "  </thead>\n",
       "  <tbody>\n",
       "    <tr>\n",
       "      <td>smart</td>\n",
       "      <td>60.0</td>\n",
       "      <td>17.0</td>\n",
       "      <td>422.0</td>\n",
       "      <td>1023.0</td>\n",
       "      <td>58.463437</td>\n",
       "      <td>16.328847</td>\n",
       "      <td>417.934948</td>\n",
       "      <td>1289.973531</td>\n",
       "      <td>672.876243</td>\n",
       "      <td>33.028705</td>\n",
       "      <td>36219.315784</td>\n",
       "      <td>669785.708006</td>\n",
       "      <td>25.939858</td>\n",
       "      <td>5.747061</td>\n",
       "      <td>190.313730</td>\n",
       "      <td>818.404367</td>\n",
       "    </tr>\n",
       "    <tr>\n",
       "      <td>ultra</td>\n",
       "      <td>74.0</td>\n",
       "      <td>19.0</td>\n",
       "      <td>518.0</td>\n",
       "      <td>1950.0</td>\n",
       "      <td>73.392893</td>\n",
       "      <td>19.494416</td>\n",
       "      <td>526.623350</td>\n",
       "      <td>2070.152284</td>\n",
       "      <td>1928.689990</td>\n",
       "      <td>97.091686</td>\n",
       "      <td>100873.633397</td>\n",
       "      <td>141516.745079</td>\n",
       "      <td>43.916853</td>\n",
       "      <td>9.853511</td>\n",
       "      <td>317.606098</td>\n",
       "      <td>376.187114</td>\n",
       "    </tr>\n",
       "  </tbody>\n",
       "</table>\n",
       "</div>"
      ],
      "text/plain": [
       "            median                                       mean              \\\n",
       "       calls_count internet_gb minute_sum revenue calls_count internet_gb   \n",
       "tariff                                                                      \n",
       "smart         60.0        17.0      422.0  1023.0   58.463437   16.328847   \n",
       "ultra         74.0        19.0      518.0  1950.0   73.392893   19.494416   \n",
       "\n",
       "                                         var                             \\\n",
       "        minute_sum      revenue  calls_count internet_gb     minute_sum   \n",
       "tariff                                                                    \n",
       "smart   417.934948  1289.973531   672.876243   33.028705   36219.315784   \n",
       "ultra   526.623350  2070.152284  1928.689990   97.091686  100873.633397   \n",
       "\n",
       "                              std                                      \n",
       "              revenue calls_count internet_gb  minute_sum     revenue  \n",
       "tariff                                                                 \n",
       "smart   669785.708006   25.939858    5.747061  190.313730  818.404367  \n",
       "ultra   141516.745079   43.916853    9.853511  317.606098  376.187114  "
      ]
     },
     "execution_count": 60,
     "metadata": {},
     "output_type": "execute_result"
    }
   ],
   "source": [
    "df.pivot_table(index = 'tariff', values = ['revenue','calls_count','minute_sum','internet_gb'], aggfunc = [\"median\", \"mean\", 'var','std'])"
   ]
  },
  {
   "cell_type": "code",
   "execution_count": 61,
   "id": "d2a7a973",
   "metadata": {},
   "outputs": [
    {
     "data": {
      "image/png": "[encoded data removed]",
      "text/plain": [
       "<Figure size 864x432 with 1 Axes>"
      ]
     },
     "metadata": {
      "needs_background": "light"
     },
     "output_type": "display_data"
    }
   ],
   "source": [
    "df.boxplot('revenue', by='tariff', figsize=(12,6));"
   ]
  },
  {
   "cell_type": "markdown",
   "id": "2030bc83",
   "metadata": {},
   "source": [
    "По данному боксплоту видно, что:\n",
    "- Абоненты тарифа Ультра, платят только абонентскую плату, и совсем небольшое количество выбросов, это люди, которым не хватило базовых лимитов.\n",
    "- Абонентам тарифа Смарт, явно не хватает базовых лимитов, многие пользователи доплачивают."
   ]
  },
  {
   "cell_type": "code",
   "execution_count": 62,
   "id": "76d11390",
   "metadata": {
    "scrolled": false
   },
   "outputs": [
    {
     "data": {
      "image/png": "[encoded data removed]",
      "text/plain": [
       "<Figure size 864x432 with 1 Axes>"
      ]
     },
     "metadata": {
      "needs_background": "light"
     },
     "output_type": "display_data"
    },
    {
     "data": {
      "image/png": "[encoded data removed]",
      "text/plain": [
       "<Figure size 864x432 with 1 Axes>"
      ]
     },
     "metadata": {
      "needs_background": "light"
     },
     "output_type": "display_data"
    },
    {
     "data": {
      "image/png": "[encoded data removed]",
      "text/plain": [
       "<Figure size 864x432 with 1 Axes>"
      ]
     },
     "metadata": {
      "needs_background": "light"
     },
     "output_type": "display_data"
    },
    {
     "data": {
      "image/png": "[encoded data removed]",
      "text/plain": [
       "<Figure size 864x432 with 1 Axes>"
      ]
     },
     "metadata": {
      "needs_background": "light"
     },
     "output_type": "display_data"
    }
   ],
   "source": [
    "list_of_columns=['minute_sum','mes_count','internet_gb','revenue']\n",
    "\n",
    "for column in list_of_columns:\n",
    "    \n",
    "    df.groupby('tariff')[column].plot.hist(alpha=0.5, legend=True, bins=35, figsize=(12,6))\n",
    "\n",
    "    plt.legend(['Смарт', 'Ультра'])\n",
    "    plt.title(column)\n",
    "    plt.show()"
   ]
  },
  {
   "cell_type": "code",
   "execution_count": 63,
   "id": "ba08c446",
   "metadata": {},
   "outputs": [
    {
     "data": {
      "image/png": "[encoded data removed]",
      "text/plain": [
       "<Figure size 720x576 with 1 Axes>"
      ]
     },
     "metadata": {
      "needs_background": "light"
     },
     "output_type": "display_data"
    }
   ],
   "source": [
    "# КОД РЕВЬЮЕРА\n",
    "\n",
    "df.groupby('tariff')['minute_sum'].plot.hist(alpha=0.5, legend=True, bins=25, figsize=(10,8))\n",
    "\n",
    "plt.legend(['Смарт', 'Ультра'])\n",
    "plt.title('Заголовок')\n",
    "plt.xlabel('Подпись')\n",
    "plt.ylabel('Подпись')\n",
    "\n",
    "plt.show()"
   ]
  },
  {
   "cell_type": "markdown",
   "id": "6145d8c3",
   "metadata": {},
   "source": [
    "## Вывод \n",
    "- Все гистограммы абонентов Ультра скошены впрво\n",
    "- Распределения использованных минут и ГБ похожи на нормальные распределения.\n",
    "- Абоненты Ультра используют больше смс, минут и Гб, чем абоненты Смарт\n",
    "- Многие Абоненты Смарта платят за доп услуги, в отличи от Ультры, которые платят только за базовый тариф\n"
   ]
  },
  {
   "cell_type": "markdown",
   "id": "23341758",
   "metadata": {},
   "source": [
    "# Проверка гипотез"
   ]
  },
  {
   "cell_type": "markdown",
   "id": "d2726052",
   "metadata": {},
   "source": [
    "Для проверки гипотез будем использовать ttest\n",
    "\n",
    "Зададим пороговое значение альфа =0.05\n",
    "\n",
    "Параметр equal_var = False, т.к. размер выборок разный и дисперсия генеральных выборок неизвесна."
   ]
  },
  {
   "cell_type": "markdown",
   "id": "82eaf718",
   "metadata": {},
   "source": [
    "- Нулевая гипотеза H0: средняя выручка пользователей тарифов «Ультра» и «Смарт» одинаковая\n",
    "- H1: средняя выручка пользователей тарифов «Ультра» и «Смарт» различаются"
   ]
  },
  {
   "cell_type": "code",
   "execution_count": 64,
   "id": "eb136ed8",
   "metadata": {},
   "outputs": [],
   "source": [
    "alpha = 0.05"
   ]
  },
  {
   "cell_type": "code",
   "execution_count": 65,
   "id": "a9576fad",
   "metadata": {},
   "outputs": [
    {
     "name": "stdout",
     "output_type": "stream",
     "text": [
      "p-значение:  4.2606313931076085e-250\n",
      "Отвергаем нулевую гипотезу\n"
     ]
    }
   ],
   "source": [
    "results = st.ttest_ind(\n",
    "    df.query('tariff== \"ultra\"')['revenue'], \n",
    "    df.query('tariff== \"smart\"')['revenue'],\n",
    "    equal_var = False)\n",
    "print('p-значение: ', results.pvalue)\n",
    "\n",
    "if results.pvalue < alpha:\n",
    "    print(\"Отвергаем нулевую гипотезу\")\n",
    "else:\n",
    "    print(\"Не получилось отвергнуть нулевую гипотезу\") "
   ]
  },
  {
   "cell_type": "code",
   "execution_count": 66,
   "id": "c0d9e98d",
   "metadata": {},
   "outputs": [
    {
     "data": {
      "text/plain": [
       "2070.1522842639592"
      ]
     },
     "execution_count": 66,
     "metadata": {},
     "output_type": "execute_result"
    }
   ],
   "source": [
    " df.query('tariff== \"ultra\"')['revenue'].mean()"
   ]
  },
  {
   "cell_type": "code",
   "execution_count": 67,
   "id": "96e3c209",
   "metadata": {},
   "outputs": [
    {
     "data": {
      "text/plain": [
       "1289.9735307312696"
      ]
     },
     "execution_count": 67,
     "metadata": {},
     "output_type": "execute_result"
    }
   ],
   "source": [
    " df.query('tariff== \"smart\"')['revenue'].mean()"
   ]
  },
  {
   "cell_type": "markdown",
   "id": "0fb32004",
   "metadata": {},
   "source": [
    "Средняя выручка по разным тарифам различается."
   ]
  },
  {
   "cell_type": "markdown",
   "id": "ee705214",
   "metadata": {},
   "source": [
    "- Нулевая гипотеза H0: средняя выручка пользователей из Москвы НЕ отличается от выручки пользователей из других регионов\n",
    "- H1: средняя выручка пользователей из Москвы отличается от выручки пользователей из других регионов\n"
   ]
  },
  {
   "cell_type": "code",
   "execution_count": 68,
   "id": "ba3cb955",
   "metadata": {},
   "outputs": [
    {
     "name": "stdout",
     "output_type": "stream",
     "text": [
      "p-значение:  0.5257376663729298\n",
      "Не получилось отвергнуть нулевую гипотезу\n"
     ]
    }
   ],
   "source": [
    "results = st.ttest_ind(\n",
    "    df.query('city== \"Москва\"')['revenue'], \n",
    "    df.query('city != \"Москва\"')['revenue'],\n",
    "    equal_var = False)\n",
    "print('p-значение: ', results.pvalue)\n",
    "\n",
    "if results.pvalue < alpha:\n",
    "    print(\"Отвергаем нулевую гипотезу\")\n",
    "else:\n",
    "    print(\"Не получилось отвергнуть нулевую гипотезу\") "
   ]
  },
  {
   "cell_type": "code",
   "execution_count": 69,
   "id": "acea9eee",
   "metadata": {},
   "outputs": [
    {
     "data": {
      "text/plain": [
       "1546.7135842880523"
      ]
     },
     "execution_count": 69,
     "metadata": {},
     "output_type": "execute_result"
    }
   ],
   "source": [
    " df.query('city== \"Москва\"')['revenue'].mean()"
   ]
  },
  {
   "cell_type": "code",
   "execution_count": 70,
   "id": "cd4dba01",
   "metadata": {},
   "outputs": [
    {
     "data": {
      "text/plain": [
       "1524.9362274298885"
      ]
     },
     "execution_count": 70,
     "metadata": {},
     "output_type": "execute_result"
    }
   ],
   "source": [
    " df.query('city!= \"Москва\"')['revenue'].mean()"
   ]
  },
  {
   "cell_type": "markdown",
   "id": "ee483909",
   "metadata": {},
   "source": [
    "Средняя выручка по Москве и по регионам, не отличается."
   ]
  },
  {
   "cell_type": "markdown",
   "id": "ea54fc49",
   "metadata": {},
   "source": [
    "# Общий вывод"
   ]
  },
  {
   "cell_type": "markdown",
   "id": "c928d94a",
   "metadata": {},
   "source": [
    "Абоненты тарифа Ультра укладываются в свои базовые лимиты и редко покупают допы.\n",
    "Абоненты Смарта не укладываются в лимиты и часто покупают допы.\n",
    "Для оператора связи выгоднее продвигать тариф Ультра. Средняя выручка пользователей из Москвы не отличается от пользователей в регионах."
   ]
  }
 ],
 "metadata": {
  "ExecuteTimeLog": [
   {
    "duration": 1864,
    "start_time": "2022-02-13T13:41:38.100Z"
   },
   {
    "duration": 1145,
    "start_time": "2022-02-13T13:41:39.968Z"
   },
   {
    "duration": 27,
    "start_time": "2022-02-13T13:41:41.116Z"
   },
   {
    "duration": 336,
    "start_time": "2022-02-13T13:41:41.147Z"
   },
   {
    "duration": 239,
    "start_time": "2022-02-13T13:41:41.487Z"
   },
   {
    "duration": 288,
    "start_time": "2022-02-13T13:41:41.729Z"
   },
   {
    "duration": 319,
    "start_time": "2022-02-13T13:41:42.020Z"
   },
   {
    "duration": 178,
    "start_time": "2022-02-13T13:41:42.351Z"
   },
   {
    "duration": 270,
    "start_time": "2022-02-13T13:41:42.533Z"
   },
   {
    "duration": 168,
    "start_time": "2022-02-13T13:41:42.806Z"
   },
   {
    "duration": 173,
    "start_time": "2022-02-13T13:41:42.978Z"
   },
   {
    "duration": 203,
    "start_time": "2022-02-13T13:41:43.155Z"
   },
   {
    "duration": 226,
    "start_time": "2022-02-13T13:41:43.361Z"
   },
   {
    "duration": 312,
    "start_time": "2022-02-13T13:41:43.589Z"
   },
   {
    "duration": 120,
    "start_time": "2022-02-13T13:41:43.905Z"
   },
   {
    "duration": 271,
    "start_time": "2022-02-13T13:41:44.028Z"
   },
   {
    "duration": 300,
    "start_time": "2022-02-13T13:41:44.302Z"
   },
   {
    "duration": 347,
    "start_time": "2022-02-13T13:41:44.605Z"
   },
   {
    "duration": 207,
    "start_time": "2022-02-13T13:41:44.955Z"
   },
   {
    "duration": 224,
    "start_time": "2022-02-13T13:41:45.165Z"
   },
   {
    "duration": 254,
    "start_time": "2022-02-13T13:41:45.392Z"
   },
   {
    "duration": 202,
    "start_time": "2022-02-13T13:41:45.649Z"
   },
   {
    "duration": 218,
    "start_time": "2022-02-13T13:41:45.858Z"
   },
   {
    "duration": 250,
    "start_time": "2022-02-13T13:41:46.080Z"
   },
   {
    "duration": 181,
    "start_time": "2022-02-13T13:41:46.333Z"
   },
   {
    "duration": 147,
    "start_time": "2022-02-13T13:41:46.518Z"
   },
   {
    "duration": 188,
    "start_time": "2022-02-13T13:41:46.667Z"
   },
   {
    "duration": 224,
    "start_time": "2022-02-13T13:41:46.858Z"
   },
   {
    "duration": 169,
    "start_time": "2022-02-13T13:41:47.085Z"
   },
   {
    "duration": 248,
    "start_time": "2022-02-13T13:41:47.257Z"
   },
   {
    "duration": 323,
    "start_time": "2022-02-13T13:41:47.507Z"
   },
   {
    "duration": 293,
    "start_time": "2022-02-13T13:41:47.833Z"
   },
   {
    "duration": 205,
    "start_time": "2022-02-13T13:41:48.129Z"
   },
   {
    "duration": 308,
    "start_time": "2022-02-13T13:41:48.337Z"
   },
   {
    "duration": 392,
    "start_time": "2022-02-13T13:41:48.652Z"
   },
   {
    "duration": 199,
    "start_time": "2022-02-13T13:41:49.053Z"
   },
   {
    "duration": 155,
    "start_time": "2022-02-13T13:41:49.266Z"
   },
   {
    "duration": 146,
    "start_time": "2022-02-13T13:41:49.433Z"
   },
   {
    "duration": 246,
    "start_time": "2022-02-13T13:41:49.583Z"
   },
   {
    "duration": 276,
    "start_time": "2022-02-13T13:41:49.832Z"
   },
   {
    "duration": 236,
    "start_time": "2022-02-13T13:41:50.116Z"
   },
   {
    "duration": 336,
    "start_time": "2022-02-13T13:41:50.355Z"
   },
   {
    "duration": 233,
    "start_time": "2022-02-13T13:41:50.694Z"
   },
   {
    "duration": 298,
    "start_time": "2022-02-13T13:41:50.931Z"
   },
   {
    "duration": 222,
    "start_time": "2022-02-13T13:41:51.233Z"
   },
   {
    "duration": 235,
    "start_time": "2022-02-13T13:41:51.458Z"
   },
   {
    "duration": 289,
    "start_time": "2022-02-13T13:41:51.699Z"
   },
   {
    "duration": 170,
    "start_time": "2022-02-13T13:41:51.991Z"
   },
   {
    "duration": 185,
    "start_time": "2022-02-13T13:41:52.164Z"
   },
   {
    "duration": 309,
    "start_time": "2022-02-13T13:41:52.352Z"
   },
   {
    "duration": 284,
    "start_time": "2022-02-13T13:41:52.664Z"
   },
   {
    "duration": 946,
    "start_time": "2022-02-13T13:41:52.951Z"
   },
   {
    "duration": 54,
    "start_time": "2022-02-13T13:41:53.900Z"
   },
   {
    "duration": 200,
    "start_time": "2022-02-13T13:41:53.959Z"
   },
   {
    "duration": 225,
    "start_time": "2022-02-13T13:41:54.163Z"
   },
   {
    "duration": 303,
    "start_time": "2022-02-13T13:41:54.392Z"
   },
   {
    "duration": 275,
    "start_time": "2022-02-13T13:41:54.698Z"
   },
   {
    "duration": 1087,
    "start_time": "2022-02-13T13:41:54.976Z"
   },
   {
    "duration": 5380,
    "start_time": "2022-02-13T13:41:56.066Z"
   },
   {
    "duration": 4,
    "start_time": "2022-02-13T13:42:01.448Z"
   },
   {
    "duration": 277,
    "start_time": "2022-02-13T13:42:01.455Z"
   },
   {
    "duration": 224,
    "start_time": "2022-02-13T13:42:01.735Z"
   },
   {
    "duration": 152,
    "start_time": "2022-02-13T13:42:01.962Z"
   },
   {
    "duration": 182,
    "start_time": "2022-02-13T13:42:02.118Z"
   },
   {
    "duration": 279,
    "start_time": "2022-02-13T13:42:02.305Z"
   },
   {
    "duration": 146,
    "start_time": "2022-02-13T13:42:02.592Z"
   },
   {
    "duration": 36,
    "start_time": "2022-02-13T13:44:56.572Z"
   },
   {
    "duration": 823,
    "start_time": "2022-02-13T13:48:48.571Z"
   }
  ],
  "kernelspec": {
   "display_name": "Python 3 (ipykernel)",
   "language": "python",
   "name": "python3"
  },
  "language_info": {
   "codemirror_mode": {
    "name": "ipython",
    "version": 3
   },
   "file_extension": ".py",
   "mimetype": "text/x-python",
   "name": "python",
   "nbconvert_exporter": "python",
   "pygments_lexer": "ipython3",
   "version": "3.7.8"
  },
  "toc": {
   "base_numbering": 1,
   "nav_menu": {},
   "number_sections": true,
   "sideBar": true,
   "skip_h1_title": false,
   "title_cell": "Table of Contents",
   "title_sidebar": "Contents",
   "toc_cell": false,
   "toc_position": {
    "height": "calc(100% - 180px)",
    "left": "10px",
    "top": "150px",
    "width": "292px"
   },
   "toc_section_display": true,
   "toc_window_display": true
  }
 },
 "nbformat": 4,
 "nbformat_minor": 5
}

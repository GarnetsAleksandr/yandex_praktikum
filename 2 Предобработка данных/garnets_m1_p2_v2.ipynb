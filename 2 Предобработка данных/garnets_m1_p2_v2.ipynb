{
 "cells": [
  {
   "cell_type": "markdown",
   "metadata": {},
   "source": [
    "# Исследование надёжности заёмщиков\n",
    "\n",
    "Заказчик — кредитный отдел банка. Нужно разобраться, влияет ли семейное положение и количество детей клиента на факт погашения кредита в срок. Входные данные от банка — статистика о платёжеспособности клиентов.\n",
    "\n",
    "Результаты исследования будут учтены при построении модели **кредитного скоринга** — специальной системы, которая оценивает способность потенциального заёмщика вернуть кредит банку."
   ]
  },
  {
   "cell_type": "markdown",
   "metadata": {},
   "source": [
    "---"
   ]
  },
  {
   "cell_type": "markdown",
   "metadata": {},
   "source": [
    "## Обзор данных"
   ]
  },
  {
   "cell_type": "code",
   "execution_count": 1,
   "metadata": {},
   "outputs": [],
   "source": [
    "#Импорт библиотек\n",
    "import pandas as pd\n",
    "from pymystem3 import Mystem\n",
    "m = Mystem() \n",
    "from collections import Counter"
   ]
  },
  {
   "cell_type": "code",
   "execution_count": 2,
   "metadata": {
    "scrolled": false
   },
   "outputs": [
    {
     "data": {
      "text/html": [
       "<div>\n",
       "<style scoped>\n",
       "    .dataframe tbody tr th:only-of-type {\n",
       "        vertical-align: middle;\n",
       "    }\n",
       "\n",
       "    .dataframe tbody tr th {\n",
       "        vertical-align: top;\n",
       "    }\n",
       "\n",
       "    .dataframe thead th {\n",
       "        text-align: right;\n",
       "    }\n",
       "</style>\n",
       "<table border=\"1\" class=\"dataframe\">\n",
       "  <thead>\n",
       "    <tr style=\"text-align: right;\">\n",
       "      <th></th>\n",
       "      <th>children</th>\n",
       "      <th>days_employed</th>\n",
       "      <th>dob_years</th>\n",
       "      <th>education</th>\n",
       "      <th>education_id</th>\n",
       "      <th>family_status</th>\n",
       "      <th>family_status_id</th>\n",
       "      <th>gender</th>\n",
       "      <th>income_type</th>\n",
       "      <th>debt</th>\n",
       "      <th>total_income</th>\n",
       "      <th>purpose</th>\n",
       "    </tr>\n",
       "  </thead>\n",
       "  <tbody>\n",
       "    <tr>\n",
       "      <td>0</td>\n",
       "      <td>1</td>\n",
       "      <td>-8437.673028</td>\n",
       "      <td>42</td>\n",
       "      <td>высшее</td>\n",
       "      <td>0</td>\n",
       "      <td>женат / замужем</td>\n",
       "      <td>0</td>\n",
       "      <td>F</td>\n",
       "      <td>сотрудник</td>\n",
       "      <td>0</td>\n",
       "      <td>253875.639453</td>\n",
       "      <td>покупка жилья</td>\n",
       "    </tr>\n",
       "    <tr>\n",
       "      <td>1</td>\n",
       "      <td>1</td>\n",
       "      <td>-4024.803754</td>\n",
       "      <td>36</td>\n",
       "      <td>среднее</td>\n",
       "      <td>1</td>\n",
       "      <td>женат / замужем</td>\n",
       "      <td>0</td>\n",
       "      <td>F</td>\n",
       "      <td>сотрудник</td>\n",
       "      <td>0</td>\n",
       "      <td>112080.014102</td>\n",
       "      <td>приобретение автомобиля</td>\n",
       "    </tr>\n",
       "    <tr>\n",
       "      <td>2</td>\n",
       "      <td>0</td>\n",
       "      <td>-5623.422610</td>\n",
       "      <td>33</td>\n",
       "      <td>Среднее</td>\n",
       "      <td>1</td>\n",
       "      <td>женат / замужем</td>\n",
       "      <td>0</td>\n",
       "      <td>M</td>\n",
       "      <td>сотрудник</td>\n",
       "      <td>0</td>\n",
       "      <td>145885.952297</td>\n",
       "      <td>покупка жилья</td>\n",
       "    </tr>\n",
       "    <tr>\n",
       "      <td>3</td>\n",
       "      <td>3</td>\n",
       "      <td>-4124.747207</td>\n",
       "      <td>32</td>\n",
       "      <td>среднее</td>\n",
       "      <td>1</td>\n",
       "      <td>женат / замужем</td>\n",
       "      <td>0</td>\n",
       "      <td>M</td>\n",
       "      <td>сотрудник</td>\n",
       "      <td>0</td>\n",
       "      <td>267628.550329</td>\n",
       "      <td>дополнительное образование</td>\n",
       "    </tr>\n",
       "    <tr>\n",
       "      <td>4</td>\n",
       "      <td>0</td>\n",
       "      <td>340266.072047</td>\n",
       "      <td>53</td>\n",
       "      <td>среднее</td>\n",
       "      <td>1</td>\n",
       "      <td>гражданский брак</td>\n",
       "      <td>1</td>\n",
       "      <td>F</td>\n",
       "      <td>пенсионер</td>\n",
       "      <td>0</td>\n",
       "      <td>158616.077870</td>\n",
       "      <td>сыграть свадьбу</td>\n",
       "    </tr>\n",
       "    <tr>\n",
       "      <td>5</td>\n",
       "      <td>0</td>\n",
       "      <td>-926.185831</td>\n",
       "      <td>27</td>\n",
       "      <td>высшее</td>\n",
       "      <td>0</td>\n",
       "      <td>гражданский брак</td>\n",
       "      <td>1</td>\n",
       "      <td>M</td>\n",
       "      <td>компаньон</td>\n",
       "      <td>0</td>\n",
       "      <td>255763.565419</td>\n",
       "      <td>покупка жилья</td>\n",
       "    </tr>\n",
       "    <tr>\n",
       "      <td>6</td>\n",
       "      <td>0</td>\n",
       "      <td>-2879.202052</td>\n",
       "      <td>43</td>\n",
       "      <td>высшее</td>\n",
       "      <td>0</td>\n",
       "      <td>женат / замужем</td>\n",
       "      <td>0</td>\n",
       "      <td>F</td>\n",
       "      <td>компаньон</td>\n",
       "      <td>0</td>\n",
       "      <td>240525.971920</td>\n",
       "      <td>операции с жильем</td>\n",
       "    </tr>\n",
       "    <tr>\n",
       "      <td>7</td>\n",
       "      <td>0</td>\n",
       "      <td>-152.779569</td>\n",
       "      <td>50</td>\n",
       "      <td>СРЕДНЕЕ</td>\n",
       "      <td>1</td>\n",
       "      <td>женат / замужем</td>\n",
       "      <td>0</td>\n",
       "      <td>M</td>\n",
       "      <td>сотрудник</td>\n",
       "      <td>0</td>\n",
       "      <td>135823.934197</td>\n",
       "      <td>образование</td>\n",
       "    </tr>\n",
       "    <tr>\n",
       "      <td>8</td>\n",
       "      <td>2</td>\n",
       "      <td>-6929.865299</td>\n",
       "      <td>35</td>\n",
       "      <td>ВЫСШЕЕ</td>\n",
       "      <td>0</td>\n",
       "      <td>гражданский брак</td>\n",
       "      <td>1</td>\n",
       "      <td>F</td>\n",
       "      <td>сотрудник</td>\n",
       "      <td>0</td>\n",
       "      <td>95856.832424</td>\n",
       "      <td>на проведение свадьбы</td>\n",
       "    </tr>\n",
       "    <tr>\n",
       "      <td>9</td>\n",
       "      <td>0</td>\n",
       "      <td>-2188.756445</td>\n",
       "      <td>41</td>\n",
       "      <td>среднее</td>\n",
       "      <td>1</td>\n",
       "      <td>женат / замужем</td>\n",
       "      <td>0</td>\n",
       "      <td>M</td>\n",
       "      <td>сотрудник</td>\n",
       "      <td>0</td>\n",
       "      <td>144425.938277</td>\n",
       "      <td>покупка жилья для семьи</td>\n",
       "    </tr>\n",
       "    <tr>\n",
       "      <td>10</td>\n",
       "      <td>2</td>\n",
       "      <td>-4171.483647</td>\n",
       "      <td>36</td>\n",
       "      <td>высшее</td>\n",
       "      <td>0</td>\n",
       "      <td>женат / замужем</td>\n",
       "      <td>0</td>\n",
       "      <td>M</td>\n",
       "      <td>компаньон</td>\n",
       "      <td>0</td>\n",
       "      <td>113943.491460</td>\n",
       "      <td>покупка недвижимости</td>\n",
       "    </tr>\n",
       "    <tr>\n",
       "      <td>11</td>\n",
       "      <td>0</td>\n",
       "      <td>-792.701887</td>\n",
       "      <td>40</td>\n",
       "      <td>среднее</td>\n",
       "      <td>1</td>\n",
       "      <td>женат / замужем</td>\n",
       "      <td>0</td>\n",
       "      <td>F</td>\n",
       "      <td>сотрудник</td>\n",
       "      <td>0</td>\n",
       "      <td>77069.234271</td>\n",
       "      <td>покупка коммерческой недвижимости</td>\n",
       "    </tr>\n",
       "    <tr>\n",
       "      <td>12</td>\n",
       "      <td>0</td>\n",
       "      <td>NaN</td>\n",
       "      <td>65</td>\n",
       "      <td>среднее</td>\n",
       "      <td>1</td>\n",
       "      <td>гражданский брак</td>\n",
       "      <td>1</td>\n",
       "      <td>M</td>\n",
       "      <td>пенсионер</td>\n",
       "      <td>0</td>\n",
       "      <td>NaN</td>\n",
       "      <td>сыграть свадьбу</td>\n",
       "    </tr>\n",
       "    <tr>\n",
       "      <td>13</td>\n",
       "      <td>0</td>\n",
       "      <td>-1846.641941</td>\n",
       "      <td>54</td>\n",
       "      <td>неоконченное высшее</td>\n",
       "      <td>2</td>\n",
       "      <td>женат / замужем</td>\n",
       "      <td>0</td>\n",
       "      <td>F</td>\n",
       "      <td>сотрудник</td>\n",
       "      <td>0</td>\n",
       "      <td>130458.228857</td>\n",
       "      <td>приобретение автомобиля</td>\n",
       "    </tr>\n",
       "    <tr>\n",
       "      <td>14</td>\n",
       "      <td>0</td>\n",
       "      <td>-1844.956182</td>\n",
       "      <td>56</td>\n",
       "      <td>высшее</td>\n",
       "      <td>0</td>\n",
       "      <td>гражданский брак</td>\n",
       "      <td>1</td>\n",
       "      <td>F</td>\n",
       "      <td>компаньон</td>\n",
       "      <td>1</td>\n",
       "      <td>165127.911772</td>\n",
       "      <td>покупка жилой недвижимости</td>\n",
       "    </tr>\n",
       "  </tbody>\n",
       "</table>\n",
       "</div>"
      ],
      "text/plain": [
       "    children  days_employed  dob_years            education  education_id  \\\n",
       "0          1   -8437.673028         42               высшее             0   \n",
       "1          1   -4024.803754         36              среднее             1   \n",
       "2          0   -5623.422610         33              Среднее             1   \n",
       "3          3   -4124.747207         32              среднее             1   \n",
       "4          0  340266.072047         53              среднее             1   \n",
       "5          0    -926.185831         27               высшее             0   \n",
       "6          0   -2879.202052         43               высшее             0   \n",
       "7          0    -152.779569         50              СРЕДНЕЕ             1   \n",
       "8          2   -6929.865299         35               ВЫСШЕЕ             0   \n",
       "9          0   -2188.756445         41              среднее             1   \n",
       "10         2   -4171.483647         36               высшее             0   \n",
       "11         0    -792.701887         40              среднее             1   \n",
       "12         0            NaN         65              среднее             1   \n",
       "13         0   -1846.641941         54  неоконченное высшее             2   \n",
       "14         0   -1844.956182         56               высшее             0   \n",
       "\n",
       "       family_status  family_status_id gender income_type  debt  \\\n",
       "0    женат / замужем                 0      F   сотрудник     0   \n",
       "1    женат / замужем                 0      F   сотрудник     0   \n",
       "2    женат / замужем                 0      M   сотрудник     0   \n",
       "3    женат / замужем                 0      M   сотрудник     0   \n",
       "4   гражданский брак                 1      F   пенсионер     0   \n",
       "5   гражданский брак                 1      M   компаньон     0   \n",
       "6    женат / замужем                 0      F   компаньон     0   \n",
       "7    женат / замужем                 0      M   сотрудник     0   \n",
       "8   гражданский брак                 1      F   сотрудник     0   \n",
       "9    женат / замужем                 0      M   сотрудник     0   \n",
       "10   женат / замужем                 0      M   компаньон     0   \n",
       "11   женат / замужем                 0      F   сотрудник     0   \n",
       "12  гражданский брак                 1      M   пенсионер     0   \n",
       "13   женат / замужем                 0      F   сотрудник     0   \n",
       "14  гражданский брак                 1      F   компаньон     1   \n",
       "\n",
       "     total_income                            purpose  \n",
       "0   253875.639453                      покупка жилья  \n",
       "1   112080.014102            приобретение автомобиля  \n",
       "2   145885.952297                      покупка жилья  \n",
       "3   267628.550329         дополнительное образование  \n",
       "4   158616.077870                    сыграть свадьбу  \n",
       "5   255763.565419                      покупка жилья  \n",
       "6   240525.971920                  операции с жильем  \n",
       "7   135823.934197                        образование  \n",
       "8    95856.832424              на проведение свадьбы  \n",
       "9   144425.938277            покупка жилья для семьи  \n",
       "10  113943.491460               покупка недвижимости  \n",
       "11   77069.234271  покупка коммерческой недвижимости  \n",
       "12            NaN                    сыграть свадьбу  \n",
       "13  130458.228857            приобретение автомобиля  \n",
       "14  165127.911772         покупка жилой недвижимости  "
      ]
     },
     "execution_count": 2,
     "metadata": {},
     "output_type": "execute_result"
    }
   ],
   "source": [
    "#Чтение файла в переменную\n",
    "try:\n",
    "    df = pd.read_csv('C:/Users/datasets/data.csv')  # Локальный путь\n",
    "except:\n",
    "    df = pd.read_csv('/datasets/data.csv')  # Серверный путь\n",
    "df.head(15)\n"
   ]
  },
  {
   "cell_type": "code",
   "execution_count": 3,
   "metadata": {},
   "outputs": [
    {
     "name": "stdout",
     "output_type": "stream",
     "text": [
      "<class 'pandas.core.frame.DataFrame'>\n",
      "RangeIndex: 21525 entries, 0 to 21524\n",
      "Data columns (total 12 columns):\n",
      "children            21525 non-null int64\n",
      "days_employed       19351 non-null float64\n",
      "dob_years           21525 non-null int64\n",
      "education           21525 non-null object\n",
      "education_id        21525 non-null int64\n",
      "family_status       21525 non-null object\n",
      "family_status_id    21525 non-null int64\n",
      "gender              21525 non-null object\n",
      "income_type         21525 non-null object\n",
      "debt                21525 non-null int64\n",
      "total_income        19351 non-null float64\n",
      "purpose             21525 non-null object\n",
      "dtypes: float64(2), int64(5), object(5)\n",
      "memory usage: 2.0+ MB\n"
     ]
    }
   ],
   "source": [
    "#Информация о данных\n",
    "df.info()"
   ]
  },
  {
   "cell_type": "markdown",
   "metadata": {},
   "source": [
    "Согласно документации к данным:\n",
    "- children — количество детей в семье\n",
    "- days_employed — общий трудовой стаж в днях\n",
    "- dob_years — возраст клиента в годах\n",
    "- education — уровень образования клиента\n",
    "- education_id — идентификатор уровня образования\n",
    "- family_status — семейное положение\n",
    "- family_status_id — идентификатор семейного положения\n",
    "- gender — пол клиента\n",
    "- income_type — тип занятости\n",
    "- debt — имел ли задолженность по возврату кредитов\n",
    "- total_income — ежемесячный доход\n",
    "- purpose — цель получения кредита\n",
    "\n",
    "В данных видны следующе нарушения:\n",
    "- days_employed — общий трудовой стаж в днях: отрицательные значения, пропуски, тип флоат, некорректные данные.\n",
    "- education — уровень образования клиента: разный регистр букв\n",
    "- total_income — ежемесячный доход: тип флоат, пропуски.\n"
   ]
  },
  {
   "cell_type": "markdown",
   "metadata": {},
   "source": [
    "**Вывод**"
   ]
  },
  {
   "cell_type": "markdown",
   "metadata": {},
   "source": [
    "В каждой строке таблицы — данные о клиенте(возраст, пол, количество детей, семейное положение, доход, информация о задолженности и образовании.\n",
    "\n",
    "Предварительно можно утверждать, что, данных достаточно для оценки способности потенциального заемщика вернуть кредит в срок. \n",
    "\n",
    "Чтобы двигаться дальше, нужно устранить проблемы в данных."
   ]
  },
  {
   "cell_type": "markdown",
   "metadata": {},
   "source": [
    "## Предобработка данных"
   ]
  },
  {
   "cell_type": "markdown",
   "metadata": {},
   "source": [
    "### Обработка пропусков"
   ]
  },
  {
   "cell_type": "code",
   "execution_count": 4,
   "metadata": {},
   "outputs": [
    {
     "data": {
      "text/plain": [
       "children               0\n",
       "days_employed       2174\n",
       "dob_years              0\n",
       "education              0\n",
       "education_id           0\n",
       "family_status          0\n",
       "family_status_id       0\n",
       "gender                 0\n",
       "income_type            0\n",
       "debt                   0\n",
       "total_income        2174\n",
       "purpose                0\n",
       "dtype: int64"
      ]
     },
     "execution_count": 4,
     "metadata": {},
     "output_type": "execute_result"
    }
   ],
   "source": [
    "df.isna().sum()"
   ]
  },
  {
   "cell_type": "markdown",
   "metadata": {},
   "source": [
    "В столбцах days_employed и total_income имеется одинаковое количество пропущенных значений.\n",
    "\n",
    "Попробуем найти связь.\n"
   ]
  },
  {
   "cell_type": "code",
   "execution_count": 5,
   "metadata": {},
   "outputs": [
    {
     "data": {
      "text/html": [
       "<div>\n",
       "<style scoped>\n",
       "    .dataframe tbody tr th:only-of-type {\n",
       "        vertical-align: middle;\n",
       "    }\n",
       "\n",
       "    .dataframe tbody tr th {\n",
       "        vertical-align: top;\n",
       "    }\n",
       "\n",
       "    .dataframe thead th {\n",
       "        text-align: right;\n",
       "    }\n",
       "</style>\n",
       "<table border=\"1\" class=\"dataframe\">\n",
       "  <thead>\n",
       "    <tr style=\"text-align: right;\">\n",
       "      <th></th>\n",
       "      <th>children</th>\n",
       "      <th>days_employed</th>\n",
       "      <th>dob_years</th>\n",
       "      <th>education</th>\n",
       "      <th>education_id</th>\n",
       "      <th>family_status</th>\n",
       "      <th>family_status_id</th>\n",
       "      <th>gender</th>\n",
       "      <th>income_type</th>\n",
       "      <th>debt</th>\n",
       "      <th>total_income</th>\n",
       "      <th>purpose</th>\n",
       "    </tr>\n",
       "  </thead>\n",
       "  <tbody>\n",
       "    <tr>\n",
       "      <td>12</td>\n",
       "      <td>0</td>\n",
       "      <td>NaN</td>\n",
       "      <td>65</td>\n",
       "      <td>среднее</td>\n",
       "      <td>1</td>\n",
       "      <td>гражданский брак</td>\n",
       "      <td>1</td>\n",
       "      <td>M</td>\n",
       "      <td>пенсионер</td>\n",
       "      <td>0</td>\n",
       "      <td>NaN</td>\n",
       "      <td>сыграть свадьбу</td>\n",
       "    </tr>\n",
       "    <tr>\n",
       "      <td>26</td>\n",
       "      <td>0</td>\n",
       "      <td>NaN</td>\n",
       "      <td>41</td>\n",
       "      <td>среднее</td>\n",
       "      <td>1</td>\n",
       "      <td>женат / замужем</td>\n",
       "      <td>0</td>\n",
       "      <td>M</td>\n",
       "      <td>госслужащий</td>\n",
       "      <td>0</td>\n",
       "      <td>NaN</td>\n",
       "      <td>образование</td>\n",
       "    </tr>\n",
       "    <tr>\n",
       "      <td>29</td>\n",
       "      <td>0</td>\n",
       "      <td>NaN</td>\n",
       "      <td>63</td>\n",
       "      <td>среднее</td>\n",
       "      <td>1</td>\n",
       "      <td>Не женат / не замужем</td>\n",
       "      <td>4</td>\n",
       "      <td>F</td>\n",
       "      <td>пенсионер</td>\n",
       "      <td>0</td>\n",
       "      <td>NaN</td>\n",
       "      <td>строительство жилой недвижимости</td>\n",
       "    </tr>\n",
       "    <tr>\n",
       "      <td>41</td>\n",
       "      <td>0</td>\n",
       "      <td>NaN</td>\n",
       "      <td>50</td>\n",
       "      <td>среднее</td>\n",
       "      <td>1</td>\n",
       "      <td>женат / замужем</td>\n",
       "      <td>0</td>\n",
       "      <td>F</td>\n",
       "      <td>госслужащий</td>\n",
       "      <td>0</td>\n",
       "      <td>NaN</td>\n",
       "      <td>сделка с подержанным автомобилем</td>\n",
       "    </tr>\n",
       "    <tr>\n",
       "      <td>55</td>\n",
       "      <td>0</td>\n",
       "      <td>NaN</td>\n",
       "      <td>54</td>\n",
       "      <td>среднее</td>\n",
       "      <td>1</td>\n",
       "      <td>гражданский брак</td>\n",
       "      <td>1</td>\n",
       "      <td>F</td>\n",
       "      <td>пенсионер</td>\n",
       "      <td>1</td>\n",
       "      <td>NaN</td>\n",
       "      <td>сыграть свадьбу</td>\n",
       "    </tr>\n",
       "    <tr>\n",
       "      <td>65</td>\n",
       "      <td>0</td>\n",
       "      <td>NaN</td>\n",
       "      <td>21</td>\n",
       "      <td>среднее</td>\n",
       "      <td>1</td>\n",
       "      <td>Не женат / не замужем</td>\n",
       "      <td>4</td>\n",
       "      <td>M</td>\n",
       "      <td>компаньон</td>\n",
       "      <td>0</td>\n",
       "      <td>NaN</td>\n",
       "      <td>операции с коммерческой недвижимостью</td>\n",
       "    </tr>\n",
       "    <tr>\n",
       "      <td>67</td>\n",
       "      <td>0</td>\n",
       "      <td>NaN</td>\n",
       "      <td>52</td>\n",
       "      <td>высшее</td>\n",
       "      <td>0</td>\n",
       "      <td>женат / замужем</td>\n",
       "      <td>0</td>\n",
       "      <td>F</td>\n",
       "      <td>пенсионер</td>\n",
       "      <td>0</td>\n",
       "      <td>NaN</td>\n",
       "      <td>покупка жилья для семьи</td>\n",
       "    </tr>\n",
       "    <tr>\n",
       "      <td>72</td>\n",
       "      <td>1</td>\n",
       "      <td>NaN</td>\n",
       "      <td>32</td>\n",
       "      <td>высшее</td>\n",
       "      <td>0</td>\n",
       "      <td>женат / замужем</td>\n",
       "      <td>0</td>\n",
       "      <td>M</td>\n",
       "      <td>госслужащий</td>\n",
       "      <td>0</td>\n",
       "      <td>NaN</td>\n",
       "      <td>операции с коммерческой недвижимостью</td>\n",
       "    </tr>\n",
       "    <tr>\n",
       "      <td>82</td>\n",
       "      <td>2</td>\n",
       "      <td>NaN</td>\n",
       "      <td>50</td>\n",
       "      <td>высшее</td>\n",
       "      <td>0</td>\n",
       "      <td>женат / замужем</td>\n",
       "      <td>0</td>\n",
       "      <td>F</td>\n",
       "      <td>сотрудник</td>\n",
       "      <td>0</td>\n",
       "      <td>NaN</td>\n",
       "      <td>жилье</td>\n",
       "    </tr>\n",
       "    <tr>\n",
       "      <td>83</td>\n",
       "      <td>0</td>\n",
       "      <td>NaN</td>\n",
       "      <td>52</td>\n",
       "      <td>среднее</td>\n",
       "      <td>1</td>\n",
       "      <td>женат / замужем</td>\n",
       "      <td>0</td>\n",
       "      <td>M</td>\n",
       "      <td>сотрудник</td>\n",
       "      <td>0</td>\n",
       "      <td>NaN</td>\n",
       "      <td>жилье</td>\n",
       "    </tr>\n",
       "  </tbody>\n",
       "</table>\n",
       "</div>"
      ],
      "text/plain": [
       "    children  days_employed  dob_years education  education_id  \\\n",
       "12         0            NaN         65   среднее             1   \n",
       "26         0            NaN         41   среднее             1   \n",
       "29         0            NaN         63   среднее             1   \n",
       "41         0            NaN         50   среднее             1   \n",
       "55         0            NaN         54   среднее             1   \n",
       "65         0            NaN         21   среднее             1   \n",
       "67         0            NaN         52    высшее             0   \n",
       "72         1            NaN         32    высшее             0   \n",
       "82         2            NaN         50    высшее             0   \n",
       "83         0            NaN         52   среднее             1   \n",
       "\n",
       "            family_status  family_status_id gender  income_type  debt  \\\n",
       "12       гражданский брак                 1      M    пенсионер     0   \n",
       "26        женат / замужем                 0      M  госслужащий     0   \n",
       "29  Не женат / не замужем                 4      F    пенсионер     0   \n",
       "41        женат / замужем                 0      F  госслужащий     0   \n",
       "55       гражданский брак                 1      F    пенсионер     1   \n",
       "65  Не женат / не замужем                 4      M    компаньон     0   \n",
       "67        женат / замужем                 0      F    пенсионер     0   \n",
       "72        женат / замужем                 0      M  госслужащий     0   \n",
       "82        женат / замужем                 0      F    сотрудник     0   \n",
       "83        женат / замужем                 0      M    сотрудник     0   \n",
       "\n",
       "    total_income                                purpose  \n",
       "12           NaN                        сыграть свадьбу  \n",
       "26           NaN                            образование  \n",
       "29           NaN       строительство жилой недвижимости  \n",
       "41           NaN       сделка с подержанным автомобилем  \n",
       "55           NaN                        сыграть свадьбу  \n",
       "65           NaN  операции с коммерческой недвижимостью  \n",
       "67           NaN                покупка жилья для семьи  \n",
       "72           NaN  операции с коммерческой недвижимостью  \n",
       "82           NaN                                  жилье  \n",
       "83           NaN                                  жилье  "
      ]
     },
     "execution_count": 5,
     "metadata": {},
     "output_type": "execute_result"
    }
   ],
   "source": [
    "# Вывод строк с пропусками\n",
    "df[df['days_employed'].isna()].head(10)"
   ]
  },
  {
   "cell_type": "markdown",
   "metadata": {},
   "source": [
    "   Из таблицы видна связь межу трудовым стажем и доходом, но, так же видно, наличие образования, детей и работы из чего можно сделать вывод, что данные не заполнены по объективным причинам (например, отсутствие справок, подтверждающие эти данные) или технических збоев. В рамках данного исследования, удалять эти строки считаю нецелесообразным."
   ]
  },
  {
   "cell_type": "code",
   "execution_count": 6,
   "metadata": {},
   "outputs": [],
   "source": [
    "# Столбец days_employed в данной работе ненужен, заполним пропуски 0.\n",
    "# В столбце total_income, пропуски заполним медианой, чтобы избежать влияния сверх высоких или сверх низких зарплат.\n",
    "df['days_employed']=df['days_employed'].fillna(df['days_employed'].median())\n",
    "df['total_income']=df['total_income'].fillna(df['total_income'].median())"
   ]
  },
  {
   "cell_type": "code",
   "execution_count": 7,
   "metadata": {},
   "outputs": [
    {
     "data": {
      "text/plain": [
       "children            0\n",
       "days_employed       0\n",
       "dob_years           0\n",
       "education           0\n",
       "education_id        0\n",
       "family_status       0\n",
       "family_status_id    0\n",
       "gender              0\n",
       "income_type         0\n",
       "debt                0\n",
       "total_income        0\n",
       "purpose             0\n",
       "dtype: int64"
      ]
     },
     "execution_count": 7,
     "metadata": {},
     "output_type": "execute_result"
    }
   ],
   "source": [
    "df.isna().sum()"
   ]
  },
  {
   "cell_type": "markdown",
   "metadata": {},
   "source": [
    "**Вывод**\n",
    "\n",
    "Заполнили пропуски в столбце дохода на медианные значения.\n",
    "Больше пропусков нет."
   ]
  },
  {
   "cell_type": "markdown",
   "metadata": {},
   "source": [
    "### Замена типа данных"
   ]
  },
  {
   "cell_type": "code",
   "execution_count": 8,
   "metadata": {},
   "outputs": [],
   "source": [
    "#Для удобства восприятия данных, в столбцах days_employed и total_income заменим тип данных на целочисленный.\n",
    "# Так же возьмем значения по модулю, чтобы избавиться от отрицательных значений.\n",
    "df['days_employed']=abs(df['days_employed'].astype('int'))\n",
    "df['total_income']=abs(df['total_income'].astype('int'))\n",
    "df['debt']=abs(df['debt'].astype('bool'))"
   ]
  },
  {
   "cell_type": "code",
   "execution_count": 9,
   "metadata": {},
   "outputs": [
    {
     "name": "stdout",
     "output_type": "stream",
     "text": [
      "<class 'pandas.core.frame.DataFrame'>\n",
      "RangeIndex: 21525 entries, 0 to 21524\n",
      "Data columns (total 12 columns):\n",
      "children            21525 non-null int64\n",
      "days_employed       21525 non-null int64\n",
      "dob_years           21525 non-null int64\n",
      "education           21525 non-null object\n",
      "education_id        21525 non-null int64\n",
      "family_status       21525 non-null object\n",
      "family_status_id    21525 non-null int64\n",
      "gender              21525 non-null object\n",
      "income_type         21525 non-null object\n",
      "debt                21525 non-null bool\n",
      "total_income        21525 non-null int64\n",
      "purpose             21525 non-null object\n",
      "dtypes: bool(1), int64(6), object(5)\n",
      "memory usage: 1.8+ MB\n"
     ]
    }
   ],
   "source": [
    "df.info()"
   ]
  },
  {
   "cell_type": "markdown",
   "metadata": {},
   "source": [
    "**Вывод**"
   ]
  },
  {
   "cell_type": "markdown",
   "metadata": {},
   "source": [
    "Тип данных в столбце total_income приведен к целочисленному, столбец debt изменен на булеан.\n",
    "\n"
   ]
  },
  {
   "cell_type": "markdown",
   "metadata": {},
   "source": [
    "### Обработка дубликатов"
   ]
  },
  {
   "cell_type": "code",
   "execution_count": 10,
   "metadata": {},
   "outputs": [
    {
     "data": {
      "text/html": [
       "<div>\n",
       "<style scoped>\n",
       "    .dataframe tbody tr th:only-of-type {\n",
       "        vertical-align: middle;\n",
       "    }\n",
       "\n",
       "    .dataframe tbody tr th {\n",
       "        vertical-align: top;\n",
       "    }\n",
       "\n",
       "    .dataframe thead th {\n",
       "        text-align: right;\n",
       "    }\n",
       "</style>\n",
       "<table border=\"1\" class=\"dataframe\">\n",
       "  <thead>\n",
       "    <tr style=\"text-align: right;\">\n",
       "      <th></th>\n",
       "      <th>children</th>\n",
       "      <th>days_employed</th>\n",
       "      <th>dob_years</th>\n",
       "      <th>education</th>\n",
       "      <th>education_id</th>\n",
       "      <th>family_status</th>\n",
       "      <th>family_status_id</th>\n",
       "      <th>gender</th>\n",
       "      <th>income_type</th>\n",
       "      <th>debt</th>\n",
       "      <th>total_income</th>\n",
       "      <th>purpose</th>\n",
       "    </tr>\n",
       "  </thead>\n",
       "  <tbody>\n",
       "    <tr>\n",
       "      <td>0</td>\n",
       "      <td>1</td>\n",
       "      <td>8437</td>\n",
       "      <td>42</td>\n",
       "      <td>высшее</td>\n",
       "      <td>0</td>\n",
       "      <td>женат / замужем</td>\n",
       "      <td>0</td>\n",
       "      <td>F</td>\n",
       "      <td>сотрудник</td>\n",
       "      <td>False</td>\n",
       "      <td>253875</td>\n",
       "      <td>покупка жилья</td>\n",
       "    </tr>\n",
       "    <tr>\n",
       "      <td>1</td>\n",
       "      <td>1</td>\n",
       "      <td>4024</td>\n",
       "      <td>36</td>\n",
       "      <td>среднее</td>\n",
       "      <td>1</td>\n",
       "      <td>женат / замужем</td>\n",
       "      <td>0</td>\n",
       "      <td>F</td>\n",
       "      <td>сотрудник</td>\n",
       "      <td>False</td>\n",
       "      <td>112080</td>\n",
       "      <td>приобретение автомобиля</td>\n",
       "    </tr>\n",
       "    <tr>\n",
       "      <td>2</td>\n",
       "      <td>0</td>\n",
       "      <td>5623</td>\n",
       "      <td>33</td>\n",
       "      <td>Среднее</td>\n",
       "      <td>1</td>\n",
       "      <td>женат / замужем</td>\n",
       "      <td>0</td>\n",
       "      <td>M</td>\n",
       "      <td>сотрудник</td>\n",
       "      <td>False</td>\n",
       "      <td>145885</td>\n",
       "      <td>покупка жилья</td>\n",
       "    </tr>\n",
       "    <tr>\n",
       "      <td>3</td>\n",
       "      <td>3</td>\n",
       "      <td>4124</td>\n",
       "      <td>32</td>\n",
       "      <td>среднее</td>\n",
       "      <td>1</td>\n",
       "      <td>женат / замужем</td>\n",
       "      <td>0</td>\n",
       "      <td>M</td>\n",
       "      <td>сотрудник</td>\n",
       "      <td>False</td>\n",
       "      <td>267628</td>\n",
       "      <td>дополнительное образование</td>\n",
       "    </tr>\n",
       "    <tr>\n",
       "      <td>4</td>\n",
       "      <td>0</td>\n",
       "      <td>340266</td>\n",
       "      <td>53</td>\n",
       "      <td>среднее</td>\n",
       "      <td>1</td>\n",
       "      <td>гражданский брак</td>\n",
       "      <td>1</td>\n",
       "      <td>F</td>\n",
       "      <td>пенсионер</td>\n",
       "      <td>False</td>\n",
       "      <td>158616</td>\n",
       "      <td>сыграть свадьбу</td>\n",
       "    </tr>\n",
       "  </tbody>\n",
       "</table>\n",
       "</div>"
      ],
      "text/plain": [
       "   children  days_employed  dob_years education  education_id  \\\n",
       "0         1           8437         42    высшее             0   \n",
       "1         1           4024         36   среднее             1   \n",
       "2         0           5623         33   Среднее             1   \n",
       "3         3           4124         32   среднее             1   \n",
       "4         0         340266         53   среднее             1   \n",
       "\n",
       "      family_status  family_status_id gender income_type   debt  total_income  \\\n",
       "0   женат / замужем                 0      F   сотрудник  False        253875   \n",
       "1   женат / замужем                 0      F   сотрудник  False        112080   \n",
       "2   женат / замужем                 0      M   сотрудник  False        145885   \n",
       "3   женат / замужем                 0      M   сотрудник  False        267628   \n",
       "4  гражданский брак                 1      F   пенсионер  False        158616   \n",
       "\n",
       "                      purpose  \n",
       "0               покупка жилья  \n",
       "1     приобретение автомобиля  \n",
       "2               покупка жилья  \n",
       "3  дополнительное образование  \n",
       "4             сыграть свадьбу  "
      ]
     },
     "execution_count": 10,
     "metadata": {},
     "output_type": "execute_result"
    }
   ],
   "source": [
    "df.head()"
   ]
  },
  {
   "cell_type": "code",
   "execution_count": 11,
   "metadata": {},
   "outputs": [],
   "source": [
    "# Приведем текст во всех столбцах к одному виду(маленькие буквы)\n",
    "df['education']=df['education'].str.lower()\n",
    "df['income_type']=df['income_type'].str.lower()\n",
    "df['family_status']=df['family_status'].str.lower()\n",
    "df['purpose']=df['purpose'].str.lower()"
   ]
  },
  {
   "cell_type": "markdown",
   "metadata": {},
   "source": [
    "**Проанализируем каждый столбец.**"
   ]
  },
  {
   "cell_type": "code",
   "execution_count": 12,
   "metadata": {},
   "outputs": [
    {
     "data": {
      "text/plain": [
       "среднее                15233\n",
       "высшее                  5260\n",
       "неоконченное высшее      744\n",
       "начальное                282\n",
       "ученая степень             6\n",
       "Name: education, dtype: int64"
      ]
     },
     "execution_count": 12,
     "metadata": {},
     "output_type": "execute_result"
    }
   ],
   "source": [
    "df['education'].value_counts()"
   ]
  },
  {
   "cell_type": "markdown",
   "metadata": {},
   "source": [
    "Все ок."
   ]
  },
  {
   "cell_type": "code",
   "execution_count": 13,
   "metadata": {},
   "outputs": [
    {
     "data": {
      "text/plain": [
       "35    617\n",
       "40    609\n",
       "41    607\n",
       "34    603\n",
       "38    598\n",
       "42    597\n",
       "33    581\n",
       "39    573\n",
       "31    560\n",
       "36    555\n",
       "44    547\n",
       "29    545\n",
       "30    540\n",
       "48    538\n",
       "37    537\n",
       "50    514\n",
       "43    513\n",
       "32    510\n",
       "49    508\n",
       "28    503\n",
       "45    497\n",
       "27    493\n",
       "56    487\n",
       "52    484\n",
       "47    480\n",
       "54    479\n",
       "46    475\n",
       "58    461\n",
       "57    460\n",
       "53    459\n",
       "51    448\n",
       "59    444\n",
       "55    443\n",
       "26    408\n",
       "60    377\n",
       "25    357\n",
       "61    355\n",
       "62    352\n",
       "63    269\n",
       "64    265\n",
       "24    264\n",
       "23    254\n",
       "65    194\n",
       "66    183\n",
       "22    183\n",
       "67    167\n",
       "21    111\n",
       "0     101\n",
       "68     99\n",
       "69     85\n",
       "70     65\n",
       "71     58\n",
       "20     51\n",
       "72     33\n",
       "19     14\n",
       "73      8\n",
       "74      6\n",
       "75      1\n",
       "Name: dob_years, dtype: int64"
      ]
     },
     "execution_count": 13,
     "metadata": {},
     "output_type": "execute_result"
    }
   ],
   "source": [
    "df['dob_years'].value_counts()\n"
   ]
  },
  {
   "cell_type": "code",
   "execution_count": 14,
   "metadata": {},
   "outputs": [
    {
     "data": {
      "text/html": [
       "<div>\n",
       "<style scoped>\n",
       "    .dataframe tbody tr th:only-of-type {\n",
       "        vertical-align: middle;\n",
       "    }\n",
       "\n",
       "    .dataframe tbody tr th {\n",
       "        vertical-align: top;\n",
       "    }\n",
       "\n",
       "    .dataframe thead th {\n",
       "        text-align: right;\n",
       "    }\n",
       "</style>\n",
       "<table border=\"1\" class=\"dataframe\">\n",
       "  <thead>\n",
       "    <tr style=\"text-align: right;\">\n",
       "      <th></th>\n",
       "      <th>children</th>\n",
       "      <th>days_employed</th>\n",
       "      <th>dob_years</th>\n",
       "      <th>education</th>\n",
       "      <th>education_id</th>\n",
       "      <th>family_status</th>\n",
       "      <th>family_status_id</th>\n",
       "      <th>gender</th>\n",
       "      <th>income_type</th>\n",
       "      <th>debt</th>\n",
       "      <th>total_income</th>\n",
       "      <th>purpose</th>\n",
       "    </tr>\n",
       "  </thead>\n",
       "  <tbody>\n",
       "    <tr>\n",
       "      <td>99</td>\n",
       "      <td>0</td>\n",
       "      <td>346541</td>\n",
       "      <td>0</td>\n",
       "      <td>среднее</td>\n",
       "      <td>1</td>\n",
       "      <td>женат / замужем</td>\n",
       "      <td>0</td>\n",
       "      <td>F</td>\n",
       "      <td>пенсионер</td>\n",
       "      <td>False</td>\n",
       "      <td>71291</td>\n",
       "      <td>автомобиль</td>\n",
       "    </tr>\n",
       "    <tr>\n",
       "      <td>149</td>\n",
       "      <td>0</td>\n",
       "      <td>2664</td>\n",
       "      <td>0</td>\n",
       "      <td>среднее</td>\n",
       "      <td>1</td>\n",
       "      <td>в разводе</td>\n",
       "      <td>3</td>\n",
       "      <td>F</td>\n",
       "      <td>сотрудник</td>\n",
       "      <td>False</td>\n",
       "      <td>70176</td>\n",
       "      <td>операции с жильем</td>\n",
       "    </tr>\n",
       "    <tr>\n",
       "      <td>270</td>\n",
       "      <td>3</td>\n",
       "      <td>1872</td>\n",
       "      <td>0</td>\n",
       "      <td>среднее</td>\n",
       "      <td>1</td>\n",
       "      <td>женат / замужем</td>\n",
       "      <td>0</td>\n",
       "      <td>F</td>\n",
       "      <td>сотрудник</td>\n",
       "      <td>False</td>\n",
       "      <td>102166</td>\n",
       "      <td>ремонт жилью</td>\n",
       "    </tr>\n",
       "    <tr>\n",
       "      <td>578</td>\n",
       "      <td>0</td>\n",
       "      <td>397856</td>\n",
       "      <td>0</td>\n",
       "      <td>среднее</td>\n",
       "      <td>1</td>\n",
       "      <td>женат / замужем</td>\n",
       "      <td>0</td>\n",
       "      <td>F</td>\n",
       "      <td>пенсионер</td>\n",
       "      <td>False</td>\n",
       "      <td>97620</td>\n",
       "      <td>строительство собственной недвижимости</td>\n",
       "    </tr>\n",
       "    <tr>\n",
       "      <td>1040</td>\n",
       "      <td>0</td>\n",
       "      <td>1158</td>\n",
       "      <td>0</td>\n",
       "      <td>высшее</td>\n",
       "      <td>0</td>\n",
       "      <td>в разводе</td>\n",
       "      <td>3</td>\n",
       "      <td>F</td>\n",
       "      <td>компаньон</td>\n",
       "      <td>False</td>\n",
       "      <td>303994</td>\n",
       "      <td>свой автомобиль</td>\n",
       "    </tr>\n",
       "    <tr>\n",
       "      <td>...</td>\n",
       "      <td>...</td>\n",
       "      <td>...</td>\n",
       "      <td>...</td>\n",
       "      <td>...</td>\n",
       "      <td>...</td>\n",
       "      <td>...</td>\n",
       "      <td>...</td>\n",
       "      <td>...</td>\n",
       "      <td>...</td>\n",
       "      <td>...</td>\n",
       "      <td>...</td>\n",
       "      <td>...</td>\n",
       "    </tr>\n",
       "    <tr>\n",
       "      <td>19829</td>\n",
       "      <td>0</td>\n",
       "      <td>1203</td>\n",
       "      <td>0</td>\n",
       "      <td>среднее</td>\n",
       "      <td>1</td>\n",
       "      <td>женат / замужем</td>\n",
       "      <td>0</td>\n",
       "      <td>F</td>\n",
       "      <td>сотрудник</td>\n",
       "      <td>False</td>\n",
       "      <td>145017</td>\n",
       "      <td>жилье</td>\n",
       "    </tr>\n",
       "    <tr>\n",
       "      <td>20462</td>\n",
       "      <td>0</td>\n",
       "      <td>338734</td>\n",
       "      <td>0</td>\n",
       "      <td>среднее</td>\n",
       "      <td>1</td>\n",
       "      <td>женат / замужем</td>\n",
       "      <td>0</td>\n",
       "      <td>F</td>\n",
       "      <td>пенсионер</td>\n",
       "      <td>False</td>\n",
       "      <td>259193</td>\n",
       "      <td>покупка своего жилья</td>\n",
       "    </tr>\n",
       "    <tr>\n",
       "      <td>20577</td>\n",
       "      <td>0</td>\n",
       "      <td>331741</td>\n",
       "      <td>0</td>\n",
       "      <td>среднее</td>\n",
       "      <td>1</td>\n",
       "      <td>не женат / не замужем</td>\n",
       "      <td>4</td>\n",
       "      <td>F</td>\n",
       "      <td>пенсионер</td>\n",
       "      <td>False</td>\n",
       "      <td>129788</td>\n",
       "      <td>недвижимость</td>\n",
       "    </tr>\n",
       "    <tr>\n",
       "      <td>21179</td>\n",
       "      <td>2</td>\n",
       "      <td>108</td>\n",
       "      <td>0</td>\n",
       "      <td>высшее</td>\n",
       "      <td>0</td>\n",
       "      <td>женат / замужем</td>\n",
       "      <td>0</td>\n",
       "      <td>M</td>\n",
       "      <td>компаньон</td>\n",
       "      <td>False</td>\n",
       "      <td>240702</td>\n",
       "      <td>строительство жилой недвижимости</td>\n",
       "    </tr>\n",
       "    <tr>\n",
       "      <td>21313</td>\n",
       "      <td>0</td>\n",
       "      <td>1268</td>\n",
       "      <td>0</td>\n",
       "      <td>среднее</td>\n",
       "      <td>1</td>\n",
       "      <td>не женат / не замужем</td>\n",
       "      <td>4</td>\n",
       "      <td>M</td>\n",
       "      <td>сотрудник</td>\n",
       "      <td>False</td>\n",
       "      <td>152419</td>\n",
       "      <td>операции с жильем</td>\n",
       "    </tr>\n",
       "  </tbody>\n",
       "</table>\n",
       "<p>101 rows × 12 columns</p>\n",
       "</div>"
      ],
      "text/plain": [
       "       children  days_employed  dob_years education  education_id  \\\n",
       "99            0         346541          0   среднее             1   \n",
       "149           0           2664          0   среднее             1   \n",
       "270           3           1872          0   среднее             1   \n",
       "578           0         397856          0   среднее             1   \n",
       "1040          0           1158          0    высшее             0   \n",
       "...         ...            ...        ...       ...           ...   \n",
       "19829         0           1203          0   среднее             1   \n",
       "20462         0         338734          0   среднее             1   \n",
       "20577         0         331741          0   среднее             1   \n",
       "21179         2            108          0    высшее             0   \n",
       "21313         0           1268          0   среднее             1   \n",
       "\n",
       "               family_status  family_status_id gender income_type   debt  \\\n",
       "99           женат / замужем                 0      F   пенсионер  False   \n",
       "149                в разводе                 3      F   сотрудник  False   \n",
       "270          женат / замужем                 0      F   сотрудник  False   \n",
       "578          женат / замужем                 0      F   пенсионер  False   \n",
       "1040               в разводе                 3      F   компаньон  False   \n",
       "...                      ...               ...    ...         ...    ...   \n",
       "19829        женат / замужем                 0      F   сотрудник  False   \n",
       "20462        женат / замужем                 0      F   пенсионер  False   \n",
       "20577  не женат / не замужем                 4      F   пенсионер  False   \n",
       "21179        женат / замужем                 0      M   компаньон  False   \n",
       "21313  не женат / не замужем                 4      M   сотрудник  False   \n",
       "\n",
       "       total_income                                 purpose  \n",
       "99            71291                              автомобиль  \n",
       "149           70176                       операции с жильем  \n",
       "270          102166                            ремонт жилью  \n",
       "578           97620  строительство собственной недвижимости  \n",
       "1040         303994                         свой автомобиль  \n",
       "...             ...                                     ...  \n",
       "19829        145017                                   жилье  \n",
       "20462        259193                    покупка своего жилья  \n",
       "20577        129788                            недвижимость  \n",
       "21179        240702        строительство жилой недвижимости  \n",
       "21313        152419                       операции с жильем  \n",
       "\n",
       "[101 rows x 12 columns]"
      ]
     },
     "execution_count": 14,
     "metadata": {},
     "output_type": "execute_result"
    }
   ],
   "source": [
    "df.loc[df['dob_years'] == 0]"
   ]
  },
  {
   "cell_type": "markdown",
   "metadata": {},
   "source": [
    "Ошибки в столбце возраст, есть 0е значения, заменим на средний."
   ]
  },
  {
   "cell_type": "code",
   "execution_count": 15,
   "metadata": {},
   "outputs": [],
   "source": [
    "df.loc[df['dob_years'] == 0, 'dob_years'] = df['dob_years'].mean()"
   ]
  },
  {
   "cell_type": "code",
   "execution_count": 16,
   "metadata": {},
   "outputs": [
    {
     "data": {
      "text/html": [
       "<div>\n",
       "<style scoped>\n",
       "    .dataframe tbody tr th:only-of-type {\n",
       "        vertical-align: middle;\n",
       "    }\n",
       "\n",
       "    .dataframe tbody tr th {\n",
       "        vertical-align: top;\n",
       "    }\n",
       "\n",
       "    .dataframe thead th {\n",
       "        text-align: right;\n",
       "    }\n",
       "</style>\n",
       "<table border=\"1\" class=\"dataframe\">\n",
       "  <thead>\n",
       "    <tr style=\"text-align: right;\">\n",
       "      <th></th>\n",
       "      <th>children</th>\n",
       "      <th>days_employed</th>\n",
       "      <th>dob_years</th>\n",
       "      <th>education</th>\n",
       "      <th>education_id</th>\n",
       "      <th>family_status</th>\n",
       "      <th>family_status_id</th>\n",
       "      <th>gender</th>\n",
       "      <th>income_type</th>\n",
       "      <th>debt</th>\n",
       "      <th>total_income</th>\n",
       "      <th>purpose</th>\n",
       "    </tr>\n",
       "  </thead>\n",
       "  <tbody>\n",
       "  </tbody>\n",
       "</table>\n",
       "</div>"
      ],
      "text/plain": [
       "Empty DataFrame\n",
       "Columns: [children, days_employed, dob_years, education, education_id, family_status, family_status_id, gender, income_type, debt, total_income, purpose]\n",
       "Index: []"
      ]
     },
     "execution_count": 16,
     "metadata": {},
     "output_type": "execute_result"
    }
   ],
   "source": [
    "df.loc[df['dob_years'] == 0]"
   ]
  },
  {
   "cell_type": "code",
   "execution_count": 17,
   "metadata": {},
   "outputs": [
    {
     "data": {
      "text/plain": [
       "F      14236\n",
       "M       7288\n",
       "XNA        1\n",
       "Name: gender, dtype: int64"
      ]
     },
     "execution_count": 17,
     "metadata": {},
     "output_type": "execute_result"
    }
   ],
   "source": [
    "df['gender'].value_counts()"
   ]
  },
  {
   "cell_type": "markdown",
   "metadata": {},
   "source": [
    "Есть один трансгендер."
   ]
  },
  {
   "cell_type": "code",
   "execution_count": 18,
   "metadata": {},
   "outputs": [
    {
     "data": {
      "text/plain": [
       " 0     14149\n",
       " 1      4818\n",
       " 2      2055\n",
       " 3       330\n",
       " 20       76\n",
       "-1        47\n",
       " 4        41\n",
       " 5         9\n",
       "Name: children, dtype: int64"
      ]
     },
     "execution_count": 18,
     "metadata": {},
     "output_type": "execute_result"
    }
   ],
   "source": [
    "df['children'].value_counts()"
   ]
  },
  {
   "cell_type": "markdown",
   "metadata": {},
   "source": [
    "20 и -1 детей, похоже на ошибку из-за человеческого фактора, заменим 20 на 2, -1 на 1."
   ]
  },
  {
   "cell_type": "code",
   "execution_count": 19,
   "metadata": {},
   "outputs": [],
   "source": [
    "df.loc[df['children'] == 20, 'children'] = 2\n",
    "df.loc[df['children'] == -1, 'children'] = 1"
   ]
  },
  {
   "cell_type": "code",
   "execution_count": 20,
   "metadata": {},
   "outputs": [
    {
     "data": {
      "text/plain": [
       "женат / замужем          12380\n",
       "гражданский брак          4177\n",
       "не женат / не замужем     2813\n",
       "в разводе                 1195\n",
       "вдовец / вдова             960\n",
       "Name: family_status, dtype: int64"
      ]
     },
     "execution_count": 20,
     "metadata": {},
     "output_type": "execute_result"
    }
   ],
   "source": [
    "df['family_status'].value_counts()"
   ]
  },
  {
   "cell_type": "markdown",
   "metadata": {},
   "source": [
    "Ок."
   ]
  },
  {
   "cell_type": "code",
   "execution_count": 21,
   "metadata": {},
   "outputs": [
    {
     "data": {
      "text/plain": [
       "сотрудник          11119\n",
       "компаньон           5085\n",
       "пенсионер           3856\n",
       "госслужащий         1459\n",
       "предприниматель        2\n",
       "безработный            2\n",
       "в декрете              1\n",
       "студент                1\n",
       "Name: income_type, dtype: int64"
      ]
     },
     "execution_count": 21,
     "metadata": {},
     "output_type": "execute_result"
    }
   ],
   "source": [
    "df['income_type'].value_counts()"
   ]
  },
  {
   "cell_type": "markdown",
   "metadata": {},
   "source": [
    "Ок."
   ]
  },
  {
   "cell_type": "code",
   "execution_count": 22,
   "metadata": {},
   "outputs": [
    {
     "data": {
      "text/plain": [
       "свадьба                                   797\n",
       "на проведение свадьбы                     777\n",
       "сыграть свадьбу                           774\n",
       "операции с недвижимостью                  676\n",
       "покупка коммерческой недвижимости         664\n",
       "покупка жилья для сдачи                   653\n",
       "операции с жильем                         653\n",
       "операции с коммерческой недвижимостью     651\n",
       "покупка жилья                             647\n",
       "жилье                                     647\n",
       "покупка жилья для семьи                   641\n",
       "строительство собственной недвижимости    635\n",
       "недвижимость                              634\n",
       "операции со своей недвижимостью           630\n",
       "строительство жилой недвижимости          626\n",
       "покупка недвижимости                      624\n",
       "строительство недвижимости                620\n",
       "покупка своего жилья                      620\n",
       "ремонт жилью                              612\n",
       "покупка жилой недвижимости                607\n",
       "на покупку своего автомобиля              505\n",
       "заняться высшим образованием              496\n",
       "автомобиль                                495\n",
       "сделка с подержанным автомобилем          489\n",
       "свой автомобиль                           480\n",
       "на покупку подержанного автомобиля        479\n",
       "автомобили                                478\n",
       "на покупку автомобиля                     472\n",
       "приобретение автомобиля                   462\n",
       "дополнительное образование                462\n",
       "сделка с автомобилем                      455\n",
       "высшее образование                        453\n",
       "образование                               447\n",
       "получение дополнительного образования     447\n",
       "получение образования                     443\n",
       "профильное образование                    436\n",
       "получение высшего образования             426\n",
       "заняться образованием                     412\n",
       "Name: purpose, dtype: int64"
      ]
     },
     "execution_count": 22,
     "metadata": {},
     "output_type": "execute_result"
    }
   ],
   "source": [
    "df['purpose'].value_counts()"
   ]
  },
  {
   "cell_type": "markdown",
   "metadata": {},
   "source": [
    "Ок."
   ]
  },
  {
   "cell_type": "code",
   "execution_count": 23,
   "metadata": {},
   "outputs": [
    {
     "data": {
      "text/plain": [
       "71"
      ]
     },
     "execution_count": 23,
     "metadata": {},
     "output_type": "execute_result"
    }
   ],
   "source": [
    "#Поиск явных дубликатов\n",
    "df.duplicated().sum()"
   ]
  },
  {
   "cell_type": "code",
   "execution_count": 24,
   "metadata": {},
   "outputs": [],
   "source": [
    "# Удаление дубликатов со сбросом индексов\n",
    "df = df.drop_duplicates().reset_index(drop=True) "
   ]
  },
  {
   "cell_type": "markdown",
   "metadata": {},
   "source": [
    "**Вывод**"
   ]
  },
  {
   "cell_type": "markdown",
   "metadata": {},
   "source": [
    "Был проведен анализ столбцов, исправлены значения возраста, количества детей, текст приведен к одному стилю, найдены и удалены дубликаты. \n"
   ]
  },
  {
   "cell_type": "markdown",
   "metadata": {},
   "source": [
    "### Лемматизация"
   ]
  },
  {
   "cell_type": "code",
   "execution_count": 25,
   "metadata": {},
   "outputs": [
    {
     "data": {
      "text/plain": [
       "38"
      ]
     },
     "execution_count": 25,
     "metadata": {},
     "output_type": "execute_result"
    }
   ],
   "source": [
    "df['purpose'].value_counts().count()"
   ]
  },
  {
   "cell_type": "markdown",
   "metadata": {},
   "source": [
    "В столбце цель кредита, 38 разных целей. Из них можно выделить 4е основных направления.\n",
    "- автомобиль\n",
    "- свадьба\n",
    "- образование\n",
    "- недвижимость\n",
    "\n",
    "Напишем функцию, с приминением лемматизации, разбивающую цели на 4е категории:"
   ]
  },
  {
   "cell_type": "code",
   "execution_count": 26,
   "metadata": {},
   "outputs": [],
   "source": [
    "# Функция получает лемму, соединяет ее в строку и возвращает категорию\n",
    "def lem(row):\n",
    "    lemmas =' '.join(m.lemmatize(row))\n",
    "    if 'автомобиль' in lemmas:\n",
    "        return 'автомобиль'   \n",
    "    if 'свадьба' in lemmas:\n",
    "        return  'свадьба'\n",
    "    if 'образование' in lemmas:\n",
    "        return 'образование'\n",
    "    if 'недвижимость' or 'жил' in lemmas:\n",
    "        return  'недвижимость'\n",
    "        "
   ]
  },
  {
   "cell_type": "code",
   "execution_count": 27,
   "metadata": {
    "scrolled": true
   },
   "outputs": [
    {
     "data": {
      "text/html": [
       "<div>\n",
       "<style scoped>\n",
       "    .dataframe tbody tr th:only-of-type {\n",
       "        vertical-align: middle;\n",
       "    }\n",
       "\n",
       "    .dataframe tbody tr th {\n",
       "        vertical-align: top;\n",
       "    }\n",
       "\n",
       "    .dataframe thead th {\n",
       "        text-align: right;\n",
       "    }\n",
       "</style>\n",
       "<table border=\"1\" class=\"dataframe\">\n",
       "  <thead>\n",
       "    <tr style=\"text-align: right;\">\n",
       "      <th></th>\n",
       "      <th>children</th>\n",
       "      <th>days_employed</th>\n",
       "      <th>dob_years</th>\n",
       "      <th>education</th>\n",
       "      <th>education_id</th>\n",
       "      <th>family_status</th>\n",
       "      <th>family_status_id</th>\n",
       "      <th>gender</th>\n",
       "      <th>income_type</th>\n",
       "      <th>debt</th>\n",
       "      <th>total_income</th>\n",
       "      <th>purpose</th>\n",
       "      <th>purpose_group</th>\n",
       "    </tr>\n",
       "  </thead>\n",
       "  <tbody>\n",
       "    <tr>\n",
       "      <td>0</td>\n",
       "      <td>1</td>\n",
       "      <td>8437</td>\n",
       "      <td>42.0</td>\n",
       "      <td>высшее</td>\n",
       "      <td>0</td>\n",
       "      <td>женат / замужем</td>\n",
       "      <td>0</td>\n",
       "      <td>F</td>\n",
       "      <td>сотрудник</td>\n",
       "      <td>False</td>\n",
       "      <td>253875</td>\n",
       "      <td>покупка жилья</td>\n",
       "      <td>недвижимость</td>\n",
       "    </tr>\n",
       "    <tr>\n",
       "      <td>1</td>\n",
       "      <td>1</td>\n",
       "      <td>4024</td>\n",
       "      <td>36.0</td>\n",
       "      <td>среднее</td>\n",
       "      <td>1</td>\n",
       "      <td>женат / замужем</td>\n",
       "      <td>0</td>\n",
       "      <td>F</td>\n",
       "      <td>сотрудник</td>\n",
       "      <td>False</td>\n",
       "      <td>112080</td>\n",
       "      <td>приобретение автомобиля</td>\n",
       "      <td>автомобиль</td>\n",
       "    </tr>\n",
       "    <tr>\n",
       "      <td>2</td>\n",
       "      <td>0</td>\n",
       "      <td>5623</td>\n",
       "      <td>33.0</td>\n",
       "      <td>среднее</td>\n",
       "      <td>1</td>\n",
       "      <td>женат / замужем</td>\n",
       "      <td>0</td>\n",
       "      <td>M</td>\n",
       "      <td>сотрудник</td>\n",
       "      <td>False</td>\n",
       "      <td>145885</td>\n",
       "      <td>покупка жилья</td>\n",
       "      <td>недвижимость</td>\n",
       "    </tr>\n",
       "    <tr>\n",
       "      <td>3</td>\n",
       "      <td>3</td>\n",
       "      <td>4124</td>\n",
       "      <td>32.0</td>\n",
       "      <td>среднее</td>\n",
       "      <td>1</td>\n",
       "      <td>женат / замужем</td>\n",
       "      <td>0</td>\n",
       "      <td>M</td>\n",
       "      <td>сотрудник</td>\n",
       "      <td>False</td>\n",
       "      <td>267628</td>\n",
       "      <td>дополнительное образование</td>\n",
       "      <td>образование</td>\n",
       "    </tr>\n",
       "    <tr>\n",
       "      <td>4</td>\n",
       "      <td>0</td>\n",
       "      <td>340266</td>\n",
       "      <td>53.0</td>\n",
       "      <td>среднее</td>\n",
       "      <td>1</td>\n",
       "      <td>гражданский брак</td>\n",
       "      <td>1</td>\n",
       "      <td>F</td>\n",
       "      <td>пенсионер</td>\n",
       "      <td>False</td>\n",
       "      <td>158616</td>\n",
       "      <td>сыграть свадьбу</td>\n",
       "      <td>свадьба</td>\n",
       "    </tr>\n",
       "    <tr>\n",
       "      <td>5</td>\n",
       "      <td>0</td>\n",
       "      <td>926</td>\n",
       "      <td>27.0</td>\n",
       "      <td>высшее</td>\n",
       "      <td>0</td>\n",
       "      <td>гражданский брак</td>\n",
       "      <td>1</td>\n",
       "      <td>M</td>\n",
       "      <td>компаньон</td>\n",
       "      <td>False</td>\n",
       "      <td>255763</td>\n",
       "      <td>покупка жилья</td>\n",
       "      <td>недвижимость</td>\n",
       "    </tr>\n",
       "    <tr>\n",
       "      <td>6</td>\n",
       "      <td>0</td>\n",
       "      <td>2879</td>\n",
       "      <td>43.0</td>\n",
       "      <td>высшее</td>\n",
       "      <td>0</td>\n",
       "      <td>женат / замужем</td>\n",
       "      <td>0</td>\n",
       "      <td>F</td>\n",
       "      <td>компаньон</td>\n",
       "      <td>False</td>\n",
       "      <td>240525</td>\n",
       "      <td>операции с жильем</td>\n",
       "      <td>недвижимость</td>\n",
       "    </tr>\n",
       "    <tr>\n",
       "      <td>7</td>\n",
       "      <td>0</td>\n",
       "      <td>152</td>\n",
       "      <td>50.0</td>\n",
       "      <td>среднее</td>\n",
       "      <td>1</td>\n",
       "      <td>женат / замужем</td>\n",
       "      <td>0</td>\n",
       "      <td>M</td>\n",
       "      <td>сотрудник</td>\n",
       "      <td>False</td>\n",
       "      <td>135823</td>\n",
       "      <td>образование</td>\n",
       "      <td>образование</td>\n",
       "    </tr>\n",
       "    <tr>\n",
       "      <td>8</td>\n",
       "      <td>2</td>\n",
       "      <td>6929</td>\n",
       "      <td>35.0</td>\n",
       "      <td>высшее</td>\n",
       "      <td>0</td>\n",
       "      <td>гражданский брак</td>\n",
       "      <td>1</td>\n",
       "      <td>F</td>\n",
       "      <td>сотрудник</td>\n",
       "      <td>False</td>\n",
       "      <td>95856</td>\n",
       "      <td>на проведение свадьбы</td>\n",
       "      <td>свадьба</td>\n",
       "    </tr>\n",
       "    <tr>\n",
       "      <td>9</td>\n",
       "      <td>0</td>\n",
       "      <td>2188</td>\n",
       "      <td>41.0</td>\n",
       "      <td>среднее</td>\n",
       "      <td>1</td>\n",
       "      <td>женат / замужем</td>\n",
       "      <td>0</td>\n",
       "      <td>M</td>\n",
       "      <td>сотрудник</td>\n",
       "      <td>False</td>\n",
       "      <td>144425</td>\n",
       "      <td>покупка жилья для семьи</td>\n",
       "      <td>недвижимость</td>\n",
       "    </tr>\n",
       "  </tbody>\n",
       "</table>\n",
       "</div>"
      ],
      "text/plain": [
       "   children  days_employed  dob_years education  education_id  \\\n",
       "0         1           8437       42.0    высшее             0   \n",
       "1         1           4024       36.0   среднее             1   \n",
       "2         0           5623       33.0   среднее             1   \n",
       "3         3           4124       32.0   среднее             1   \n",
       "4         0         340266       53.0   среднее             1   \n",
       "5         0            926       27.0    высшее             0   \n",
       "6         0           2879       43.0    высшее             0   \n",
       "7         0            152       50.0   среднее             1   \n",
       "8         2           6929       35.0    высшее             0   \n",
       "9         0           2188       41.0   среднее             1   \n",
       "\n",
       "      family_status  family_status_id gender income_type   debt  total_income  \\\n",
       "0   женат / замужем                 0      F   сотрудник  False        253875   \n",
       "1   женат / замужем                 0      F   сотрудник  False        112080   \n",
       "2   женат / замужем                 0      M   сотрудник  False        145885   \n",
       "3   женат / замужем                 0      M   сотрудник  False        267628   \n",
       "4  гражданский брак                 1      F   пенсионер  False        158616   \n",
       "5  гражданский брак                 1      M   компаньон  False        255763   \n",
       "6   женат / замужем                 0      F   компаньон  False        240525   \n",
       "7   женат / замужем                 0      M   сотрудник  False        135823   \n",
       "8  гражданский брак                 1      F   сотрудник  False         95856   \n",
       "9   женат / замужем                 0      M   сотрудник  False        144425   \n",
       "\n",
       "                      purpose purpose_group  \n",
       "0               покупка жилья  недвижимость  \n",
       "1     приобретение автомобиля    автомобиль  \n",
       "2               покупка жилья  недвижимость  \n",
       "3  дополнительное образование   образование  \n",
       "4             сыграть свадьбу       свадьба  \n",
       "5               покупка жилья  недвижимость  \n",
       "6           операции с жильем  недвижимость  \n",
       "7                 образование   образование  \n",
       "8       на проведение свадьбы       свадьба  \n",
       "9     покупка жилья для семьи  недвижимость  "
      ]
     },
     "execution_count": 27,
     "metadata": {},
     "output_type": "execute_result"
    }
   ],
   "source": [
    "#Применяем функцию к столбцу цели кредита.\n",
    "df['purpose_group'] = df['purpose'].apply(lem) \n",
    "df.head(10)"
   ]
  },
  {
   "cell_type": "markdown",
   "metadata": {},
   "source": [
    "**Вывод**\n",
    "\n",
    "При помощи лемматизации, присвоили клиентам категории по цели кредитования."
   ]
  },
  {
   "cell_type": "markdown",
   "metadata": {},
   "source": [
    "### Категоризация данных"
   ]
  },
  {
   "cell_type": "markdown",
   "metadata": {},
   "source": [
    "Разделим клиентов на категории по уровню дохода.\n",
    "\n",
    "Выделим 3 категории:\n",
    "- низкий доход\n",
    "- средний доход\n",
    "- высокий доход"
   ]
  },
  {
   "cell_type": "code",
   "execution_count": 28,
   "metadata": {},
   "outputs": [
    {
     "data": {
      "text/plain": [
       "0.333333    122832.0\n",
       "0.666667    170833.0\n",
       "Name: total_income, dtype: float64"
      ]
     },
     "execution_count": 28,
     "metadata": {},
     "output_type": "execute_result"
    }
   ],
   "source": [
    "#Разобьем доход на 3 части по 1/3\n",
    "df['total_income'].quantile([1/3,2/3])"
   ]
  },
  {
   "cell_type": "code",
   "execution_count": 29,
   "metadata": {},
   "outputs": [],
   "source": [
    "# Функция, разбивает клиентов на 3 категории по уровню дохода\n",
    "def total_income_group(total_income):\n",
    "    if total_income <=df['total_income'].quantile(0.33):\n",
    "        return 'низкий доход' \n",
    "    if  df['total_income'].quantile(0.33)<total_income< df['total_income'].quantile(0.66):\n",
    "        return 'средний доход'\n",
    "    else:\n",
    "        return 'высокий доход'"
   ]
  },
  {
   "cell_type": "code",
   "execution_count": 30,
   "metadata": {},
   "outputs": [
    {
     "data": {
      "text/html": [
       "<div>\n",
       "<style scoped>\n",
       "    .dataframe tbody tr th:only-of-type {\n",
       "        vertical-align: middle;\n",
       "    }\n",
       "\n",
       "    .dataframe tbody tr th {\n",
       "        vertical-align: top;\n",
       "    }\n",
       "\n",
       "    .dataframe thead th {\n",
       "        text-align: right;\n",
       "    }\n",
       "</style>\n",
       "<table border=\"1\" class=\"dataframe\">\n",
       "  <thead>\n",
       "    <tr style=\"text-align: right;\">\n",
       "      <th></th>\n",
       "      <th>children</th>\n",
       "      <th>days_employed</th>\n",
       "      <th>dob_years</th>\n",
       "      <th>education</th>\n",
       "      <th>education_id</th>\n",
       "      <th>family_status</th>\n",
       "      <th>family_status_id</th>\n",
       "      <th>gender</th>\n",
       "      <th>income_type</th>\n",
       "      <th>debt</th>\n",
       "      <th>total_income</th>\n",
       "      <th>purpose</th>\n",
       "      <th>purpose_group</th>\n",
       "      <th>total_income_group</th>\n",
       "    </tr>\n",
       "  </thead>\n",
       "  <tbody>\n",
       "    <tr>\n",
       "      <td>0</td>\n",
       "      <td>1</td>\n",
       "      <td>8437</td>\n",
       "      <td>42.0</td>\n",
       "      <td>высшее</td>\n",
       "      <td>0</td>\n",
       "      <td>женат / замужем</td>\n",
       "      <td>0</td>\n",
       "      <td>F</td>\n",
       "      <td>сотрудник</td>\n",
       "      <td>False</td>\n",
       "      <td>253875</td>\n",
       "      <td>покупка жилья</td>\n",
       "      <td>недвижимость</td>\n",
       "      <td>высокий доход</td>\n",
       "    </tr>\n",
       "    <tr>\n",
       "      <td>1</td>\n",
       "      <td>1</td>\n",
       "      <td>4024</td>\n",
       "      <td>36.0</td>\n",
       "      <td>среднее</td>\n",
       "      <td>1</td>\n",
       "      <td>женат / замужем</td>\n",
       "      <td>0</td>\n",
       "      <td>F</td>\n",
       "      <td>сотрудник</td>\n",
       "      <td>False</td>\n",
       "      <td>112080</td>\n",
       "      <td>приобретение автомобиля</td>\n",
       "      <td>автомобиль</td>\n",
       "      <td>низкий доход</td>\n",
       "    </tr>\n",
       "    <tr>\n",
       "      <td>2</td>\n",
       "      <td>0</td>\n",
       "      <td>5623</td>\n",
       "      <td>33.0</td>\n",
       "      <td>среднее</td>\n",
       "      <td>1</td>\n",
       "      <td>женат / замужем</td>\n",
       "      <td>0</td>\n",
       "      <td>M</td>\n",
       "      <td>сотрудник</td>\n",
       "      <td>False</td>\n",
       "      <td>145885</td>\n",
       "      <td>покупка жилья</td>\n",
       "      <td>недвижимость</td>\n",
       "      <td>средний доход</td>\n",
       "    </tr>\n",
       "    <tr>\n",
       "      <td>3</td>\n",
       "      <td>3</td>\n",
       "      <td>4124</td>\n",
       "      <td>32.0</td>\n",
       "      <td>среднее</td>\n",
       "      <td>1</td>\n",
       "      <td>женат / замужем</td>\n",
       "      <td>0</td>\n",
       "      <td>M</td>\n",
       "      <td>сотрудник</td>\n",
       "      <td>False</td>\n",
       "      <td>267628</td>\n",
       "      <td>дополнительное образование</td>\n",
       "      <td>образование</td>\n",
       "      <td>высокий доход</td>\n",
       "    </tr>\n",
       "    <tr>\n",
       "      <td>4</td>\n",
       "      <td>0</td>\n",
       "      <td>340266</td>\n",
       "      <td>53.0</td>\n",
       "      <td>среднее</td>\n",
       "      <td>1</td>\n",
       "      <td>гражданский брак</td>\n",
       "      <td>1</td>\n",
       "      <td>F</td>\n",
       "      <td>пенсионер</td>\n",
       "      <td>False</td>\n",
       "      <td>158616</td>\n",
       "      <td>сыграть свадьбу</td>\n",
       "      <td>свадьба</td>\n",
       "      <td>средний доход</td>\n",
       "    </tr>\n",
       "    <tr>\n",
       "      <td>5</td>\n",
       "      <td>0</td>\n",
       "      <td>926</td>\n",
       "      <td>27.0</td>\n",
       "      <td>высшее</td>\n",
       "      <td>0</td>\n",
       "      <td>гражданский брак</td>\n",
       "      <td>1</td>\n",
       "      <td>M</td>\n",
       "      <td>компаньон</td>\n",
       "      <td>False</td>\n",
       "      <td>255763</td>\n",
       "      <td>покупка жилья</td>\n",
       "      <td>недвижимость</td>\n",
       "      <td>высокий доход</td>\n",
       "    </tr>\n",
       "    <tr>\n",
       "      <td>6</td>\n",
       "      <td>0</td>\n",
       "      <td>2879</td>\n",
       "      <td>43.0</td>\n",
       "      <td>высшее</td>\n",
       "      <td>0</td>\n",
       "      <td>женат / замужем</td>\n",
       "      <td>0</td>\n",
       "      <td>F</td>\n",
       "      <td>компаньон</td>\n",
       "      <td>False</td>\n",
       "      <td>240525</td>\n",
       "      <td>операции с жильем</td>\n",
       "      <td>недвижимость</td>\n",
       "      <td>высокий доход</td>\n",
       "    </tr>\n",
       "    <tr>\n",
       "      <td>7</td>\n",
       "      <td>0</td>\n",
       "      <td>152</td>\n",
       "      <td>50.0</td>\n",
       "      <td>среднее</td>\n",
       "      <td>1</td>\n",
       "      <td>женат / замужем</td>\n",
       "      <td>0</td>\n",
       "      <td>M</td>\n",
       "      <td>сотрудник</td>\n",
       "      <td>False</td>\n",
       "      <td>135823</td>\n",
       "      <td>образование</td>\n",
       "      <td>образование</td>\n",
       "      <td>средний доход</td>\n",
       "    </tr>\n",
       "    <tr>\n",
       "      <td>8</td>\n",
       "      <td>2</td>\n",
       "      <td>6929</td>\n",
       "      <td>35.0</td>\n",
       "      <td>высшее</td>\n",
       "      <td>0</td>\n",
       "      <td>гражданский брак</td>\n",
       "      <td>1</td>\n",
       "      <td>F</td>\n",
       "      <td>сотрудник</td>\n",
       "      <td>False</td>\n",
       "      <td>95856</td>\n",
       "      <td>на проведение свадьбы</td>\n",
       "      <td>свадьба</td>\n",
       "      <td>низкий доход</td>\n",
       "    </tr>\n",
       "    <tr>\n",
       "      <td>9</td>\n",
       "      <td>0</td>\n",
       "      <td>2188</td>\n",
       "      <td>41.0</td>\n",
       "      <td>среднее</td>\n",
       "      <td>1</td>\n",
       "      <td>женат / замужем</td>\n",
       "      <td>0</td>\n",
       "      <td>M</td>\n",
       "      <td>сотрудник</td>\n",
       "      <td>False</td>\n",
       "      <td>144425</td>\n",
       "      <td>покупка жилья для семьи</td>\n",
       "      <td>недвижимость</td>\n",
       "      <td>средний доход</td>\n",
       "    </tr>\n",
       "  </tbody>\n",
       "</table>\n",
       "</div>"
      ],
      "text/plain": [
       "   children  days_employed  dob_years education  education_id  \\\n",
       "0         1           8437       42.0    высшее             0   \n",
       "1         1           4024       36.0   среднее             1   \n",
       "2         0           5623       33.0   среднее             1   \n",
       "3         3           4124       32.0   среднее             1   \n",
       "4         0         340266       53.0   среднее             1   \n",
       "5         0            926       27.0    высшее             0   \n",
       "6         0           2879       43.0    высшее             0   \n",
       "7         0            152       50.0   среднее             1   \n",
       "8         2           6929       35.0    высшее             0   \n",
       "9         0           2188       41.0   среднее             1   \n",
       "\n",
       "      family_status  family_status_id gender income_type   debt  total_income  \\\n",
       "0   женат / замужем                 0      F   сотрудник  False        253875   \n",
       "1   женат / замужем                 0      F   сотрудник  False        112080   \n",
       "2   женат / замужем                 0      M   сотрудник  False        145885   \n",
       "3   женат / замужем                 0      M   сотрудник  False        267628   \n",
       "4  гражданский брак                 1      F   пенсионер  False        158616   \n",
       "5  гражданский брак                 1      M   компаньон  False        255763   \n",
       "6   женат / замужем                 0      F   компаньон  False        240525   \n",
       "7   женат / замужем                 0      M   сотрудник  False        135823   \n",
       "8  гражданский брак                 1      F   сотрудник  False         95856   \n",
       "9   женат / замужем                 0      M   сотрудник  False        144425   \n",
       "\n",
       "                      purpose purpose_group total_income_group  \n",
       "0               покупка жилья  недвижимость      высокий доход  \n",
       "1     приобретение автомобиля    автомобиль       низкий доход  \n",
       "2               покупка жилья  недвижимость      средний доход  \n",
       "3  дополнительное образование   образование      высокий доход  \n",
       "4             сыграть свадьбу       свадьба      средний доход  \n",
       "5               покупка жилья  недвижимость      высокий доход  \n",
       "6           операции с жильем  недвижимость      высокий доход  \n",
       "7                 образование   образование      средний доход  \n",
       "8       на проведение свадьбы       свадьба       низкий доход  \n",
       "9     покупка жилья для семьи  недвижимость      средний доход  "
      ]
     },
     "execution_count": 30,
     "metadata": {},
     "output_type": "execute_result"
    }
   ],
   "source": [
    "# Применяем функцию total_income_group к столбцу с доходом\n",
    "df['total_income_group']= df['total_income'].apply(total_income_group)      \n",
    "df.head(10)"
   ]
  },
  {
   "cell_type": "markdown",
   "metadata": {},
   "source": [
    "Разделим клиентов на категории по количеству детей."
   ]
  },
  {
   "cell_type": "code",
   "execution_count": 31,
   "metadata": {},
   "outputs": [],
   "source": [
    "# Функция, разбивает клиентов на 3 категории по количеству детей.\n",
    "def children_group(children):\n",
    "    if children==0:\n",
    "        return 'бездетный' \n",
    "    if  children==1:\n",
    "        return 'один ребенок'\n",
    "    else:\n",
    "        return 'многодетный'"
   ]
  },
  {
   "cell_type": "code",
   "execution_count": 41,
   "metadata": {},
   "outputs": [
    {
     "data": {
      "text/html": [
       "<div>\n",
       "<style scoped>\n",
       "    .dataframe tbody tr th:only-of-type {\n",
       "        vertical-align: middle;\n",
       "    }\n",
       "\n",
       "    .dataframe tbody tr th {\n",
       "        vertical-align: top;\n",
       "    }\n",
       "\n",
       "    .dataframe thead th {\n",
       "        text-align: right;\n",
       "    }\n",
       "</style>\n",
       "<table border=\"1\" class=\"dataframe\">\n",
       "  <thead>\n",
       "    <tr style=\"text-align: right;\">\n",
       "      <th></th>\n",
       "      <th>children</th>\n",
       "      <th>days_employed</th>\n",
       "      <th>dob_years</th>\n",
       "      <th>education</th>\n",
       "      <th>education_id</th>\n",
       "      <th>family_status</th>\n",
       "      <th>family_status_id</th>\n",
       "      <th>gender</th>\n",
       "      <th>income_type</th>\n",
       "      <th>debt</th>\n",
       "      <th>total_income</th>\n",
       "      <th>purpose</th>\n",
       "      <th>purpose_group</th>\n",
       "      <th>total_income_group</th>\n",
       "      <th>children_group</th>\n",
       "    </tr>\n",
       "  </thead>\n",
       "  <tbody>\n",
       "    <tr>\n",
       "      <td>0</td>\n",
       "      <td>1</td>\n",
       "      <td>8437</td>\n",
       "      <td>42.0</td>\n",
       "      <td>высшее</td>\n",
       "      <td>0</td>\n",
       "      <td>женат / замужем</td>\n",
       "      <td>0</td>\n",
       "      <td>F</td>\n",
       "      <td>сотрудник</td>\n",
       "      <td>False</td>\n",
       "      <td>253875</td>\n",
       "      <td>покупка жилья</td>\n",
       "      <td>недвижимость</td>\n",
       "      <td>высокий доход</td>\n",
       "      <td>один ребенок</td>\n",
       "    </tr>\n",
       "    <tr>\n",
       "      <td>1</td>\n",
       "      <td>1</td>\n",
       "      <td>4024</td>\n",
       "      <td>36.0</td>\n",
       "      <td>среднее</td>\n",
       "      <td>1</td>\n",
       "      <td>женат / замужем</td>\n",
       "      <td>0</td>\n",
       "      <td>F</td>\n",
       "      <td>сотрудник</td>\n",
       "      <td>False</td>\n",
       "      <td>112080</td>\n",
       "      <td>приобретение автомобиля</td>\n",
       "      <td>автомобиль</td>\n",
       "      <td>низкий доход</td>\n",
       "      <td>один ребенок</td>\n",
       "    </tr>\n",
       "    <tr>\n",
       "      <td>2</td>\n",
       "      <td>0</td>\n",
       "      <td>5623</td>\n",
       "      <td>33.0</td>\n",
       "      <td>среднее</td>\n",
       "      <td>1</td>\n",
       "      <td>женат / замужем</td>\n",
       "      <td>0</td>\n",
       "      <td>M</td>\n",
       "      <td>сотрудник</td>\n",
       "      <td>False</td>\n",
       "      <td>145885</td>\n",
       "      <td>покупка жилья</td>\n",
       "      <td>недвижимость</td>\n",
       "      <td>средний доход</td>\n",
       "      <td>бездетный</td>\n",
       "    </tr>\n",
       "    <tr>\n",
       "      <td>3</td>\n",
       "      <td>3</td>\n",
       "      <td>4124</td>\n",
       "      <td>32.0</td>\n",
       "      <td>среднее</td>\n",
       "      <td>1</td>\n",
       "      <td>женат / замужем</td>\n",
       "      <td>0</td>\n",
       "      <td>M</td>\n",
       "      <td>сотрудник</td>\n",
       "      <td>False</td>\n",
       "      <td>267628</td>\n",
       "      <td>дополнительное образование</td>\n",
       "      <td>образование</td>\n",
       "      <td>высокий доход</td>\n",
       "      <td>многодетный</td>\n",
       "    </tr>\n",
       "    <tr>\n",
       "      <td>4</td>\n",
       "      <td>0</td>\n",
       "      <td>340266</td>\n",
       "      <td>53.0</td>\n",
       "      <td>среднее</td>\n",
       "      <td>1</td>\n",
       "      <td>гражданский брак</td>\n",
       "      <td>1</td>\n",
       "      <td>F</td>\n",
       "      <td>пенсионер</td>\n",
       "      <td>False</td>\n",
       "      <td>158616</td>\n",
       "      <td>сыграть свадьбу</td>\n",
       "      <td>свадьба</td>\n",
       "      <td>средний доход</td>\n",
       "      <td>бездетный</td>\n",
       "    </tr>\n",
       "    <tr>\n",
       "      <td>5</td>\n",
       "      <td>0</td>\n",
       "      <td>926</td>\n",
       "      <td>27.0</td>\n",
       "      <td>высшее</td>\n",
       "      <td>0</td>\n",
       "      <td>гражданский брак</td>\n",
       "      <td>1</td>\n",
       "      <td>M</td>\n",
       "      <td>компаньон</td>\n",
       "      <td>False</td>\n",
       "      <td>255763</td>\n",
       "      <td>покупка жилья</td>\n",
       "      <td>недвижимость</td>\n",
       "      <td>высокий доход</td>\n",
       "      <td>бездетный</td>\n",
       "    </tr>\n",
       "    <tr>\n",
       "      <td>6</td>\n",
       "      <td>0</td>\n",
       "      <td>2879</td>\n",
       "      <td>43.0</td>\n",
       "      <td>высшее</td>\n",
       "      <td>0</td>\n",
       "      <td>женат / замужем</td>\n",
       "      <td>0</td>\n",
       "      <td>F</td>\n",
       "      <td>компаньон</td>\n",
       "      <td>False</td>\n",
       "      <td>240525</td>\n",
       "      <td>операции с жильем</td>\n",
       "      <td>недвижимость</td>\n",
       "      <td>высокий доход</td>\n",
       "      <td>бездетный</td>\n",
       "    </tr>\n",
       "    <tr>\n",
       "      <td>7</td>\n",
       "      <td>0</td>\n",
       "      <td>152</td>\n",
       "      <td>50.0</td>\n",
       "      <td>среднее</td>\n",
       "      <td>1</td>\n",
       "      <td>женат / замужем</td>\n",
       "      <td>0</td>\n",
       "      <td>M</td>\n",
       "      <td>сотрудник</td>\n",
       "      <td>False</td>\n",
       "      <td>135823</td>\n",
       "      <td>образование</td>\n",
       "      <td>образование</td>\n",
       "      <td>средний доход</td>\n",
       "      <td>бездетный</td>\n",
       "    </tr>\n",
       "    <tr>\n",
       "      <td>8</td>\n",
       "      <td>2</td>\n",
       "      <td>6929</td>\n",
       "      <td>35.0</td>\n",
       "      <td>высшее</td>\n",
       "      <td>0</td>\n",
       "      <td>гражданский брак</td>\n",
       "      <td>1</td>\n",
       "      <td>F</td>\n",
       "      <td>сотрудник</td>\n",
       "      <td>False</td>\n",
       "      <td>95856</td>\n",
       "      <td>на проведение свадьбы</td>\n",
       "      <td>свадьба</td>\n",
       "      <td>низкий доход</td>\n",
       "      <td>многодетный</td>\n",
       "    </tr>\n",
       "    <tr>\n",
       "      <td>9</td>\n",
       "      <td>0</td>\n",
       "      <td>2188</td>\n",
       "      <td>41.0</td>\n",
       "      <td>среднее</td>\n",
       "      <td>1</td>\n",
       "      <td>женат / замужем</td>\n",
       "      <td>0</td>\n",
       "      <td>M</td>\n",
       "      <td>сотрудник</td>\n",
       "      <td>False</td>\n",
       "      <td>144425</td>\n",
       "      <td>покупка жилья для семьи</td>\n",
       "      <td>недвижимость</td>\n",
       "      <td>средний доход</td>\n",
       "      <td>бездетный</td>\n",
       "    </tr>\n",
       "  </tbody>\n",
       "</table>\n",
       "</div>"
      ],
      "text/plain": [
       "   children  days_employed  dob_years education  education_id  \\\n",
       "0         1           8437       42.0    высшее             0   \n",
       "1         1           4024       36.0   среднее             1   \n",
       "2         0           5623       33.0   среднее             1   \n",
       "3         3           4124       32.0   среднее             1   \n",
       "4         0         340266       53.0   среднее             1   \n",
       "5         0            926       27.0    высшее             0   \n",
       "6         0           2879       43.0    высшее             0   \n",
       "7         0            152       50.0   среднее             1   \n",
       "8         2           6929       35.0    высшее             0   \n",
       "9         0           2188       41.0   среднее             1   \n",
       "\n",
       "      family_status  family_status_id gender income_type   debt  total_income  \\\n",
       "0   женат / замужем                 0      F   сотрудник  False        253875   \n",
       "1   женат / замужем                 0      F   сотрудник  False        112080   \n",
       "2   женат / замужем                 0      M   сотрудник  False        145885   \n",
       "3   женат / замужем                 0      M   сотрудник  False        267628   \n",
       "4  гражданский брак                 1      F   пенсионер  False        158616   \n",
       "5  гражданский брак                 1      M   компаньон  False        255763   \n",
       "6   женат / замужем                 0      F   компаньон  False        240525   \n",
       "7   женат / замужем                 0      M   сотрудник  False        135823   \n",
       "8  гражданский брак                 1      F   сотрудник  False         95856   \n",
       "9   женат / замужем                 0      M   сотрудник  False        144425   \n",
       "\n",
       "                      purpose purpose_group total_income_group children_group  \n",
       "0               покупка жилья  недвижимость      высокий доход   один ребенок  \n",
       "1     приобретение автомобиля    автомобиль       низкий доход   один ребенок  \n",
       "2               покупка жилья  недвижимость      средний доход      бездетный  \n",
       "3  дополнительное образование   образование      высокий доход    многодетный  \n",
       "4             сыграть свадьбу       свадьба      средний доход      бездетный  \n",
       "5               покупка жилья  недвижимость      высокий доход      бездетный  \n",
       "6           операции с жильем  недвижимость      высокий доход      бездетный  \n",
       "7                 образование   образование      средний доход      бездетный  \n",
       "8       на проведение свадьбы       свадьба       низкий доход    многодетный  \n",
       "9     покупка жилья для семьи  недвижимость      средний доход      бездетный  "
      ]
     },
     "execution_count": 41,
     "metadata": {},
     "output_type": "execute_result"
    }
   ],
   "source": [
    "# Применяем функцию children_group к столбцу с детьми\n",
    "df['children_group']= df['children'].apply(children_group)      \n",
    "df.head(10)"
   ]
  },
  {
   "cell_type": "markdown",
   "metadata": {},
   "source": [
    "**Вывод**\n",
    "\n",
    "Присвоили клиентам категории по доходу."
   ]
  },
  {
   "cell_type": "markdown",
   "metadata": {},
   "source": [
    "## Шаг 3. Ответьте на вопросы"
   ]
  },
  {
   "cell_type": "markdown",
   "metadata": {},
   "source": [
    "- Есть ли зависимость между наличием детей и возвратом кредита в срок?"
   ]
  },
  {
   "cell_type": "code",
   "execution_count": 33,
   "metadata": {},
   "outputs": [
    {
     "data": {
      "text/html": [
       "<div>\n",
       "<style scoped>\n",
       "    .dataframe tbody tr th:only-of-type {\n",
       "        vertical-align: middle;\n",
       "    }\n",
       "\n",
       "    .dataframe tbody tr th {\n",
       "        vertical-align: top;\n",
       "    }\n",
       "\n",
       "    .dataframe thead tr th {\n",
       "        text-align: left;\n",
       "    }\n",
       "\n",
       "    .dataframe thead tr:last-of-type th {\n",
       "        text-align: right;\n",
       "    }\n",
       "</style>\n",
       "<table border=\"1\" class=\"dataframe\">\n",
       "  <thead>\n",
       "    <tr>\n",
       "      <th></th>\n",
       "      <th colspan=\"2\" halign=\"left\">debt</th>\n",
       "      <th>conversion</th>\n",
       "    </tr>\n",
       "    <tr>\n",
       "      <th></th>\n",
       "      <th>count</th>\n",
       "      <th>sum</th>\n",
       "      <th></th>\n",
       "    </tr>\n",
       "    <tr>\n",
       "      <th>children_group</th>\n",
       "      <th></th>\n",
       "      <th></th>\n",
       "      <th></th>\n",
       "    </tr>\n",
       "  </thead>\n",
       "  <tbody>\n",
       "    <tr>\n",
       "      <td>бездетный</td>\n",
       "      <td>14091</td>\n",
       "      <td>1063.0</td>\n",
       "      <td>7.543822</td>\n",
       "    </tr>\n",
       "    <tr>\n",
       "      <td>многодетный</td>\n",
       "      <td>2508</td>\n",
       "      <td>233.0</td>\n",
       "      <td>9.290271</td>\n",
       "    </tr>\n",
       "    <tr>\n",
       "      <td>один ребенок</td>\n",
       "      <td>4855</td>\n",
       "      <td>445.0</td>\n",
       "      <td>9.165808</td>\n",
       "    </tr>\n",
       "  </tbody>\n",
       "</table>\n",
       "</div>"
      ],
      "text/plain": [
       "                 debt         conversion\n",
       "                count     sum           \n",
       "children_group                          \n",
       "бездетный       14091  1063.0   7.543822\n",
       "многодетный      2508   233.0   9.290271\n",
       "один ребенок     4855   445.0   9.165808"
      ]
     },
     "execution_count": 33,
     "metadata": {},
     "output_type": "execute_result"
    }
   ],
   "source": [
    "#Группируем людей по количеству детей, считаем сумму и количество задолженности, находим конверсию задолженности\n",
    "children = df.groupby('children_group').agg({'debt': ['count', 'sum']})\n",
    "children['conversion']=children['debt']['sum'] / children['debt']['count']*100\n",
    "\n",
    "children"
   ]
  },
  {
   "cell_type": "code",
   "execution_count": 34,
   "metadata": {},
   "outputs": [
    {
     "data": {
      "text/html": [
       "<div>\n",
       "<style scoped>\n",
       "    .dataframe tbody tr th:only-of-type {\n",
       "        vertical-align: middle;\n",
       "    }\n",
       "\n",
       "    .dataframe tbody tr th {\n",
       "        vertical-align: top;\n",
       "    }\n",
       "\n",
       "    .dataframe thead th {\n",
       "        text-align: right;\n",
       "    }\n",
       "</style>\n",
       "<table border=\"1\" class=\"dataframe\">\n",
       "  <thead>\n",
       "    <tr style=\"text-align: right;\">\n",
       "      <th>debt</th>\n",
       "      <th>False</th>\n",
       "      <th>True</th>\n",
       "      <th>conversion</th>\n",
       "    </tr>\n",
       "    <tr>\n",
       "      <th>children_group</th>\n",
       "      <th></th>\n",
       "      <th></th>\n",
       "      <th></th>\n",
       "    </tr>\n",
       "  </thead>\n",
       "  <tbody>\n",
       "    <tr>\n",
       "      <td>бездетный</td>\n",
       "      <td>13028</td>\n",
       "      <td>1063</td>\n",
       "      <td>7.543822</td>\n",
       "    </tr>\n",
       "    <tr>\n",
       "      <td>многодетный</td>\n",
       "      <td>2275</td>\n",
       "      <td>233</td>\n",
       "      <td>9.290271</td>\n",
       "    </tr>\n",
       "    <tr>\n",
       "      <td>один ребенок</td>\n",
       "      <td>4410</td>\n",
       "      <td>445</td>\n",
       "      <td>9.165808</td>\n",
       "    </tr>\n",
       "  </tbody>\n",
       "</table>\n",
       "</div>"
      ],
      "text/plain": [
       "debt            False  True  conversion\n",
       "children_group                         \n",
       "бездетный       13028  1063    7.543822\n",
       "многодетный      2275   233    9.290271\n",
       "один ребенок     4410   445    9.165808"
      ]
     },
     "execution_count": 34,
     "metadata": {},
     "output_type": "execute_result"
    }
   ],
   "source": [
    "children_pivot = df.pivot_table(index='children_group', columns='debt',values='children' , aggfunc='count')\n",
    "children_pivot['conversion'] = children_pivot[1] /(children_pivot[0]+ children_pivot[1])* 100\n",
    "\n",
    "children_pivot"
   ]
  },
  {
   "cell_type": "markdown",
   "metadata": {},
   "source": [
    "**Вывод**"
   ]
  },
  {
   "cell_type": "markdown",
   "metadata": {},
   "source": [
    "Лучший показатель возврата у бездетных людей.\n",
    "\n",
    "Люди с детьми задерживают оплату кредита чаще чем люди без детей."
   ]
  },
  {
   "cell_type": "markdown",
   "metadata": {},
   "source": [
    "- Есть ли зависимость между семейным положением и возвратом кредита в срок?"
   ]
  },
  {
   "cell_type": "code",
   "execution_count": 35,
   "metadata": {},
   "outputs": [
    {
     "data": {
      "text/html": [
       "<div>\n",
       "<style scoped>\n",
       "    .dataframe tbody tr th:only-of-type {\n",
       "        vertical-align: middle;\n",
       "    }\n",
       "\n",
       "    .dataframe tbody tr th {\n",
       "        vertical-align: top;\n",
       "    }\n",
       "\n",
       "    .dataframe thead tr th {\n",
       "        text-align: left;\n",
       "    }\n",
       "\n",
       "    .dataframe thead tr:last-of-type th {\n",
       "        text-align: right;\n",
       "    }\n",
       "</style>\n",
       "<table border=\"1\" class=\"dataframe\">\n",
       "  <thead>\n",
       "    <tr>\n",
       "      <th></th>\n",
       "      <th colspan=\"2\" halign=\"left\">debt</th>\n",
       "      <th>conversion</th>\n",
       "    </tr>\n",
       "    <tr>\n",
       "      <th></th>\n",
       "      <th>count</th>\n",
       "      <th>sum</th>\n",
       "      <th></th>\n",
       "    </tr>\n",
       "    <tr>\n",
       "      <th>family_status</th>\n",
       "      <th></th>\n",
       "      <th></th>\n",
       "      <th></th>\n",
       "    </tr>\n",
       "  </thead>\n",
       "  <tbody>\n",
       "    <tr>\n",
       "      <td>в разводе</td>\n",
       "      <td>1195</td>\n",
       "      <td>85.0</td>\n",
       "      <td>7.112971</td>\n",
       "    </tr>\n",
       "    <tr>\n",
       "      <td>вдовец / вдова</td>\n",
       "      <td>959</td>\n",
       "      <td>63.0</td>\n",
       "      <td>6.569343</td>\n",
       "    </tr>\n",
       "    <tr>\n",
       "      <td>гражданский брак</td>\n",
       "      <td>4151</td>\n",
       "      <td>388.0</td>\n",
       "      <td>9.347145</td>\n",
       "    </tr>\n",
       "    <tr>\n",
       "      <td>женат / замужем</td>\n",
       "      <td>12339</td>\n",
       "      <td>931.0</td>\n",
       "      <td>7.545182</td>\n",
       "    </tr>\n",
       "    <tr>\n",
       "      <td>не женат / не замужем</td>\n",
       "      <td>2810</td>\n",
       "      <td>274.0</td>\n",
       "      <td>9.750890</td>\n",
       "    </tr>\n",
       "  </tbody>\n",
       "</table>\n",
       "</div>"
      ],
      "text/plain": [
       "                        debt        conversion\n",
       "                       count    sum           \n",
       "family_status                                 \n",
       "в разводе               1195   85.0   7.112971\n",
       "вдовец / вдова           959   63.0   6.569343\n",
       "гражданский брак        4151  388.0   9.347145\n",
       "женат / замужем        12339  931.0   7.545182\n",
       "не женат / не замужем   2810  274.0   9.750890"
      ]
     },
     "execution_count": 35,
     "metadata": {},
     "output_type": "execute_result"
    }
   ],
   "source": [
    "family  = df.groupby('family_status').agg({'debt': ['count', 'sum']})\n",
    "family ['conversion']=family['debt']['sum'] / family['debt']['count']*100\n",
    "\n",
    "family\n"
   ]
  },
  {
   "cell_type": "code",
   "execution_count": 36,
   "metadata": {},
   "outputs": [
    {
     "data": {
      "text/html": [
       "<div>\n",
       "<style scoped>\n",
       "    .dataframe tbody tr th:only-of-type {\n",
       "        vertical-align: middle;\n",
       "    }\n",
       "\n",
       "    .dataframe tbody tr th {\n",
       "        vertical-align: top;\n",
       "    }\n",
       "\n",
       "    .dataframe thead th {\n",
       "        text-align: right;\n",
       "    }\n",
       "</style>\n",
       "<table border=\"1\" class=\"dataframe\">\n",
       "  <thead>\n",
       "    <tr style=\"text-align: right;\">\n",
       "      <th>debt</th>\n",
       "      <th>False</th>\n",
       "      <th>True</th>\n",
       "      <th>conversion</th>\n",
       "    </tr>\n",
       "    <tr>\n",
       "      <th>family_status</th>\n",
       "      <th></th>\n",
       "      <th></th>\n",
       "      <th></th>\n",
       "    </tr>\n",
       "  </thead>\n",
       "  <tbody>\n",
       "    <tr>\n",
       "      <td>в разводе</td>\n",
       "      <td>1110</td>\n",
       "      <td>85</td>\n",
       "      <td>7.112971</td>\n",
       "    </tr>\n",
       "    <tr>\n",
       "      <td>вдовец / вдова</td>\n",
       "      <td>896</td>\n",
       "      <td>63</td>\n",
       "      <td>6.569343</td>\n",
       "    </tr>\n",
       "    <tr>\n",
       "      <td>гражданский брак</td>\n",
       "      <td>3763</td>\n",
       "      <td>388</td>\n",
       "      <td>9.347145</td>\n",
       "    </tr>\n",
       "    <tr>\n",
       "      <td>женат / замужем</td>\n",
       "      <td>11408</td>\n",
       "      <td>931</td>\n",
       "      <td>7.545182</td>\n",
       "    </tr>\n",
       "    <tr>\n",
       "      <td>не женат / не замужем</td>\n",
       "      <td>2536</td>\n",
       "      <td>274</td>\n",
       "      <td>9.750890</td>\n",
       "    </tr>\n",
       "  </tbody>\n",
       "</table>\n",
       "</div>"
      ],
      "text/plain": [
       "debt                   False  True  conversion\n",
       "family_status                                 \n",
       "в разводе               1110    85    7.112971\n",
       "вдовец / вдова           896    63    6.569343\n",
       "гражданский брак        3763   388    9.347145\n",
       "женат / замужем        11408   931    7.545182\n",
       "не женат / не замужем   2536   274    9.750890"
      ]
     },
     "execution_count": 36,
     "metadata": {},
     "output_type": "execute_result"
    }
   ],
   "source": [
    "family_pivot = df.pivot_table(index='family_status', columns='debt' , values='children', aggfunc='count')\n",
    "family_pivot['conversion'] = family_pivot[1] /(family_pivot[0]+ family_pivot[1])* 100\n",
    "\n",
    "family_pivot"
   ]
  },
  {
   "cell_type": "markdown",
   "metadata": {},
   "source": [
    "**Вывод**"
   ]
  },
  {
   "cell_type": "markdown",
   "metadata": {},
   "source": [
    "Лучший показатель у вдов, худший у холостых, у людей в браке средний показатель."
   ]
  },
  {
   "cell_type": "markdown",
   "metadata": {},
   "source": [
    "- Есть ли зависимость между уровнем дохода и возвратом кредита в срок?"
   ]
  },
  {
   "cell_type": "code",
   "execution_count": 37,
   "metadata": {},
   "outputs": [
    {
     "data": {
      "text/html": [
       "<div>\n",
       "<style scoped>\n",
       "    .dataframe tbody tr th:only-of-type {\n",
       "        vertical-align: middle;\n",
       "    }\n",
       "\n",
       "    .dataframe tbody tr th {\n",
       "        vertical-align: top;\n",
       "    }\n",
       "\n",
       "    .dataframe thead tr th {\n",
       "        text-align: left;\n",
       "    }\n",
       "\n",
       "    .dataframe thead tr:last-of-type th {\n",
       "        text-align: right;\n",
       "    }\n",
       "</style>\n",
       "<table border=\"1\" class=\"dataframe\">\n",
       "  <thead>\n",
       "    <tr>\n",
       "      <th></th>\n",
       "      <th colspan=\"2\" halign=\"left\">debt</th>\n",
       "      <th>conversion</th>\n",
       "    </tr>\n",
       "    <tr>\n",
       "      <th></th>\n",
       "      <th>count</th>\n",
       "      <th>sum</th>\n",
       "      <th></th>\n",
       "    </tr>\n",
       "    <tr>\n",
       "      <th>total_income_group</th>\n",
       "      <th></th>\n",
       "      <th></th>\n",
       "      <th></th>\n",
       "    </tr>\n",
       "  </thead>\n",
       "  <tbody>\n",
       "    <tr>\n",
       "      <td>высокий доход</td>\n",
       "      <td>7295</td>\n",
       "      <td>555.0</td>\n",
       "      <td>7.607951</td>\n",
       "    </tr>\n",
       "    <tr>\n",
       "      <td>низкий доход</td>\n",
       "      <td>7080</td>\n",
       "      <td>578.0</td>\n",
       "      <td>8.163842</td>\n",
       "    </tr>\n",
       "    <tr>\n",
       "      <td>средний доход</td>\n",
       "      <td>7079</td>\n",
       "      <td>608.0</td>\n",
       "      <td>8.588784</td>\n",
       "    </tr>\n",
       "  </tbody>\n",
       "</table>\n",
       "</div>"
      ],
      "text/plain": [
       "                    debt        conversion\n",
       "                   count    sum           \n",
       "total_income_group                        \n",
       "высокий доход       7295  555.0   7.607951\n",
       "низкий доход        7080  578.0   8.163842\n",
       "средний доход       7079  608.0   8.588784"
      ]
     },
     "execution_count": 37,
     "metadata": {},
     "output_type": "execute_result"
    }
   ],
   "source": [
    "\n",
    "\n",
    "total_income  = df.groupby('total_income_group').agg({'debt': ['count', 'sum']})\n",
    "total_income['conversion']=total_income['debt']['sum'] /total_income['debt']['count']*100\n",
    "\n",
    "total_income "
   ]
  },
  {
   "cell_type": "code",
   "execution_count": 38,
   "metadata": {},
   "outputs": [
    {
     "data": {
      "text/html": [
       "<div>\n",
       "<style scoped>\n",
       "    .dataframe tbody tr th:only-of-type {\n",
       "        vertical-align: middle;\n",
       "    }\n",
       "\n",
       "    .dataframe tbody tr th {\n",
       "        vertical-align: top;\n",
       "    }\n",
       "\n",
       "    .dataframe thead th {\n",
       "        text-align: right;\n",
       "    }\n",
       "</style>\n",
       "<table border=\"1\" class=\"dataframe\">\n",
       "  <thead>\n",
       "    <tr style=\"text-align: right;\">\n",
       "      <th>debt</th>\n",
       "      <th>False</th>\n",
       "      <th>True</th>\n",
       "      <th>conversion</th>\n",
       "    </tr>\n",
       "    <tr>\n",
       "      <th>total_income_group</th>\n",
       "      <th></th>\n",
       "      <th></th>\n",
       "      <th></th>\n",
       "    </tr>\n",
       "  </thead>\n",
       "  <tbody>\n",
       "    <tr>\n",
       "      <td>высокий доход</td>\n",
       "      <td>6740</td>\n",
       "      <td>555</td>\n",
       "      <td>7.607951</td>\n",
       "    </tr>\n",
       "    <tr>\n",
       "      <td>низкий доход</td>\n",
       "      <td>6502</td>\n",
       "      <td>578</td>\n",
       "      <td>8.163842</td>\n",
       "    </tr>\n",
       "    <tr>\n",
       "      <td>средний доход</td>\n",
       "      <td>6471</td>\n",
       "      <td>608</td>\n",
       "      <td>8.588784</td>\n",
       "    </tr>\n",
       "  </tbody>\n",
       "</table>\n",
       "</div>"
      ],
      "text/plain": [
       "debt                False  True  conversion\n",
       "total_income_group                         \n",
       "высокий доход        6740   555    7.607951\n",
       "низкий доход         6502   578    8.163842\n",
       "средний доход        6471   608    8.588784"
      ]
     },
     "execution_count": 38,
     "metadata": {},
     "output_type": "execute_result"
    }
   ],
   "source": [
    "total_income_pivot = df.pivot_table(index='total_income_group', columns='debt', values='children' , aggfunc='count')\n",
    "total_income_pivot['conversion'] = total_income_pivot[1] /(total_income_pivot[0]+ total_income_pivot[1])* 100\n",
    "\n",
    "total_income_pivot"
   ]
  },
  {
   "cell_type": "markdown",
   "metadata": {},
   "source": [
    "**Вывод**"
   ]
  },
  {
   "cell_type": "markdown",
   "metadata": {},
   "source": [
    "Люди с высоким доходом выплачивают кредит лучше всех."
   ]
  },
  {
   "cell_type": "markdown",
   "metadata": {},
   "source": [
    "- Как разные цели кредита влияют на его возврат в срок?"
   ]
  },
  {
   "cell_type": "code",
   "execution_count": 39,
   "metadata": {},
   "outputs": [
    {
     "data": {
      "text/html": [
       "<div>\n",
       "<style scoped>\n",
       "    .dataframe tbody tr th:only-of-type {\n",
       "        vertical-align: middle;\n",
       "    }\n",
       "\n",
       "    .dataframe tbody tr th {\n",
       "        vertical-align: top;\n",
       "    }\n",
       "\n",
       "    .dataframe thead tr th {\n",
       "        text-align: left;\n",
       "    }\n",
       "\n",
       "    .dataframe thead tr:last-of-type th {\n",
       "        text-align: right;\n",
       "    }\n",
       "</style>\n",
       "<table border=\"1\" class=\"dataframe\">\n",
       "  <thead>\n",
       "    <tr>\n",
       "      <th></th>\n",
       "      <th colspan=\"2\" halign=\"left\">debt</th>\n",
       "      <th>conversion</th>\n",
       "    </tr>\n",
       "    <tr>\n",
       "      <th></th>\n",
       "      <th>count</th>\n",
       "      <th>sum</th>\n",
       "      <th></th>\n",
       "    </tr>\n",
       "    <tr>\n",
       "      <th>purpose_group</th>\n",
       "      <th></th>\n",
       "      <th></th>\n",
       "      <th></th>\n",
       "    </tr>\n",
       "  </thead>\n",
       "  <tbody>\n",
       "    <tr>\n",
       "      <td>автомобиль</td>\n",
       "      <td>4306</td>\n",
       "      <td>403.0</td>\n",
       "      <td>9.359034</td>\n",
       "    </tr>\n",
       "    <tr>\n",
       "      <td>недвижимость</td>\n",
       "      <td>10811</td>\n",
       "      <td>782.0</td>\n",
       "      <td>7.233373</td>\n",
       "    </tr>\n",
       "    <tr>\n",
       "      <td>образование</td>\n",
       "      <td>4013</td>\n",
       "      <td>370.0</td>\n",
       "      <td>9.220035</td>\n",
       "    </tr>\n",
       "    <tr>\n",
       "      <td>свадьба</td>\n",
       "      <td>2324</td>\n",
       "      <td>186.0</td>\n",
       "      <td>8.003442</td>\n",
       "    </tr>\n",
       "  </tbody>\n",
       "</table>\n",
       "</div>"
      ],
      "text/plain": [
       "                debt        conversion\n",
       "               count    sum           \n",
       "purpose_group                         \n",
       "автомобиль      4306  403.0   9.359034\n",
       "недвижимость   10811  782.0   7.233373\n",
       "образование     4013  370.0   9.220035\n",
       "свадьба         2324  186.0   8.003442"
      ]
     },
     "execution_count": 39,
     "metadata": {},
     "output_type": "execute_result"
    }
   ],
   "source": [
    "purpose  = df.groupby('purpose_group').agg({'debt': ['count', 'sum']})\n",
    "purpose['conversion']=purpose['debt']['sum'] / purpose['debt']['count']*100\n",
    "\n",
    "purpose\n"
   ]
  },
  {
   "cell_type": "code",
   "execution_count": 40,
   "metadata": {},
   "outputs": [
    {
     "data": {
      "text/html": [
       "<div>\n",
       "<style scoped>\n",
       "    .dataframe tbody tr th:only-of-type {\n",
       "        vertical-align: middle;\n",
       "    }\n",
       "\n",
       "    .dataframe tbody tr th {\n",
       "        vertical-align: top;\n",
       "    }\n",
       "\n",
       "    .dataframe thead th {\n",
       "        text-align: right;\n",
       "    }\n",
       "</style>\n",
       "<table border=\"1\" class=\"dataframe\">\n",
       "  <thead>\n",
       "    <tr style=\"text-align: right;\">\n",
       "      <th>debt</th>\n",
       "      <th>False</th>\n",
       "      <th>True</th>\n",
       "      <th>conversion</th>\n",
       "    </tr>\n",
       "    <tr>\n",
       "      <th>purpose_group</th>\n",
       "      <th></th>\n",
       "      <th></th>\n",
       "      <th></th>\n",
       "    </tr>\n",
       "  </thead>\n",
       "  <tbody>\n",
       "    <tr>\n",
       "      <td>автомобиль</td>\n",
       "      <td>3903</td>\n",
       "      <td>403</td>\n",
       "      <td>9.359034</td>\n",
       "    </tr>\n",
       "    <tr>\n",
       "      <td>недвижимость</td>\n",
       "      <td>10029</td>\n",
       "      <td>782</td>\n",
       "      <td>7.233373</td>\n",
       "    </tr>\n",
       "    <tr>\n",
       "      <td>образование</td>\n",
       "      <td>3643</td>\n",
       "      <td>370</td>\n",
       "      <td>9.220035</td>\n",
       "    </tr>\n",
       "    <tr>\n",
       "      <td>свадьба</td>\n",
       "      <td>2138</td>\n",
       "      <td>186</td>\n",
       "      <td>8.003442</td>\n",
       "    </tr>\n",
       "  </tbody>\n",
       "</table>\n",
       "</div>"
      ],
      "text/plain": [
       "debt           False  True  conversion\n",
       "purpose_group                         \n",
       "автомобиль      3903   403    9.359034\n",
       "недвижимость   10029   782    7.233373\n",
       "образование     3643   370    9.220035\n",
       "свадьба         2138   186    8.003442"
      ]
     },
     "execution_count": 40,
     "metadata": {},
     "output_type": "execute_result"
    }
   ],
   "source": [
    "purpose_pivot = df.pivot_table(index='purpose_group', columns='debt', values='children', aggfunc='count')\n",
    "purpose_pivot['conversion'] = purpose_pivot[1] /(purpose_pivot[0]+ purpose_pivot[1])* 100\n",
    "\n",
    "purpose_pivot"
   ]
  },
  {
   "cell_type": "markdown",
   "metadata": {},
   "source": [
    "**Вывод**"
   ]
  },
  {
   "cell_type": "markdown",
   "metadata": {},
   "source": [
    "Кредиты на недвижимость выплачиваются гораздо лучше остальных.\n",
    "\n",
    "Хуже всего обстоит дело с автокредитами."
   ]
  },
  {
   "cell_type": "markdown",
   "metadata": {},
   "source": [
    "##  Общий вывод"
   ]
  },
  {
   "cell_type": "markdown",
   "metadata": {},
   "source": [
    "Было проведено исследование надёжности заёмщиков. В данных были найдены артефакты, пропуски и ошибки связанные с человеческим фактором, часть из них была устранена, часть не повлияла на результат. Клиенты банка, были разделены на различные категории.\n",
    "\n",
    "Были выявлены следующие закономерности:\n",
    "- люди с детьми, чаще имеют задолженности\n",
    "- люди в категории не 'женат / не замужем' и 'гражданский брак'\t имеют намного больше задолженностей, чем все остальные категории\n",
    "- люди с высоким доходом имеют меньше задолженностей\n",
    "- кредиты на недвижимоть погашаются своевременней чем автокредиты.\n"
   ]
  }
 ],
 "metadata": {
  "ExecuteTimeLog": [
   {
    "duration": 541,
    "start_time": "2022-01-07T05:32:43.600Z"
   },
   {
    "duration": 2164,
    "start_time": "2022-01-07T05:32:44.305Z"
   },
   {
    "duration": 50196,
    "start_time": "2022-01-07T05:31:56.276Z"
   },
   {
    "duration": 50194,
    "start_time": "2022-01-07T05:31:56.279Z"
   },
   {
    "duration": 236,
    "start_time": "2022-01-07T05:32:46.638Z"
   },
   {
    "duration": 294,
    "start_time": "2022-01-07T05:32:47.021Z"
   },
   {
    "duration": 50205,
    "start_time": "2022-01-07T05:31:57.112Z"
   },
   {
    "duration": 49,
    "start_time": "2022-01-07T05:34:45.080Z"
   },
   {
    "duration": 12,
    "start_time": "2022-01-07T05:34:45.648Z"
   },
   {
    "duration": 13,
    "start_time": "2022-01-07T05:34:53.829Z"
   },
   {
    "duration": 14,
    "start_time": "2022-01-07T05:34:53.902Z"
   },
   {
    "duration": 5,
    "start_time": "2022-01-07T05:34:54.392Z"
   },
   {
    "duration": 10,
    "start_time": "2022-01-07T05:34:54.599Z"
   },
   {
    "duration": 6,
    "start_time": "2022-01-07T05:34:55.590Z"
   },
   {
    "duration": 12,
    "start_time": "2022-01-07T05:34:55.950Z"
   },
   {
    "duration": 10,
    "start_time": "2022-01-07T05:34:57.183Z"
   },
   {
    "duration": 38,
    "start_time": "2022-01-07T05:34:57.520Z"
   },
   {
    "duration": 8,
    "start_time": "2022-01-07T05:34:57.935Z"
   },
   {
    "duration": 6,
    "start_time": "2022-01-07T05:34:58.542Z"
   },
   {
    "duration": 18,
    "start_time": "2022-01-07T05:34:58.919Z"
   },
   {
    "duration": 6,
    "start_time": "2022-01-07T05:34:59.374Z"
   },
   {
    "duration": 8,
    "start_time": "2022-01-07T05:34:59.566Z"
   },
   {
    "duration": 7,
    "start_time": "2022-01-07T05:34:59.751Z"
   },
   {
    "duration": 6,
    "start_time": "2022-01-07T05:35:00.094Z"
   },
   {
    "duration": 8,
    "start_time": "2022-01-07T05:35:00.470Z"
   },
   {
    "duration": 8,
    "start_time": "2022-01-07T05:35:00.655Z"
   },
   {
    "duration": 8,
    "start_time": "2022-01-07T05:35:01.041Z"
   },
   {
    "duration": 10,
    "start_time": "2022-01-07T05:35:01.406Z"
   },
   {
    "duration": 27,
    "start_time": "2022-01-07T05:35:01.774Z"
   },
   {
    "duration": 33,
    "start_time": "2022-01-07T05:35:02.130Z"
   },
   {
    "duration": 8,
    "start_time": "2022-01-07T05:35:03.134Z"
   },
   {
    "duration": 3,
    "start_time": "2022-01-07T05:35:03.591Z"
   },
   {
    "duration": 3280,
    "start_time": "2022-01-07T05:35:04.543Z"
   },
   {
    "duration": 7,
    "start_time": "2022-01-07T05:35:18.703Z"
   },
   {
    "duration": 3,
    "start_time": "2022-01-07T05:35:18.888Z"
   },
   {
    "duration": 20,
    "start_time": "2022-01-07T05:35:19.055Z"
   },
   {
    "duration": 28,
    "start_time": "2022-01-07T05:35:19.705Z"
   },
   {
    "duration": 16,
    "start_time": "2022-01-07T05:35:20.351Z"
   },
   {
    "duration": 17,
    "start_time": "2022-01-07T05:35:21.030Z"
   },
   {
    "duration": 16,
    "start_time": "2022-01-07T05:35:22.975Z"
   },
   {
    "duration": 126,
    "start_time": "2022-01-08T07:31:27.989Z"
   },
   {
    "duration": 822,
    "start_time": "2022-01-08T07:32:03.964Z"
   },
   {
    "duration": 718,
    "start_time": "2022-01-08T07:32:13.996Z"
   },
   {
    "duration": 345,
    "start_time": "2022-01-08T07:32:16.001Z"
   },
   {
    "duration": 9,
    "start_time": "2022-01-08T08:24:47.161Z"
   },
   {
    "duration": 3,
    "start_time": "2022-01-08T08:24:57.870Z"
   },
   {
    "duration": 312,
    "start_time": "2022-01-08T08:24:58.838Z"
   },
   {
    "duration": 15,
    "start_time": "2022-01-08T08:24:59.152Z"
   },
   {
    "duration": 14,
    "start_time": "2022-01-08T08:25:03.237Z"
   },
   {
    "duration": 23,
    "start_time": "2022-01-08T08:25:04.125Z"
   },
   {
    "duration": 8,
    "start_time": "2022-01-08T08:26:50.364Z"
   },
   {
    "duration": 14,
    "start_time": "2022-01-08T08:26:50.766Z"
   },
   {
    "duration": 8,
    "start_time": "2022-01-08T08:27:46.479Z"
   },
   {
    "duration": 16,
    "start_time": "2022-01-08T08:27:48.178Z"
   },
   {
    "duration": 126,
    "start_time": "2022-01-08T08:30:22.600Z"
   },
   {
    "duration": 3,
    "start_time": "2022-01-08T08:31:11.415Z"
   },
   {
    "duration": 339,
    "start_time": "2022-01-08T08:31:11.912Z"
   },
   {
    "duration": 14,
    "start_time": "2022-01-08T08:31:12.269Z"
   },
   {
    "duration": 12,
    "start_time": "2022-01-08T08:31:18.311Z"
   },
   {
    "duration": 20,
    "start_time": "2022-01-08T08:31:18.752Z"
   },
   {
    "duration": 7,
    "start_time": "2022-01-08T08:31:19.463Z"
   },
   {
    "duration": 13,
    "start_time": "2022-01-08T08:31:19.742Z"
   },
   {
    "duration": 8,
    "start_time": "2022-01-08T08:31:21.703Z"
   },
   {
    "duration": 16,
    "start_time": "2022-01-08T08:31:22.087Z"
   },
   {
    "duration": 17,
    "start_time": "2022-01-08T08:31:27.079Z"
   },
   {
    "duration": 56,
    "start_time": "2022-01-08T08:31:27.519Z"
   },
   {
    "duration": 12,
    "start_time": "2022-01-08T08:31:28.023Z"
   },
   {
    "duration": 9,
    "start_time": "2022-01-08T08:31:28.551Z"
   },
   {
    "duration": 32,
    "start_time": "2022-01-08T08:31:28.935Z"
   },
   {
    "duration": 9,
    "start_time": "2022-01-08T08:31:29.727Z"
   },
   {
    "duration": 13,
    "start_time": "2022-01-08T08:31:30.639Z"
   },
   {
    "duration": 10,
    "start_time": "2022-01-08T08:31:37.537Z"
   },
   {
    "duration": 8,
    "start_time": "2022-01-08T08:31:50.680Z"
   },
   {
    "duration": 12,
    "start_time": "2022-01-08T08:31:52.151Z"
   },
   {
    "duration": 12,
    "start_time": "2022-01-08T08:31:54.183Z"
   },
   {
    "duration": 11,
    "start_time": "2022-01-08T08:31:55.264Z"
   },
   {
    "duration": 12,
    "start_time": "2022-01-08T08:31:57.103Z"
   },
   {
    "duration": 36,
    "start_time": "2022-01-08T08:32:01.295Z"
   },
   {
    "duration": 29,
    "start_time": "2022-01-08T08:32:01.735Z"
   },
   {
    "duration": 28,
    "start_time": "2022-01-08T08:32:46.082Z"
   },
   {
    "duration": 5,
    "start_time": "2022-01-08T08:32:46.976Z"
   },
   {
    "duration": 5164,
    "start_time": "2022-01-08T08:32:48.360Z"
   },
   {
    "duration": 10,
    "start_time": "2022-01-08T08:33:12.632Z"
   },
   {
    "duration": 138,
    "start_time": "2022-01-08T08:36:06.104Z"
   },
   {
    "duration": 5,
    "start_time": "2022-01-08T08:38:20.059Z"
   },
   {
    "duration": 46730,
    "start_time": "2022-01-08T08:38:32.464Z"
   },
   {
    "duration": 5,
    "start_time": "2022-01-08T08:39:25.697Z"
   },
   {
    "duration": 339,
    "start_time": "2022-01-08T08:39:26.226Z"
   },
   {
    "duration": 14,
    "start_time": "2022-01-08T08:39:26.577Z"
   },
   {
    "duration": 13,
    "start_time": "2022-01-08T08:39:27.778Z"
   },
   {
    "duration": 21,
    "start_time": "2022-01-08T08:39:28.202Z"
   },
   {
    "duration": 8,
    "start_time": "2022-01-08T08:39:28.717Z"
   },
   {
    "duration": 13,
    "start_time": "2022-01-08T08:39:28.937Z"
   },
   {
    "duration": 8,
    "start_time": "2022-01-08T08:39:30.334Z"
   },
   {
    "duration": 22,
    "start_time": "2022-01-08T08:39:30.546Z"
   },
   {
    "duration": 22,
    "start_time": "2022-01-08T08:39:36.651Z"
   },
   {
    "duration": 57,
    "start_time": "2022-01-08T08:39:37.162Z"
   },
   {
    "duration": 11,
    "start_time": "2022-01-08T08:39:37.690Z"
   },
   {
    "duration": 8,
    "start_time": "2022-01-08T08:39:38.082Z"
   },
   {
    "duration": 33,
    "start_time": "2022-01-08T08:39:38.451Z"
   },
   {
    "duration": 8,
    "start_time": "2022-01-08T08:39:39.009Z"
   },
   {
    "duration": 12,
    "start_time": "2022-01-08T08:39:39.242Z"
   },
   {
    "duration": 10,
    "start_time": "2022-01-08T08:39:39.442Z"
   },
   {
    "duration": 8,
    "start_time": "2022-01-08T08:39:39.794Z"
   },
   {
    "duration": 12,
    "start_time": "2022-01-08T08:39:40.169Z"
   },
   {
    "duration": 11,
    "start_time": "2022-01-08T08:39:40.354Z"
   },
   {
    "duration": 12,
    "start_time": "2022-01-08T08:39:40.713Z"
   },
   {
    "duration": 13,
    "start_time": "2022-01-08T08:39:41.082Z"
   },
   {
    "duration": 34,
    "start_time": "2022-01-08T08:39:42.290Z"
   },
   {
    "duration": 29,
    "start_time": "2022-01-08T08:39:42.514Z"
   },
   {
    "duration": 10,
    "start_time": "2022-01-08T08:39:43.738Z"
   },
   {
    "duration": 5,
    "start_time": "2022-01-08T08:39:45.023Z"
   },
   {
    "duration": 4938,
    "start_time": "2022-01-08T08:39:45.489Z"
   },
   {
    "duration": 10,
    "start_time": "2022-01-08T08:39:55.786Z"
   },
   {
    "duration": 5,
    "start_time": "2022-01-08T08:39:58.706Z"
   },
   {
    "duration": 42102,
    "start_time": "2022-01-08T08:40:03.331Z"
   },
   {
    "duration": 773,
    "start_time": "2022-01-08T08:41:27.830Z"
   },
   {
    "duration": 335,
    "start_time": "2022-01-08T08:41:28.605Z"
   },
   {
    "duration": 16,
    "start_time": "2022-01-08T08:41:28.943Z"
   },
   {
    "duration": 12,
    "start_time": "2022-01-08T08:41:28.962Z"
   },
   {
    "duration": 21,
    "start_time": "2022-01-08T08:41:28.977Z"
   },
   {
    "duration": 7,
    "start_time": "2022-01-08T08:41:29.001Z"
   },
   {
    "duration": 52,
    "start_time": "2022-01-08T08:41:29.010Z"
   },
   {
    "duration": 7,
    "start_time": "2022-01-08T08:41:29.066Z"
   },
   {
    "duration": 15,
    "start_time": "2022-01-08T08:41:29.076Z"
   },
   {
    "duration": 16,
    "start_time": "2022-01-08T08:41:29.094Z"
   },
   {
    "duration": 98,
    "start_time": "2022-01-08T08:41:29.112Z"
   },
   {
    "duration": 12,
    "start_time": "2022-01-08T08:41:29.212Z"
   },
   {
    "duration": 10,
    "start_time": "2022-01-08T08:41:29.226Z"
   },
   {
    "duration": 31,
    "start_time": "2022-01-08T08:41:29.260Z"
   },
   {
    "duration": 11,
    "start_time": "2022-01-08T08:41:29.294Z"
   },
   {
    "duration": 17,
    "start_time": "2022-01-08T08:41:29.307Z"
   },
   {
    "duration": 37,
    "start_time": "2022-01-08T08:41:29.327Z"
   },
   {
    "duration": 15,
    "start_time": "2022-01-08T08:41:29.367Z"
   },
   {
    "duration": 11,
    "start_time": "2022-01-08T08:41:29.384Z"
   },
   {
    "duration": 11,
    "start_time": "2022-01-08T08:41:29.397Z"
   },
   {
    "duration": 12,
    "start_time": "2022-01-08T08:41:29.410Z"
   },
   {
    "duration": 45,
    "start_time": "2022-01-08T08:41:29.424Z"
   },
   {
    "duration": 34,
    "start_time": "2022-01-08T08:41:29.474Z"
   },
   {
    "duration": 54,
    "start_time": "2022-01-08T08:41:29.511Z"
   },
   {
    "duration": 10,
    "start_time": "2022-01-08T08:41:29.567Z"
   },
   {
    "duration": 4,
    "start_time": "2022-01-08T08:41:29.580Z"
   },
   {
    "duration": 4877,
    "start_time": "2022-01-08T08:41:29.586Z"
   },
   {
    "duration": 10,
    "start_time": "2022-01-08T08:41:34.466Z"
   },
   {
    "duration": 4,
    "start_time": "2022-01-08T08:41:34.478Z"
   },
   {
    "duration": 66882,
    "start_time": "2022-01-08T08:41:34.484Z"
   },
   {
    "duration": 45,
    "start_time": "2022-01-08T08:42:41.369Z"
   },
   {
    "duration": 49,
    "start_time": "2022-01-08T08:42:41.417Z"
   },
   {
    "duration": 28,
    "start_time": "2022-01-08T08:42:41.468Z"
   },
   {
    "duration": 26,
    "start_time": "2022-01-08T08:42:41.498Z"
   },
   {
    "duration": 4,
    "start_time": "2022-01-08T08:49:55.542Z"
   },
   {
    "duration": 67530,
    "start_time": "2022-01-08T08:49:57.929Z"
   },
   {
    "duration": 4,
    "start_time": "2022-01-08T08:53:24.271Z"
   },
   {
    "duration": 1946,
    "start_time": "2022-01-08T08:53:26.434Z"
   },
   {
    "duration": 4,
    "start_time": "2022-01-08T08:55:11.316Z"
   },
   {
    "duration": 30,
    "start_time": "2022-01-08T08:55:13.579Z"
   },
   {
    "duration": 34,
    "start_time": "2022-01-08T08:55:45.603Z"
   },
   {
    "duration": 372,
    "start_time": "2022-01-08T09:13:50.742Z"
   },
   {
    "duration": 367,
    "start_time": "2022-01-08T09:15:38.713Z"
   },
   {
    "duration": 387,
    "start_time": "2022-01-08T09:16:38.570Z"
   },
   {
    "duration": 413,
    "start_time": "2022-01-08T09:17:24.243Z"
   },
   {
    "duration": 398,
    "start_time": "2022-01-08T09:19:34.068Z"
   },
   {
    "duration": 479,
    "start_time": "2022-01-08T09:24:20.502Z"
   },
   {
    "duration": 459,
    "start_time": "2022-01-08T09:24:33.805Z"
   },
   {
    "duration": 455,
    "start_time": "2022-01-08T09:24:55.606Z"
   },
   {
    "duration": 459,
    "start_time": "2022-01-08T09:25:10.173Z"
   },
   {
    "duration": 48,
    "start_time": "2022-01-08T09:27:08.014Z"
   },
   {
    "duration": 370,
    "start_time": "2022-01-08T09:28:27.511Z"
   },
   {
    "duration": 397,
    "start_time": "2022-01-08T09:28:45.152Z"
   },
   {
    "duration": 45,
    "start_time": "2022-01-08T09:28:56.375Z"
   },
   {
    "duration": 61,
    "start_time": "2022-01-08T09:31:36.384Z"
   },
   {
    "duration": 49,
    "start_time": "2022-01-08T09:32:26.200Z"
   },
   {
    "duration": 399,
    "start_time": "2022-01-08T09:33:53.673Z"
   },
   {
    "duration": 665,
    "start_time": "2022-01-08T09:34:18.048Z"
   },
   {
    "duration": 48,
    "start_time": "2022-01-08T09:34:32.616Z"
   },
   {
    "duration": 369,
    "start_time": "2022-01-08T09:35:34.560Z"
   },
   {
    "duration": 394,
    "start_time": "2022-01-08T09:35:38.392Z"
   },
   {
    "duration": 114,
    "start_time": "2022-01-08T09:35:44.216Z"
   },
   {
    "duration": 592,
    "start_time": "2022-01-08T09:38:35.578Z"
   },
   {
    "duration": 384,
    "start_time": "2022-01-08T09:38:52.944Z"
   },
   {
    "duration": 27,
    "start_time": "2022-01-08T09:42:38.515Z"
   },
   {
    "duration": 26,
    "start_time": "2022-01-08T09:44:26.330Z"
   },
   {
    "duration": 27,
    "start_time": "2022-01-08T09:45:11.149Z"
   },
   {
    "duration": 28,
    "start_time": "2022-01-08T09:45:12.909Z"
   },
   {
    "duration": 29,
    "start_time": "2022-01-08T09:47:49.461Z"
   },
   {
    "duration": 29,
    "start_time": "2022-01-08T09:49:22.485Z"
   },
   {
    "duration": 24,
    "start_time": "2022-01-08T09:49:47.670Z"
   },
   {
    "duration": 29,
    "start_time": "2022-01-08T09:49:48.838Z"
   },
   {
    "duration": 196,
    "start_time": "2022-01-08T09:52:21.815Z"
   },
   {
    "duration": 32,
    "start_time": "2022-01-08T09:58:36.720Z"
   },
   {
    "duration": 30,
    "start_time": "2022-01-08T09:58:45.920Z"
   },
   {
    "duration": 31,
    "start_time": "2022-01-08T10:00:03.657Z"
   },
   {
    "duration": 31,
    "start_time": "2022-01-08T10:00:40.513Z"
   },
   {
    "duration": 31,
    "start_time": "2022-01-08T10:01:33.514Z"
   },
   {
    "duration": 33,
    "start_time": "2022-01-08T10:01:44.113Z"
   },
   {
    "duration": 30,
    "start_time": "2022-01-08T10:02:55.289Z"
   },
   {
    "duration": 467,
    "start_time": "2022-01-08T10:04:52.838Z"
   },
   {
    "duration": 31,
    "start_time": "2022-01-08T10:04:58.851Z"
   },
   {
    "duration": 31,
    "start_time": "2022-01-08T10:05:25.363Z"
   },
   {
    "duration": 26,
    "start_time": "2022-01-08T10:05:37.467Z"
   },
   {
    "duration": 30,
    "start_time": "2022-01-08T10:05:38.915Z"
   },
   {
    "duration": -116,
    "start_time": "2022-01-08T10:07:15.254Z"
   },
   {
    "duration": 33,
    "start_time": "2022-01-08T10:07:37.339Z"
   },
   {
    "duration": 10209,
    "start_time": "2022-01-08T10:08:53.916Z"
   },
   {
    "duration": 37,
    "start_time": "2022-01-08T10:09:43.349Z"
   },
   {
    "duration": 29,
    "start_time": "2022-01-08T10:09:49.228Z"
   },
   {
    "duration": 30,
    "start_time": "2022-01-08T10:10:30.197Z"
   },
   {
    "duration": 28,
    "start_time": "2022-01-08T10:10:57.212Z"
   },
   {
    "duration": 24,
    "start_time": "2022-01-08T10:11:01.997Z"
   },
   {
    "duration": 30,
    "start_time": "2022-01-08T10:11:10.029Z"
   },
   {
    "duration": 1204,
    "start_time": "2022-01-08T10:14:34.006Z"
   },
   {
    "duration": 11075,
    "start_time": "2022-01-08T10:14:56.694Z"
   },
   {
    "duration": 37,
    "start_time": "2022-01-08T10:15:31.998Z"
   },
   {
    "duration": 37,
    "start_time": "2022-01-08T10:16:00.734Z"
   },
   {
    "duration": 29,
    "start_time": "2022-01-08T10:16:13.046Z"
   },
   {
    "duration": 34,
    "start_time": "2022-01-08T10:22:58.217Z"
   },
   {
    "duration": 28,
    "start_time": "2022-01-08T10:22:58.488Z"
   },
   {
    "duration": 25,
    "start_time": "2022-01-08T10:22:59.848Z"
   },
   {
    "duration": 30,
    "start_time": "2022-01-08T10:23:00.031Z"
   },
   {
    "duration": 28,
    "start_time": "2022-01-08T10:23:00.648Z"
   },
   {
    "duration": 30,
    "start_time": "2022-01-08T10:23:00.818Z"
   },
   {
    "duration": 24,
    "start_time": "2022-01-08T10:23:01.496Z"
   },
   {
    "duration": 31,
    "start_time": "2022-01-08T10:23:01.888Z"
   },
   {
    "duration": 416,
    "start_time": "2022-01-08T10:27:27.970Z"
   },
   {
    "duration": 9491,
    "start_time": "2022-01-08T10:27:33.218Z"
   },
   {
    "duration": 30,
    "start_time": "2022-01-08T10:28:17.075Z"
   },
   {
    "duration": 24,
    "start_time": "2022-01-08T10:28:29.603Z"
   },
   {
    "duration": 783,
    "start_time": "2022-01-08T10:29:26.097Z"
   },
   {
    "duration": 352,
    "start_time": "2022-01-08T10:29:26.883Z"
   },
   {
    "duration": 26,
    "start_time": "2022-01-08T10:29:27.241Z"
   },
   {
    "duration": 12,
    "start_time": "2022-01-08T10:29:27.269Z"
   },
   {
    "duration": 20,
    "start_time": "2022-01-08T10:29:27.283Z"
   },
   {
    "duration": 8,
    "start_time": "2022-01-08T10:29:27.305Z"
   },
   {
    "duration": 49,
    "start_time": "2022-01-08T10:29:27.316Z"
   },
   {
    "duration": 7,
    "start_time": "2022-01-08T10:29:27.368Z"
   },
   {
    "duration": 15,
    "start_time": "2022-01-08T10:29:27.378Z"
   },
   {
    "duration": 17,
    "start_time": "2022-01-08T10:29:27.395Z"
   },
   {
    "duration": 92,
    "start_time": "2022-01-08T10:29:27.414Z"
   },
   {
    "duration": 11,
    "start_time": "2022-01-08T10:29:27.508Z"
   },
   {
    "duration": 9,
    "start_time": "2022-01-08T10:29:27.521Z"
   },
   {
    "duration": 52,
    "start_time": "2022-01-08T10:29:27.533Z"
   },
   {
    "duration": 7,
    "start_time": "2022-01-08T10:29:27.587Z"
   },
   {
    "duration": 12,
    "start_time": "2022-01-08T10:29:27.596Z"
   },
   {
    "duration": 50,
    "start_time": "2022-01-08T10:29:27.610Z"
   },
   {
    "duration": 8,
    "start_time": "2022-01-08T10:29:27.662Z"
   },
   {
    "duration": 13,
    "start_time": "2022-01-08T10:29:27.672Z"
   },
   {
    "duration": 10,
    "start_time": "2022-01-08T10:29:27.688Z"
   },
   {
    "duration": 13,
    "start_time": "2022-01-08T10:29:27.701Z"
   },
   {
    "duration": 46,
    "start_time": "2022-01-08T10:29:27.719Z"
   },
   {
    "duration": 39,
    "start_time": "2022-01-08T10:29:27.768Z"
   },
   {
    "duration": 54,
    "start_time": "2022-01-08T10:29:27.810Z"
   },
   {
    "duration": 10,
    "start_time": "2022-01-08T10:29:27.867Z"
   },
   {
    "duration": 5,
    "start_time": "2022-01-08T10:29:27.879Z"
   },
   {
    "duration": 4994,
    "start_time": "2022-01-08T10:29:27.887Z"
   },
   {
    "duration": 10,
    "start_time": "2022-01-08T10:29:32.884Z"
   },
   {
    "duration": 5,
    "start_time": "2022-01-08T10:29:32.896Z"
   },
   {
    "duration": 67841,
    "start_time": "2022-01-08T10:29:32.903Z"
   },
   {
    "duration": 12,
    "start_time": "2022-01-08T10:30:40.747Z"
   },
   {
    "duration": 30,
    "start_time": "2022-01-08T10:30:40.762Z"
   },
   {
    "duration": 66,
    "start_time": "2022-01-08T10:30:40.794Z"
   },
   {
    "duration": 28,
    "start_time": "2022-01-08T10:30:40.862Z"
   },
   {
    "duration": 25,
    "start_time": "2022-01-08T10:30:40.892Z"
   },
   {
    "duration": 57,
    "start_time": "2022-01-08T10:30:40.919Z"
   },
   {
    "duration": 24,
    "start_time": "2022-01-08T10:30:40.979Z"
   },
   {
    "duration": 56,
    "start_time": "2022-01-08T10:30:41.005Z"
   },
   {
    "duration": 25,
    "start_time": "2022-01-08T10:30:41.064Z"
   },
   {
    "duration": 30,
    "start_time": "2022-01-08T10:30:41.092Z"
   },
   {
    "duration": 563,
    "start_time": "2022-01-08T10:37:08.502Z"
   },
   {
    "duration": 31,
    "start_time": "2022-01-08T10:37:22.743Z"
   },
   {
    "duration": 799,
    "start_time": "2022-01-08T10:43:37.140Z"
   },
   {
    "duration": 331,
    "start_time": "2022-01-08T10:43:37.942Z"
   },
   {
    "duration": 15,
    "start_time": "2022-01-08T10:43:38.276Z"
   },
   {
    "duration": 12,
    "start_time": "2022-01-08T10:43:38.293Z"
   },
   {
    "duration": 54,
    "start_time": "2022-01-08T10:43:38.307Z"
   },
   {
    "duration": 8,
    "start_time": "2022-01-08T10:43:38.363Z"
   },
   {
    "duration": 12,
    "start_time": "2022-01-08T10:43:38.374Z"
   },
   {
    "duration": 8,
    "start_time": "2022-01-08T10:43:38.390Z"
   },
   {
    "duration": 15,
    "start_time": "2022-01-08T10:43:38.401Z"
   },
   {
    "duration": 16,
    "start_time": "2022-01-08T10:43:38.459Z"
   },
   {
    "duration": 56,
    "start_time": "2022-01-08T10:43:38.477Z"
   },
   {
    "duration": 28,
    "start_time": "2022-01-08T10:43:38.536Z"
   },
   {
    "duration": 9,
    "start_time": "2022-01-08T10:43:38.566Z"
   },
   {
    "duration": 30,
    "start_time": "2022-01-08T10:43:38.578Z"
   },
   {
    "duration": 8,
    "start_time": "2022-01-08T10:43:38.610Z"
   },
   {
    "duration": 12,
    "start_time": "2022-01-08T10:43:38.659Z"
   },
   {
    "duration": 10,
    "start_time": "2022-01-08T10:43:38.673Z"
   },
   {
    "duration": 8,
    "start_time": "2022-01-08T10:43:38.685Z"
   },
   {
    "duration": 14,
    "start_time": "2022-01-08T10:43:38.696Z"
   },
   {
    "duration": 55,
    "start_time": "2022-01-08T10:43:38.712Z"
   },
   {
    "duration": 13,
    "start_time": "2022-01-08T10:43:38.769Z"
   },
   {
    "duration": 12,
    "start_time": "2022-01-08T10:43:38.785Z"
   },
   {
    "duration": 64,
    "start_time": "2022-01-08T10:43:38.803Z"
   },
   {
    "duration": 27,
    "start_time": "2022-01-08T10:43:38.870Z"
   },
   {
    "duration": 9,
    "start_time": "2022-01-08T10:43:38.900Z"
   },
   {
    "duration": 5,
    "start_time": "2022-01-08T10:43:38.911Z"
   },
   {
    "duration": 5223,
    "start_time": "2022-01-08T10:43:38.918Z"
   },
   {
    "duration": 21,
    "start_time": "2022-01-08T10:43:44.144Z"
   },
   {
    "duration": 5,
    "start_time": "2022-01-08T10:43:44.167Z"
   },
   {
    "duration": 68368,
    "start_time": "2022-01-08T10:43:44.174Z"
   },
   {
    "duration": 4,
    "start_time": "2022-01-08T10:44:52.545Z"
   },
   {
    "duration": 45,
    "start_time": "2022-01-08T10:44:52.587Z"
   },
   {
    "duration": 28,
    "start_time": "2022-01-08T10:44:52.634Z"
   },
   {
    "duration": 24,
    "start_time": "2022-01-08T10:44:52.665Z"
   },
   {
    "duration": 29,
    "start_time": "2022-01-08T10:44:52.692Z"
   },
   {
    "duration": 37,
    "start_time": "2022-01-08T10:44:52.723Z"
   },
   {
    "duration": 30,
    "start_time": "2022-01-08T10:44:52.763Z"
   },
   {
    "duration": 23,
    "start_time": "2022-01-08T10:44:52.795Z"
   },
   {
    "duration": 39,
    "start_time": "2022-01-08T10:44:52.820Z"
   },
   {
    "duration": 29,
    "start_time": "2022-01-08T10:44:52.862Z"
   }
  ],
  "kernelspec": {
   "display_name": "Python 3 (ipykernel)",
   "language": "python",
   "name": "python3"
  },
  "language_info": {
   "codemirror_mode": {
    "name": "ipython",
    "version": 3
   },
   "file_extension": ".py",
   "mimetype": "text/x-python",
   "name": "python",
   "nbconvert_exporter": "python",
   "pygments_lexer": "ipython3",
   "version": "3.7.8"
  },
  "toc": {
   "base_numbering": 1,
   "nav_menu": {},
   "number_sections": true,
   "sideBar": true,
   "skip_h1_title": true,
   "title_cell": "Table of Contents",
   "title_sidebar": "Contents",
   "toc_cell": false,
   "toc_position": {},
   "toc_section_display": true,
   "toc_window_display": true
  }
 },
 "nbformat": 4,
 "nbformat_minor": 2
}

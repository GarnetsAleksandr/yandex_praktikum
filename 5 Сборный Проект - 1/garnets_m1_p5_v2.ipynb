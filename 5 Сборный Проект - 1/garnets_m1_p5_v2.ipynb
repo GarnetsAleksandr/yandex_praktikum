{
 "cells": [
  {
   "cell_type": "markdown",
   "id": "adf2f7ec",
   "metadata": {},
   "source": [
    "**Описание проекта**\n",
    "\n",
    "Вы работаете в интернет-магазине «Стримчик», который продаёт по всему миру компьютерные игры. Из открытых источников доступны исторические данные о продажах игр, оценки пользователей и экспертов, жанры и платформы (например, Xbox или PlayStation). Вам нужно выявить определяющие успешность игры закономерности. Это позволит сделать ставку на потенциально популярный продукт и спланировать рекламные кампании.\n",
    "\n",
    "Перед вами данные до 2016 года. Представим, что сейчас декабрь 2016 г., и вы планируете кампанию на 2017-й. Нужно отработать принцип работы с данными. Неважно, прогнозируете ли вы продажи на 2017 год по данным 2016-го или же 2027-й — по данным 2026 года.\n",
    "\n",
    "В наборе данных попадается аббревиатура ESRB (Entertainment Software Rating Board) — это ассоциация, определяющая возрастной рейтинг компьютерных игр. ESRB оценивает игровой контент и присваивает ему подходящую возрастную категорию, например, «Для взрослых», «Для детей младшего возраста» или «Для подростков»."
   ]
  },
  {
   "cell_type": "markdown",
   "id": "e222657a",
   "metadata": {},
   "source": [
    "# Импорт библиотек"
   ]
  },
  {
   "cell_type": "code",
   "execution_count": 1,
   "id": "e59d76e6",
   "metadata": {},
   "outputs": [],
   "source": [
    "import pandas as pd\n",
    "import matplotlib.pyplot as plt\n",
    "import numpy as np\n",
    "from scipy import stats as st\n",
    "from statsmodels.graphics.gofplots import qqplot\n",
    "# Снимем ограничение на ширину таблицы\n",
    "pd.set_option('display.max_columns', None)"
   ]
  },
  {
   "cell_type": "markdown",
   "id": "f83c66ba",
   "metadata": {},
   "source": [
    "# Подготовка данных"
   ]
  },
  {
   "cell_type": "code",
   "execution_count": 2,
   "id": "4f20dd13",
   "metadata": {},
   "outputs": [],
   "source": [
    "#Чтение файла в переменную\n",
    "try:     \n",
    "    df=pd.read_csv('games.csv')  # Локальный путь\n",
    "except:        \n",
    "    df=pd.read_csv('/datasets/games.csv')  # Серверный путь"
   ]
  },
  {
   "cell_type": "code",
   "execution_count": 3,
   "id": "abfb9799",
   "metadata": {},
   "outputs": [
    {
     "data": {
      "text/plain": [
       "(16715, 11)"
      ]
     },
     "execution_count": 3,
     "metadata": {},
     "output_type": "execute_result"
    }
   ],
   "source": [
    "df.shape"
   ]
  },
  {
   "cell_type": "code",
   "execution_count": 4,
   "id": "9937f3c2",
   "metadata": {},
   "outputs": [
    {
     "data": {
      "text/html": [
       "<div>\n",
       "<style scoped>\n",
       "    .dataframe tbody tr th:only-of-type {\n",
       "        vertical-align: middle;\n",
       "    }\n",
       "\n",
       "    .dataframe tbody tr th {\n",
       "        vertical-align: top;\n",
       "    }\n",
       "\n",
       "    .dataframe thead th {\n",
       "        text-align: right;\n",
       "    }\n",
       "</style>\n",
       "<table border=\"1\" class=\"dataframe\">\n",
       "  <thead>\n",
       "    <tr style=\"text-align: right;\">\n",
       "      <th></th>\n",
       "      <th>Name</th>\n",
       "      <th>Platform</th>\n",
       "      <th>Year_of_Release</th>\n",
       "      <th>Genre</th>\n",
       "      <th>NA_sales</th>\n",
       "      <th>EU_sales</th>\n",
       "      <th>JP_sales</th>\n",
       "      <th>Other_sales</th>\n",
       "      <th>Critic_Score</th>\n",
       "      <th>User_Score</th>\n",
       "      <th>Rating</th>\n",
       "    </tr>\n",
       "  </thead>\n",
       "  <tbody>\n",
       "    <tr>\n",
       "      <td>11820</td>\n",
       "      <td>Rogue Trooper: Quartz Zone Massacre</td>\n",
       "      <td>Wii</td>\n",
       "      <td>2009.0</td>\n",
       "      <td>Shooter</td>\n",
       "      <td>0.06</td>\n",
       "      <td>0.00</td>\n",
       "      <td>0.00</td>\n",
       "      <td>0.01</td>\n",
       "      <td>70.0</td>\n",
       "      <td>8.2</td>\n",
       "      <td>T</td>\n",
       "    </tr>\n",
       "    <tr>\n",
       "      <td>6614</td>\n",
       "      <td>Spy Kids Challenger</td>\n",
       "      <td>GBA</td>\n",
       "      <td>2002.0</td>\n",
       "      <td>Platform</td>\n",
       "      <td>0.18</td>\n",
       "      <td>0.07</td>\n",
       "      <td>0.00</td>\n",
       "      <td>0.00</td>\n",
       "      <td>NaN</td>\n",
       "      <td>NaN</td>\n",
       "      <td>NaN</td>\n",
       "    </tr>\n",
       "    <tr>\n",
       "      <td>1137</td>\n",
       "      <td>Kinectimals</td>\n",
       "      <td>X360</td>\n",
       "      <td>2010.0</td>\n",
       "      <td>Simulation</td>\n",
       "      <td>1.02</td>\n",
       "      <td>0.46</td>\n",
       "      <td>0.00</td>\n",
       "      <td>0.13</td>\n",
       "      <td>74.0</td>\n",
       "      <td>3.1</td>\n",
       "      <td>E</td>\n",
       "    </tr>\n",
       "    <tr>\n",
       "      <td>8164</td>\n",
       "      <td>Naruto Shippuden: Dragon Blade Chronicles</td>\n",
       "      <td>Wii</td>\n",
       "      <td>2009.0</td>\n",
       "      <td>Action</td>\n",
       "      <td>0.11</td>\n",
       "      <td>0.01</td>\n",
       "      <td>0.05</td>\n",
       "      <td>0.01</td>\n",
       "      <td>38.0</td>\n",
       "      <td>3</td>\n",
       "      <td>E10+</td>\n",
       "    </tr>\n",
       "    <tr>\n",
       "      <td>11109</td>\n",
       "      <td>Kenka Banchou 2: Full Throttle</td>\n",
       "      <td>PS2</td>\n",
       "      <td>2007.0</td>\n",
       "      <td>Action</td>\n",
       "      <td>0.00</td>\n",
       "      <td>0.00</td>\n",
       "      <td>0.09</td>\n",
       "      <td>0.00</td>\n",
       "      <td>NaN</td>\n",
       "      <td>NaN</td>\n",
       "      <td>NaN</td>\n",
       "    </tr>\n",
       "  </tbody>\n",
       "</table>\n",
       "</div>"
      ],
      "text/plain": [
       "                                            Name Platform  Year_of_Release  \\\n",
       "11820        Rogue Trooper: Quartz Zone Massacre      Wii           2009.0   \n",
       "6614                         Spy Kids Challenger      GBA           2002.0   \n",
       "1137                                 Kinectimals     X360           2010.0   \n",
       "8164   Naruto Shippuden: Dragon Blade Chronicles      Wii           2009.0   \n",
       "11109             Kenka Banchou 2: Full Throttle      PS2           2007.0   \n",
       "\n",
       "            Genre  NA_sales  EU_sales  JP_sales  Other_sales  Critic_Score  \\\n",
       "11820     Shooter      0.06      0.00      0.00         0.01          70.0   \n",
       "6614     Platform      0.18      0.07      0.00         0.00           NaN   \n",
       "1137   Simulation      1.02      0.46      0.00         0.13          74.0   \n",
       "8164       Action      0.11      0.01      0.05         0.01          38.0   \n",
       "11109      Action      0.00      0.00      0.09         0.00           NaN   \n",
       "\n",
       "      User_Score Rating  \n",
       "11820        8.2      T  \n",
       "6614         NaN    NaN  \n",
       "1137         3.1      E  \n",
       "8164           3   E10+  \n",
       "11109        NaN    NaN  "
      ]
     },
     "execution_count": 4,
     "metadata": {},
     "output_type": "execute_result"
    }
   ],
   "source": [
    "df.sample(5)"
   ]
  },
  {
   "cell_type": "markdown",
   "id": "7641ca10",
   "metadata": {},
   "source": [
    "**Описание данных**\n",
    "- Name — название игры\n",
    "- Platform — платформа\n",
    "- Year_of_Release — год выпуска\n",
    "- Genre — жанр игры\n",
    "- NA_sales — продажи в Северной Америке (миллионы проданных копий)\n",
    "- EU_sales — продажи в Европе (миллионы проданных копий)\n",
    "- JP_sales — продажи в Японии (миллионы проданных копий)\n",
    "- Other_sales — продажи в других странах (миллионы проданных копий)\n",
    "- Critic_Score — оценка критиков (максимум 100)\n",
    "- User_Score — оценка пользователей (максимум 10)\n",
    "- Rating — рейтинг от организации ESRB (англ. Entertainment Software Rating Board). Эта ассоциация определяет рейтинг компьютерных игр и присваивает им подходящую возрастную категорию."
   ]
  },
  {
   "cell_type": "code",
   "execution_count": 5,
   "id": "efedf05a",
   "metadata": {},
   "outputs": [
    {
     "data": {
      "text/plain": [
       "Index(['Name', 'Platform', 'Year_of_Release', 'Genre', 'NA_sales', 'EU_sales',\n",
       "       'JP_sales', 'Other_sales', 'Critic_Score', 'User_Score', 'Rating'],\n",
       "      dtype='object')"
      ]
     },
     "execution_count": 5,
     "metadata": {},
     "output_type": "execute_result"
    }
   ],
   "source": [
    "df.columns"
   ]
  },
  {
   "cell_type": "code",
   "execution_count": 6,
   "id": "2a8719d3",
   "metadata": {},
   "outputs": [],
   "source": [
    "# Приведем названия столбцов к нижниму регистру\n",
    "df.columns=['name', 'platform', 'year_of_release', 'genre', 'na_sales', 'eu_sales',\n",
    "       'jp_sales', 'other_sales', 'critic_score', 'user_score', 'rating']"
   ]
  },
  {
   "cell_type": "code",
   "execution_count": 7,
   "id": "b76ea06d",
   "metadata": {},
   "outputs": [
    {
     "name": "stdout",
     "output_type": "stream",
     "text": [
      "<class 'pandas.core.frame.DataFrame'>\n",
      "RangeIndex: 16715 entries, 0 to 16714\n",
      "Data columns (total 11 columns):\n",
      "name               16713 non-null object\n",
      "platform           16715 non-null object\n",
      "year_of_release    16446 non-null float64\n",
      "genre              16713 non-null object\n",
      "na_sales           16715 non-null float64\n",
      "eu_sales           16715 non-null float64\n",
      "jp_sales           16715 non-null float64\n",
      "other_sales        16715 non-null float64\n",
      "critic_score       8137 non-null float64\n",
      "user_score         10014 non-null object\n",
      "rating             9949 non-null object\n",
      "dtypes: float64(6), object(5)\n",
      "memory usage: 1.4+ MB\n"
     ]
    }
   ],
   "source": [
    "df.info()"
   ]
  },
  {
   "cell_type": "code",
   "execution_count": 8,
   "id": "b36faf1a",
   "metadata": {},
   "outputs": [
    {
     "data": {
      "text/plain": [
       "Need for Speed: Most Wanted                         12\n",
       "LEGO Marvel Super Heroes                             9\n",
       "Ratatouille                                          9\n",
       "Madden NFL 07                                        9\n",
       "FIFA 14                                              9\n",
       "                                                    ..\n",
       "Atari Anniversary Edition Redux                      1\n",
       "Star Gladiator Episode: I Final Crusade              1\n",
       "Gitaroo Man                                          1\n",
       "Puzzle & Dragons X: God Chapter / Dragon Chapter     1\n",
       "Capcom vs. SNK: Millennium Fight 2000 Pro            1\n",
       "Name: name, Length: 11559, dtype: int64"
      ]
     },
     "execution_count": 8,
     "metadata": {},
     "output_type": "execute_result"
    }
   ],
   "source": [
    "df['name'].value_counts()"
   ]
  },
  {
   "cell_type": "code",
   "execution_count": 9,
   "id": "dc9ba6d1",
   "metadata": {},
   "outputs": [
    {
     "data": {
      "text/plain": [
       "name                  2\n",
       "platform              0\n",
       "year_of_release     269\n",
       "genre                 2\n",
       "na_sales              0\n",
       "eu_sales              0\n",
       "jp_sales              0\n",
       "other_sales           0\n",
       "critic_score       8578\n",
       "user_score         6701\n",
       "rating             6766\n",
       "dtype: int64"
      ]
     },
     "execution_count": 9,
     "metadata": {},
     "output_type": "execute_result"
    }
   ],
   "source": [
    "# Количество пропусков\n",
    "df.isna().sum()"
   ]
  },
  {
   "cell_type": "code",
   "execution_count": 10,
   "id": "22f8267f",
   "metadata": {},
   "outputs": [
    {
     "data": {
      "text/plain": [
       "name               0.000120\n",
       "platform           0.000000\n",
       "year_of_release    0.016093\n",
       "genre              0.000120\n",
       "na_sales           0.000000\n",
       "eu_sales           0.000000\n",
       "jp_sales           0.000000\n",
       "other_sales        0.000000\n",
       "critic_score       0.513192\n",
       "user_score         0.400897\n",
       "rating             0.404786\n",
       "dtype: float64"
      ]
     },
     "execution_count": 10,
     "metadata": {},
     "output_type": "execute_result"
    }
   ],
   "source": [
    "# Процент пропусков\n",
    "df.isna().mean()"
   ]
  },
  {
   "cell_type": "code",
   "execution_count": 11,
   "id": "e6c62f87",
   "metadata": {},
   "outputs": [],
   "source": [
    "# Удалим строки с пропусками\n",
    "# 2 игры без названия\n",
    "#  1.6% данных - игры без года выхода\n",
    "df.dropna(subset=['name'], inplace=True)\n",
    "df.dropna(subset=['year_of_release'], inplace=True)"
   ]
  },
  {
   "cell_type": "code",
   "execution_count": 12,
   "id": "fd0406ec",
   "metadata": {},
   "outputs": [
    {
     "data": {
      "text/plain": [
       "name                  0\n",
       "platform              0\n",
       "year_of_release       0\n",
       "genre                 0\n",
       "na_sales              0\n",
       "eu_sales              0\n",
       "jp_sales              0\n",
       "other_sales           0\n",
       "critic_score       8461\n",
       "user_score         6605\n",
       "rating             6676\n",
       "dtype: int64"
      ]
     },
     "execution_count": 12,
     "metadata": {},
     "output_type": "execute_result"
    }
   ],
   "source": [
    "df.isna().sum()"
   ]
  },
  {
   "cell_type": "markdown",
   "id": "1d125dc8",
   "metadata": {},
   "source": [
    "**platform**"
   ]
  },
  {
   "cell_type": "code",
   "execution_count": 13,
   "id": "229b2e1f",
   "metadata": {},
   "outputs": [
    {
     "data": {
      "text/plain": [
       "PS2     2127\n",
       "DS      2121\n",
       "PS3     1306\n",
       "Wii     1286\n",
       "X360    1232\n",
       "PSP     1193\n",
       "PS      1190\n",
       "PC       957\n",
       "GBA      811\n",
       "XB       803\n",
       "GC       542\n",
       "3DS      512\n",
       "PSV      429\n",
       "PS4      392\n",
       "N64      316\n",
       "XOne     247\n",
       "SNES     239\n",
       "SAT      173\n",
       "WiiU     147\n",
       "2600     116\n",
       "NES       98\n",
       "GB        97\n",
       "DC        52\n",
       "GEN       27\n",
       "NG        12\n",
       "WS         6\n",
       "SCD        6\n",
       "3DO        3\n",
       "TG16       2\n",
       "GG         1\n",
       "PCFX       1\n",
       "Name: platform, dtype: int64"
      ]
     },
     "execution_count": 13,
     "metadata": {},
     "output_type": "execute_result"
    }
   ],
   "source": [
    "# Игры для некоторых платформ представлены в еденичном экземпляре\n",
    "df.platform.value_counts()"
   ]
  },
  {
   "cell_type": "markdown",
   "id": "8287dbad",
   "metadata": {},
   "source": [
    "**year_of_release**"
   ]
  },
  {
   "cell_type": "code",
   "execution_count": 14,
   "id": "75fa614d",
   "metadata": {},
   "outputs": [],
   "source": [
    "# Приведем год в пит дататайм\n",
    "df['year_of_release'] = pd.to_datetime(df['year_of_release'], format='%Y')"
   ]
  },
  {
   "cell_type": "code",
   "execution_count": 15,
   "id": "0465d4c8",
   "metadata": {},
   "outputs": [
    {
     "data": {
      "text/html": [
       "<div>\n",
       "<style scoped>\n",
       "    .dataframe tbody tr th:only-of-type {\n",
       "        vertical-align: middle;\n",
       "    }\n",
       "\n",
       "    .dataframe tbody tr th {\n",
       "        vertical-align: top;\n",
       "    }\n",
       "\n",
       "    .dataframe thead th {\n",
       "        text-align: right;\n",
       "    }\n",
       "</style>\n",
       "<table border=\"1\" class=\"dataframe\">\n",
       "  <thead>\n",
       "    <tr style=\"text-align: right;\">\n",
       "      <th></th>\n",
       "      <th>name</th>\n",
       "      <th>platform</th>\n",
       "      <th>year_of_release</th>\n",
       "      <th>genre</th>\n",
       "      <th>na_sales</th>\n",
       "      <th>eu_sales</th>\n",
       "      <th>jp_sales</th>\n",
       "      <th>other_sales</th>\n",
       "      <th>critic_score</th>\n",
       "      <th>user_score</th>\n",
       "      <th>rating</th>\n",
       "    </tr>\n",
       "  </thead>\n",
       "  <tbody>\n",
       "    <tr>\n",
       "      <td>0</td>\n",
       "      <td>Wii Sports</td>\n",
       "      <td>Wii</td>\n",
       "      <td>2006-01-01</td>\n",
       "      <td>Sports</td>\n",
       "      <td>41.36</td>\n",
       "      <td>28.96</td>\n",
       "      <td>3.77</td>\n",
       "      <td>8.45</td>\n",
       "      <td>76.0</td>\n",
       "      <td>8</td>\n",
       "      <td>E</td>\n",
       "    </tr>\n",
       "    <tr>\n",
       "      <td>1</td>\n",
       "      <td>Super Mario Bros.</td>\n",
       "      <td>NES</td>\n",
       "      <td>1985-01-01</td>\n",
       "      <td>Platform</td>\n",
       "      <td>29.08</td>\n",
       "      <td>3.58</td>\n",
       "      <td>6.81</td>\n",
       "      <td>0.77</td>\n",
       "      <td>NaN</td>\n",
       "      <td>NaN</td>\n",
       "      <td>NaN</td>\n",
       "    </tr>\n",
       "    <tr>\n",
       "      <td>2</td>\n",
       "      <td>Mario Kart Wii</td>\n",
       "      <td>Wii</td>\n",
       "      <td>2008-01-01</td>\n",
       "      <td>Racing</td>\n",
       "      <td>15.68</td>\n",
       "      <td>12.76</td>\n",
       "      <td>3.79</td>\n",
       "      <td>3.29</td>\n",
       "      <td>82.0</td>\n",
       "      <td>8.3</td>\n",
       "      <td>E</td>\n",
       "    </tr>\n",
       "    <tr>\n",
       "      <td>3</td>\n",
       "      <td>Wii Sports Resort</td>\n",
       "      <td>Wii</td>\n",
       "      <td>2009-01-01</td>\n",
       "      <td>Sports</td>\n",
       "      <td>15.61</td>\n",
       "      <td>10.93</td>\n",
       "      <td>3.28</td>\n",
       "      <td>2.95</td>\n",
       "      <td>80.0</td>\n",
       "      <td>8</td>\n",
       "      <td>E</td>\n",
       "    </tr>\n",
       "    <tr>\n",
       "      <td>4</td>\n",
       "      <td>Pokemon Red/Pokemon Blue</td>\n",
       "      <td>GB</td>\n",
       "      <td>1996-01-01</td>\n",
       "      <td>Role-Playing</td>\n",
       "      <td>11.27</td>\n",
       "      <td>8.89</td>\n",
       "      <td>10.22</td>\n",
       "      <td>1.00</td>\n",
       "      <td>NaN</td>\n",
       "      <td>NaN</td>\n",
       "      <td>NaN</td>\n",
       "    </tr>\n",
       "    <tr>\n",
       "      <td>...</td>\n",
       "      <td>...</td>\n",
       "      <td>...</td>\n",
       "      <td>...</td>\n",
       "      <td>...</td>\n",
       "      <td>...</td>\n",
       "      <td>...</td>\n",
       "      <td>...</td>\n",
       "      <td>...</td>\n",
       "      <td>...</td>\n",
       "      <td>...</td>\n",
       "      <td>...</td>\n",
       "    </tr>\n",
       "    <tr>\n",
       "      <td>16710</td>\n",
       "      <td>Samurai Warriors: Sanada Maru</td>\n",
       "      <td>PS3</td>\n",
       "      <td>2016-01-01</td>\n",
       "      <td>Action</td>\n",
       "      <td>0.00</td>\n",
       "      <td>0.00</td>\n",
       "      <td>0.01</td>\n",
       "      <td>0.00</td>\n",
       "      <td>NaN</td>\n",
       "      <td>NaN</td>\n",
       "      <td>NaN</td>\n",
       "    </tr>\n",
       "    <tr>\n",
       "      <td>16711</td>\n",
       "      <td>LMA Manager 2007</td>\n",
       "      <td>X360</td>\n",
       "      <td>2006-01-01</td>\n",
       "      <td>Sports</td>\n",
       "      <td>0.00</td>\n",
       "      <td>0.01</td>\n",
       "      <td>0.00</td>\n",
       "      <td>0.00</td>\n",
       "      <td>NaN</td>\n",
       "      <td>NaN</td>\n",
       "      <td>NaN</td>\n",
       "    </tr>\n",
       "    <tr>\n",
       "      <td>16712</td>\n",
       "      <td>Haitaka no Psychedelica</td>\n",
       "      <td>PSV</td>\n",
       "      <td>2016-01-01</td>\n",
       "      <td>Adventure</td>\n",
       "      <td>0.00</td>\n",
       "      <td>0.00</td>\n",
       "      <td>0.01</td>\n",
       "      <td>0.00</td>\n",
       "      <td>NaN</td>\n",
       "      <td>NaN</td>\n",
       "      <td>NaN</td>\n",
       "    </tr>\n",
       "    <tr>\n",
       "      <td>16713</td>\n",
       "      <td>Spirits &amp; Spells</td>\n",
       "      <td>GBA</td>\n",
       "      <td>2003-01-01</td>\n",
       "      <td>Platform</td>\n",
       "      <td>0.01</td>\n",
       "      <td>0.00</td>\n",
       "      <td>0.00</td>\n",
       "      <td>0.00</td>\n",
       "      <td>NaN</td>\n",
       "      <td>NaN</td>\n",
       "      <td>NaN</td>\n",
       "    </tr>\n",
       "    <tr>\n",
       "      <td>16714</td>\n",
       "      <td>Winning Post 8 2016</td>\n",
       "      <td>PSV</td>\n",
       "      <td>2016-01-01</td>\n",
       "      <td>Simulation</td>\n",
       "      <td>0.00</td>\n",
       "      <td>0.00</td>\n",
       "      <td>0.01</td>\n",
       "      <td>0.00</td>\n",
       "      <td>NaN</td>\n",
       "      <td>NaN</td>\n",
       "      <td>NaN</td>\n",
       "    </tr>\n",
       "  </tbody>\n",
       "</table>\n",
       "<p>16444 rows × 11 columns</p>\n",
       "</div>"
      ],
      "text/plain": [
       "                                name platform year_of_release         genre  \\\n",
       "0                         Wii Sports      Wii      2006-01-01        Sports   \n",
       "1                  Super Mario Bros.      NES      1985-01-01      Platform   \n",
       "2                     Mario Kart Wii      Wii      2008-01-01        Racing   \n",
       "3                  Wii Sports Resort      Wii      2009-01-01        Sports   \n",
       "4           Pokemon Red/Pokemon Blue       GB      1996-01-01  Role-Playing   \n",
       "...                              ...      ...             ...           ...   \n",
       "16710  Samurai Warriors: Sanada Maru      PS3      2016-01-01        Action   \n",
       "16711               LMA Manager 2007     X360      2006-01-01        Sports   \n",
       "16712        Haitaka no Psychedelica      PSV      2016-01-01     Adventure   \n",
       "16713               Spirits & Spells      GBA      2003-01-01      Platform   \n",
       "16714            Winning Post 8 2016      PSV      2016-01-01    Simulation   \n",
       "\n",
       "       na_sales  eu_sales  jp_sales  other_sales  critic_score user_score  \\\n",
       "0         41.36     28.96      3.77         8.45          76.0          8   \n",
       "1         29.08      3.58      6.81         0.77           NaN        NaN   \n",
       "2         15.68     12.76      3.79         3.29          82.0        8.3   \n",
       "3         15.61     10.93      3.28         2.95          80.0          8   \n",
       "4         11.27      8.89     10.22         1.00           NaN        NaN   \n",
       "...         ...       ...       ...          ...           ...        ...   \n",
       "16710      0.00      0.00      0.01         0.00           NaN        NaN   \n",
       "16711      0.00      0.01      0.00         0.00           NaN        NaN   \n",
       "16712      0.00      0.00      0.01         0.00           NaN        NaN   \n",
       "16713      0.01      0.00      0.00         0.00           NaN        NaN   \n",
       "16714      0.00      0.00      0.01         0.00           NaN        NaN   \n",
       "\n",
       "      rating  \n",
       "0          E  \n",
       "1        NaN  \n",
       "2          E  \n",
       "3          E  \n",
       "4        NaN  \n",
       "...      ...  \n",
       "16710    NaN  \n",
       "16711    NaN  \n",
       "16712    NaN  \n",
       "16713    NaN  \n",
       "16714    NaN  \n",
       "\n",
       "[16444 rows x 11 columns]"
      ]
     },
     "execution_count": 15,
     "metadata": {},
     "output_type": "execute_result"
    }
   ],
   "source": [
    "df"
   ]
  },
  {
   "cell_type": "markdown",
   "id": "d43a6341",
   "metadata": {},
   "source": [
    "**user_score**"
   ]
  },
  {
   "cell_type": "code",
   "execution_count": 16,
   "id": "4f6687ef",
   "metadata": {},
   "outputs": [
    {
     "name": "stdout",
     "output_type": "stream",
     "text": [
      "<class 'pandas.core.frame.DataFrame'>\n",
      "Int64Index: 16444 entries, 0 to 16714\n",
      "Data columns (total 11 columns):\n",
      "name               16444 non-null object\n",
      "platform           16444 non-null object\n",
      "year_of_release    16444 non-null datetime64[ns]\n",
      "genre              16444 non-null object\n",
      "na_sales           16444 non-null float64\n",
      "eu_sales           16444 non-null float64\n",
      "jp_sales           16444 non-null float64\n",
      "other_sales        16444 non-null float64\n",
      "critic_score       7983 non-null float64\n",
      "user_score         9839 non-null object\n",
      "rating             9768 non-null object\n",
      "dtypes: datetime64[ns](1), float64(5), object(5)\n",
      "memory usage: 1.5+ MB\n"
     ]
    }
   ],
   "source": [
    "df.info()"
   ]
  },
  {
   "cell_type": "code",
   "execution_count": 17,
   "id": "92a3794b",
   "metadata": {},
   "outputs": [
    {
     "data": {
      "text/plain": [
       "array(['8', nan, '8.3', '8.5', '6.6', '8.4', '8.6', '7.7', '6.3', '7.4',\n",
       "       '8.2', '9', '7.9', '8.1', '8.7', '7.1', '3.4', '5.3', '4.8', '3.2',\n",
       "       '8.9', '6.4', '7.8', '7.5', '2.6', '7.2', '9.2', '7', '7.3', '4.3',\n",
       "       '7.6', '5.7', '5', '9.1', '6.5', 'tbd', '8.8', '6.9', '9.4', '6.8',\n",
       "       '6.1', '6.7', '5.4', '4', '4.9', '4.5', '9.3', '6.2', '4.2', '6',\n",
       "       '3.7', '4.1', '5.8', '5.6', '5.5', '4.4', '4.6', '5.9', '3.9',\n",
       "       '3.1', '2.9', '5.2', '3.3', '4.7', '5.1', '3.5', '2.5', '1.9', '3',\n",
       "       '2.7', '2.2', '2', '9.5', '2.1', '3.6', '2.8', '1.8', '3.8', '0',\n",
       "       '1.6', '9.6', '2.4', '1.7', '1.1', '0.3', '1.5', '0.7', '1.2',\n",
       "       '2.3', '0.5', '1.3', '0.2', '0.6', '1.4', '0.9', '1', '9.7'],\n",
       "      dtype=object)"
      ]
     },
     "execution_count": 17,
     "metadata": {},
     "output_type": "execute_result"
    }
   ],
   "source": [
    "df.user_score.unique()  "
   ]
  },
  {
   "cell_type": "markdown",
   "id": "96247b60",
   "metadata": {},
   "source": [
    "В столбце рейтинг пользователя есть значения \"tbd\" (To Be Determined, то есть \"Будет определено\" ),\n",
    "это делает столбец, типом объект.\n",
    "\n",
    "Заменим 'tbd' на 'nan' и преобразуем столбец в тип флоат."
   ]
  },
  {
   "cell_type": "code",
   "execution_count": 18,
   "id": "fb6435c4",
   "metadata": {},
   "outputs": [],
   "source": [
    "df.loc[df['user_score'] == 'tbd', 'user_score'] = np.nan\n",
    "df['user_score']=df['user_score'].astype('float')"
   ]
  },
  {
   "cell_type": "code",
   "execution_count": 19,
   "id": "859bae8c",
   "metadata": {},
   "outputs": [
    {
     "data": {
      "text/plain": [
       "array([8. , nan, 8.3, 8.5, 6.6, 8.4, 8.6, 7.7, 6.3, 7.4, 8.2, 9. , 7.9,\n",
       "       8.1, 8.7, 7.1, 3.4, 5.3, 4.8, 3.2, 8.9, 6.4, 7.8, 7.5, 2.6, 7.2,\n",
       "       9.2, 7. , 7.3, 4.3, 7.6, 5.7, 5. , 9.1, 6.5, 8.8, 6.9, 9.4, 6.8,\n",
       "       6.1, 6.7, 5.4, 4. , 4.9, 4.5, 9.3, 6.2, 4.2, 6. , 3.7, 4.1, 5.8,\n",
       "       5.6, 5.5, 4.4, 4.6, 5.9, 3.9, 3.1, 2.9, 5.2, 3.3, 4.7, 5.1, 3.5,\n",
       "       2.5, 1.9, 3. , 2.7, 2.2, 2. , 9.5, 2.1, 3.6, 2.8, 1.8, 3.8, 0. ,\n",
       "       1.6, 9.6, 2.4, 1.7, 1.1, 0.3, 1.5, 0.7, 1.2, 2.3, 0.5, 1.3, 0.2,\n",
       "       0.6, 1.4, 0.9, 1. , 9.7])"
      ]
     },
     "execution_count": 19,
     "metadata": {},
     "output_type": "execute_result"
    }
   ],
   "source": [
    "df.user_score.unique()     "
   ]
  },
  {
   "cell_type": "code",
   "execution_count": 20,
   "id": "377612e1",
   "metadata": {},
   "outputs": [],
   "source": [
    "# Суммарные продажи во всех регионах\n",
    "df['sum_sales']=df['na_sales']+df['eu_sales']+df['jp_sales']+df['other_sales']"
   ]
  },
  {
   "cell_type": "code",
   "execution_count": 21,
   "id": "fd1220ce",
   "metadata": {},
   "outputs": [
    {
     "data": {
      "text/html": [
       "<div>\n",
       "<style scoped>\n",
       "    .dataframe tbody tr th:only-of-type {\n",
       "        vertical-align: middle;\n",
       "    }\n",
       "\n",
       "    .dataframe tbody tr th {\n",
       "        vertical-align: top;\n",
       "    }\n",
       "\n",
       "    .dataframe thead th {\n",
       "        text-align: right;\n",
       "    }\n",
       "</style>\n",
       "<table border=\"1\" class=\"dataframe\">\n",
       "  <thead>\n",
       "    <tr style=\"text-align: right;\">\n",
       "      <th></th>\n",
       "      <th>name</th>\n",
       "      <th>platform</th>\n",
       "      <th>year_of_release</th>\n",
       "      <th>genre</th>\n",
       "      <th>na_sales</th>\n",
       "      <th>eu_sales</th>\n",
       "      <th>jp_sales</th>\n",
       "      <th>other_sales</th>\n",
       "      <th>critic_score</th>\n",
       "      <th>user_score</th>\n",
       "      <th>rating</th>\n",
       "      <th>sum_sales</th>\n",
       "    </tr>\n",
       "  </thead>\n",
       "  <tbody>\n",
       "    <tr>\n",
       "      <td>8779</td>\n",
       "      <td>Project Sylpheed: Arc of Deception</td>\n",
       "      <td>X360</td>\n",
       "      <td>2006-01-01</td>\n",
       "      <td>Shooter</td>\n",
       "      <td>0.12</td>\n",
       "      <td>0.01</td>\n",
       "      <td>0.02</td>\n",
       "      <td>0.01</td>\n",
       "      <td>64.0</td>\n",
       "      <td>8.6</td>\n",
       "      <td>T</td>\n",
       "      <td>0.16</td>\n",
       "    </tr>\n",
       "    <tr>\n",
       "      <td>2679</td>\n",
       "      <td>Driv3r</td>\n",
       "      <td>XB</td>\n",
       "      <td>2004-01-01</td>\n",
       "      <td>Racing</td>\n",
       "      <td>0.36</td>\n",
       "      <td>0.38</td>\n",
       "      <td>0.00</td>\n",
       "      <td>0.03</td>\n",
       "      <td>56.0</td>\n",
       "      <td>4.7</td>\n",
       "      <td>M</td>\n",
       "      <td>0.77</td>\n",
       "    </tr>\n",
       "    <tr>\n",
       "      <td>6889</td>\n",
       "      <td>Dreamcast Collection</td>\n",
       "      <td>X360</td>\n",
       "      <td>2011-01-01</td>\n",
       "      <td>Misc</td>\n",
       "      <td>0.16</td>\n",
       "      <td>0.06</td>\n",
       "      <td>0.00</td>\n",
       "      <td>0.02</td>\n",
       "      <td>53.0</td>\n",
       "      <td>5.2</td>\n",
       "      <td>T</td>\n",
       "      <td>0.24</td>\n",
       "    </tr>\n",
       "    <tr>\n",
       "      <td>352</td>\n",
       "      <td>FIFA Soccer 10</td>\n",
       "      <td>PS3</td>\n",
       "      <td>2009-01-01</td>\n",
       "      <td>Sports</td>\n",
       "      <td>0.60</td>\n",
       "      <td>2.45</td>\n",
       "      <td>0.05</td>\n",
       "      <td>0.52</td>\n",
       "      <td>91.0</td>\n",
       "      <td>7.6</td>\n",
       "      <td>E</td>\n",
       "      <td>3.62</td>\n",
       "    </tr>\n",
       "    <tr>\n",
       "      <td>848</td>\n",
       "      <td>Fire Emblem: Awakening</td>\n",
       "      <td>3DS</td>\n",
       "      <td>2012-01-01</td>\n",
       "      <td>Role-Playing</td>\n",
       "      <td>0.90</td>\n",
       "      <td>0.45</td>\n",
       "      <td>0.54</td>\n",
       "      <td>0.13</td>\n",
       "      <td>92.0</td>\n",
       "      <td>9.1</td>\n",
       "      <td>T</td>\n",
       "      <td>2.02</td>\n",
       "    </tr>\n",
       "  </tbody>\n",
       "</table>\n",
       "</div>"
      ],
      "text/plain": [
       "                                    name platform year_of_release  \\\n",
       "8779  Project Sylpheed: Arc of Deception     X360      2006-01-01   \n",
       "2679                              Driv3r       XB      2004-01-01   \n",
       "6889                Dreamcast Collection     X360      2011-01-01   \n",
       "352                       FIFA Soccer 10      PS3      2009-01-01   \n",
       "848               Fire Emblem: Awakening      3DS      2012-01-01   \n",
       "\n",
       "             genre  na_sales  eu_sales  jp_sales  other_sales  critic_score  \\\n",
       "8779       Shooter      0.12      0.01      0.02         0.01          64.0   \n",
       "2679        Racing      0.36      0.38      0.00         0.03          56.0   \n",
       "6889          Misc      0.16      0.06      0.00         0.02          53.0   \n",
       "352         Sports      0.60      2.45      0.05         0.52          91.0   \n",
       "848   Role-Playing      0.90      0.45      0.54         0.13          92.0   \n",
       "\n",
       "      user_score rating  sum_sales  \n",
       "8779         8.6      T       0.16  \n",
       "2679         4.7      M       0.77  \n",
       "6889         5.2      T       0.24  \n",
       "352          7.6      E       3.62  \n",
       "848          9.1      T       2.02  "
      ]
     },
     "execution_count": 21,
     "metadata": {},
     "output_type": "execute_result"
    }
   ],
   "source": [
    "df.sample(5)"
   ]
  },
  {
   "cell_type": "code",
   "execution_count": 22,
   "id": "61417b32",
   "metadata": {},
   "outputs": [
    {
     "name": "stdout",
     "output_type": "stream",
     "text": [
      "<class 'pandas.core.frame.DataFrame'>\n",
      "Int64Index: 16444 entries, 0 to 16714\n",
      "Data columns (total 12 columns):\n",
      "name               16444 non-null object\n",
      "platform           16444 non-null object\n",
      "year_of_release    16444 non-null datetime64[ns]\n",
      "genre              16444 non-null object\n",
      "na_sales           16444 non-null float64\n",
      "eu_sales           16444 non-null float64\n",
      "jp_sales           16444 non-null float64\n",
      "other_sales        16444 non-null float64\n",
      "critic_score       7983 non-null float64\n",
      "user_score         7463 non-null float64\n",
      "rating             9768 non-null object\n",
      "sum_sales          16444 non-null float64\n",
      "dtypes: datetime64[ns](1), float64(7), object(4)\n",
      "memory usage: 1.6+ MB\n"
     ]
    }
   ],
   "source": [
    "df.info()"
   ]
  },
  {
   "cell_type": "markdown",
   "id": "9606cad5",
   "metadata": {},
   "source": [
    "В данных имеются пропуски в оценках критиков (50%), пользователей(40%) и рейтинге(40%)"
   ]
  },
  {
   "cell_type": "code",
   "execution_count": 23,
   "id": "4646a18b",
   "metadata": {},
   "outputs": [
    {
     "data": {
      "text/html": [
       "<div>\n",
       "<style scoped>\n",
       "    .dataframe tbody tr th:only-of-type {\n",
       "        vertical-align: middle;\n",
       "    }\n",
       "\n",
       "    .dataframe tbody tr th {\n",
       "        vertical-align: top;\n",
       "    }\n",
       "\n",
       "    .dataframe thead th {\n",
       "        text-align: right;\n",
       "    }\n",
       "</style>\n",
       "<table border=\"1\" class=\"dataframe\">\n",
       "  <thead>\n",
       "    <tr style=\"text-align: right;\">\n",
       "      <th></th>\n",
       "      <th>name</th>\n",
       "      <th>platform</th>\n",
       "      <th>year_of_release</th>\n",
       "      <th>genre</th>\n",
       "      <th>na_sales</th>\n",
       "      <th>eu_sales</th>\n",
       "      <th>jp_sales</th>\n",
       "      <th>other_sales</th>\n",
       "      <th>critic_score</th>\n",
       "      <th>user_score</th>\n",
       "      <th>rating</th>\n",
       "      <th>sum_sales</th>\n",
       "    </tr>\n",
       "  </thead>\n",
       "  <tbody>\n",
       "    <tr>\n",
       "      <td>1</td>\n",
       "      <td>Super Mario Bros.</td>\n",
       "      <td>NES</td>\n",
       "      <td>1985-01-01</td>\n",
       "      <td>Platform</td>\n",
       "      <td>29.08</td>\n",
       "      <td>3.58</td>\n",
       "      <td>6.81</td>\n",
       "      <td>0.77</td>\n",
       "      <td>NaN</td>\n",
       "      <td>NaN</td>\n",
       "      <td>NaN</td>\n",
       "      <td>40.24</td>\n",
       "    </tr>\n",
       "    <tr>\n",
       "      <td>4</td>\n",
       "      <td>Pokemon Red/Pokemon Blue</td>\n",
       "      <td>GB</td>\n",
       "      <td>1996-01-01</td>\n",
       "      <td>Role-Playing</td>\n",
       "      <td>11.27</td>\n",
       "      <td>8.89</td>\n",
       "      <td>10.22</td>\n",
       "      <td>1.00</td>\n",
       "      <td>NaN</td>\n",
       "      <td>NaN</td>\n",
       "      <td>NaN</td>\n",
       "      <td>31.38</td>\n",
       "    </tr>\n",
       "    <tr>\n",
       "      <td>5</td>\n",
       "      <td>Tetris</td>\n",
       "      <td>GB</td>\n",
       "      <td>1989-01-01</td>\n",
       "      <td>Puzzle</td>\n",
       "      <td>23.20</td>\n",
       "      <td>2.26</td>\n",
       "      <td>4.22</td>\n",
       "      <td>0.58</td>\n",
       "      <td>NaN</td>\n",
       "      <td>NaN</td>\n",
       "      <td>NaN</td>\n",
       "      <td>30.26</td>\n",
       "    </tr>\n",
       "    <tr>\n",
       "      <td>9</td>\n",
       "      <td>Duck Hunt</td>\n",
       "      <td>NES</td>\n",
       "      <td>1984-01-01</td>\n",
       "      <td>Shooter</td>\n",
       "      <td>26.93</td>\n",
       "      <td>0.63</td>\n",
       "      <td>0.28</td>\n",
       "      <td>0.47</td>\n",
       "      <td>NaN</td>\n",
       "      <td>NaN</td>\n",
       "      <td>NaN</td>\n",
       "      <td>28.31</td>\n",
       "    </tr>\n",
       "    <tr>\n",
       "      <td>10</td>\n",
       "      <td>Nintendogs</td>\n",
       "      <td>DS</td>\n",
       "      <td>2005-01-01</td>\n",
       "      <td>Simulation</td>\n",
       "      <td>9.05</td>\n",
       "      <td>10.95</td>\n",
       "      <td>1.93</td>\n",
       "      <td>2.74</td>\n",
       "      <td>NaN</td>\n",
       "      <td>NaN</td>\n",
       "      <td>NaN</td>\n",
       "      <td>24.67</td>\n",
       "    </tr>\n",
       "    <tr>\n",
       "      <td>...</td>\n",
       "      <td>...</td>\n",
       "      <td>...</td>\n",
       "      <td>...</td>\n",
       "      <td>...</td>\n",
       "      <td>...</td>\n",
       "      <td>...</td>\n",
       "      <td>...</td>\n",
       "      <td>...</td>\n",
       "      <td>...</td>\n",
       "      <td>...</td>\n",
       "      <td>...</td>\n",
       "      <td>...</td>\n",
       "    </tr>\n",
       "    <tr>\n",
       "      <td>16710</td>\n",
       "      <td>Samurai Warriors: Sanada Maru</td>\n",
       "      <td>PS3</td>\n",
       "      <td>2016-01-01</td>\n",
       "      <td>Action</td>\n",
       "      <td>0.00</td>\n",
       "      <td>0.00</td>\n",
       "      <td>0.01</td>\n",
       "      <td>0.00</td>\n",
       "      <td>NaN</td>\n",
       "      <td>NaN</td>\n",
       "      <td>NaN</td>\n",
       "      <td>0.01</td>\n",
       "    </tr>\n",
       "    <tr>\n",
       "      <td>16711</td>\n",
       "      <td>LMA Manager 2007</td>\n",
       "      <td>X360</td>\n",
       "      <td>2006-01-01</td>\n",
       "      <td>Sports</td>\n",
       "      <td>0.00</td>\n",
       "      <td>0.01</td>\n",
       "      <td>0.00</td>\n",
       "      <td>0.00</td>\n",
       "      <td>NaN</td>\n",
       "      <td>NaN</td>\n",
       "      <td>NaN</td>\n",
       "      <td>0.01</td>\n",
       "    </tr>\n",
       "    <tr>\n",
       "      <td>16712</td>\n",
       "      <td>Haitaka no Psychedelica</td>\n",
       "      <td>PSV</td>\n",
       "      <td>2016-01-01</td>\n",
       "      <td>Adventure</td>\n",
       "      <td>0.00</td>\n",
       "      <td>0.00</td>\n",
       "      <td>0.01</td>\n",
       "      <td>0.00</td>\n",
       "      <td>NaN</td>\n",
       "      <td>NaN</td>\n",
       "      <td>NaN</td>\n",
       "      <td>0.01</td>\n",
       "    </tr>\n",
       "    <tr>\n",
       "      <td>16713</td>\n",
       "      <td>Spirits &amp; Spells</td>\n",
       "      <td>GBA</td>\n",
       "      <td>2003-01-01</td>\n",
       "      <td>Platform</td>\n",
       "      <td>0.01</td>\n",
       "      <td>0.00</td>\n",
       "      <td>0.00</td>\n",
       "      <td>0.00</td>\n",
       "      <td>NaN</td>\n",
       "      <td>NaN</td>\n",
       "      <td>NaN</td>\n",
       "      <td>0.01</td>\n",
       "    </tr>\n",
       "    <tr>\n",
       "      <td>16714</td>\n",
       "      <td>Winning Post 8 2016</td>\n",
       "      <td>PSV</td>\n",
       "      <td>2016-01-01</td>\n",
       "      <td>Simulation</td>\n",
       "      <td>0.00</td>\n",
       "      <td>0.00</td>\n",
       "      <td>0.01</td>\n",
       "      <td>0.00</td>\n",
       "      <td>NaN</td>\n",
       "      <td>NaN</td>\n",
       "      <td>NaN</td>\n",
       "      <td>0.01</td>\n",
       "    </tr>\n",
       "  </tbody>\n",
       "</table>\n",
       "<p>7892 rows × 12 columns</p>\n",
       "</div>"
      ],
      "text/plain": [
       "                                name platform year_of_release         genre  \\\n",
       "1                  Super Mario Bros.      NES      1985-01-01      Platform   \n",
       "4           Pokemon Red/Pokemon Blue       GB      1996-01-01  Role-Playing   \n",
       "5                             Tetris       GB      1989-01-01        Puzzle   \n",
       "9                          Duck Hunt      NES      1984-01-01       Shooter   \n",
       "10                        Nintendogs       DS      2005-01-01    Simulation   \n",
       "...                              ...      ...             ...           ...   \n",
       "16710  Samurai Warriors: Sanada Maru      PS3      2016-01-01        Action   \n",
       "16711               LMA Manager 2007     X360      2006-01-01        Sports   \n",
       "16712        Haitaka no Psychedelica      PSV      2016-01-01     Adventure   \n",
       "16713               Spirits & Spells      GBA      2003-01-01      Platform   \n",
       "16714            Winning Post 8 2016      PSV      2016-01-01    Simulation   \n",
       "\n",
       "       na_sales  eu_sales  jp_sales  other_sales  critic_score  user_score  \\\n",
       "1         29.08      3.58      6.81         0.77           NaN         NaN   \n",
       "4         11.27      8.89     10.22         1.00           NaN         NaN   \n",
       "5         23.20      2.26      4.22         0.58           NaN         NaN   \n",
       "9         26.93      0.63      0.28         0.47           NaN         NaN   \n",
       "10         9.05     10.95      1.93         2.74           NaN         NaN   \n",
       "...         ...       ...       ...          ...           ...         ...   \n",
       "16710      0.00      0.00      0.01         0.00           NaN         NaN   \n",
       "16711      0.00      0.01      0.00         0.00           NaN         NaN   \n",
       "16712      0.00      0.00      0.01         0.00           NaN         NaN   \n",
       "16713      0.01      0.00      0.00         0.00           NaN         NaN   \n",
       "16714      0.00      0.00      0.01         0.00           NaN         NaN   \n",
       "\n",
       "      rating  sum_sales  \n",
       "1        NaN      40.24  \n",
       "4        NaN      31.38  \n",
       "5        NaN      30.26  \n",
       "9        NaN      28.31  \n",
       "10       NaN      24.67  \n",
       "...      ...        ...  \n",
       "16710    NaN       0.01  \n",
       "16711    NaN       0.01  \n",
       "16712    NaN       0.01  \n",
       "16713    NaN       0.01  \n",
       "16714    NaN       0.01  \n",
       "\n",
       "[7892 rows x 12 columns]"
      ]
     },
     "execution_count": 23,
     "metadata": {},
     "output_type": "execute_result"
    }
   ],
   "source": [
    "df.query('critic_score== \"NaN\" and user_score==\"NaN\"')"
   ]
  },
  {
   "cell_type": "code",
   "execution_count": 24,
   "id": "31663f37",
   "metadata": {},
   "outputs": [
    {
     "data": {
      "image/png": "[encoded data removed]",
      "text/plain": [
       "<Figure size 432x288 with 1 Axes>"
      ]
     },
     "metadata": {
      "needs_background": "light"
     },
     "output_type": "display_data"
    }
   ],
   "source": [
    "df.hist('critic_score', bins=43);"
   ]
  },
  {
   "cell_type": "code",
   "execution_count": 25,
   "id": "553f4d5d",
   "metadata": {},
   "outputs": [
    {
     "data": {
      "image/png": "[encoded data removed]",
      "text/plain": [
       "<Figure size 432x288 with 1 Axes>"
      ]
     },
     "metadata": {
      "needs_background": "light"
     },
     "output_type": "display_data"
    }
   ],
   "source": [
    "df.boxplot(['critic_score']);"
   ]
  },
  {
   "cell_type": "code",
   "execution_count": 26,
   "id": "7f78b5cf",
   "metadata": {},
   "outputs": [
    {
     "data": {
      "image/png": "[encoded data removed]",
      "text/plain": [
       "<Figure size 432x288 with 1 Axes>"
      ]
     },
     "metadata": {
      "needs_background": "light"
     },
     "output_type": "display_data"
    }
   ],
   "source": [
    "df.hist('user_score', bins=43);"
   ]
  },
  {
   "cell_type": "code",
   "execution_count": 27,
   "id": "e46ad35a",
   "metadata": {},
   "outputs": [
    {
     "data": {
      "image/png": "[encoded data removed]",
      "text/plain": [
       "<Figure size 432x288 with 1 Axes>"
      ]
     },
     "metadata": {
      "needs_background": "light"
     },
     "output_type": "display_data"
    }
   ],
   "source": [
    "df.boxplot(['user_score']);"
   ]
  },
  {
   "cell_type": "code",
   "execution_count": 28,
   "id": "a030dd88",
   "metadata": {},
   "outputs": [
    {
     "data": {
      "image/png": "[encoded data removed]",
      "text/plain": [
       "<Figure size 720x360 with 1 Axes>"
      ]
     },
     "metadata": {
      "needs_background": "light"
     },
     "output_type": "display_data"
    }
   ],
   "source": [
    "df.plot(x='critic_score', y='user_score',  kind='scatter', figsize=(10,5), alpha=0.6);\n"
   ]
  },
  {
   "cell_type": "code",
   "execution_count": 29,
   "id": "2c8d08c3",
   "metadata": {},
   "outputs": [
    {
     "data": {
      "text/plain": [
       "0.5796706281932216"
      ]
     },
     "execution_count": 29,
     "metadata": {},
     "output_type": "execute_result"
    }
   ],
   "source": [
    "# Имеется прямая зависимость между оценкой критиков и пользователей.\n",
    "df['critic_score'].corr(df['user_score'])"
   ]
  },
  {
   "cell_type": "code",
   "execution_count": 30,
   "id": "bca055c9",
   "metadata": {},
   "outputs": [
    {
     "data": {
      "text/plain": [
       "0"
      ]
     },
     "execution_count": 30,
     "metadata": {},
     "output_type": "execute_result"
    }
   ],
   "source": [
    "# Поиск явных дубликатов\n",
    "df.duplicated().sum()"
   ]
  },
  {
   "cell_type": "markdown",
   "id": "5ccda1b6",
   "metadata": {},
   "source": [
    "## Вывод\n",
    "\n",
    "- Привели названия столбцов к нижнему регистру.\n",
    "- Привели столбец с датой к типу дататайм.\n",
    "- Столбцы name, platform, genre, rating оставили в типе объект, тк в них содержатся строковые значения.  \n",
    "- Столбцы с продажами и рейтингами оставили в типе флоат, тк там необходимы дробные значения.\n",
    "- 50% значений столбцов с рейтингом, отсутствуют, часть из них в процессе ожидания рейтинга. Заполнять рейтинги какимии либо значениями считаю нецелесообразным (тк % отсутствующих значений очень велик)\n",
    "- Посчитали суммарные продажи во всех регионах.\n"
   ]
  },
  {
   "cell_type": "markdown",
   "id": "3b1ad2ea",
   "metadata": {},
   "source": [
    "#  Исследовательский анализ данных"
   ]
  },
  {
   "cell_type": "markdown",
   "id": "dcbe7ffb",
   "metadata": {},
   "source": [
    "## Сколько игр выпускалось в разные годы"
   ]
  },
  {
   "cell_type": "code",
   "execution_count": 31,
   "id": "15ca992f",
   "metadata": {},
   "outputs": [
    {
     "data": {
      "image/png": "[encoded data removed]",
      "text/plain": [
       "<Figure size 1440x432 with 1 Axes>"
      ]
     },
     "metadata": {
      "needs_background": "light"
     },
     "output_type": "display_data"
    }
   ],
   "source": [
    "(df.groupby(['year_of_release'])['name']\n",
    "    .count().reset_index()\n",
    "    .plot(x='year_of_release', y='name',style='o-', figsize=(20,6)));\n",
    "\n",
    "plt.title('Количество игр выпускаемых в год');\n",
    "plt.xlabel(\"Год выхода игр\");\n",
    "plt.ylabel(\"Количество игр\");  \n"
   ]
  },
  {
   "cell_type": "markdown",
   "id": "03eb2f09",
   "metadata": {},
   "source": [
    "До 95 года количество игр было несущественным, затем идет рост до конца 2000-ых, затем спад, возможно, связанный с ростом популярности игр для телефонов."
   ]
  },
  {
   "cell_type": "markdown",
   "id": "9407e96c",
   "metadata": {},
   "source": [
    "## Как менялись продажи по платформам"
   ]
  },
  {
   "cell_type": "code",
   "execution_count": 32,
   "id": "331ad616",
   "metadata": {},
   "outputs": [
    {
     "data": {
      "text/html": [
       "<div>\n",
       "<style scoped>\n",
       "    .dataframe tbody tr th:only-of-type {\n",
       "        vertical-align: middle;\n",
       "    }\n",
       "\n",
       "    .dataframe tbody tr th {\n",
       "        vertical-align: top;\n",
       "    }\n",
       "\n",
       "    .dataframe thead th {\n",
       "        text-align: right;\n",
       "    }\n",
       "</style>\n",
       "<table border=\"1\" class=\"dataframe\">\n",
       "  <thead>\n",
       "    <tr style=\"text-align: right;\">\n",
       "      <th>year_of_release</th>\n",
       "      <th>1980-01-01</th>\n",
       "      <th>1981-01-01</th>\n",
       "      <th>1982-01-01</th>\n",
       "      <th>1983-01-01</th>\n",
       "      <th>1984-01-01</th>\n",
       "      <th>1985-01-01</th>\n",
       "      <th>1986-01-01</th>\n",
       "      <th>1987-01-01</th>\n",
       "      <th>1988-01-01</th>\n",
       "      <th>1989-01-01</th>\n",
       "      <th>1990-01-01</th>\n",
       "      <th>1991-01-01</th>\n",
       "      <th>1992-01-01</th>\n",
       "      <th>1993-01-01</th>\n",
       "      <th>1994-01-01</th>\n",
       "      <th>1995-01-01</th>\n",
       "      <th>1996-01-01</th>\n",
       "      <th>1997-01-01</th>\n",
       "      <th>1998-01-01</th>\n",
       "      <th>1999-01-01</th>\n",
       "      <th>2000-01-01</th>\n",
       "      <th>2001-01-01</th>\n",
       "      <th>2002-01-01</th>\n",
       "      <th>2003-01-01</th>\n",
       "      <th>2004-01-01</th>\n",
       "      <th>2005-01-01</th>\n",
       "      <th>2006-01-01</th>\n",
       "      <th>2007-01-01</th>\n",
       "      <th>2008-01-01</th>\n",
       "      <th>2009-01-01</th>\n",
       "      <th>2010-01-01</th>\n",
       "      <th>2011-01-01</th>\n",
       "      <th>2012-01-01</th>\n",
       "      <th>2013-01-01</th>\n",
       "      <th>2014-01-01</th>\n",
       "      <th>2015-01-01</th>\n",
       "      <th>2016-01-01</th>\n",
       "    </tr>\n",
       "    <tr>\n",
       "      <th>platform</th>\n",
       "      <th></th>\n",
       "      <th></th>\n",
       "      <th></th>\n",
       "      <th></th>\n",
       "      <th></th>\n",
       "      <th></th>\n",
       "      <th></th>\n",
       "      <th></th>\n",
       "      <th></th>\n",
       "      <th></th>\n",
       "      <th></th>\n",
       "      <th></th>\n",
       "      <th></th>\n",
       "      <th></th>\n",
       "      <th></th>\n",
       "      <th></th>\n",
       "      <th></th>\n",
       "      <th></th>\n",
       "      <th></th>\n",
       "      <th></th>\n",
       "      <th></th>\n",
       "      <th></th>\n",
       "      <th></th>\n",
       "      <th></th>\n",
       "      <th></th>\n",
       "      <th></th>\n",
       "      <th></th>\n",
       "      <th></th>\n",
       "      <th></th>\n",
       "      <th></th>\n",
       "      <th></th>\n",
       "      <th></th>\n",
       "      <th></th>\n",
       "      <th></th>\n",
       "      <th></th>\n",
       "      <th></th>\n",
       "      <th></th>\n",
       "    </tr>\n",
       "  </thead>\n",
       "  <tbody>\n",
       "    <tr>\n",
       "      <td>2600</td>\n",
       "      <td>11.38</td>\n",
       "      <td>35.68</td>\n",
       "      <td>28.88</td>\n",
       "      <td>5.84</td>\n",
       "      <td>0.27</td>\n",
       "      <td>0.45</td>\n",
       "      <td>0.67</td>\n",
       "      <td>1.94</td>\n",
       "      <td>0.74</td>\n",
       "      <td>0.63</td>\n",
       "      <td>-</td>\n",
       "      <td>-</td>\n",
       "      <td>-</td>\n",
       "      <td>-</td>\n",
       "      <td>-</td>\n",
       "      <td>-</td>\n",
       "      <td>-</td>\n",
       "      <td>-</td>\n",
       "      <td>-</td>\n",
       "      <td>-</td>\n",
       "      <td>-</td>\n",
       "      <td>-</td>\n",
       "      <td>-</td>\n",
       "      <td>-</td>\n",
       "      <td>-</td>\n",
       "      <td>-</td>\n",
       "      <td>-</td>\n",
       "      <td>-</td>\n",
       "      <td>-</td>\n",
       "      <td>-</td>\n",
       "      <td>-</td>\n",
       "      <td>-</td>\n",
       "      <td>-</td>\n",
       "      <td>-</td>\n",
       "      <td>-</td>\n",
       "      <td>-</td>\n",
       "      <td>-</td>\n",
       "    </tr>\n",
       "    <tr>\n",
       "      <td>3DO</td>\n",
       "      <td>-</td>\n",
       "      <td>-</td>\n",
       "      <td>-</td>\n",
       "      <td>-</td>\n",
       "      <td>-</td>\n",
       "      <td>-</td>\n",
       "      <td>-</td>\n",
       "      <td>-</td>\n",
       "      <td>-</td>\n",
       "      <td>-</td>\n",
       "      <td>-</td>\n",
       "      <td>-</td>\n",
       "      <td>-</td>\n",
       "      <td>-</td>\n",
       "      <td>0.02</td>\n",
       "      <td>0.08</td>\n",
       "      <td>-</td>\n",
       "      <td>-</td>\n",
       "      <td>-</td>\n",
       "      <td>-</td>\n",
       "      <td>-</td>\n",
       "      <td>-</td>\n",
       "      <td>-</td>\n",
       "      <td>-</td>\n",
       "      <td>-</td>\n",
       "      <td>-</td>\n",
       "      <td>-</td>\n",
       "      <td>-</td>\n",
       "      <td>-</td>\n",
       "      <td>-</td>\n",
       "      <td>-</td>\n",
       "      <td>-</td>\n",
       "      <td>-</td>\n",
       "      <td>-</td>\n",
       "      <td>-</td>\n",
       "      <td>-</td>\n",
       "      <td>-</td>\n",
       "    </tr>\n",
       "    <tr>\n",
       "      <td>3DS</td>\n",
       "      <td>-</td>\n",
       "      <td>-</td>\n",
       "      <td>-</td>\n",
       "      <td>-</td>\n",
       "      <td>-</td>\n",
       "      <td>-</td>\n",
       "      <td>-</td>\n",
       "      <td>-</td>\n",
       "      <td>-</td>\n",
       "      <td>-</td>\n",
       "      <td>-</td>\n",
       "      <td>-</td>\n",
       "      <td>-</td>\n",
       "      <td>-</td>\n",
       "      <td>-</td>\n",
       "      <td>-</td>\n",
       "      <td>-</td>\n",
       "      <td>-</td>\n",
       "      <td>-</td>\n",
       "      <td>-</td>\n",
       "      <td>-</td>\n",
       "      <td>-</td>\n",
       "      <td>-</td>\n",
       "      <td>-</td>\n",
       "      <td>-</td>\n",
       "      <td>-</td>\n",
       "      <td>-</td>\n",
       "      <td>-</td>\n",
       "      <td>-</td>\n",
       "      <td>-</td>\n",
       "      <td>-</td>\n",
       "      <td>63.2</td>\n",
       "      <td>51.36</td>\n",
       "      <td>56.57</td>\n",
       "      <td>43.76</td>\n",
       "      <td>27.78</td>\n",
       "      <td>15.14</td>\n",
       "    </tr>\n",
       "    <tr>\n",
       "      <td>DC</td>\n",
       "      <td>-</td>\n",
       "      <td>-</td>\n",
       "      <td>-</td>\n",
       "      <td>-</td>\n",
       "      <td>-</td>\n",
       "      <td>-</td>\n",
       "      <td>-</td>\n",
       "      <td>-</td>\n",
       "      <td>-</td>\n",
       "      <td>-</td>\n",
       "      <td>-</td>\n",
       "      <td>-</td>\n",
       "      <td>-</td>\n",
       "      <td>-</td>\n",
       "      <td>-</td>\n",
       "      <td>-</td>\n",
       "      <td>-</td>\n",
       "      <td>-</td>\n",
       "      <td>3.38</td>\n",
       "      <td>5.16</td>\n",
       "      <td>5.99</td>\n",
       "      <td>1.07</td>\n",
       "      <td>0.29</td>\n",
       "      <td>-</td>\n",
       "      <td>-</td>\n",
       "      <td>-</td>\n",
       "      <td>-</td>\n",
       "      <td>0.02</td>\n",
       "      <td>0.04</td>\n",
       "      <td>-</td>\n",
       "      <td>-</td>\n",
       "      <td>-</td>\n",
       "      <td>-</td>\n",
       "      <td>-</td>\n",
       "      <td>-</td>\n",
       "      <td>-</td>\n",
       "      <td>-</td>\n",
       "    </tr>\n",
       "    <tr>\n",
       "      <td>DS</td>\n",
       "      <td>-</td>\n",
       "      <td>-</td>\n",
       "      <td>-</td>\n",
       "      <td>-</td>\n",
       "      <td>-</td>\n",
       "      <td>0.02</td>\n",
       "      <td>-</td>\n",
       "      <td>-</td>\n",
       "      <td>-</td>\n",
       "      <td>-</td>\n",
       "      <td>-</td>\n",
       "      <td>-</td>\n",
       "      <td>-</td>\n",
       "      <td>-</td>\n",
       "      <td>-</td>\n",
       "      <td>-</td>\n",
       "      <td>-</td>\n",
       "      <td>-</td>\n",
       "      <td>-</td>\n",
       "      <td>-</td>\n",
       "      <td>-</td>\n",
       "      <td>-</td>\n",
       "      <td>-</td>\n",
       "      <td>-</td>\n",
       "      <td>17.27</td>\n",
       "      <td>130.14</td>\n",
       "      <td>119.81</td>\n",
       "      <td>146.94</td>\n",
       "      <td>145.31</td>\n",
       "      <td>119.54</td>\n",
       "      <td>85.02</td>\n",
       "      <td>26.18</td>\n",
       "      <td>11.01</td>\n",
       "      <td>1.54</td>\n",
       "      <td>-</td>\n",
       "      <td>-</td>\n",
       "      <td>-</td>\n",
       "    </tr>\n",
       "    <tr>\n",
       "      <td>GB</td>\n",
       "      <td>-</td>\n",
       "      <td>-</td>\n",
       "      <td>-</td>\n",
       "      <td>-</td>\n",
       "      <td>-</td>\n",
       "      <td>-</td>\n",
       "      <td>-</td>\n",
       "      <td>-</td>\n",
       "      <td>1.43</td>\n",
       "      <td>64.97</td>\n",
       "      <td>4.89</td>\n",
       "      <td>5.57</td>\n",
       "      <td>25.49</td>\n",
       "      <td>-</td>\n",
       "      <td>12.18</td>\n",
       "      <td>3.6</td>\n",
       "      <td>36.03</td>\n",
       "      <td>6.37</td>\n",
       "      <td>26.9</td>\n",
       "      <td>38</td>\n",
       "      <td>19.76</td>\n",
       "      <td>9.24</td>\n",
       "      <td>-</td>\n",
       "      <td>-</td>\n",
       "      <td>-</td>\n",
       "      <td>-</td>\n",
       "      <td>-</td>\n",
       "      <td>-</td>\n",
       "      <td>-</td>\n",
       "      <td>-</td>\n",
       "      <td>-</td>\n",
       "      <td>-</td>\n",
       "      <td>-</td>\n",
       "      <td>-</td>\n",
       "      <td>-</td>\n",
       "      <td>-</td>\n",
       "      <td>-</td>\n",
       "    </tr>\n",
       "    <tr>\n",
       "      <td>GBA</td>\n",
       "      <td>-</td>\n",
       "      <td>-</td>\n",
       "      <td>-</td>\n",
       "      <td>-</td>\n",
       "      <td>-</td>\n",
       "      <td>-</td>\n",
       "      <td>-</td>\n",
       "      <td>-</td>\n",
       "      <td>-</td>\n",
       "      <td>-</td>\n",
       "      <td>-</td>\n",
       "      <td>-</td>\n",
       "      <td>-</td>\n",
       "      <td>-</td>\n",
       "      <td>-</td>\n",
       "      <td>-</td>\n",
       "      <td>-</td>\n",
       "      <td>-</td>\n",
       "      <td>-</td>\n",
       "      <td>-</td>\n",
       "      <td>0.07</td>\n",
       "      <td>61.53</td>\n",
       "      <td>74.16</td>\n",
       "      <td>56.67</td>\n",
       "      <td>77.91</td>\n",
       "      <td>33.86</td>\n",
       "      <td>5.28</td>\n",
       "      <td>3.4</td>\n",
       "      <td>-</td>\n",
       "      <td>-</td>\n",
       "      <td>-</td>\n",
       "      <td>-</td>\n",
       "      <td>-</td>\n",
       "      <td>-</td>\n",
       "      <td>-</td>\n",
       "      <td>-</td>\n",
       "      <td>-</td>\n",
       "    </tr>\n",
       "    <tr>\n",
       "      <td>GC</td>\n",
       "      <td>-</td>\n",
       "      <td>-</td>\n",
       "      <td>-</td>\n",
       "      <td>-</td>\n",
       "      <td>-</td>\n",
       "      <td>-</td>\n",
       "      <td>-</td>\n",
       "      <td>-</td>\n",
       "      <td>-</td>\n",
       "      <td>-</td>\n",
       "      <td>-</td>\n",
       "      <td>-</td>\n",
       "      <td>-</td>\n",
       "      <td>-</td>\n",
       "      <td>-</td>\n",
       "      <td>-</td>\n",
       "      <td>-</td>\n",
       "      <td>-</td>\n",
       "      <td>-</td>\n",
       "      <td>-</td>\n",
       "      <td>-</td>\n",
       "      <td>26.34</td>\n",
       "      <td>51.81</td>\n",
       "      <td>50.61</td>\n",
       "      <td>28.82</td>\n",
       "      <td>27.62</td>\n",
       "      <td>11.26</td>\n",
       "      <td>0.27</td>\n",
       "      <td>-</td>\n",
       "      <td>-</td>\n",
       "      <td>-</td>\n",
       "      <td>-</td>\n",
       "      <td>-</td>\n",
       "      <td>-</td>\n",
       "      <td>-</td>\n",
       "      <td>-</td>\n",
       "      <td>-</td>\n",
       "    </tr>\n",
       "    <tr>\n",
       "      <td>GEN</td>\n",
       "      <td>-</td>\n",
       "      <td>-</td>\n",
       "      <td>-</td>\n",
       "      <td>-</td>\n",
       "      <td>-</td>\n",
       "      <td>-</td>\n",
       "      <td>-</td>\n",
       "      <td>-</td>\n",
       "      <td>-</td>\n",
       "      <td>-</td>\n",
       "      <td>2.6</td>\n",
       "      <td>4.33</td>\n",
       "      <td>12.64</td>\n",
       "      <td>0.65</td>\n",
       "      <td>8.13</td>\n",
       "      <td>-</td>\n",
       "      <td>-</td>\n",
       "      <td>-</td>\n",
       "      <td>-</td>\n",
       "      <td>-</td>\n",
       "      <td>-</td>\n",
       "      <td>-</td>\n",
       "      <td>-</td>\n",
       "      <td>-</td>\n",
       "      <td>-</td>\n",
       "      <td>-</td>\n",
       "      <td>-</td>\n",
       "      <td>-</td>\n",
       "      <td>-</td>\n",
       "      <td>-</td>\n",
       "      <td>-</td>\n",
       "      <td>-</td>\n",
       "      <td>-</td>\n",
       "      <td>-</td>\n",
       "      <td>-</td>\n",
       "      <td>-</td>\n",
       "      <td>-</td>\n",
       "    </tr>\n",
       "    <tr>\n",
       "      <td>GG</td>\n",
       "      <td>-</td>\n",
       "      <td>-</td>\n",
       "      <td>-</td>\n",
       "      <td>-</td>\n",
       "      <td>-</td>\n",
       "      <td>-</td>\n",
       "      <td>-</td>\n",
       "      <td>-</td>\n",
       "      <td>-</td>\n",
       "      <td>-</td>\n",
       "      <td>-</td>\n",
       "      <td>-</td>\n",
       "      <td>0.04</td>\n",
       "      <td>-</td>\n",
       "      <td>-</td>\n",
       "      <td>-</td>\n",
       "      <td>-</td>\n",
       "      <td>-</td>\n",
       "      <td>-</td>\n",
       "      <td>-</td>\n",
       "      <td>-</td>\n",
       "      <td>-</td>\n",
       "      <td>-</td>\n",
       "      <td>-</td>\n",
       "      <td>-</td>\n",
       "      <td>-</td>\n",
       "      <td>-</td>\n",
       "      <td>-</td>\n",
       "      <td>-</td>\n",
       "      <td>-</td>\n",
       "      <td>-</td>\n",
       "      <td>-</td>\n",
       "      <td>-</td>\n",
       "      <td>-</td>\n",
       "      <td>-</td>\n",
       "      <td>-</td>\n",
       "      <td>-</td>\n",
       "    </tr>\n",
       "    <tr>\n",
       "      <td>N64</td>\n",
       "      <td>-</td>\n",
       "      <td>-</td>\n",
       "      <td>-</td>\n",
       "      <td>-</td>\n",
       "      <td>-</td>\n",
       "      <td>-</td>\n",
       "      <td>-</td>\n",
       "      <td>-</td>\n",
       "      <td>-</td>\n",
       "      <td>-</td>\n",
       "      <td>-</td>\n",
       "      <td>-</td>\n",
       "      <td>-</td>\n",
       "      <td>-</td>\n",
       "      <td>-</td>\n",
       "      <td>-</td>\n",
       "      <td>34.1</td>\n",
       "      <td>39.5</td>\n",
       "      <td>49.24</td>\n",
       "      <td>57.87</td>\n",
       "      <td>33.97</td>\n",
       "      <td>3.25</td>\n",
       "      <td>0.08</td>\n",
       "      <td>-</td>\n",
       "      <td>-</td>\n",
       "      <td>-</td>\n",
       "      <td>-</td>\n",
       "      <td>-</td>\n",
       "      <td>-</td>\n",
       "      <td>-</td>\n",
       "      <td>-</td>\n",
       "      <td>-</td>\n",
       "      <td>-</td>\n",
       "      <td>-</td>\n",
       "      <td>-</td>\n",
       "      <td>-</td>\n",
       "      <td>-</td>\n",
       "    </tr>\n",
       "    <tr>\n",
       "      <td>NES</td>\n",
       "      <td>-</td>\n",
       "      <td>-</td>\n",
       "      <td>-</td>\n",
       "      <td>10.96</td>\n",
       "      <td>50.08</td>\n",
       "      <td>53.44</td>\n",
       "      <td>36.41</td>\n",
       "      <td>19.76</td>\n",
       "      <td>45.01</td>\n",
       "      <td>7.85</td>\n",
       "      <td>15.73</td>\n",
       "      <td>6.11</td>\n",
       "      <td>1.98</td>\n",
       "      <td>3.61</td>\n",
       "      <td>0.11</td>\n",
       "      <td>-</td>\n",
       "      <td>-</td>\n",
       "      <td>-</td>\n",
       "      <td>-</td>\n",
       "      <td>-</td>\n",
       "      <td>-</td>\n",
       "      <td>-</td>\n",
       "      <td>-</td>\n",
       "      <td>-</td>\n",
       "      <td>-</td>\n",
       "      <td>-</td>\n",
       "      <td>-</td>\n",
       "      <td>-</td>\n",
       "      <td>-</td>\n",
       "      <td>-</td>\n",
       "      <td>-</td>\n",
       "      <td>-</td>\n",
       "      <td>-</td>\n",
       "      <td>-</td>\n",
       "      <td>-</td>\n",
       "      <td>-</td>\n",
       "      <td>-</td>\n",
       "    </tr>\n",
       "    <tr>\n",
       "      <td>NG</td>\n",
       "      <td>-</td>\n",
       "      <td>-</td>\n",
       "      <td>-</td>\n",
       "      <td>-</td>\n",
       "      <td>-</td>\n",
       "      <td>-</td>\n",
       "      <td>-</td>\n",
       "      <td>-</td>\n",
       "      <td>-</td>\n",
       "      <td>-</td>\n",
       "      <td>-</td>\n",
       "      <td>-</td>\n",
       "      <td>-</td>\n",
       "      <td>0.21</td>\n",
       "      <td>0.8</td>\n",
       "      <td>0.33</td>\n",
       "      <td>0.1</td>\n",
       "      <td>-</td>\n",
       "      <td>-</td>\n",
       "      <td>-</td>\n",
       "      <td>-</td>\n",
       "      <td>-</td>\n",
       "      <td>-</td>\n",
       "      <td>-</td>\n",
       "      <td>-</td>\n",
       "      <td>-</td>\n",
       "      <td>-</td>\n",
       "      <td>-</td>\n",
       "      <td>-</td>\n",
       "      <td>-</td>\n",
       "      <td>-</td>\n",
       "      <td>-</td>\n",
       "      <td>-</td>\n",
       "      <td>-</td>\n",
       "      <td>-</td>\n",
       "      <td>-</td>\n",
       "      <td>-</td>\n",
       "    </tr>\n",
       "    <tr>\n",
       "      <td>PC</td>\n",
       "      <td>-</td>\n",
       "      <td>-</td>\n",
       "      <td>-</td>\n",
       "      <td>-</td>\n",
       "      <td>-</td>\n",
       "      <td>0.04</td>\n",
       "      <td>-</td>\n",
       "      <td>-</td>\n",
       "      <td>0.03</td>\n",
       "      <td>-</td>\n",
       "      <td>-</td>\n",
       "      <td>-</td>\n",
       "      <td>3.03</td>\n",
       "      <td>-</td>\n",
       "      <td>12.87</td>\n",
       "      <td>4.22</td>\n",
       "      <td>10.58</td>\n",
       "      <td>11.27</td>\n",
       "      <td>3.26</td>\n",
       "      <td>4.74</td>\n",
       "      <td>4.66</td>\n",
       "      <td>5.47</td>\n",
       "      <td>8.57</td>\n",
       "      <td>8.84</td>\n",
       "      <td>10.39</td>\n",
       "      <td>4.37</td>\n",
       "      <td>2.85</td>\n",
       "      <td>9.28</td>\n",
       "      <td>12.42</td>\n",
       "      <td>16.91</td>\n",
       "      <td>24.28</td>\n",
       "      <td>35.03</td>\n",
       "      <td>23.22</td>\n",
       "      <td>12.38</td>\n",
       "      <td>13.28</td>\n",
       "      <td>8.52</td>\n",
       "      <td>5.25</td>\n",
       "    </tr>\n",
       "    <tr>\n",
       "      <td>PCFX</td>\n",
       "      <td>-</td>\n",
       "      <td>-</td>\n",
       "      <td>-</td>\n",
       "      <td>-</td>\n",
       "      <td>-</td>\n",
       "      <td>-</td>\n",
       "      <td>-</td>\n",
       "      <td>-</td>\n",
       "      <td>-</td>\n",
       "      <td>-</td>\n",
       "      <td>-</td>\n",
       "      <td>-</td>\n",
       "      <td>-</td>\n",
       "      <td>-</td>\n",
       "      <td>-</td>\n",
       "      <td>-</td>\n",
       "      <td>0.03</td>\n",
       "      <td>-</td>\n",
       "      <td>-</td>\n",
       "      <td>-</td>\n",
       "      <td>-</td>\n",
       "      <td>-</td>\n",
       "      <td>-</td>\n",
       "      <td>-</td>\n",
       "      <td>-</td>\n",
       "      <td>-</td>\n",
       "      <td>-</td>\n",
       "      <td>-</td>\n",
       "      <td>-</td>\n",
       "      <td>-</td>\n",
       "      <td>-</td>\n",
       "      <td>-</td>\n",
       "      <td>-</td>\n",
       "      <td>-</td>\n",
       "      <td>-</td>\n",
       "      <td>-</td>\n",
       "      <td>-</td>\n",
       "    </tr>\n",
       "    <tr>\n",
       "      <td>PS</td>\n",
       "      <td>-</td>\n",
       "      <td>-</td>\n",
       "      <td>-</td>\n",
       "      <td>-</td>\n",
       "      <td>-</td>\n",
       "      <td>-</td>\n",
       "      <td>-</td>\n",
       "      <td>-</td>\n",
       "      <td>-</td>\n",
       "      <td>-</td>\n",
       "      <td>-</td>\n",
       "      <td>-</td>\n",
       "      <td>-</td>\n",
       "      <td>-</td>\n",
       "      <td>6.03</td>\n",
       "      <td>35.96</td>\n",
       "      <td>94.7</td>\n",
       "      <td>136.17</td>\n",
       "      <td>169.49</td>\n",
       "      <td>144.53</td>\n",
       "      <td>96.37</td>\n",
       "      <td>35.59</td>\n",
       "      <td>6.67</td>\n",
       "      <td>2.07</td>\n",
       "      <td>-</td>\n",
       "      <td>-</td>\n",
       "      <td>-</td>\n",
       "      <td>-</td>\n",
       "      <td>-</td>\n",
       "      <td>-</td>\n",
       "      <td>-</td>\n",
       "      <td>-</td>\n",
       "      <td>-</td>\n",
       "      <td>-</td>\n",
       "      <td>-</td>\n",
       "      <td>-</td>\n",
       "      <td>-</td>\n",
       "    </tr>\n",
       "    <tr>\n",
       "      <td>PS2</td>\n",
       "      <td>-</td>\n",
       "      <td>-</td>\n",
       "      <td>-</td>\n",
       "      <td>-</td>\n",
       "      <td>-</td>\n",
       "      <td>-</td>\n",
       "      <td>-</td>\n",
       "      <td>-</td>\n",
       "      <td>-</td>\n",
       "      <td>-</td>\n",
       "      <td>-</td>\n",
       "      <td>-</td>\n",
       "      <td>-</td>\n",
       "      <td>-</td>\n",
       "      <td>-</td>\n",
       "      <td>-</td>\n",
       "      <td>-</td>\n",
       "      <td>-</td>\n",
       "      <td>-</td>\n",
       "      <td>-</td>\n",
       "      <td>39.17</td>\n",
       "      <td>166.43</td>\n",
       "      <td>205.38</td>\n",
       "      <td>184.31</td>\n",
       "      <td>211.81</td>\n",
       "      <td>160.66</td>\n",
       "      <td>103.42</td>\n",
       "      <td>75.99</td>\n",
       "      <td>53.9</td>\n",
       "      <td>26.4</td>\n",
       "      <td>5.64</td>\n",
       "      <td>0.45</td>\n",
       "      <td>-</td>\n",
       "      <td>-</td>\n",
       "      <td>-</td>\n",
       "      <td>-</td>\n",
       "      <td>-</td>\n",
       "    </tr>\n",
       "    <tr>\n",
       "      <td>PS3</td>\n",
       "      <td>-</td>\n",
       "      <td>-</td>\n",
       "      <td>-</td>\n",
       "      <td>-</td>\n",
       "      <td>-</td>\n",
       "      <td>-</td>\n",
       "      <td>-</td>\n",
       "      <td>-</td>\n",
       "      <td>-</td>\n",
       "      <td>-</td>\n",
       "      <td>-</td>\n",
       "      <td>-</td>\n",
       "      <td>-</td>\n",
       "      <td>-</td>\n",
       "      <td>-</td>\n",
       "      <td>-</td>\n",
       "      <td>-</td>\n",
       "      <td>-</td>\n",
       "      <td>-</td>\n",
       "      <td>-</td>\n",
       "      <td>-</td>\n",
       "      <td>-</td>\n",
       "      <td>-</td>\n",
       "      <td>-</td>\n",
       "      <td>-</td>\n",
       "      <td>-</td>\n",
       "      <td>20.96</td>\n",
       "      <td>73.19</td>\n",
       "      <td>118.52</td>\n",
       "      <td>130.93</td>\n",
       "      <td>142.17</td>\n",
       "      <td>156.78</td>\n",
       "      <td>107.36</td>\n",
       "      <td>113.25</td>\n",
       "      <td>47.76</td>\n",
       "      <td>16.82</td>\n",
       "      <td>3.6</td>\n",
       "    </tr>\n",
       "    <tr>\n",
       "      <td>PS4</td>\n",
       "      <td>-</td>\n",
       "      <td>-</td>\n",
       "      <td>-</td>\n",
       "      <td>-</td>\n",
       "      <td>-</td>\n",
       "      <td>-</td>\n",
       "      <td>-</td>\n",
       "      <td>-</td>\n",
       "      <td>-</td>\n",
       "      <td>-</td>\n",
       "      <td>-</td>\n",
       "      <td>-</td>\n",
       "      <td>-</td>\n",
       "      <td>-</td>\n",
       "      <td>-</td>\n",
       "      <td>-</td>\n",
       "      <td>-</td>\n",
       "      <td>-</td>\n",
       "      <td>-</td>\n",
       "      <td>-</td>\n",
       "      <td>-</td>\n",
       "      <td>-</td>\n",
       "      <td>-</td>\n",
       "      <td>-</td>\n",
       "      <td>-</td>\n",
       "      <td>-</td>\n",
       "      <td>-</td>\n",
       "      <td>-</td>\n",
       "      <td>-</td>\n",
       "      <td>-</td>\n",
       "      <td>-</td>\n",
       "      <td>-</td>\n",
       "      <td>-</td>\n",
       "      <td>25.99</td>\n",
       "      <td>100</td>\n",
       "      <td>118.9</td>\n",
       "      <td>69.25</td>\n",
       "    </tr>\n",
       "    <tr>\n",
       "      <td>PSP</td>\n",
       "      <td>-</td>\n",
       "      <td>-</td>\n",
       "      <td>-</td>\n",
       "      <td>-</td>\n",
       "      <td>-</td>\n",
       "      <td>-</td>\n",
       "      <td>-</td>\n",
       "      <td>-</td>\n",
       "      <td>-</td>\n",
       "      <td>-</td>\n",
       "      <td>-</td>\n",
       "      <td>-</td>\n",
       "      <td>-</td>\n",
       "      <td>-</td>\n",
       "      <td>-</td>\n",
       "      <td>-</td>\n",
       "      <td>-</td>\n",
       "      <td>-</td>\n",
       "      <td>-</td>\n",
       "      <td>-</td>\n",
       "      <td>-</td>\n",
       "      <td>-</td>\n",
       "      <td>-</td>\n",
       "      <td>-</td>\n",
       "      <td>7.06</td>\n",
       "      <td>43.84</td>\n",
       "      <td>55.32</td>\n",
       "      <td>46.93</td>\n",
       "      <td>34.55</td>\n",
       "      <td>37.78</td>\n",
       "      <td>35.04</td>\n",
       "      <td>17.82</td>\n",
       "      <td>7.69</td>\n",
       "      <td>3.14</td>\n",
       "      <td>0.24</td>\n",
       "      <td>0.12</td>\n",
       "      <td>-</td>\n",
       "    </tr>\n",
       "    <tr>\n",
       "      <td>PSV</td>\n",
       "      <td>-</td>\n",
       "      <td>-</td>\n",
       "      <td>-</td>\n",
       "      <td>-</td>\n",
       "      <td>-</td>\n",
       "      <td>-</td>\n",
       "      <td>-</td>\n",
       "      <td>-</td>\n",
       "      <td>-</td>\n",
       "      <td>-</td>\n",
       "      <td>-</td>\n",
       "      <td>-</td>\n",
       "      <td>-</td>\n",
       "      <td>-</td>\n",
       "      <td>-</td>\n",
       "      <td>-</td>\n",
       "      <td>-</td>\n",
       "      <td>-</td>\n",
       "      <td>-</td>\n",
       "      <td>-</td>\n",
       "      <td>-</td>\n",
       "      <td>-</td>\n",
       "      <td>-</td>\n",
       "      <td>-</td>\n",
       "      <td>-</td>\n",
       "      <td>-</td>\n",
       "      <td>-</td>\n",
       "      <td>-</td>\n",
       "      <td>-</td>\n",
       "      <td>-</td>\n",
       "      <td>-</td>\n",
       "      <td>4.63</td>\n",
       "      <td>16.19</td>\n",
       "      <td>10.59</td>\n",
       "      <td>11.9</td>\n",
       "      <td>6.25</td>\n",
       "      <td>4.25</td>\n",
       "    </tr>\n",
       "    <tr>\n",
       "      <td>SAT</td>\n",
       "      <td>-</td>\n",
       "      <td>-</td>\n",
       "      <td>-</td>\n",
       "      <td>-</td>\n",
       "      <td>-</td>\n",
       "      <td>-</td>\n",
       "      <td>-</td>\n",
       "      <td>-</td>\n",
       "      <td>-</td>\n",
       "      <td>-</td>\n",
       "      <td>-</td>\n",
       "      <td>-</td>\n",
       "      <td>-</td>\n",
       "      <td>-</td>\n",
       "      <td>3.65</td>\n",
       "      <td>11.57</td>\n",
       "      <td>7.69</td>\n",
       "      <td>6.77</td>\n",
       "      <td>3.82</td>\n",
       "      <td>0.09</td>\n",
       "      <td>-</td>\n",
       "      <td>-</td>\n",
       "      <td>-</td>\n",
       "      <td>-</td>\n",
       "      <td>-</td>\n",
       "      <td>-</td>\n",
       "      <td>-</td>\n",
       "      <td>-</td>\n",
       "      <td>-</td>\n",
       "      <td>-</td>\n",
       "      <td>-</td>\n",
       "      <td>-</td>\n",
       "      <td>-</td>\n",
       "      <td>-</td>\n",
       "      <td>-</td>\n",
       "      <td>-</td>\n",
       "      <td>-</td>\n",
       "    </tr>\n",
       "    <tr>\n",
       "      <td>SCD</td>\n",
       "      <td>-</td>\n",
       "      <td>-</td>\n",
       "      <td>-</td>\n",
       "      <td>-</td>\n",
       "      <td>-</td>\n",
       "      <td>-</td>\n",
       "      <td>-</td>\n",
       "      <td>-</td>\n",
       "      <td>-</td>\n",
       "      <td>-</td>\n",
       "      <td>-</td>\n",
       "      <td>-</td>\n",
       "      <td>-</td>\n",
       "      <td>1.5</td>\n",
       "      <td>0.36</td>\n",
       "      <td>-</td>\n",
       "      <td>-</td>\n",
       "      <td>-</td>\n",
       "      <td>-</td>\n",
       "      <td>-</td>\n",
       "      <td>-</td>\n",
       "      <td>-</td>\n",
       "      <td>-</td>\n",
       "      <td>-</td>\n",
       "      <td>-</td>\n",
       "      <td>-</td>\n",
       "      <td>-</td>\n",
       "      <td>-</td>\n",
       "      <td>-</td>\n",
       "      <td>-</td>\n",
       "      <td>-</td>\n",
       "      <td>-</td>\n",
       "      <td>-</td>\n",
       "      <td>-</td>\n",
       "      <td>-</td>\n",
       "      <td>-</td>\n",
       "      <td>-</td>\n",
       "    </tr>\n",
       "    <tr>\n",
       "      <td>SNES</td>\n",
       "      <td>-</td>\n",
       "      <td>-</td>\n",
       "      <td>-</td>\n",
       "      <td>-</td>\n",
       "      <td>-</td>\n",
       "      <td>-</td>\n",
       "      <td>-</td>\n",
       "      <td>-</td>\n",
       "      <td>-</td>\n",
       "      <td>-</td>\n",
       "      <td>26.15</td>\n",
       "      <td>16.22</td>\n",
       "      <td>32.98</td>\n",
       "      <td>40.02</td>\n",
       "      <td>35.08</td>\n",
       "      <td>32.2</td>\n",
       "      <td>15.92</td>\n",
       "      <td>0.99</td>\n",
       "      <td>0.22</td>\n",
       "      <td>0.26</td>\n",
       "      <td>-</td>\n",
       "      <td>-</td>\n",
       "      <td>-</td>\n",
       "      <td>-</td>\n",
       "      <td>-</td>\n",
       "      <td>-</td>\n",
       "      <td>-</td>\n",
       "      <td>-</td>\n",
       "      <td>-</td>\n",
       "      <td>-</td>\n",
       "      <td>-</td>\n",
       "      <td>-</td>\n",
       "      <td>-</td>\n",
       "      <td>-</td>\n",
       "      <td>-</td>\n",
       "      <td>-</td>\n",
       "      <td>-</td>\n",
       "    </tr>\n",
       "    <tr>\n",
       "      <td>TG16</td>\n",
       "      <td>-</td>\n",
       "      <td>-</td>\n",
       "      <td>-</td>\n",
       "      <td>-</td>\n",
       "      <td>-</td>\n",
       "      <td>-</td>\n",
       "      <td>-</td>\n",
       "      <td>-</td>\n",
       "      <td>-</td>\n",
       "      <td>-</td>\n",
       "      <td>-</td>\n",
       "      <td>-</td>\n",
       "      <td>-</td>\n",
       "      <td>-</td>\n",
       "      <td>-</td>\n",
       "      <td>0.16</td>\n",
       "      <td>-</td>\n",
       "      <td>-</td>\n",
       "      <td>-</td>\n",
       "      <td>-</td>\n",
       "      <td>-</td>\n",
       "      <td>-</td>\n",
       "      <td>-</td>\n",
       "      <td>-</td>\n",
       "      <td>-</td>\n",
       "      <td>-</td>\n",
       "      <td>-</td>\n",
       "      <td>-</td>\n",
       "      <td>-</td>\n",
       "      <td>-</td>\n",
       "      <td>-</td>\n",
       "      <td>-</td>\n",
       "      <td>-</td>\n",
       "      <td>-</td>\n",
       "      <td>-</td>\n",
       "      <td>-</td>\n",
       "      <td>-</td>\n",
       "    </tr>\n",
       "    <tr>\n",
       "      <td>WS</td>\n",
       "      <td>-</td>\n",
       "      <td>-</td>\n",
       "      <td>-</td>\n",
       "      <td>-</td>\n",
       "      <td>-</td>\n",
       "      <td>-</td>\n",
       "      <td>-</td>\n",
       "      <td>-</td>\n",
       "      <td>-</td>\n",
       "      <td>-</td>\n",
       "      <td>-</td>\n",
       "      <td>-</td>\n",
       "      <td>-</td>\n",
       "      <td>-</td>\n",
       "      <td>-</td>\n",
       "      <td>-</td>\n",
       "      <td>-</td>\n",
       "      <td>-</td>\n",
       "      <td>-</td>\n",
       "      <td>0.46</td>\n",
       "      <td>0.68</td>\n",
       "      <td>0.28</td>\n",
       "      <td>-</td>\n",
       "      <td>-</td>\n",
       "      <td>-</td>\n",
       "      <td>-</td>\n",
       "      <td>-</td>\n",
       "      <td>-</td>\n",
       "      <td>-</td>\n",
       "      <td>-</td>\n",
       "      <td>-</td>\n",
       "      <td>-</td>\n",
       "      <td>-</td>\n",
       "      <td>-</td>\n",
       "      <td>-</td>\n",
       "      <td>-</td>\n",
       "      <td>-</td>\n",
       "    </tr>\n",
       "    <tr>\n",
       "      <td>Wii</td>\n",
       "      <td>-</td>\n",
       "      <td>-</td>\n",
       "      <td>-</td>\n",
       "      <td>-</td>\n",
       "      <td>-</td>\n",
       "      <td>-</td>\n",
       "      <td>-</td>\n",
       "      <td>-</td>\n",
       "      <td>-</td>\n",
       "      <td>-</td>\n",
       "      <td>-</td>\n",
       "      <td>-</td>\n",
       "      <td>-</td>\n",
       "      <td>-</td>\n",
       "      <td>-</td>\n",
       "      <td>-</td>\n",
       "      <td>-</td>\n",
       "      <td>-</td>\n",
       "      <td>-</td>\n",
       "      <td>-</td>\n",
       "      <td>-</td>\n",
       "      <td>-</td>\n",
       "      <td>-</td>\n",
       "      <td>-</td>\n",
       "      <td>-</td>\n",
       "      <td>-</td>\n",
       "      <td>137.15</td>\n",
       "      <td>152.77</td>\n",
       "      <td>171.32</td>\n",
       "      <td>206.97</td>\n",
       "      <td>127.95</td>\n",
       "      <td>59.65</td>\n",
       "      <td>21.71</td>\n",
       "      <td>8.59</td>\n",
       "      <td>3.75</td>\n",
       "      <td>1.14</td>\n",
       "      <td>0.18</td>\n",
       "    </tr>\n",
       "    <tr>\n",
       "      <td>WiiU</td>\n",
       "      <td>-</td>\n",
       "      <td>-</td>\n",
       "      <td>-</td>\n",
       "      <td>-</td>\n",
       "      <td>-</td>\n",
       "      <td>-</td>\n",
       "      <td>-</td>\n",
       "      <td>-</td>\n",
       "      <td>-</td>\n",
       "      <td>-</td>\n",
       "      <td>-</td>\n",
       "      <td>-</td>\n",
       "      <td>-</td>\n",
       "      <td>-</td>\n",
       "      <td>-</td>\n",
       "      <td>-</td>\n",
       "      <td>-</td>\n",
       "      <td>-</td>\n",
       "      <td>-</td>\n",
       "      <td>-</td>\n",
       "      <td>-</td>\n",
       "      <td>-</td>\n",
       "      <td>-</td>\n",
       "      <td>-</td>\n",
       "      <td>-</td>\n",
       "      <td>-</td>\n",
       "      <td>-</td>\n",
       "      <td>-</td>\n",
       "      <td>-</td>\n",
       "      <td>-</td>\n",
       "      <td>-</td>\n",
       "      <td>-</td>\n",
       "      <td>17.56</td>\n",
       "      <td>21.65</td>\n",
       "      <td>22.03</td>\n",
       "      <td>16.35</td>\n",
       "      <td>4.6</td>\n",
       "    </tr>\n",
       "    <tr>\n",
       "      <td>X360</td>\n",
       "      <td>-</td>\n",
       "      <td>-</td>\n",
       "      <td>-</td>\n",
       "      <td>-</td>\n",
       "      <td>-</td>\n",
       "      <td>-</td>\n",
       "      <td>-</td>\n",
       "      <td>-</td>\n",
       "      <td>-</td>\n",
       "      <td>-</td>\n",
       "      <td>-</td>\n",
       "      <td>-</td>\n",
       "      <td>-</td>\n",
       "      <td>-</td>\n",
       "      <td>-</td>\n",
       "      <td>-</td>\n",
       "      <td>-</td>\n",
       "      <td>-</td>\n",
       "      <td>-</td>\n",
       "      <td>-</td>\n",
       "      <td>-</td>\n",
       "      <td>-</td>\n",
       "      <td>-</td>\n",
       "      <td>-</td>\n",
       "      <td>-</td>\n",
       "      <td>8.25</td>\n",
       "      <td>51.62</td>\n",
       "      <td>95.41</td>\n",
       "      <td>135.26</td>\n",
       "      <td>120.29</td>\n",
       "      <td>170.03</td>\n",
       "      <td>143.84</td>\n",
       "      <td>99.74</td>\n",
       "      <td>88.58</td>\n",
       "      <td>34.74</td>\n",
       "      <td>11.96</td>\n",
       "      <td>1.52</td>\n",
       "    </tr>\n",
       "    <tr>\n",
       "      <td>XB</td>\n",
       "      <td>-</td>\n",
       "      <td>-</td>\n",
       "      <td>-</td>\n",
       "      <td>-</td>\n",
       "      <td>-</td>\n",
       "      <td>-</td>\n",
       "      <td>-</td>\n",
       "      <td>-</td>\n",
       "      <td>-</td>\n",
       "      <td>-</td>\n",
       "      <td>-</td>\n",
       "      <td>-</td>\n",
       "      <td>-</td>\n",
       "      <td>-</td>\n",
       "      <td>-</td>\n",
       "      <td>-</td>\n",
       "      <td>-</td>\n",
       "      <td>-</td>\n",
       "      <td>-</td>\n",
       "      <td>-</td>\n",
       "      <td>0.99</td>\n",
       "      <td>22.26</td>\n",
       "      <td>48.01</td>\n",
       "      <td>55.04</td>\n",
       "      <td>65.42</td>\n",
       "      <td>49.08</td>\n",
       "      <td>10.04</td>\n",
       "      <td>0.55</td>\n",
       "      <td>0.18</td>\n",
       "      <td>-</td>\n",
       "      <td>-</td>\n",
       "      <td>-</td>\n",
       "      <td>-</td>\n",
       "      <td>-</td>\n",
       "      <td>-</td>\n",
       "      <td>-</td>\n",
       "      <td>-</td>\n",
       "    </tr>\n",
       "    <tr>\n",
       "      <td>XOne</td>\n",
       "      <td>-</td>\n",
       "      <td>-</td>\n",
       "      <td>-</td>\n",
       "      <td>-</td>\n",
       "      <td>-</td>\n",
       "      <td>-</td>\n",
       "      <td>-</td>\n",
       "      <td>-</td>\n",
       "      <td>-</td>\n",
       "      <td>-</td>\n",
       "      <td>-</td>\n",
       "      <td>-</td>\n",
       "      <td>-</td>\n",
       "      <td>-</td>\n",
       "      <td>-</td>\n",
       "      <td>-</td>\n",
       "      <td>-</td>\n",
       "      <td>-</td>\n",
       "      <td>-</td>\n",
       "      <td>-</td>\n",
       "      <td>-</td>\n",
       "      <td>-</td>\n",
       "      <td>-</td>\n",
       "      <td>-</td>\n",
       "      <td>-</td>\n",
       "      <td>-</td>\n",
       "      <td>-</td>\n",
       "      <td>-</td>\n",
       "      <td>-</td>\n",
       "      <td>-</td>\n",
       "      <td>-</td>\n",
       "      <td>-</td>\n",
       "      <td>-</td>\n",
       "      <td>18.96</td>\n",
       "      <td>54.07</td>\n",
       "      <td>60.14</td>\n",
       "      <td>26.15</td>\n",
       "    </tr>\n",
       "  </tbody>\n",
       "</table>\n",
       "</div>"
      ],
      "text/plain": [
       "year_of_release 1980-01-01 1981-01-01 1982-01-01 1983-01-01 1984-01-01  \\\n",
       "platform                                                                 \n",
       "2600                 11.38      35.68      28.88       5.84       0.27   \n",
       "3DO                      -          -          -          -          -   \n",
       "3DS                      -          -          -          -          -   \n",
       "DC                       -          -          -          -          -   \n",
       "DS                       -          -          -          -          -   \n",
       "GB                       -          -          -          -          -   \n",
       "GBA                      -          -          -          -          -   \n",
       "GC                       -          -          -          -          -   \n",
       "GEN                      -          -          -          -          -   \n",
       "GG                       -          -          -          -          -   \n",
       "N64                      -          -          -          -          -   \n",
       "NES                      -          -          -      10.96      50.08   \n",
       "NG                       -          -          -          -          -   \n",
       "PC                       -          -          -          -          -   \n",
       "PCFX                     -          -          -          -          -   \n",
       "PS                       -          -          -          -          -   \n",
       "PS2                      -          -          -          -          -   \n",
       "PS3                      -          -          -          -          -   \n",
       "PS4                      -          -          -          -          -   \n",
       "PSP                      -          -          -          -          -   \n",
       "PSV                      -          -          -          -          -   \n",
       "SAT                      -          -          -          -          -   \n",
       "SCD                      -          -          -          -          -   \n",
       "SNES                     -          -          -          -          -   \n",
       "TG16                     -          -          -          -          -   \n",
       "WS                       -          -          -          -          -   \n",
       "Wii                      -          -          -          -          -   \n",
       "WiiU                     -          -          -          -          -   \n",
       "X360                     -          -          -          -          -   \n",
       "XB                       -          -          -          -          -   \n",
       "XOne                     -          -          -          -          -   \n",
       "\n",
       "year_of_release 1985-01-01 1986-01-01 1987-01-01 1988-01-01 1989-01-01  \\\n",
       "platform                                                                 \n",
       "2600                  0.45       0.67       1.94       0.74       0.63   \n",
       "3DO                      -          -          -          -          -   \n",
       "3DS                      -          -          -          -          -   \n",
       "DC                       -          -          -          -          -   \n",
       "DS                    0.02          -          -          -          -   \n",
       "GB                       -          -          -       1.43      64.97   \n",
       "GBA                      -          -          -          -          -   \n",
       "GC                       -          -          -          -          -   \n",
       "GEN                      -          -          -          -          -   \n",
       "GG                       -          -          -          -          -   \n",
       "N64                      -          -          -          -          -   \n",
       "NES                  53.44      36.41      19.76      45.01       7.85   \n",
       "NG                       -          -          -          -          -   \n",
       "PC                    0.04          -          -       0.03          -   \n",
       "PCFX                     -          -          -          -          -   \n",
       "PS                       -          -          -          -          -   \n",
       "PS2                      -          -          -          -          -   \n",
       "PS3                      -          -          -          -          -   \n",
       "PS4                      -          -          -          -          -   \n",
       "PSP                      -          -          -          -          -   \n",
       "PSV                      -          -          -          -          -   \n",
       "SAT                      -          -          -          -          -   \n",
       "SCD                      -          -          -          -          -   \n",
       "SNES                     -          -          -          -          -   \n",
       "TG16                     -          -          -          -          -   \n",
       "WS                       -          -          -          -          -   \n",
       "Wii                      -          -          -          -          -   \n",
       "WiiU                     -          -          -          -          -   \n",
       "X360                     -          -          -          -          -   \n",
       "XB                       -          -          -          -          -   \n",
       "XOne                     -          -          -          -          -   \n",
       "\n",
       "year_of_release 1990-01-01 1991-01-01 1992-01-01 1993-01-01 1994-01-01  \\\n",
       "platform                                                                 \n",
       "2600                     -          -          -          -          -   \n",
       "3DO                      -          -          -          -       0.02   \n",
       "3DS                      -          -          -          -          -   \n",
       "DC                       -          -          -          -          -   \n",
       "DS                       -          -          -          -          -   \n",
       "GB                    4.89       5.57      25.49          -      12.18   \n",
       "GBA                      -          -          -          -          -   \n",
       "GC                       -          -          -          -          -   \n",
       "GEN                    2.6       4.33      12.64       0.65       8.13   \n",
       "GG                       -          -       0.04          -          -   \n",
       "N64                      -          -          -          -          -   \n",
       "NES                  15.73       6.11       1.98       3.61       0.11   \n",
       "NG                       -          -          -       0.21        0.8   \n",
       "PC                       -          -       3.03          -      12.87   \n",
       "PCFX                     -          -          -          -          -   \n",
       "PS                       -          -          -          -       6.03   \n",
       "PS2                      -          -          -          -          -   \n",
       "PS3                      -          -          -          -          -   \n",
       "PS4                      -          -          -          -          -   \n",
       "PSP                      -          -          -          -          -   \n",
       "PSV                      -          -          -          -          -   \n",
       "SAT                      -          -          -          -       3.65   \n",
       "SCD                      -          -          -        1.5       0.36   \n",
       "SNES                 26.15      16.22      32.98      40.02      35.08   \n",
       "TG16                     -          -          -          -          -   \n",
       "WS                       -          -          -          -          -   \n",
       "Wii                      -          -          -          -          -   \n",
       "WiiU                     -          -          -          -          -   \n",
       "X360                     -          -          -          -          -   \n",
       "XB                       -          -          -          -          -   \n",
       "XOne                     -          -          -          -          -   \n",
       "\n",
       "year_of_release 1995-01-01 1996-01-01 1997-01-01 1998-01-01 1999-01-01  \\\n",
       "platform                                                                 \n",
       "2600                     -          -          -          -          -   \n",
       "3DO                   0.08          -          -          -          -   \n",
       "3DS                      -          -          -          -          -   \n",
       "DC                       -          -          -       3.38       5.16   \n",
       "DS                       -          -          -          -          -   \n",
       "GB                     3.6      36.03       6.37       26.9         38   \n",
       "GBA                      -          -          -          -          -   \n",
       "GC                       -          -          -          -          -   \n",
       "GEN                      -          -          -          -          -   \n",
       "GG                       -          -          -          -          -   \n",
       "N64                      -       34.1       39.5      49.24      57.87   \n",
       "NES                      -          -          -          -          -   \n",
       "NG                    0.33        0.1          -          -          -   \n",
       "PC                    4.22      10.58      11.27       3.26       4.74   \n",
       "PCFX                     -       0.03          -          -          -   \n",
       "PS                   35.96       94.7     136.17     169.49     144.53   \n",
       "PS2                      -          -          -          -          -   \n",
       "PS3                      -          -          -          -          -   \n",
       "PS4                      -          -          -          -          -   \n",
       "PSP                      -          -          -          -          -   \n",
       "PSV                      -          -          -          -          -   \n",
       "SAT                  11.57       7.69       6.77       3.82       0.09   \n",
       "SCD                      -          -          -          -          -   \n",
       "SNES                  32.2      15.92       0.99       0.22       0.26   \n",
       "TG16                  0.16          -          -          -          -   \n",
       "WS                       -          -          -          -       0.46   \n",
       "Wii                      -          -          -          -          -   \n",
       "WiiU                     -          -          -          -          -   \n",
       "X360                     -          -          -          -          -   \n",
       "XB                       -          -          -          -          -   \n",
       "XOne                     -          -          -          -          -   \n",
       "\n",
       "year_of_release 2000-01-01 2001-01-01 2002-01-01 2003-01-01 2004-01-01  \\\n",
       "platform                                                                 \n",
       "2600                     -          -          -          -          -   \n",
       "3DO                      -          -          -          -          -   \n",
       "3DS                      -          -          -          -          -   \n",
       "DC                    5.99       1.07       0.29          -          -   \n",
       "DS                       -          -          -          -      17.27   \n",
       "GB                   19.76       9.24          -          -          -   \n",
       "GBA                   0.07      61.53      74.16      56.67      77.91   \n",
       "GC                       -      26.34      51.81      50.61      28.82   \n",
       "GEN                      -          -          -          -          -   \n",
       "GG                       -          -          -          -          -   \n",
       "N64                  33.97       3.25       0.08          -          -   \n",
       "NES                      -          -          -          -          -   \n",
       "NG                       -          -          -          -          -   \n",
       "PC                    4.66       5.47       8.57       8.84      10.39   \n",
       "PCFX                     -          -          -          -          -   \n",
       "PS                   96.37      35.59       6.67       2.07          -   \n",
       "PS2                  39.17     166.43     205.38     184.31     211.81   \n",
       "PS3                      -          -          -          -          -   \n",
       "PS4                      -          -          -          -          -   \n",
       "PSP                      -          -          -          -       7.06   \n",
       "PSV                      -          -          -          -          -   \n",
       "SAT                      -          -          -          -          -   \n",
       "SCD                      -          -          -          -          -   \n",
       "SNES                     -          -          -          -          -   \n",
       "TG16                     -          -          -          -          -   \n",
       "WS                    0.68       0.28          -          -          -   \n",
       "Wii                      -          -          -          -          -   \n",
       "WiiU                     -          -          -          -          -   \n",
       "X360                     -          -          -          -          -   \n",
       "XB                    0.99      22.26      48.01      55.04      65.42   \n",
       "XOne                     -          -          -          -          -   \n",
       "\n",
       "year_of_release 2005-01-01 2006-01-01 2007-01-01 2008-01-01 2009-01-01  \\\n",
       "platform                                                                 \n",
       "2600                     -          -          -          -          -   \n",
       "3DO                      -          -          -          -          -   \n",
       "3DS                      -          -          -          -          -   \n",
       "DC                       -          -       0.02       0.04          -   \n",
       "DS                  130.14     119.81     146.94     145.31     119.54   \n",
       "GB                       -          -          -          -          -   \n",
       "GBA                  33.86       5.28        3.4          -          -   \n",
       "GC                   27.62      11.26       0.27          -          -   \n",
       "GEN                      -          -          -          -          -   \n",
       "GG                       -          -          -          -          -   \n",
       "N64                      -          -          -          -          -   \n",
       "NES                      -          -          -          -          -   \n",
       "NG                       -          -          -          -          -   \n",
       "PC                    4.37       2.85       9.28      12.42      16.91   \n",
       "PCFX                     -          -          -          -          -   \n",
       "PS                       -          -          -          -          -   \n",
       "PS2                 160.66     103.42      75.99       53.9       26.4   \n",
       "PS3                      -      20.96      73.19     118.52     130.93   \n",
       "PS4                      -          -          -          -          -   \n",
       "PSP                  43.84      55.32      46.93      34.55      37.78   \n",
       "PSV                      -          -          -          -          -   \n",
       "SAT                      -          -          -          -          -   \n",
       "SCD                      -          -          -          -          -   \n",
       "SNES                     -          -          -          -          -   \n",
       "TG16                     -          -          -          -          -   \n",
       "WS                       -          -          -          -          -   \n",
       "Wii                      -     137.15     152.77     171.32     206.97   \n",
       "WiiU                     -          -          -          -          -   \n",
       "X360                  8.25      51.62      95.41     135.26     120.29   \n",
       "XB                   49.08      10.04       0.55       0.18          -   \n",
       "XOne                     -          -          -          -          -   \n",
       "\n",
       "year_of_release 2010-01-01 2011-01-01 2012-01-01 2013-01-01 2014-01-01  \\\n",
       "platform                                                                 \n",
       "2600                     -          -          -          -          -   \n",
       "3DO                      -          -          -          -          -   \n",
       "3DS                      -       63.2      51.36      56.57      43.76   \n",
       "DC                       -          -          -          -          -   \n",
       "DS                   85.02      26.18      11.01       1.54          -   \n",
       "GB                       -          -          -          -          -   \n",
       "GBA                      -          -          -          -          -   \n",
       "GC                       -          -          -          -          -   \n",
       "GEN                      -          -          -          -          -   \n",
       "GG                       -          -          -          -          -   \n",
       "N64                      -          -          -          -          -   \n",
       "NES                      -          -          -          -          -   \n",
       "NG                       -          -          -          -          -   \n",
       "PC                   24.28      35.03      23.22      12.38      13.28   \n",
       "PCFX                     -          -          -          -          -   \n",
       "PS                       -          -          -          -          -   \n",
       "PS2                   5.64       0.45          -          -          -   \n",
       "PS3                 142.17     156.78     107.36     113.25      47.76   \n",
       "PS4                      -          -          -      25.99        100   \n",
       "PSP                  35.04      17.82       7.69       3.14       0.24   \n",
       "PSV                      -       4.63      16.19      10.59       11.9   \n",
       "SAT                      -          -          -          -          -   \n",
       "SCD                      -          -          -          -          -   \n",
       "SNES                     -          -          -          -          -   \n",
       "TG16                     -          -          -          -          -   \n",
       "WS                       -          -          -          -          -   \n",
       "Wii                 127.95      59.65      21.71       8.59       3.75   \n",
       "WiiU                     -          -      17.56      21.65      22.03   \n",
       "X360                170.03     143.84      99.74      88.58      34.74   \n",
       "XB                       -          -          -          -          -   \n",
       "XOne                     -          -          -      18.96      54.07   \n",
       "\n",
       "year_of_release 2015-01-01 2016-01-01  \n",
       "platform                               \n",
       "2600                     -          -  \n",
       "3DO                      -          -  \n",
       "3DS                  27.78      15.14  \n",
       "DC                       -          -  \n",
       "DS                       -          -  \n",
       "GB                       -          -  \n",
       "GBA                      -          -  \n",
       "GC                       -          -  \n",
       "GEN                      -          -  \n",
       "GG                       -          -  \n",
       "N64                      -          -  \n",
       "NES                      -          -  \n",
       "NG                       -          -  \n",
       "PC                    8.52       5.25  \n",
       "PCFX                     -          -  \n",
       "PS                       -          -  \n",
       "PS2                      -          -  \n",
       "PS3                  16.82        3.6  \n",
       "PS4                  118.9      69.25  \n",
       "PSP                   0.12          -  \n",
       "PSV                   6.25       4.25  \n",
       "SAT                      -          -  \n",
       "SCD                      -          -  \n",
       "SNES                     -          -  \n",
       "TG16                     -          -  \n",
       "WS                       -          -  \n",
       "Wii                   1.14       0.18  \n",
       "WiiU                 16.35        4.6  \n",
       "X360                 11.96       1.52  \n",
       "XB                       -          -  \n",
       "XOne                 60.14      26.15  "
      ]
     },
     "execution_count": 32,
     "metadata": {},
     "output_type": "execute_result"
    }
   ],
   "source": [
    "df.pivot_table(index='platform', columns='year_of_release', values='sum_sales', aggfunc='sum', fill_value='-')"
   ]
  },
  {
   "cell_type": "code",
   "execution_count": 33,
   "id": "80d94a0c",
   "metadata": {},
   "outputs": [
    {
     "data": {
      "text/html": [
       "<div>\n",
       "<style scoped>\n",
       "    .dataframe tbody tr th:only-of-type {\n",
       "        vertical-align: middle;\n",
       "    }\n",
       "\n",
       "    .dataframe tbody tr th {\n",
       "        vertical-align: top;\n",
       "    }\n",
       "\n",
       "    .dataframe thead th {\n",
       "        text-align: right;\n",
       "    }\n",
       "</style>\n",
       "<table border=\"1\" class=\"dataframe\">\n",
       "  <thead>\n",
       "    <tr style=\"text-align: right;\">\n",
       "      <th></th>\n",
       "      <th>platform</th>\n",
       "      <th>sum_sales</th>\n",
       "    </tr>\n",
       "  </thead>\n",
       "  <tbody>\n",
       "    <tr>\n",
       "      <td>16</td>\n",
       "      <td>PS2</td>\n",
       "      <td>1233.56</td>\n",
       "    </tr>\n",
       "    <tr>\n",
       "      <td>28</td>\n",
       "      <td>X360</td>\n",
       "      <td>961.24</td>\n",
       "    </tr>\n",
       "    <tr>\n",
       "      <td>17</td>\n",
       "      <td>PS3</td>\n",
       "      <td>931.34</td>\n",
       "    </tr>\n",
       "    <tr>\n",
       "      <td>26</td>\n",
       "      <td>Wii</td>\n",
       "      <td>891.18</td>\n",
       "    </tr>\n",
       "    <tr>\n",
       "      <td>4</td>\n",
       "      <td>DS</td>\n",
       "      <td>802.78</td>\n",
       "    </tr>\n",
       "    <tr>\n",
       "      <td>15</td>\n",
       "      <td>PS</td>\n",
       "      <td>727.58</td>\n",
       "    </tr>\n",
       "    <tr>\n",
       "      <td>18</td>\n",
       "      <td>PS4</td>\n",
       "      <td>314.14</td>\n",
       "    </tr>\n",
       "    <tr>\n",
       "      <td>6</td>\n",
       "      <td>GBA</td>\n",
       "      <td>312.88</td>\n",
       "    </tr>\n",
       "    <tr>\n",
       "      <td>19</td>\n",
       "      <td>PSP</td>\n",
       "      <td>289.53</td>\n",
       "    </tr>\n",
       "    <tr>\n",
       "      <td>2</td>\n",
       "      <td>3DS</td>\n",
       "      <td>257.81</td>\n",
       "    </tr>\n",
       "  </tbody>\n",
       "</table>\n",
       "</div>"
      ],
      "text/plain": [
       "   platform  sum_sales\n",
       "16      PS2    1233.56\n",
       "28     X360     961.24\n",
       "17      PS3     931.34\n",
       "26      Wii     891.18\n",
       "4        DS     802.78\n",
       "15       PS     727.58\n",
       "18      PS4     314.14\n",
       "6       GBA     312.88\n",
       "19      PSP     289.53\n",
       "2       3DS     257.81"
      ]
     },
     "execution_count": 33,
     "metadata": {},
     "output_type": "execute_result"
    }
   ],
   "source": [
    "# Выделим платформы с наибольшими суммарными продажами\n",
    "top10_platforms =df.groupby(['platform'])['sum_sales'].sum().reset_index().sort_values(by='sum_sales', ascending=False).head(10)\n",
    "top10_platforms"
   ]
  },
  {
   "cell_type": "code",
   "execution_count": 34,
   "id": "7c5c978c",
   "metadata": {},
   "outputs": [
    {
     "data": {
      "text/html": [
       "<div>\n",
       "<style scoped>\n",
       "    .dataframe tbody tr th:only-of-type {\n",
       "        vertical-align: middle;\n",
       "    }\n",
       "\n",
       "    .dataframe tbody tr th {\n",
       "        vertical-align: top;\n",
       "    }\n",
       "\n",
       "    .dataframe thead th {\n",
       "        text-align: right;\n",
       "    }\n",
       "</style>\n",
       "<table border=\"1\" class=\"dataframe\">\n",
       "  <thead>\n",
       "    <tr style=\"text-align: right;\">\n",
       "      <th></th>\n",
       "      <th>platform</th>\n",
       "      <th>year_of_release</th>\n",
       "      <th>sum_sales</th>\n",
       "    </tr>\n",
       "  </thead>\n",
       "  <tbody>\n",
       "    <tr>\n",
       "      <td>167</td>\n",
       "      <td>PSP</td>\n",
       "      <td>2014-01-01</td>\n",
       "      <td>0.24</td>\n",
       "    </tr>\n",
       "    <tr>\n",
       "      <td>13</td>\n",
       "      <td>3DS</td>\n",
       "      <td>2012-01-01</td>\n",
       "      <td>51.36</td>\n",
       "    </tr>\n",
       "    <tr>\n",
       "      <td>7</td>\n",
       "      <td>2600</td>\n",
       "      <td>1987-01-01</td>\n",
       "      <td>1.94</td>\n",
       "    </tr>\n",
       "    <tr>\n",
       "      <td>51</td>\n",
       "      <td>GBA</td>\n",
       "      <td>2002-01-01</td>\n",
       "      <td>74.16</td>\n",
       "    </tr>\n",
       "    <tr>\n",
       "      <td>46</td>\n",
       "      <td>GB</td>\n",
       "      <td>1999-01-01</td>\n",
       "      <td>38.00</td>\n",
       "    </tr>\n",
       "  </tbody>\n",
       "</table>\n",
       "</div>"
      ],
      "text/plain": [
       "    platform year_of_release  sum_sales\n",
       "167      PSP      2014-01-01       0.24\n",
       "13       3DS      2012-01-01      51.36\n",
       "7       2600      1987-01-01       1.94\n",
       "51       GBA      2002-01-01      74.16\n",
       "46        GB      1999-01-01      38.00"
      ]
     },
     "execution_count": 34,
     "metadata": {},
     "output_type": "execute_result"
    }
   ],
   "source": [
    "platform_pivot_table_years = df.pivot_table(index=['platform','year_of_release'], values = 'sum_sales', aggfunc = 'sum').reset_index()\n",
    "platform_pivot_table_years.sample(5)"
   ]
  },
  {
   "cell_type": "code",
   "execution_count": 35,
   "id": "c6b19912",
   "metadata": {},
   "outputs": [
    {
     "data": {
      "image/png": "[encoded data removed]",
      "text/plain": [
       "<Figure size 1440x432 with 1 Axes>"
      ]
     },
     "metadata": {
      "needs_background": "light"
     },
     "output_type": "display_data"
    }
   ],
   "source": [
    "fig, ax = plt.subplots(figsize =(20,6));\n",
    "\n",
    "for i in top10_platforms['platform']:\n",
    "    platform_pivot_table_years.query('platform==@i and year_of_release>2000' ).plot(x='year_of_release', y='sum_sales',grid=True, ax=ax);\n",
    "    \n",
    "ax.legend(top10_platforms['platform'],prop = {'size':15});\n",
    "plt.title('Продажи игр по годам, в зависимости от приставки, начиная с 2000 года');\n",
    "plt.xlabel(\"Год выхода игр\");\n",
    "plt.ylabel(\"Продажи\");   "
   ]
  },
  {
   "cell_type": "markdown",
   "id": "a3e55cdd",
   "metadata": {},
   "source": [
    "Выделим период после 2014 года"
   ]
  },
  {
   "cell_type": "code",
   "execution_count": 36,
   "id": "3ec2a432",
   "metadata": {},
   "outputs": [],
   "source": [
    "good_period=df.query('year_of_release>=2014')\n",
    "\n",
    "good_period_pivot_table = good_period.pivot_table(index=['platform','year_of_release'], values = 'sum_sales', aggfunc = 'sum').reset_index()\n",
    "#good_period_pivot_table"
   ]
  },
  {
   "cell_type": "code",
   "execution_count": 37,
   "id": "e307626f",
   "metadata": {},
   "outputs": [
    {
     "data": {
      "text/plain": [
       "['3DS', 'PC', 'PS3', 'PS4', 'PSP', 'PSV', 'Wii', 'WiiU', 'X360', 'XOne']"
      ]
     },
     "execution_count": 37,
     "metadata": {},
     "output_type": "execute_result"
    }
   ],
   "source": [
    "list(good_period_pivot_table['platform'].unique())"
   ]
  },
  {
   "cell_type": "code",
   "execution_count": 38,
   "id": "16c26b94",
   "metadata": {},
   "outputs": [
    {
     "data": {
      "image/png": "[encoded data removed]",
      "text/plain": [
       "<Figure size 1440x432 with 1 Axes>"
      ]
     },
     "metadata": {
      "needs_background": "light"
     },
     "output_type": "display_data"
    }
   ],
   "source": [
    "fig, ax = plt.subplots(figsize =(20,6));\n",
    "\n",
    "for i in list(good_period_pivot_table['platform'].unique()):\n",
    "    good_period_pivot_table.query('platform==@i' ).plot(x='year_of_release', y='sum_sales',grid=True, ax=ax);\n",
    "    \n",
    "ax.legend(list(good_period_pivot_table['platform'].unique()),prop = {'size':15});\n",
    "plt.title('Продажи игр по годам, в зависимости от приставки, начиная с 2012 года');\n",
    "plt.xlabel(\"Год выхода игр\");\n",
    "plt.ylabel(\"Продажи\");   "
   ]
  },
  {
   "cell_type": "code",
   "execution_count": 39,
   "id": "766f4feb",
   "metadata": {},
   "outputs": [],
   "source": [
    " # Выберем 5 перспективных платформ\n",
    "promising_platform=['3DS','PS3','PS4','PC','XOne']\n",
    "#good_period_promising_platform=good_period_pivot_table.query(\n",
    "#    'platform==\"3DS\" or platform==\"PS3\" or platform==\"PS4\" or platform==\"PC\" or platform==\"XOne\" '  )"
   ]
  },
  {
   "cell_type": "code",
   "execution_count": 40,
   "id": "af3317f9",
   "metadata": {},
   "outputs": [
    {
     "data": {
      "text/html": [
       "<div>\n",
       "<style scoped>\n",
       "    .dataframe tbody tr th:only-of-type {\n",
       "        vertical-align: middle;\n",
       "    }\n",
       "\n",
       "    .dataframe tbody tr th {\n",
       "        vertical-align: top;\n",
       "    }\n",
       "\n",
       "    .dataframe thead th {\n",
       "        text-align: right;\n",
       "    }\n",
       "</style>\n",
       "<table border=\"1\" class=\"dataframe\">\n",
       "  <thead>\n",
       "    <tr style=\"text-align: right;\">\n",
       "      <th></th>\n",
       "      <th>name</th>\n",
       "      <th>platform</th>\n",
       "      <th>year_of_release</th>\n",
       "      <th>genre</th>\n",
       "      <th>na_sales</th>\n",
       "      <th>eu_sales</th>\n",
       "      <th>jp_sales</th>\n",
       "      <th>other_sales</th>\n",
       "      <th>critic_score</th>\n",
       "      <th>user_score</th>\n",
       "      <th>rating</th>\n",
       "      <th>sum_sales</th>\n",
       "    </tr>\n",
       "  </thead>\n",
       "  <tbody>\n",
       "    <tr>\n",
       "      <td>0</td>\n",
       "      <td>Wii Sports</td>\n",
       "      <td>Wii</td>\n",
       "      <td>2006-01-01</td>\n",
       "      <td>Sports</td>\n",
       "      <td>41.36</td>\n",
       "      <td>28.96</td>\n",
       "      <td>3.77</td>\n",
       "      <td>8.45</td>\n",
       "      <td>76.0</td>\n",
       "      <td>8.0</td>\n",
       "      <td>E</td>\n",
       "      <td>82.54</td>\n",
       "    </tr>\n",
       "    <tr>\n",
       "      <td>1</td>\n",
       "      <td>Super Mario Bros.</td>\n",
       "      <td>NES</td>\n",
       "      <td>1985-01-01</td>\n",
       "      <td>Platform</td>\n",
       "      <td>29.08</td>\n",
       "      <td>3.58</td>\n",
       "      <td>6.81</td>\n",
       "      <td>0.77</td>\n",
       "      <td>NaN</td>\n",
       "      <td>NaN</td>\n",
       "      <td>NaN</td>\n",
       "      <td>40.24</td>\n",
       "    </tr>\n",
       "    <tr>\n",
       "      <td>2</td>\n",
       "      <td>Mario Kart Wii</td>\n",
       "      <td>Wii</td>\n",
       "      <td>2008-01-01</td>\n",
       "      <td>Racing</td>\n",
       "      <td>15.68</td>\n",
       "      <td>12.76</td>\n",
       "      <td>3.79</td>\n",
       "      <td>3.29</td>\n",
       "      <td>82.0</td>\n",
       "      <td>8.3</td>\n",
       "      <td>E</td>\n",
       "      <td>35.52</td>\n",
       "    </tr>\n",
       "    <tr>\n",
       "      <td>3</td>\n",
       "      <td>Wii Sports Resort</td>\n",
       "      <td>Wii</td>\n",
       "      <td>2009-01-01</td>\n",
       "      <td>Sports</td>\n",
       "      <td>15.61</td>\n",
       "      <td>10.93</td>\n",
       "      <td>3.28</td>\n",
       "      <td>2.95</td>\n",
       "      <td>80.0</td>\n",
       "      <td>8.0</td>\n",
       "      <td>E</td>\n",
       "      <td>32.77</td>\n",
       "    </tr>\n",
       "    <tr>\n",
       "      <td>4</td>\n",
       "      <td>Pokemon Red/Pokemon Blue</td>\n",
       "      <td>GB</td>\n",
       "      <td>1996-01-01</td>\n",
       "      <td>Role-Playing</td>\n",
       "      <td>11.27</td>\n",
       "      <td>8.89</td>\n",
       "      <td>10.22</td>\n",
       "      <td>1.00</td>\n",
       "      <td>NaN</td>\n",
       "      <td>NaN</td>\n",
       "      <td>NaN</td>\n",
       "      <td>31.38</td>\n",
       "    </tr>\n",
       "    <tr>\n",
       "      <td>...</td>\n",
       "      <td>...</td>\n",
       "      <td>...</td>\n",
       "      <td>...</td>\n",
       "      <td>...</td>\n",
       "      <td>...</td>\n",
       "      <td>...</td>\n",
       "      <td>...</td>\n",
       "      <td>...</td>\n",
       "      <td>...</td>\n",
       "      <td>...</td>\n",
       "      <td>...</td>\n",
       "      <td>...</td>\n",
       "    </tr>\n",
       "    <tr>\n",
       "      <td>16710</td>\n",
       "      <td>Samurai Warriors: Sanada Maru</td>\n",
       "      <td>PS3</td>\n",
       "      <td>2016-01-01</td>\n",
       "      <td>Action</td>\n",
       "      <td>0.00</td>\n",
       "      <td>0.00</td>\n",
       "      <td>0.01</td>\n",
       "      <td>0.00</td>\n",
       "      <td>NaN</td>\n",
       "      <td>NaN</td>\n",
       "      <td>NaN</td>\n",
       "      <td>0.01</td>\n",
       "    </tr>\n",
       "    <tr>\n",
       "      <td>16711</td>\n",
       "      <td>LMA Manager 2007</td>\n",
       "      <td>X360</td>\n",
       "      <td>2006-01-01</td>\n",
       "      <td>Sports</td>\n",
       "      <td>0.00</td>\n",
       "      <td>0.01</td>\n",
       "      <td>0.00</td>\n",
       "      <td>0.00</td>\n",
       "      <td>NaN</td>\n",
       "      <td>NaN</td>\n",
       "      <td>NaN</td>\n",
       "      <td>0.01</td>\n",
       "    </tr>\n",
       "    <tr>\n",
       "      <td>16712</td>\n",
       "      <td>Haitaka no Psychedelica</td>\n",
       "      <td>PSV</td>\n",
       "      <td>2016-01-01</td>\n",
       "      <td>Adventure</td>\n",
       "      <td>0.00</td>\n",
       "      <td>0.00</td>\n",
       "      <td>0.01</td>\n",
       "      <td>0.00</td>\n",
       "      <td>NaN</td>\n",
       "      <td>NaN</td>\n",
       "      <td>NaN</td>\n",
       "      <td>0.01</td>\n",
       "    </tr>\n",
       "    <tr>\n",
       "      <td>16713</td>\n",
       "      <td>Spirits &amp; Spells</td>\n",
       "      <td>GBA</td>\n",
       "      <td>2003-01-01</td>\n",
       "      <td>Platform</td>\n",
       "      <td>0.01</td>\n",
       "      <td>0.00</td>\n",
       "      <td>0.00</td>\n",
       "      <td>0.00</td>\n",
       "      <td>NaN</td>\n",
       "      <td>NaN</td>\n",
       "      <td>NaN</td>\n",
       "      <td>0.01</td>\n",
       "    </tr>\n",
       "    <tr>\n",
       "      <td>16714</td>\n",
       "      <td>Winning Post 8 2016</td>\n",
       "      <td>PSV</td>\n",
       "      <td>2016-01-01</td>\n",
       "      <td>Simulation</td>\n",
       "      <td>0.00</td>\n",
       "      <td>0.00</td>\n",
       "      <td>0.01</td>\n",
       "      <td>0.00</td>\n",
       "      <td>NaN</td>\n",
       "      <td>NaN</td>\n",
       "      <td>NaN</td>\n",
       "      <td>0.01</td>\n",
       "    </tr>\n",
       "  </tbody>\n",
       "</table>\n",
       "<p>16444 rows × 12 columns</p>\n",
       "</div>"
      ],
      "text/plain": [
       "                                name platform year_of_release         genre  \\\n",
       "0                         Wii Sports      Wii      2006-01-01        Sports   \n",
       "1                  Super Mario Bros.      NES      1985-01-01      Platform   \n",
       "2                     Mario Kart Wii      Wii      2008-01-01        Racing   \n",
       "3                  Wii Sports Resort      Wii      2009-01-01        Sports   \n",
       "4           Pokemon Red/Pokemon Blue       GB      1996-01-01  Role-Playing   \n",
       "...                              ...      ...             ...           ...   \n",
       "16710  Samurai Warriors: Sanada Maru      PS3      2016-01-01        Action   \n",
       "16711               LMA Manager 2007     X360      2006-01-01        Sports   \n",
       "16712        Haitaka no Psychedelica      PSV      2016-01-01     Adventure   \n",
       "16713               Spirits & Spells      GBA      2003-01-01      Platform   \n",
       "16714            Winning Post 8 2016      PSV      2016-01-01    Simulation   \n",
       "\n",
       "       na_sales  eu_sales  jp_sales  other_sales  critic_score  user_score  \\\n",
       "0         41.36     28.96      3.77         8.45          76.0         8.0   \n",
       "1         29.08      3.58      6.81         0.77           NaN         NaN   \n",
       "2         15.68     12.76      3.79         3.29          82.0         8.3   \n",
       "3         15.61     10.93      3.28         2.95          80.0         8.0   \n",
       "4         11.27      8.89     10.22         1.00           NaN         NaN   \n",
       "...         ...       ...       ...          ...           ...         ...   \n",
       "16710      0.00      0.00      0.01         0.00           NaN         NaN   \n",
       "16711      0.00      0.01      0.00         0.00           NaN         NaN   \n",
       "16712      0.00      0.00      0.01         0.00           NaN         NaN   \n",
       "16713      0.01      0.00      0.00         0.00           NaN         NaN   \n",
       "16714      0.00      0.00      0.01         0.00           NaN         NaN   \n",
       "\n",
       "      rating  sum_sales  \n",
       "0          E      82.54  \n",
       "1        NaN      40.24  \n",
       "2          E      35.52  \n",
       "3          E      32.77  \n",
       "4        NaN      31.38  \n",
       "...      ...        ...  \n",
       "16710    NaN       0.01  \n",
       "16711    NaN       0.01  \n",
       "16712    NaN       0.01  \n",
       "16713    NaN       0.01  \n",
       "16714    NaN       0.01  \n",
       "\n",
       "[16444 rows x 12 columns]"
      ]
     },
     "execution_count": 40,
     "metadata": {},
     "output_type": "execute_result"
    }
   ],
   "source": [
    "df"
   ]
  },
  {
   "cell_type": "code",
   "execution_count": 41,
   "id": "a6a6020f",
   "metadata": {},
   "outputs": [
    {
     "data": {
      "image/png": "[encoded data removed]",
      "text/plain": [
       "<Figure size 720x360 with 1 Axes>"
      ]
     },
     "metadata": {
      "needs_background": "light"
     },
     "output_type": "display_data"
    }
   ],
   "source": [
    "\n",
    "df.query('year_of_release>=2014').boxplot('sum_sales', by='platform', figsize=(10,5));\n",
    "plt.ylim(0,2)\n",
    "plt.title('Продажи по платформам');"
   ]
  },
  {
   "cell_type": "code",
   "execution_count": 42,
   "id": "3a05f4d1",
   "metadata": {},
   "outputs": [],
   "source": [
    "# В дальнейшем будем использовать выбранный период.\n",
    "df=df.query('year_of_release>=2014')"
   ]
  },
  {
   "cell_type": "markdown",
   "id": "34c10dae",
   "metadata": {},
   "source": [
    "## Влияние оценок на продажи"
   ]
  },
  {
   "cell_type": "markdown",
   "id": "0866f8d0",
   "metadata": {},
   "source": [
    "Для подробного анализа выбираем приставку PS4, как одну из самых новых, иимеющую самые высокие продажи, за выбранный период."
   ]
  },
  {
   "cell_type": "code",
   "execution_count": 43,
   "id": "fa2137c1",
   "metadata": {},
   "outputs": [],
   "source": [
    "PS4=df.query('platform==\"PS4\" ')"
   ]
  },
  {
   "cell_type": "code",
   "execution_count": 44,
   "id": "e675a1ef",
   "metadata": {},
   "outputs": [
    {
     "name": "stdout",
     "output_type": "stream",
     "text": [
      "Коэффициент корреляции Пирсона:  0.4026614106810409\n"
     ]
    },
    {
     "data": {
      "image/png": "[encoded data removed]",
      "text/plain": [
       "<Figure size 720x360 with 1 Axes>"
      ]
     },
     "metadata": {
      "needs_background": "light"
     },
     "output_type": "display_data"
    }
   ],
   "source": [
    "PS4.plot(x='critic_score', y='sum_sales',  kind='scatter', figsize=(10,5), alpha=0.8);\n",
    "plt.title('Влияние оценки критиков на продажи');\n",
    "plt.xlabel(\"Оценка критиков\");\n",
    "plt.ylabel(\"Продажи\");\n",
    "print('Коэффициент корреляции Пирсона: ',PS4['critic_score'].corr(df['sum_sales']));"
   ]
  },
  {
   "cell_type": "code",
   "execution_count": 45,
   "id": "02717a6b",
   "metadata": {},
   "outputs": [
    {
     "name": "stdout",
     "output_type": "stream",
     "text": [
      "Коэффициент корреляции Пирсона:  -0.04013158947269733\n"
     ]
    },
    {
     "data": {
      "image/png": "[encoded data removed]",
      "text/plain": [
       "<Figure size 720x360 with 1 Axes>"
      ]
     },
     "metadata": {
      "needs_background": "light"
     },
     "output_type": "display_data"
    }
   ],
   "source": [
    "PS4.plot(x='user_score', y='sum_sales',  kind='scatter', figsize=(10,5), alpha=0.8);\n",
    "plt.title('Влияние оценки юзеров на продажи');\n",
    "plt.xlabel(\"Оценка юзеров\");\n",
    "plt.ylabel(\"Продажи\");\n",
    "print('Коэффициент корреляции Пирсона: ',PS4['user_score'].corr(df['sum_sales']));"
   ]
  },
  {
   "cell_type": "markdown",
   "id": "6dd61ee4",
   "metadata": {},
   "source": [
    "На примере приставки PS4 видно, что, существует умеренная зависимость продаж от оценки критиков (Коэффициент корреляции Пирсона:  0.4)\n",
    "\n",
    "При этом оценка пользователей не влияет на продажи."
   ]
  },
  {
   "cell_type": "code",
   "execution_count": 46,
   "id": "ce725454",
   "metadata": {},
   "outputs": [
    {
     "data": {
      "text/plain": [
       "0.32810508696636315"
      ]
     },
     "execution_count": 46,
     "metadata": {},
     "output_type": "execute_result"
    }
   ],
   "source": [
    "df['critic_score'].corr(df['sum_sales'])"
   ]
  },
  {
   "cell_type": "code",
   "execution_count": 47,
   "id": "4c417942",
   "metadata": {},
   "outputs": [
    {
     "data": {
      "text/plain": [
       "-0.013070305002484557"
      ]
     },
     "execution_count": 47,
     "metadata": {},
     "output_type": "execute_result"
    }
   ],
   "source": [
    "df['user_score'].corr(df['sum_sales'])"
   ]
  },
  {
   "cell_type": "markdown",
   "id": "6dfba0b6",
   "metadata": {},
   "source": [
    "Данные по всем платформам подтверждаются данными для PS4, есть небольшая зависимоть продаж от оценки критиков, а, оценка пользователей не влияет на продажи."
   ]
  },
  {
   "cell_type": "markdown",
   "id": "75a04a9a",
   "metadata": {},
   "source": [
    "## Распределение игр по жанрам"
   ]
  },
  {
   "cell_type": "code",
   "execution_count": 48,
   "id": "7d13cb47",
   "metadata": {},
   "outputs": [
    {
     "data": {
      "image/png": "[encoded data removed]",
      "text/plain": [
       "<Figure size 720x360 with 1 Axes>"
      ]
     },
     "metadata": {
      "needs_background": "light"
     },
     "output_type": "display_data"
    }
   ],
   "source": [
    "df.groupby('genre')['name'].count().sort_values(ascending=False).plot(kind='bar',figsize =(10,5));\n",
    "plt.title('Количество игр по жанрам');\n",
    "plt.xlabel(\"Жанры\");\n",
    "plt.ylabel(\"Количество игр\");"
   ]
  },
  {
   "cell_type": "markdown",
   "id": "8c29bfc6",
   "metadata": {},
   "source": [
    "По количеству игр, с большим отрывом лидирует жанр - Экшон, затем идут ролевые игры, приключеня и спорт.\n",
    "\n",
    "На последнем месте Пазлы)"
   ]
  },
  {
   "cell_type": "code",
   "execution_count": 49,
   "id": "5d5d64f9",
   "metadata": {},
   "outputs": [
    {
     "data": {
      "image/png": "[encoded data removed]",
      "text/plain": [
       "<Figure size 720x360 with 1 Axes>"
      ]
     },
     "metadata": {
      "needs_background": "light"
     },
     "output_type": "display_data"
    }
   ],
   "source": [
    "df.groupby('genre')['sum_sales'].mean().sort_values(ascending=False).plot(kind='bar', figsize =(10,5));\n",
    "plt.title('Продажи игр по жанрам');\n",
    "plt.xlabel(\"Жанры\");\n",
    "plt.ylabel(\"Продажи\");"
   ]
  },
  {
   "cell_type": "markdown",
   "id": "a0b67407",
   "metadata": {},
   "source": [
    "## Вывод"
   ]
  },
  {
   "cell_type": "markdown",
   "id": "a0a12333",
   "metadata": {},
   "source": [
    "Был проведен исследовательский анализ данных и получены следующие результаты:\n",
    "- В разные годы выпускалось разное количество игр, данными до 2000 года можно пренебреч\n",
    "- Срок жизни платформы примерно 10 лет, есть периоды роста, стабильности и спада продаж\n",
    "- Оценка критиков влияет на продажи, а оценка пользователей, нет\n",
    "- По количеству игр, с большим отрывом лидирует жанр - Экшон, затем идут ролевые игры, приключеня и спорт. На последнем месте Пазлы)\n",
    "- По продажам на первом месте Шутеры , на втором спорт, в конце приключения."
   ]
  },
  {
   "cell_type": "markdown",
   "id": "6f21ba91",
   "metadata": {},
   "source": [
    "# Портрет пользователя каждого регона"
   ]
  },
  {
   "cell_type": "markdown",
   "id": "c29dac7b",
   "metadata": {},
   "source": [
    "## Самые популярные платформы в разных регионах"
   ]
  },
  {
   "cell_type": "code",
   "execution_count": 50,
   "id": "a9e92171",
   "metadata": {},
   "outputs": [],
   "source": [
    "region=['na_sales','eu_sales','jp_sales']"
   ]
  },
  {
   "cell_type": "code",
   "execution_count": 51,
   "id": "c8a38ba8",
   "metadata": {},
   "outputs": [
    {
     "data": {
      "image/png": "[encoded data removed]",
      "text/plain": [
       "<Figure size 1440x720 with 3 Axes>"
      ]
     },
     "metadata": {},
     "output_type": "display_data"
    }
   ],
   "source": [
    "fig, axes = plt.subplots(1,3,figsize=(20,10));\n",
    "a=0\n",
    "for i in region:\n",
    "    (\n",
    "    df.groupby(by='platform')\n",
    "        .agg({i:'sum'})\n",
    "        .sort_values(by=i, ascending=False)\n",
    "        .head(5)\n",
    "        .plot(kind='pie',y=i, autopct='%d',ax=axes[a] )\n",
    "    );\n",
    "    a+=1\n",
    "axes[0].set(title='США');\n",
    "axes[1].set(title='Европа');\n",
    "axes[2].set(title='Япония');"
   ]
  },
  {
   "cell_type": "markdown",
   "id": "03931a41",
   "metadata": {},
   "source": [
    "Самые популярные платформы:\n",
    "- США: XBox (доля рынка 27%)\n",
    "- Европа: PS4 (доля рынка 33%)\n",
    "- Япония: 3DS (доля рынка 50%)"
   ]
  },
  {
   "cell_type": "markdown",
   "id": "75a4052f",
   "metadata": {},
   "source": [
    "## Самые популярные жанры в разных регионах"
   ]
  },
  {
   "cell_type": "code",
   "execution_count": 52,
   "id": "cd166a0e",
   "metadata": {},
   "outputs": [
    {
     "data": {
      "image/png": "[encoded data removed]",
      "text/plain": [
       "<Figure size 1440x720 with 3 Axes>"
      ]
     },
     "metadata": {},
     "output_type": "display_data"
    }
   ],
   "source": [
    "fig, axes = plt.subplots(1,3,figsize=(20,10));\n",
    "a=0\n",
    "\n",
    "for i in region:\n",
    "    (\n",
    "    df.groupby(by='genre')\n",
    "        .agg({i:'sum'})\n",
    "        .sort_values(by=i, ascending=False)\n",
    "        .head(5)\n",
    "        .plot(kind='pie',y=i, autopct='%d',ax=axes[a])\n",
    "    );\n",
    "    a+=1\n",
    "axes[0].set(title='США');\n",
    "axes[1].set(title='Европа');\n",
    "axes[2].set(title='Япония');"
   ]
  },
  {
   "cell_type": "markdown",
   "id": "d8dfc6ee",
   "metadata": {},
   "source": [
    "Самые популярные жанры:\n",
    "- США: Экшон + Стрелялки  (доля рынка 35+ 28 %)\n",
    "- Европа: Экшон + Стрелялки  (доля рынка 38+ 27 %)\n",
    "- Япония: Ролевухи (доля рынка 43%)\n",
    "\n",
    "В целом, США и европа очень похожи по предпочтениям в жанрах, японя сильно отличается."
   ]
  },
  {
   "cell_type": "markdown",
   "id": "8c5f0693",
   "metadata": {},
   "source": [
    "## Влияние рейтинга ESRB"
   ]
  },
  {
   "cell_type": "code",
   "execution_count": 53,
   "id": "db36b30f",
   "metadata": {},
   "outputs": [
    {
     "data": {
      "text/plain": [
       "749"
      ]
     },
     "execution_count": 53,
     "metadata": {},
     "output_type": "execute_result"
    }
   ],
   "source": [
    "df['rating'].isna().sum()"
   ]
  },
  {
   "cell_type": "code",
   "execution_count": 54,
   "id": "c44ddc3b",
   "metadata": {},
   "outputs": [
    {
     "data": {
      "text/plain": [
       "array([nan, 'M', 'E', 'T', 'E10+'], dtype=object)"
      ]
     },
     "execution_count": 54,
     "metadata": {},
     "output_type": "execute_result"
    }
   ],
   "source": [
    "df['rating'].unique()"
   ]
  },
  {
   "cell_type": "code",
   "execution_count": 55,
   "id": "7d9eb800",
   "metadata": {},
   "outputs": [
    {
     "name": "stderr",
     "output_type": "stream",
     "text": [
      "C:\\Users\\SanSanix\\anaconda3\\envs\\praktikum_env_win_new\\lib\\site-packages\\ipykernel_launcher.py:1: SettingWithCopyWarning: \n",
      "A value is trying to be set on a copy of a slice from a DataFrame.\n",
      "Try using .loc[row_indexer,col_indexer] = value instead\n",
      "\n",
      "See the caveats in the documentation: http://pandas.pydata.org/pandas-docs/stable/user_guide/indexing.html#returning-a-view-versus-a-copy\n",
      "  \"\"\"Entry point for launching an IPython kernel.\n"
     ]
    }
   ],
   "source": [
    "df['rating']=df['rating'].fillna('no rating')"
   ]
  },
  {
   "cell_type": "code",
   "execution_count": 56,
   "id": "7aa7deab",
   "metadata": {},
   "outputs": [
    {
     "data": {
      "text/plain": [
       "0"
      ]
     },
     "execution_count": 56,
     "metadata": {},
     "output_type": "execute_result"
    }
   ],
   "source": [
    "df['rating'].isna().sum()\n"
   ]
  },
  {
   "cell_type": "code",
   "execution_count": 57,
   "id": "e3bf7a68",
   "metadata": {},
   "outputs": [
    {
     "data": {
      "text/html": [
       "<div>\n",
       "<style scoped>\n",
       "    .dataframe tbody tr th:only-of-type {\n",
       "        vertical-align: middle;\n",
       "    }\n",
       "\n",
       "    .dataframe tbody tr th {\n",
       "        vertical-align: top;\n",
       "    }\n",
       "\n",
       "    .dataframe thead tr th {\n",
       "        text-align: left;\n",
       "    }\n",
       "\n",
       "    .dataframe thead tr:last-of-type th {\n",
       "        text-align: right;\n",
       "    }\n",
       "</style>\n",
       "<table border=\"1\" class=\"dataframe\">\n",
       "  <thead>\n",
       "    <tr>\n",
       "      <th></th>\n",
       "      <th colspan=\"3\" halign=\"left\">mean</th>\n",
       "    </tr>\n",
       "    <tr>\n",
       "      <th></th>\n",
       "      <th>eu_sales</th>\n",
       "      <th>jp_sales</th>\n",
       "      <th>na_sales</th>\n",
       "    </tr>\n",
       "    <tr>\n",
       "      <th>rating</th>\n",
       "      <th></th>\n",
       "      <th></th>\n",
       "      <th></th>\n",
       "    </tr>\n",
       "  </thead>\n",
       "  <tbody>\n",
       "    <tr>\n",
       "      <td>E</td>\n",
       "      <td>0.265114</td>\n",
       "      <td>0.040822</td>\n",
       "      <td>0.231689</td>\n",
       "    </tr>\n",
       "    <tr>\n",
       "      <td>E10+</td>\n",
       "      <td>0.141405</td>\n",
       "      <td>0.024108</td>\n",
       "      <td>0.179622</td>\n",
       "    </tr>\n",
       "    <tr>\n",
       "      <td>M</td>\n",
       "      <td>0.352604</td>\n",
       "      <td>0.030226</td>\n",
       "      <td>0.363849</td>\n",
       "    </tr>\n",
       "    <tr>\n",
       "      <td>T</td>\n",
       "      <td>0.125720</td>\n",
       "      <td>0.054539</td>\n",
       "      <td>0.143727</td>\n",
       "    </tr>\n",
       "    <tr>\n",
       "      <td>no rating</td>\n",
       "      <td>0.078705</td>\n",
       "      <td>0.075968</td>\n",
       "      <td>0.086409</td>\n",
       "    </tr>\n",
       "  </tbody>\n",
       "</table>\n",
       "</div>"
      ],
      "text/plain": [
       "               mean                    \n",
       "           eu_sales  jp_sales  na_sales\n",
       "rating                                 \n",
       "E          0.265114  0.040822  0.231689\n",
       "E10+       0.141405  0.024108  0.179622\n",
       "M          0.352604  0.030226  0.363849\n",
       "T          0.125720  0.054539  0.143727\n",
       "no rating  0.078705  0.075968  0.086409"
      ]
     },
     "execution_count": 57,
     "metadata": {},
     "output_type": "execute_result"
    }
   ],
   "source": [
    "esrb = df.pivot_table(index = ['rating'], values = ['na_sales','jp_sales','eu_sales'], aggfunc = ['mean'])\n",
    "esrb"
   ]
  },
  {
   "cell_type": "code",
   "execution_count": 58,
   "id": "dd2794a7",
   "metadata": {},
   "outputs": [
    {
     "data": {
      "image/png": "[encoded data removed]",
      "text/plain": [
       "<Figure size 720x360 with 1 Axes>"
      ]
     },
     "metadata": {
      "needs_background": "light"
     },
     "output_type": "display_data"
    }
   ],
   "source": [
    "esrb.plot(kind='bar',figsize =(10,5));\n",
    "plt.title('Средние продажи по регионам, в зависмости от рейтинга');\n",
    "plt.xlabel(\"Рейтинг\");\n",
    "plt.ylabel(\"Средние продажи\");\n",
    "plt.legend(['Европа','Япония', 'Сев. Америка']);"
   ]
  },
  {
   "cell_type": "markdown",
   "id": "a4c07a97",
   "metadata": {},
   "source": [
    "- «E» («Everyone») — «Для всех»\n",
    "- «M» («Mature») — «От 17 лет»\n",
    "- «T» («Teen») — «Подросткам 13—19 лет»\n",
    "- «E10+» («Everyone 10 and older») — «Для всех старше 10 лет»"
   ]
  },
  {
   "cell_type": "markdown",
   "id": "3bbb1e0b",
   "metadata": {},
   "source": [
    "## Вывод\n",
    "В японии игры без рейтинга продаются лучше чем с рейтингом.\n",
    "\n",
    "В США и европе, игры без рейтинга продаются хуже, самый популярный рейтинг М.\n"
   ]
  },
  {
   "cell_type": "markdown",
   "id": "fe89a007",
   "metadata": {},
   "source": [
    "# Проверка гипотез"
   ]
  },
  {
   "cell_type": "code",
   "execution_count": 59,
   "id": "c9d0f559",
   "metadata": {},
   "outputs": [],
   "source": [
    "df_test=df.dropna()"
   ]
  },
  {
   "cell_type": "markdown",
   "id": "335883a6",
   "metadata": {},
   "source": [
    "Проверим распределения на нормальность"
   ]
  },
  {
   "cell_type": "code",
   "execution_count": 60,
   "id": "ae3a59c2",
   "metadata": {},
   "outputs": [
    {
     "data": {
      "image/png": "[encoded data removed]",
      "text/plain": [
       "<Figure size 432x288 with 1 Axes>"
      ]
     },
     "metadata": {
      "needs_background": "light"
     },
     "output_type": "display_data"
    },
    {
     "data": {
      "text/plain": [
       "151"
      ]
     },
     "execution_count": 60,
     "metadata": {},
     "output_type": "execute_result"
    }
   ],
   "source": [
    "qqplot(df_test.query('platform== \"XOne\"')['user_score'], line='s')\n",
    "plt.show()\n",
    "df_test.query('platform== \"XOne\"')['user_score'].count()"
   ]
  },
  {
   "cell_type": "code",
   "execution_count": 61,
   "id": "b678da8b",
   "metadata": {},
   "outputs": [
    {
     "data": {
      "image/png": "[encoded data removed]",
      "text/plain": [
       "<Figure size 432x288 with 1 Axes>"
      ]
     },
     "metadata": {
      "needs_background": "light"
     },
     "output_type": "display_data"
    },
    {
     "data": {
      "text/plain": [
       "115"
      ]
     },
     "execution_count": 61,
     "metadata": {},
     "output_type": "execute_result"
    }
   ],
   "source": [
    "qqplot(df_test.query('platform== \"PC\"')['user_score'], line='s')\n",
    "plt.show()\n",
    "df_test.query('platform== \"PC\"')['user_score'].count()"
   ]
  },
  {
   "cell_type": "code",
   "execution_count": 62,
   "id": "5ac26268",
   "metadata": {},
   "outputs": [
    {
     "data": {
      "image/png": "[encoded data removed]",
      "text/plain": [
       "<Figure size 432x288 with 1 Axes>"
      ]
     },
     "metadata": {
      "needs_background": "light"
     },
     "output_type": "display_data"
    },
    {
     "data": {
      "text/plain": [
       "227"
      ]
     },
     "execution_count": 62,
     "metadata": {},
     "output_type": "execute_result"
    }
   ],
   "source": [
    "qqplot(df_test.query('genre== \"Action\"')['user_score'], line='s')\n",
    "plt.show()\n",
    "df_test.query('genre== \"Action\"')['user_score'].count()"
   ]
  },
  {
   "cell_type": "code",
   "execution_count": 63,
   "id": "0785046e",
   "metadata": {},
   "outputs": [
    {
     "data": {
      "image/png": "[encoded data removed]",
      "text/plain": [
       "<Figure size 432x288 with 1 Axes>"
      ]
     },
     "metadata": {
      "needs_background": "light"
     },
     "output_type": "display_data"
    },
    {
     "data": {
      "text/plain": [
       "83"
      ]
     },
     "execution_count": 63,
     "metadata": {},
     "output_type": "execute_result"
    }
   ],
   "source": [
    "qqplot(df_test.query('genre== \"Sports\"')['user_score'], line='s')\n",
    "plt.show()\n",
    "df_test.query('genre== \"Sports\"')['user_score'].count()"
   ]
  },
  {
   "cell_type": "markdown",
   "id": "0bb7248d",
   "metadata": {},
   "source": [
    "Распределения не идеальной нормальности, но в каждом больше 100 значений, это подойдет дя нашего анализа.\n",
    "\n",
    "Применим t-критерий Стьюдента, тк нам нужно проверить гипотезы о равенстве 2х средних значений в 2х выборках."
   ]
  },
  {
   "cell_type": "code",
   "execution_count": 64,
   "id": "568f8f95",
   "metadata": {},
   "outputs": [],
   "source": [
    "# Зададим пороговое значение\n",
    "alpha = 0.05"
   ]
  },
  {
   "cell_type": "markdown",
   "id": "0d78e713",
   "metadata": {},
   "source": [
    "H_0: Средние пользовательские рейтинги платформ Xbox One и PC одинаковые\n",
    "\n",
    "H_1: Средние пользовательские рейтинги платформ Xbox One и PC разные"
   ]
  },
  {
   "cell_type": "code",
   "execution_count": 65,
   "id": "f5a090b2",
   "metadata": {},
   "outputs": [
    {
     "name": "stdout",
     "output_type": "stream",
     "text": [
      "p-значение:  0.12817793652639856\n",
      "Не получилось отвергнуть нулевую гипотезу\n"
     ]
    }
   ],
   "source": [
    "results = st.ttest_ind(\n",
    "    df_test.query('platform== \"XOne\"')['user_score'], \n",
    "    df_test.query('platform== \"PC\"')['user_score'],\n",
    "    equal_var = True)\n",
    "print('p-значение: ', results.pvalue)\n",
    "\n",
    "if results.pvalue < alpha:\n",
    "    print(\"Отвергаем нулевую гипотезу\")\n",
    "else:\n",
    "    print(\"Не получилось отвергнуть нулевую гипотезу\") "
   ]
  },
  {
   "cell_type": "markdown",
   "id": "7f95f799",
   "metadata": {},
   "source": [
    "H_0: Средние пользовательские рейтинги жанров Action и Sports одинаковые\n",
    "\n",
    "H_1: Средние пользовательские рейтинги жанров Action и Sports разные"
   ]
  },
  {
   "cell_type": "code",
   "execution_count": 66,
   "id": "3f97d840",
   "metadata": {},
   "outputs": [
    {
     "name": "stdout",
     "output_type": "stream",
     "text": [
      "p-значение:  4.0540895999943536e-10\n",
      "Отвергаем нулевую гипотезу\n"
     ]
    }
   ],
   "source": [
    "results = st.ttest_ind(\n",
    "    df_test.query('genre== \"Action\"')['user_score'], \n",
    "    df_test.query('genre== \"Sports\"')['user_score'],\n",
    "    equal_var = True)\n",
    "print('p-значение: ', results.pvalue)\n",
    "\n",
    "if results.pvalue < alpha:\n",
    "    print(\"Отвергаем нулевую гипотезу\")\n",
    "else:\n",
    "    print(\"Не получилось отвергнуть нулевую гипотезу\") "
   ]
  },
  {
   "cell_type": "markdown",
   "id": "911d0928",
   "metadata": {},
   "source": [
    "## Вывод\n",
    "Предполагаем, что, средние пользовательские рейтинги платформ Xbox One и PC одинаковые\n",
    "\n",
    "Предполагаем, что, средние пользовательские рейтинги жанров Action и Sports разные\n"
   ]
  },
  {
   "cell_type": "markdown",
   "id": "d06ce484",
   "metadata": {},
   "source": [
    "# Общий вывод"
   ]
  },
  {
   "cell_type": "markdown",
   "id": "d0556264",
   "metadata": {},
   "source": [
    "Подготовка данных\n",
    "- Привели названия столбцов к нижнему регистру.\n",
    "- Привели столбец с датой к типу дататайм.\n",
    "- Столбцы name, platform, genre, rating оставили в типе объект, тк в них содержатся строковые значения.  \n",
    "- Столбцы с продажами и рейтингами оставили в типе флоат, тк там необходимы дробные значения.\n",
    "- 50% значений столбцов с рейтингом, отсутствуют, часть из них в процессе ожидания рейтинга. Заполнять рейтинги какимии либо значениями считаю нецелесообразным (тк % отсутствующих значений очень велик)\n",
    "- Посчитали суммарные продажи во всех регионах.\n",
    "\n",
    "Был проведен исследовательский анализ данных и получены следующие результаты:\n",
    "- В разные годы выпускалось разное количество игр, данными до 2000 года можно пренебреч\n",
    "- Срок жизни платформы примерно 10 лет, есть периоды роста, стабильности и спада продаж\n",
    "- Оценка критиков влияет на продажи, а оценка пользователей, нет\n",
    "- По количеству игр, с большим отрывом лидирует жанр - Экшон, затем идут ролевые игры, приключеня и спорт. На последнем месте Пазлы)\n",
    "- По продажам на первом месте Шутеры , на втором спорт, в конце приключения.\n",
    "\n",
    "Рынки США и европы очень похожи, рынок Японии сильно отличается.\n",
    "\n",
    "Были проверены следующие гипотезы:\n",
    "- Предполагаем, что, средние пользовательские рейтинги платформ Xbox One и PC одинаковые\n",
    "- Предполагаем, что, средние пользовательские рейтинги жанров Action и Sports разные"
   ]
  }
 ],
 "metadata": {
  "ExecuteTimeLog": [
   {
    "duration": 1409,
    "start_time": "2022-02-22T21:19:34.519Z"
   },
   {
    "duration": 242,
    "start_time": "2022-02-22T21:19:35.930Z"
   },
   {
    "duration": 5,
    "start_time": "2022-02-22T21:19:36.174Z"
   },
   {
    "duration": 14,
    "start_time": "2022-02-22T21:19:36.181Z"
   },
   {
    "duration": 4,
    "start_time": "2022-02-22T21:19:36.197Z"
   },
   {
    "duration": 3,
    "start_time": "2022-02-22T21:19:36.202Z"
   },
   {
    "duration": 14,
    "start_time": "2022-02-22T21:19:36.207Z"
   },
   {
    "duration": 15,
    "start_time": "2022-02-22T21:19:36.223Z"
   },
   {
    "duration": 8,
    "start_time": "2022-02-22T21:19:36.241Z"
   },
   {
    "duration": 9,
    "start_time": "2022-02-22T21:19:36.251Z"
   },
   {
    "duration": 11,
    "start_time": "2022-02-22T21:19:36.261Z"
   },
   {
    "duration": 13,
    "start_time": "2022-02-22T21:19:36.274Z"
   },
   {
    "duration": 7,
    "start_time": "2022-02-22T21:19:36.289Z"
   },
   {
    "duration": 34,
    "start_time": "2022-02-22T21:19:36.298Z"
   },
   {
    "duration": 21,
    "start_time": "2022-02-22T21:19:36.333Z"
   },
   {
    "duration": 9,
    "start_time": "2022-02-22T21:19:36.356Z"
   },
   {
    "duration": 7,
    "start_time": "2022-02-22T21:19:36.367Z"
   },
   {
    "duration": 10,
    "start_time": "2022-02-22T21:19:36.376Z"
   },
   {
    "duration": 9,
    "start_time": "2022-02-22T21:19:36.388Z"
   },
   {
    "duration": 12,
    "start_time": "2022-02-22T21:19:36.399Z"
   },
   {
    "duration": 28,
    "start_time": "2022-02-22T21:19:36.413Z"
   },
   {
    "duration": 8,
    "start_time": "2022-02-22T21:19:36.443Z"
   },
   {
    "duration": 19,
    "start_time": "2022-02-22T21:19:36.452Z"
   },
   {
    "duration": 213,
    "start_time": "2022-02-22T21:19:36.473Z"
   },
   {
    "duration": 124,
    "start_time": "2022-02-22T21:19:36.688Z"
   },
   {
    "duration": 220,
    "start_time": "2022-02-22T21:19:36.813Z"
   },
   {
    "duration": 120,
    "start_time": "2022-02-22T21:19:37.036Z"
   },
   {
    "duration": 397,
    "start_time": "2022-02-22T21:19:37.158Z"
   },
   {
    "duration": 4,
    "start_time": "2022-02-22T21:19:37.557Z"
   },
   {
    "duration": 24,
    "start_time": "2022-02-22T21:19:37.562Z"
   },
   {
    "duration": 335,
    "start_time": "2022-02-22T21:19:37.588Z"
   },
   {
    "duration": 72,
    "start_time": "2022-02-22T21:19:37.925Z"
   },
   {
    "duration": 11,
    "start_time": "2022-02-22T21:19:37.999Z"
   },
   {
    "duration": 36,
    "start_time": "2022-02-22T21:19:38.012Z"
   },
   {
    "duration": 471,
    "start_time": "2022-02-22T21:19:38.050Z"
   },
   {
    "duration": 21,
    "start_time": "2022-02-22T21:19:38.523Z"
   },
   {
    "duration": 4,
    "start_time": "2022-02-22T21:19:38.546Z"
   },
   {
    "duration": 497,
    "start_time": "2022-02-22T21:19:38.552Z"
   },
   {
    "duration": 7,
    "start_time": "2022-02-22T21:19:39.051Z"
   },
   {
    "duration": 221,
    "start_time": "2022-02-22T21:19:39.060Z"
   },
   {
    "duration": 5,
    "start_time": "2022-02-22T21:19:39.283Z"
   },
   {
    "duration": 5,
    "start_time": "2022-02-22T21:19:39.289Z"
   },
   {
    "duration": 368,
    "start_time": "2022-02-22T21:19:39.296Z"
   },
   {
    "duration": 295,
    "start_time": "2022-02-22T21:19:39.665Z"
   },
   {
    "duration": 5,
    "start_time": "2022-02-22T21:19:39.962Z"
   },
   {
    "duration": 4,
    "start_time": "2022-02-22T21:19:39.968Z"
   },
   {
    "duration": 211,
    "start_time": "2022-02-22T21:19:39.974Z"
   },
   {
    "duration": 197,
    "start_time": "2022-02-22T21:19:40.186Z"
   },
   {
    "duration": 3,
    "start_time": "2022-02-22T21:19:40.384Z"
   },
   {
    "duration": 392,
    "start_time": "2022-02-22T21:19:40.389Z"
   },
   {
    "duration": 407,
    "start_time": "2022-02-22T21:19:40.783Z"
   },
   {
    "duration": 15,
    "start_time": "2022-02-22T21:19:41.193Z"
   },
   {
    "duration": 21,
    "start_time": "2022-02-22T21:19:41.210Z"
   },
   {
    "duration": 221,
    "start_time": "2022-02-22T21:19:41.233Z"
   },
   {
    "duration": 150,
    "start_time": "2022-02-22T21:19:41.456Z"
   },
   {
    "duration": 149,
    "start_time": "2022-02-22T21:19:41.607Z"
   },
   {
    "duration": 160,
    "start_time": "2022-02-22T21:19:41.758Z"
   },
   {
    "duration": 2,
    "start_time": "2022-02-22T21:19:41.920Z"
   },
   {
    "duration": 14,
    "start_time": "2022-02-22T21:19:41.924Z"
   },
   {
    "duration": 7,
    "start_time": "2022-02-22T21:19:41.939Z"
   },
   {
    "duration": 2,
    "start_time": "2022-02-22T21:31:31.322Z"
   },
   {
    "duration": 207,
    "start_time": "2022-02-22T21:31:32.263Z"
   }
  ],
  "kernelspec": {
   "display_name": "Python 3 (ipykernel)",
   "language": "python",
   "name": "python3"
  },
  "language_info": {
   "codemirror_mode": {
    "name": "ipython",
    "version": 3
   },
   "file_extension": ".py",
   "mimetype": "text/x-python",
   "name": "python",
   "nbconvert_exporter": "python",
   "pygments_lexer": "ipython3",
   "version": "3.7.8"
  },
  "toc": {
   "base_numbering": 1,
   "nav_menu": {},
   "number_sections": false,
   "sideBar": true,
   "skip_h1_title": false,
   "title_cell": "Table of Contents",
   "title_sidebar": "Contents",
   "toc_cell": false,
   "toc_position": {
    "height": "calc(100% - 180px)",
    "left": "10px",
    "top": "150px",
    "width": "307.2px"
   },
   "toc_section_display": true,
   "toc_window_display": true
  }
 },
 "nbformat": 4,
 "nbformat_minor": 5
}
